{
 "cells": [
  {
   "cell_type": "code",
   "execution_count": 5,
   "metadata": {},
   "outputs": [
    {
     "name": "stdout",
     "output_type": "stream",
     "text": [
      "46\n"
     ]
    }
   ],
   "source": [
    "n, m, k = map(int, input().split())\n",
    "array = list(map(int,input().split()))\n",
    "\n",
    "array.sort()\n",
    "\n",
    "one = array[-1]\n",
    "two = array[-2]\n",
    "\n",
    "result = 0\n",
    "\n",
    "while True :\n",
    "    for i in range(k):\n",
    "        if m == 0:\n",
    "            break\n",
    "        result += one\n",
    "        m -= 1\n",
    "    if m == 0:\n",
    "        break\n",
    "    result += two\n",
    "    m -= 1\n",
    "\n",
    "print(result)"
   ]
  },
  {
   "cell_type": "code",
   "execution_count": 6,
   "metadata": {},
   "outputs": [
    {
     "name": "stdout",
     "output_type": "stream",
     "text": [
      "46\n"
     ]
    }
   ],
   "source": [
    "n, m, k = map(int, input().split())\n",
    "array = list(map(int,input().split()))\n",
    "\n",
    "array.sort()\n",
    "\n",
    "one = array[-1] # 제일 큰 수\n",
    "two = array[-2] # 두 번째\n",
    "\n",
    "result = 0\n",
    "\n",
    "big_count = (m // (k+1)) * k # 4 (6665) / 4(6665)\n",
    "big_count += m % (k+1) # 2(66)\n",
    "\n",
    "# m = 10\n",
    "# k = 3\n",
    "\n",
    "# 4 (6665) / 4(6665) / 2(66)\n",
    "\n",
    "result += big_count * one\n",
    "result += (m-big_count) * two\n",
    "\n",
    "print(result)"
   ]
  },
  {
   "cell_type": "code",
   "execution_count": null,
   "metadata": {},
   "outputs": [],
   "source": [
    "'L' = 0"
   ]
  },
  {
   "cell_type": "code",
   "execution_count": 17,
   "metadata": {},
   "outputs": [
    {
     "name": "stdout",
     "output_type": "stream",
     "text": [
      "3 4\n"
     ]
    }
   ],
   "source": [
    "n = input()\n",
    "d = list(map(str, input().split()))\n",
    "\n",
    "# n = 5\n",
    "# d = [R, R, R, U, D, D]\n",
    "\n",
    "x, y = 1, 1\n",
    "\n",
    "dx = [0, 0, -1, 1]\n",
    "dy = [-1, 1, 0, 0]\n",
    "\n",
    "direct = ['L', 'R', 'U', 'D']\n",
    "\n",
    "for i, val1 in enumerate(d) :\n",
    "    for j, val2 in enumerate(direct) :\n",
    "        if val1 == val2 :\n",
    "            tempx = x\n",
    "            tempy = y\n",
    "            x = x + dx[j]\n",
    "            y = y + dy[j]\n",
    "            if x <= 0 or y <= 0 :\n",
    "                x = tempx\n",
    "                y = tempy\n",
    "                continue\n",
    "\n",
    "print(x, y)"
   ]
  },
  {
   "cell_type": "code",
   "execution_count": 26,
   "metadata": {},
   "outputs": [
    {
     "name": "stdout",
     "output_type": "stream",
     "text": [
      "3 4\n"
     ]
    }
   ],
   "source": [
    "n = input()\n",
    "d = list(map(str, input().split()))\n",
    "\n",
    "# n = 5\n",
    "# d = [R, R, R, U, D, D]\n",
    "\n",
    "x, y = 1, 1\n",
    "\n",
    "dx = [0, 0, -1, 1]\n",
    "dy = [-1, 1, 0, 0]\n",
    "\n",
    "direct = ['L', 'R', 'U', 'D']\n",
    "\n",
    "for i, val1 in enumerate(d) :\n",
    "    for j, val2 in enumerate(direct) : 4\n",
    "        if val1 == val2 :\n",
    "            nx = x + dx[j]\n",
    "            ny = y + dy[j]\n",
    "    if nx <= 0 or ny <= 0 :\n",
    "        continue\n",
    "    x, y = nx, ny\n",
    "\n",
    "print(x, y)"
   ]
  },
  {
   "cell_type": "code",
   "execution_count": 24,
   "metadata": {},
   "outputs": [
    {
     "data": {
      "text/plain": [
       "['b', 'c']"
      ]
     },
     "execution_count": 24,
     "metadata": {},
     "output_type": "execute_result"
    }
   ],
   "source": [
    "a = 'b,c'\n",
    "a.split(',')"
   ]
  },
  {
   "cell_type": "code",
   "execution_count": 25,
   "metadata": {},
   "outputs": [
    {
     "name": "stdout",
     "output_type": "stream",
     "text": [
      "{'a': 1, 'b': 2}\n",
      "{'a': 1, 'b': 2}\n"
     ]
    }
   ],
   "source": [
    "a = {'a':1, 'b':2}\n",
    "\n",
    "for i in a:\n",
    "    print(a)"
   ]
  },
  {
   "cell_type": "code",
   "execution_count": 29,
   "metadata": {},
   "outputs": [
    {
     "name": "stdout",
     "output_type": "stream",
     "text": [
      "a = {'a': 1, 'b': 2}\n",
      "i = 0\n",
      "value = a\n",
      "====================\n",
      "a = {'a': 1, 'b': 2}\n",
      "i = 1\n",
      "value = b\n",
      "====================\n"
     ]
    }
   ],
   "source": [
    "for i, value in enumerate(a):\n",
    "    print(f'a = {a}')\n",
    "    print(f'i = {i}')\n",
    "    print(f'value = {value}')\n",
    "    print('='*20)"
   ]
  },
  {
   "cell_type": "code",
   "execution_count": 27,
   "metadata": {},
   "outputs": [
    {
     "ename": "TypeError",
     "evalue": "'dict' object cannot be interpreted as an integer",
     "output_type": "error",
     "traceback": [
      "\u001b[1;31m---------------------------------------------------------------------------\u001b[0m",
      "\u001b[1;31mTypeError\u001b[0m                                 Traceback (most recent call last)",
      "\u001b[1;32m~\\AppData\\Local\\Temp/ipykernel_2224/3840208735.py\u001b[0m in \u001b[0;36m<module>\u001b[1;34m\u001b[0m\n\u001b[1;32m----> 1\u001b[1;33m \u001b[1;32mfor\u001b[0m \u001b[0mi\u001b[0m \u001b[1;32min\u001b[0m \u001b[0mrange\u001b[0m\u001b[1;33m(\u001b[0m\u001b[0ma\u001b[0m\u001b[1;33m)\u001b[0m\u001b[1;33m:\u001b[0m\u001b[1;33m\u001b[0m\u001b[1;33m\u001b[0m\u001b[0m\n\u001b[0m\u001b[0;32m      2\u001b[0m     \u001b[0mprint\u001b[0m\u001b[1;33m(\u001b[0m\u001b[0ma\u001b[0m\u001b[1;33m)\u001b[0m\u001b[1;33m\u001b[0m\u001b[1;33m\u001b[0m\u001b[0m\n",
      "\u001b[1;31mTypeError\u001b[0m: 'dict' object cannot be interpreted as an integer"
     ]
    }
   ],
   "source": [
    "for i in range(a):\n",
    "    print(a)"
   ]
  },
  {
   "cell_type": "code",
   "execution_count": 39,
   "metadata": {},
   "outputs": [
    {
     "name": "stdout",
     "output_type": "stream",
     "text": [
      "1\n",
      "None\n"
     ]
    }
   ],
   "source": [
    "def test_generator():\n",
    "    yield print(\"1\")\n",
    "    yield print(\"2\")\n",
    "    yield print(\"3\")\n",
    "\n",
    "gen = test_generator()\n",
    "\n",
    "print(next(gen))"
   ]
  },
  {
   "cell_type": "code",
   "execution_count": null,
   "metadata": {},
   "outputs": [],
   "source": []
  }
 ],
 "metadata": {
  "interpreter": {
   "hash": "89ca2e53bb18dbb95ccf6dbf46591573b86cd8a08500672d9d2eb64c37c1ad10"
  },
  "kernelspec": {
   "display_name": "Python 3.8.8 64-bit ('base': conda)",
   "language": "python",
   "name": "python3"
  },
  "language_info": {
   "codemirror_mode": {
    "name": "ipython",
    "version": 3
   },
   "file_extension": ".py",
   "mimetype": "text/x-python",
   "name": "python",
   "nbconvert_exporter": "python",
   "pygments_lexer": "ipython3",
   "version": "3.7.11"
  },
  "orig_nbformat": 4
 },
 "nbformat": 4,
 "nbformat_minor": 2
}
