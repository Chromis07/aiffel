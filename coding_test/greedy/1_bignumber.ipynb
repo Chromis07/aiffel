{
 "cells": [
  {
   "cell_type": "code",
   "execution_count": 5,
   "metadata": {},
   "outputs": [
    {
     "name": "stdout",
     "output_type": "stream",
     "text": [
      "46\n"
     ]
    }
   ],
   "source": [
    "n, m, k = map(int, input().split())\n",
    "array = list(map(int,input().split()))\n",
    "\n",
    "array.sort()\n",
    "\n",
    "one = array[-1]\n",
    "two = array[-2]\n",
    "\n",
    "result = 0\n",
    "\n",
    "while True :\n",
    "    for i in range(k):\n",
    "        if m == 0:\n",
    "            break\n",
    "        result += one\n",
    "        m -= 1\n",
    "    if m == 0:\n",
    "        break\n",
    "    result += two\n",
    "    m -= 1\n",
    "\n",
    "print(result)"
   ]
  },
  {
   "cell_type": "code",
   "execution_count": 6,
   "metadata": {},
   "outputs": [
    {
     "name": "stdout",
     "output_type": "stream",
     "text": [
      "46\n"
     ]
    }
   ],
   "source": [
    "n, m, k = map(int, input().split())\n",
    "array = list(map(int,input().split()))\n",
    "\n",
    "array.sort()\n",
    "\n",
    "one = array[-1] # 제일 큰 수\n",
    "two = array[-2] # 두 번째\n",
    "\n",
    "result = 0\n",
    "\n",
    "big_count = (m // (k+1)) * k # 4 (6665) / 4(6665)\n",
    "big_count += m % (k+1) # 2(66)\n",
    "\n",
    "# m = 10\n",
    "# k = 3\n",
    "\n",
    "# 4 (6665) / 4(6665) / 2(66)\n",
    "\n",
    "result += big_count * one\n",
    "result += (m-big_count) * two\n",
    "\n",
    "print(result)"
   ]
  },
  {
   "cell_type": "code",
   "execution_count": null,
   "metadata": {},
   "outputs": [],
   "source": []
  }
 ],
 "metadata": {
  "interpreter": {
   "hash": "89ca2e53bb18dbb95ccf6dbf46591573b86cd8a08500672d9d2eb64c37c1ad10"
  },
  "kernelspec": {
   "display_name": "Python 3.8.8 64-bit ('base': conda)",
   "language": "python",
   "name": "python3"
  },
  "language_info": {
   "codemirror_mode": {
    "name": "ipython",
    "version": 3
   },
   "file_extension": ".py",
   "mimetype": "text/x-python",
   "name": "python",
   "nbconvert_exporter": "python",
   "pygments_lexer": "ipython3",
   "version": "3.8.8"
  },
  "orig_nbformat": 4
 },
 "nbformat": 4,
 "nbformat_minor": 2
}
