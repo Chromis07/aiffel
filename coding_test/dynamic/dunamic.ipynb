{
 "cells": [
  {
   "cell_type": "code",
   "execution_count": null,
   "metadata": {},
   "outputs": [],
   "source": [
    "n = int(input())\n",
    "k = list(map(int, input().split()))\n",
    "\n",
    "# 4\n",
    "# 1 3 1 5\n",
    "\n",
    "sum = 0\n",
    "\n",
    "def ant_steal(array):\n",
    "    sum = 0\n",
    "    max = 0\n",
    "    \n",
    "    for idx, val in enumerate(array):\n",
    "        \n",
    "        "
   ]
  },
  {
   "cell_type": "code",
   "execution_count": 3,
   "metadata": {},
   "outputs": [
    {
     "name": "stdout",
     "output_type": "stream",
     "text": [
      "9\n"
     ]
    }
   ],
   "source": [
    "n = int(input())\n",
    "k = list(map(int, input().split()))\n",
    "\n",
    "dp = [0 for _ in range(n)]\n",
    "\n",
    "dp[0] = k[0]\n",
    "dp[1] = max(dp[0], k[1])\n",
    "\n",
    "for i in range(2, n):\n",
    "    dp[i] = max(dp[i-1], dp[i-2]+ k[i]) # 안 먹음\n",
    "\n",
    "print(dp[-1])"
   ]
  },
  {
   "cell_type": "code",
   "execution_count": null,
   "metadata": {},
   "outputs": [],
   "source": []
  }
 ],
 "metadata": {
  "kernelspec": {
   "display_name": "Python 3",
   "language": "python",
   "name": "python3"
  },
  "language_info": {
   "codemirror_mode": {
    "name": "ipython",
    "version": 3
   },
   "file_extension": ".py",
   "mimetype": "text/x-python",
   "name": "python",
   "nbconvert_exporter": "python",
   "pygments_lexer": "ipython3",
   "version": "3.7.11"
  },
  "orig_nbformat": 4
 },
 "nbformat": 4,
 "nbformat_minor": 2
}
