{
 "cells": [
  {
   "cell_type": "code",
   "execution_count": 1,
   "source": [
    "'cat'.upper()"
   ],
   "outputs": [
    {
     "output_type": "execute_result",
     "data": {
      "text/plain": [
       "'CAT'"
      ]
     },
     "metadata": {},
     "execution_count": 1
    }
   ],
   "metadata": {}
  },
  {
   "cell_type": "code",
   "execution_count": 2,
   "source": [
    "var = 4\r\n",
    "var"
   ],
   "outputs": [
    {
     "output_type": "execute_result",
     "data": {
      "text/plain": [
       "4"
      ]
     },
     "metadata": {},
     "execution_count": 2
    }
   ],
   "metadata": {}
  },
  {
   "cell_type": "code",
   "execution_count": 3,
   "source": [
    "print(id(var), id(4))"
   ],
   "outputs": [
    {
     "output_type": "stream",
     "name": "stdout",
     "text": [
      "140712723097488 140712723097488\n"
     ]
    }
   ],
   "metadata": {}
  },
  {
   "cell_type": "code",
   "execution_count": 4,
   "source": [
    "mylist = [1,2,3]\r\n",
    "var = mylist\r\n",
    "var"
   ],
   "outputs": [
    {
     "output_type": "execute_result",
     "data": {
      "text/plain": [
       "[1, 2, 3]"
      ]
     },
     "metadata": {},
     "execution_count": 4
    }
   ],
   "metadata": {}
  },
  {
   "cell_type": "code",
   "execution_count": 5,
   "source": [
    "mylist.append(4)\r\n",
    "mylist"
   ],
   "outputs": [
    {
     "output_type": "execute_result",
     "data": {
      "text/plain": [
       "[1, 2, 3, 4]"
      ]
     },
     "metadata": {},
     "execution_count": 5
    }
   ],
   "metadata": {}
  },
  {
   "cell_type": "code",
   "execution_count": 6,
   "source": [
    "print(var)"
   ],
   "outputs": [
    {
     "output_type": "stream",
     "name": "stdout",
     "text": [
      "[1, 2, 3, 4]\n"
     ]
    }
   ],
   "metadata": {}
  },
  {
   "cell_type": "code",
   "execution_count": 7,
   "source": [
    "print(id(mylist), id(var))"
   ],
   "outputs": [
    {
     "output_type": "stream",
     "name": "stdout",
     "text": [
      "2244684246272 2244684246272\n"
     ]
    }
   ],
   "metadata": {}
  },
  {
   "cell_type": "code",
   "execution_count": 10,
   "source": [
    "num1 = 5"
   ],
   "outputs": [],
   "metadata": {}
  },
  {
   "cell_type": "code",
   "execution_count": 13,
   "source": [
    "import copy\r\n",
    "\r\n",
    "a = copy.deepcopy(num1)"
   ],
   "outputs": [],
   "metadata": {}
  },
  {
   "cell_type": "code",
   "execution_count": 14,
   "source": [
    "print(id(a), id(num1))"
   ],
   "outputs": [
    {
     "output_type": "stream",
     "name": "stdout",
     "text": [
      "140712723097520 140712723097520\n"
     ]
    }
   ],
   "metadata": {}
  },
  {
   "cell_type": "code",
   "execution_count": 15,
   "source": [
    "num1 = num1 + 2\r\n",
    "num1"
   ],
   "outputs": [
    {
     "output_type": "execute_result",
     "data": {
      "text/plain": [
       "7"
      ]
     },
     "metadata": {},
     "execution_count": 15
    }
   ],
   "metadata": {}
  },
  {
   "cell_type": "code",
   "execution_count": 16,
   "source": [
    "a"
   ],
   "outputs": [
    {
     "output_type": "execute_result",
     "data": {
      "text/plain": [
       "5"
      ]
     },
     "metadata": {},
     "execution_count": 16
    }
   ],
   "metadata": {}
  },
  {
   "cell_type": "code",
   "execution_count": 17,
   "source": [
    "print(id(a), id(num1))"
   ],
   "outputs": [
    {
     "output_type": "stream",
     "name": "stdout",
     "text": [
      "140712723097520 140712723097584\n"
     ]
    }
   ],
   "metadata": {}
  },
  {
   "cell_type": "code",
   "execution_count": 18,
   "source": [
    "class Car:\r\n",
    "    pass\r\n",
    "\r\n",
    "class Car():\r\n",
    "    pass\r\n",
    "\r\n",
    "#id(Car)는 여러번 호출해도 같은 값이 얻어집니다. \r\n",
    "print(id(Car))\r\n",
    "print(id(Car))\r\n",
    "\r\n",
    "#id(Car())는 Car()가 호출될 때마다 다른 값이 얻어집니다. \r\n",
    "print(id(Car()))\r\n",
    "print(id(Car()))\r\n",
    "\r\n",
    "# 두 객체의 type을 살펴봅니다. \r\n",
    "print(type(Car))\r\n",
    "print(type(Car()))"
   ],
   "outputs": [
    {
     "output_type": "stream",
     "name": "stdout",
     "text": [
      "2244673113872\n",
      "2244673113872\n",
      "2244697407792\n",
      "2244697408272\n",
      "<class 'type'>\n",
      "<class '__main__.Car'>\n"
     ]
    }
   ],
   "metadata": {}
  },
  {
   "cell_type": "code",
   "execution_count": 19,
   "source": [
    "mycar = Car()\r\n",
    "mycar2 = Car()\r\n",
    "print(id(mycar))\r\n",
    "print(id(mycar2))"
   ],
   "outputs": [
    {
     "output_type": "stream",
     "name": "stdout",
     "text": [
      "2244684272544\n",
      "2244684275520\n"
     ]
    }
   ],
   "metadata": {}
  },
  {
   "cell_type": "code",
   "execution_count": 21,
   "source": [
    "class Car:\r\n",
    "    color = 'red'\r\n",
    "    category = 'sports car'\r\n",
    "    \r\n",
    "    def drive(self):\r\n",
    "        print(\"I'm driving\")\r\n",
    "        \r\n",
    "    def accel(self, speed_up, current_speed=10):\r\n",
    "        self.speed_up = speed_up\r\n",
    "        self.current_speed = current_speed + speed_up\r\n",
    "        print(\"speed up\", self.speed_up, \"driving at\", self.current_speed)"
   ],
   "outputs": [],
   "metadata": {}
  },
  {
   "cell_type": "code",
   "execution_count": 22,
   "source": [
    "mycar = Car()"
   ],
   "outputs": [],
   "metadata": {}
  },
  {
   "cell_type": "code",
   "execution_count": 23,
   "source": [
    "print(mycar.color)"
   ],
   "outputs": [
    {
     "output_type": "stream",
     "name": "stdout",
     "text": [
      "red\n"
     ]
    }
   ],
   "metadata": {}
  },
  {
   "cell_type": "code",
   "execution_count": 24,
   "source": [
    "mycar.drive()"
   ],
   "outputs": [
    {
     "output_type": "stream",
     "name": "stdout",
     "text": [
      "I'm driving\n"
     ]
    }
   ],
   "metadata": {}
  },
  {
   "cell_type": "code",
   "execution_count": 29,
   "source": [
    "mycar.accel(5, 15)"
   ],
   "outputs": [
    {
     "output_type": "stream",
     "name": "stdout",
     "text": [
      "speed up 5 driving at 20\n"
     ]
    }
   ],
   "metadata": {}
  },
  {
   "cell_type": "code",
   "execution_count": 36,
   "source": [
    "class Car2:\r\n",
    "    def __init__(self, color, category):\r\n",
    "        self.color = color\r\n",
    "        self.category = category\r\n",
    "\r\n",
    "    def drive(self):\r\n",
    "        print(\"I'm driving\")\r\n",
    "\r\n",
    "    def accel(self, speed_up, current_speed=10):\r\n",
    "        self.speed_up = speed_up\r\n",
    "        self.current_speed = current_speed + self.speed_up\r\n",
    "        print(\"speed up\", self.speed_up, \"driving at\", self.current_speed)"
   ],
   "outputs": [],
   "metadata": {}
  },
  {
   "cell_type": "code",
   "execution_count": 37,
   "source": [
    "car1 = Car()\r\n",
    "car2 = Car2('yellow', 'sedan')"
   ],
   "outputs": [],
   "metadata": {}
  },
  {
   "cell_type": "code",
   "execution_count": 38,
   "source": [
    "car1.color"
   ],
   "outputs": [
    {
     "output_type": "execute_result",
     "data": {
      "text/plain": [
       "'red'"
      ]
     },
     "metadata": {},
     "execution_count": 38
    }
   ],
   "metadata": {}
  },
  {
   "cell_type": "code",
   "execution_count": 39,
   "source": [
    "car2.color"
   ],
   "outputs": [
    {
     "output_type": "execute_result",
     "data": {
      "text/plain": [
       "'yellow'"
      ]
     },
     "metadata": {},
     "execution_count": 39
    }
   ],
   "metadata": {}
  },
  {
   "cell_type": "code",
   "execution_count": 40,
   "source": [
    "class Car3:\r\n",
    "    def __init__(self, color='red', category='sprots car'):\r\n",
    "        self.color = color\r\n",
    "        self.category = category"
   ],
   "outputs": [],
   "metadata": {}
  },
  {
   "cell_type": "code",
   "execution_count": 41,
   "source": [
    "car3 = Car3()"
   ],
   "outputs": [],
   "metadata": {}
  },
  {
   "cell_type": "code",
   "execution_count": 42,
   "source": [
    "car3.color"
   ],
   "outputs": [
    {
     "output_type": "execute_result",
     "data": {
      "text/plain": [
       "'red'"
      ]
     },
     "metadata": {},
     "execution_count": 42
    }
   ],
   "metadata": {}
  },
  {
   "cell_type": "code",
   "execution_count": 43,
   "source": [
    "class Car:\r\n",
    "    # 클래스 변수\r\n",
    "    Manufacture = \"India\"\r\n",
    "\r\n",
    "    def __init__(self, color, category='sedan'):\r\n",
    "        # 인스턴스 변수\r\n",
    "        self.color = color\r\n",
    "        self.category = category"
   ],
   "outputs": [],
   "metadata": {}
  },
  {
   "cell_type": "code",
   "execution_count": 44,
   "source": [
    "car1 = Car('red','sports car')\r\n",
    "car2 = Car('white')\r\n",
    "print(car1.Manufacture, car1.color, car1.category)\r\n",
    "print(car2.Manufacture, car2.color, car2.category)"
   ],
   "outputs": [
    {
     "output_type": "stream",
     "name": "stdout",
     "text": [
      "India red sports car\n",
      "India white sedan\n"
     ]
    }
   ],
   "metadata": {}
  },
  {
   "cell_type": "code",
   "execution_count": 45,
   "source": [
    "class Car:\r\n",
    "    Manufacture = \"India\"\r\n",
    "\r\n",
    "    def __init__(self, color='red', category='sedan'):\r\n",
    "        self.color = color\r\n",
    "        self.category = category\r\n",
    "\r\n",
    "    def drive(self):\r\n",
    "        print(\"I'm driving\")\r\n",
    "\r\n",
    "    def accel(self, speed_up, current_speed=10):\r\n",
    "        self.speed_up = speed_up\r\n",
    "        self.current_speed = current_speed + self.speed_up\r\n",
    "        print(\"speed up\", self.speed_up, \"driving at\", self.current_speed)"
   ],
   "outputs": [],
   "metadata": {}
  },
  {
   "cell_type": "code",
   "execution_count": 46,
   "source": [
    "class NewCar(Car):\r\n",
    "    maker = 'Porsche'\r\n",
    "\r\n",
    "car = NewCar()\r\n",
    "car.maker"
   ],
   "outputs": [
    {
     "output_type": "execute_result",
     "data": {
      "text/plain": [
       "'Porsche'"
      ]
     },
     "metadata": {},
     "execution_count": 46
    }
   ],
   "metadata": {}
  },
  {
   "cell_type": "code",
   "execution_count": 47,
   "source": [
    "class NewCar(Car):\r\n",
    "    # 메소드 추가\r\n",
    "    def fly(self):\r\n",
    "        print(\"I'm flying!! This is the new car!!\")\r\n",
    "    # 메소드 재정의\r\n",
    "    def drive(self):\r\n",
    "        print(\"I'm driving and can fly\")"
   ],
   "outputs": [],
   "metadata": {}
  },
  {
   "cell_type": "code",
   "execution_count": 48,
   "source": [
    "class NewCar(Car):\r\n",
    "    def __init__(self, color, category, maker):\r\n",
    "        super().__init__(color, category)\r\n",
    "        self.maker = maker\r\n",
    "\r\n",
    "    def fly(self):\r\n",
    "        print(\"I'm flying!! This is the new car!!\")\r\n",
    "\r\n",
    "    def accel(self, speed_up, level=1, current_speed=10):\r\n",
    "        self.boost[level] = {1 : 0, 2 : 30, 3 : 50}\r\n",
    "        self.speed_up = speed_up + self.boost[level]\r\n",
    "        self.current_speed = current_speed + self.speed_up\r\n",
    "        print(\"speed up\", self.speed_up, \"driving at\", self.current_speed)"
   ],
   "outputs": [],
   "metadata": {}
  },
  {
   "cell_type": "code",
   "execution_count": 49,
   "source": [
    "class Car:\r\n",
    "    Manufacture = \"India\"\r\n",
    "\r\n",
    "    def __init__(self, color='red', category='sedan'):\r\n",
    "        self.color = color \r\n",
    "        self.category = '2020Y '+ category\r\n",
    "\r\n",
    "\r\n",
    "class NewCar(Car):\r\n",
    "    def __init__(self, color, category, maker):\r\n",
    "        super().__init__(color, category)\r\n",
    "        self.maker = maker\r\n",
    "\r\n",
    "newcar = NewCar('red','sports car', 'Kia')\r\n",
    "print(newcar.category)"
   ],
   "outputs": [
    {
     "output_type": "stream",
     "name": "stdout",
     "text": [
      "2020Y sports car\n"
     ]
    }
   ],
   "metadata": {}
  },
  {
   "cell_type": "markdown",
   "source": [
    "# n면체 주사위 만들기"
   ],
   "metadata": {}
  },
  {
   "cell_type": "code",
   "execution_count": 51,
   "source": [
    "def main():\r\n",
    "    n = get_inputs()\r\n",
    "    mydice = FunnyDice(n)\r\n",
    "    mydice.throw()\r\n",
    "    print(\"행운의 숫자는? {}\".format(mydice.getval()))"
   ],
   "outputs": [],
   "metadata": {}
  },
  {
   "cell_type": "code",
   "execution_count": 52,
   "source": [
    "from random import randrange\r\n",
    "\r\n",
    "class FunnyDice:\r\n",
    "    def __init__(self, n=6):\r\n",
    "            self.n = int(n)\r\n",
    "            self.numbers = list(range(1,n+1))\r\n",
    "            self.index = randrange(0, self.n)\r\n",
    "            self.val = self.numbers[self.index]\r\n",
    "    \r\n",
    "    def throw(self):\r\n",
    "        def throw(self):\r\n",
    "            self.index = randrange[self.index]\r\n",
    "    \r\n",
    "    def getval(self):\r\n",
    "        return self.val\r\n",
    "\r\n",
    "    def setval(self, val):\r\n",
    "        def setval(self, val:int):\r\n",
    "            if val <= self.n:\r\n",
    "                self.val = val\r\n",
    "            else:\r\n",
    "                msg = f\"주사위에 없는 주사위입니다. 주사위는 1 ~ {self.n}까지 있습니다.\"\r\n",
    "                raise ValueError(msg)"
   ],
   "outputs": [],
   "metadata": {}
  },
  {
   "cell_type": "code",
   "execution_count": 55,
   "source": [
    "dice1 = FunnyDice(n=12)\r\n",
    "print(dice1.throw())\r\n",
    "print(dice1.getval())\r\n",
    "print(dice1.setval(3))"
   ],
   "outputs": [
    {
     "output_type": "stream",
     "name": "stdout",
     "text": [
      "None\n",
      "5\n",
      "None\n"
     ]
    }
   ],
   "metadata": {}
  },
  {
   "cell_type": "code",
   "execution_count": 57,
   "source": [
    "from random import randrange\r\n",
    "\r\n",
    "class FunnyDice:\r\n",
    "    def __init__(self, n=6):\r\n",
    "            self.n = int(n)\r\n",
    "            self.numbers = list(range(1,n+1))\r\n",
    "            self.index = randrange(0, self.n)\r\n",
    "            self.val = self.numbers[self.index]\r\n",
    "    \r\n",
    "    def throw(self):\r\n",
    "        def throw(self):\r\n",
    "            self.index = randrange[self.index]\r\n",
    "    \r\n",
    "    def getval(self):\r\n",
    "        return self.val\r\n",
    "\r\n",
    "    def setval(self, val):\r\n",
    "        def setval(self, val:int):\r\n",
    "            if val <= self.n:\r\n",
    "                self.val = val\r\n",
    "            else:\r\n",
    "                msg = f\"주사위에 없는 주사위입니다. 주사위는 1 ~ {self.n}까지 있습니다.\"\r\n",
    "                raise ValueError(msg)\r\n",
    "\r\n",
    "def get_inputs():\r\n",
    "    n = int(input(\"주사위 면의 개수를 입력하세요: \"))\r\n",
    "    return n\r\n",
    "\r\n",
    "def main():\r\n",
    "    n = get_inputs()\r\n",
    "    mydice = FunnyDice(n)\r\n",
    "    mydice.throw()\r\n",
    "    print(\"행운의 숫자는? {0}\".format(mydice.getval()))\r\n",
    "\r\n",
    "if __name__ == '__main__':\r\n",
    "    main()"
   ],
   "outputs": [
    {
     "output_type": "stream",
     "name": "stdout",
     "text": [
      "행운의 숫자는? 68\n"
     ]
    }
   ],
   "metadata": {}
  },
  {
   "cell_type": "code",
   "execution_count": null,
   "source": [],
   "outputs": [],
   "metadata": {}
  }
 ],
 "metadata": {
  "orig_nbformat": 4,
  "language_info": {
   "name": "python",
   "version": "3.8.8",
   "mimetype": "text/x-python",
   "codemirror_mode": {
    "name": "ipython",
    "version": 3
   },
   "pygments_lexer": "ipython3",
   "nbconvert_exporter": "python",
   "file_extension": ".py"
  },
  "kernelspec": {
   "name": "python3",
   "display_name": "Python 3.8.8 64-bit ('tf2': conda)"
  },
  "interpreter": {
   "hash": "2c369c7a0bd18095d69cc6bcfdfaf93c8e305f9651a20b05d28ea042855c27d0"
  }
 },
 "nbformat": 4,
 "nbformat_minor": 2
}