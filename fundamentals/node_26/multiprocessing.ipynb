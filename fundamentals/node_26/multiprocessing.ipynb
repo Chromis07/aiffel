{
 "cells": [
  {
   "cell_type": "code",
   "execution_count": 1,
   "metadata": {},
   "outputs": [
    {
     "name": "stdout",
     "output_type": "stream",
     "text": [
      "Collecting ray\n",
      "  Downloading ray-1.8.0-cp37-cp37m-win_amd64.whl (18.4 MB)\n",
      "Requirement already satisfied: click>=7.0 in c:\\users\\chromis\\anaconda3\\envs\\py37\\lib\\site-packages (from ray) (8.0.3)\n",
      "Collecting filelock\n",
      "  Downloading filelock-3.3.2-py3-none-any.whl (9.7 kB)\n",
      "Collecting redis>=3.5.0\n",
      "  Downloading redis-3.5.3-py2.py3-none-any.whl (72 kB)\n",
      "Requirement already satisfied: attrs in c:\\users\\chromis\\anaconda3\\envs\\py37\\lib\\site-packages (from ray) (21.2.0)\n",
      "Requirement already satisfied: numpy>=1.16 in c:\\users\\chromis\\anaconda3\\envs\\py37\\lib\\site-packages (from ray) (1.19.5)\n",
      "Requirement already satisfied: jsonschema in c:\\users\\chromis\\anaconda3\\envs\\py37\\lib\\site-packages (from ray) (4.0.1)\n",
      "Collecting msgpack<2.0.0,>=1.0.0\n",
      "  Downloading msgpack-1.0.2-cp37-cp37m-win_amd64.whl (68 kB)\n",
      "Requirement already satisfied: protobuf>=3.15.3 in c:\\users\\chromis\\anaconda3\\envs\\py37\\lib\\site-packages (from ray) (3.18.0)\n",
      "Collecting pyyaml\n",
      "  Downloading PyYAML-6.0-cp37-cp37m-win_amd64.whl (153 kB)\n",
      "Requirement already satisfied: grpcio>=1.28.1 in c:\\users\\chromis\\anaconda3\\envs\\py37\\lib\\site-packages (from ray) (1.32.0)\n",
      "Requirement already satisfied: colorama in c:\\users\\chromis\\anaconda3\\envs\\py37\\lib\\site-packages (from click>=7.0->ray) (0.4.4)\n",
      "Requirement already satisfied: importlib-metadata in c:\\users\\chromis\\anaconda3\\envs\\py37\\lib\\site-packages (from click>=7.0->ray) (4.8.1)\n",
      "Requirement already satisfied: six>=1.5.2 in c:\\users\\chromis\\anaconda3\\envs\\py37\\lib\\site-packages (from grpcio>=1.28.1->ray) (1.15.0)\n",
      "Requirement already satisfied: zipp>=0.5 in c:\\users\\chromis\\anaconda3\\envs\\py37\\lib\\site-packages (from importlib-metadata->click>=7.0->ray) (3.6.0)\n",
      "Requirement already satisfied: typing-extensions>=3.6.4 in c:\\users\\chromis\\anaconda3\\envs\\py37\\lib\\site-packages (from importlib-metadata->click>=7.0->ray) (3.7.4.3)\n",
      "Requirement already satisfied: pyrsistent!=0.17.0,!=0.17.1,!=0.17.2,>=0.14.0 in c:\\users\\chromis\\anaconda3\\envs\\py37\\lib\\site-packages (from jsonschema->ray) (0.18.0)\n",
      "Installing collected packages: redis, pyyaml, msgpack, filelock, ray\n",
      "Successfully installed filelock-3.3.2 msgpack-1.0.2 pyyaml-6.0 ray-1.8.0 redis-3.5.3\n"
     ]
    }
   ],
   "source": [
    "!pip install ray"
   ]
  },
  {
   "cell_type": "code",
   "execution_count": 2,
   "metadata": {},
   "outputs": [
    {
     "data": {
      "text/plain": [
       "{'node_ip_address': '127.0.0.1',\n",
       " 'raylet_ip_address': '127.0.0.1',\n",
       " 'redis_address': '127.0.0.1:6379',\n",
       " 'object_store_address': 'tcp://127.0.0.1:31671',\n",
       " 'raylet_socket_name': 'tcp://127.0.0.1:29972',\n",
       " 'webui_url': None,\n",
       " 'session_dir': 'C:\\\\Users\\\\Chromis\\\\AppData\\\\Local\\\\Temp\\\\ray\\\\session_2021-11-10_12-04-28_519888_11500',\n",
       " 'metrics_export_port': 62418,\n",
       " 'node_id': '541d1750611b1109faaa2ac0317b6bbe6930bea60bf313acd7615775'}"
      ]
     },
     "execution_count": 2,
     "metadata": {},
     "output_type": "execute_result"
    }
   ],
   "source": [
    "import ray\n",
    "\n",
    "ray.init()"
   ]
  },
  {
   "cell_type": "code",
   "execution_count": null,
   "metadata": {},
   "outputs": [],
   "source": []
  }
 ],
 "metadata": {
  "interpreter": {
   "hash": "d7b26eb2611282d90d9c5c5eb5497dd9fe754f45e0da87815f2566e1ffecfffe"
  },
  "kernelspec": {
   "display_name": "Python 3.7.11 64-bit ('py37': conda)",
   "language": "python",
   "name": "python3"
  },
  "language_info": {
   "codemirror_mode": {
    "name": "ipython",
    "version": 3
   },
   "file_extension": ".py",
   "mimetype": "text/x-python",
   "name": "python",
   "nbconvert_exporter": "python",
   "pygments_lexer": "ipython3",
   "version": "3.7.11"
  },
  "orig_nbformat": 4
 },
 "nbformat": 4,
 "nbformat_minor": 2
}
