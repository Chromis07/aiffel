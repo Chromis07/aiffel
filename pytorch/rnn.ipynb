{
 "cells": [
  {
   "cell_type": "code",
   "execution_count": 38,
   "metadata": {},
   "outputs": [],
   "source": [
    "import numpy as np\n",
    "\n",
    "x1 = np.array([0.5,0.2])\n",
    "# x2 = np.array([0.1,0.8])\n",
    "h0 = np.array([0, 0])\n",
    "\n",
    "w_xh = np.array([[0.2, -0.5], [0.8, 0.1]])\n",
    "w_hh = np.array([[1,0], [0.4, -2]])\n",
    "w_hy = np.array([[0.5, -0.2], [0.3, 0.5]])\n"
   ]
  },
  {
   "cell_type": "code",
   "execution_count": 39,
   "metadata": {},
   "outputs": [],
   "source": [
    "def relu(x):\n",
    "    return np.maximum(0, x)"
   ]
  },
  {
   "cell_type": "code",
   "execution_count": 40,
   "metadata": {},
   "outputs": [],
   "source": [
    "def softmax(x):\n",
    "    e_x = np.exp(x - np.max(x))\n",
    "    return e_x / e_x.sum()"
   ]
  },
  {
   "cell_type": "code",
   "execution_count": 41,
   "metadata": {},
   "outputs": [
    {
     "data": {
      "text/plain": [
       "array([0.  , 0.42])"
      ]
     },
     "execution_count": 41,
     "metadata": {},
     "output_type": "execute_result"
    }
   ],
   "source": [
    "h1 = relu((w_hh@h0)+(w_xh@x1))\n",
    "h1"
   ]
  },
  {
   "cell_type": "code",
   "execution_count": 42,
   "metadata": {},
   "outputs": [
    {
     "data": {
      "text/plain": [
       "array([0.47901234, 0.52098766])"
      ]
     },
     "execution_count": 42,
     "metadata": {},
     "output_type": "execute_result"
    }
   ],
   "source": [
    "y1 = softmax(h1@w_hy)\n",
    "y1"
   ]
  },
  {
   "cell_type": "code",
   "execution_count": 43,
   "metadata": {},
   "outputs": [
    {
     "data": {
      "text/plain": [
       "array([0., 0.])"
      ]
     },
     "execution_count": 43,
     "metadata": {},
     "output_type": "execute_result"
    }
   ],
   "source": [
    "h2= relu((w_hh@h1)+(w_xh@y1))\n",
    "h2"
   ]
  },
  {
   "cell_type": "code",
   "execution_count": 44,
   "metadata": {},
   "outputs": [
    {
     "data": {
      "text/plain": [
       "array([0.5, 0.5])"
      ]
     },
     "execution_count": 44,
     "metadata": {},
     "output_type": "execute_result"
    }
   ],
   "source": [
    "y2 = softmax(h2@w_hy)\n",
    "y2"
   ]
  },
  {
   "cell_type": "code",
   "execution_count": 45,
   "metadata": {},
   "outputs": [
    {
     "name": "stdout",
     "output_type": "stream",
     "text": [
      "[0.   0.42]\n",
      "[0.   0.42]\n",
      "[0.43733129 0.56266871]\n",
      "[-0.1938681 -0.4338681]\n",
      "[0. 0.]\n",
      "[0.5 0.5]\n"
     ]
    }
   ],
   "source": [
    "import numpy as np\n",
    "\n",
    "W_hh = np.array([[1, 0], [0.4, -2]])\n",
    "W_xh = np.array([[0.2, -0.5], [0.8, 0.1]])\n",
    "W_hy = np.array([[0.5, -0.2], [0.3, 0.5]])\n",
    "\n",
    "def ReLU(x):\n",
    "    return np.maximum(x, 0)\n",
    "\n",
    "def Softmax(x:np.array):\n",
    "    exp_x = np.exp(x)\n",
    "    return exp_x / exp_x.sum()\n",
    "\n",
    "def Sigmoid(x):\n",
    "    return 1/1+np.exp(-x)\n",
    "\n",
    "x1 = [0.5, 0.2]\n",
    "h0 = [0, 0]\n",
    "u1 = W_hh.dot(h0) + W_xh.dot(x1)\n",
    "h1 = ReLU(u1)\n",
    "y1 = Softmax(W_xh.dot(h1))\n",
    "print(u1)\n",
    "print(h1)\n",
    "print(y1)\n",
    "\n",
    "x2 = y1\n",
    "u2 = W_hh.dot(h1) + W_xh.dot(x2)\n",
    "h2 = ReLU(u2)\n",
    "y2 = Softmax(W_hy.dot(h2))\n",
    "print(u2)\n",
    "print(h2)\n",
    "print(y2)"
   ]
  },
  {
   "cell_type": "code",
   "execution_count": null,
   "metadata": {},
   "outputs": [],
   "source": []
  }
 ],
 "metadata": {
  "interpreter": {
   "hash": "a976b24356df1645a480b5b42b2a4b423cd34f210fb50c5bbb436b3c4734a615"
  },
  "kernelspec": {
   "display_name": "Python 3.7.11 64-bit ('py37': conda)",
   "language": "python",
   "name": "python3"
  },
  "language_info": {
   "codemirror_mode": {
    "name": "ipython",
    "version": 3
   },
   "file_extension": ".py",
   "mimetype": "text/x-python",
   "name": "python",
   "nbconvert_exporter": "python",
   "pygments_lexer": "ipython3",
   "version": "3.7.11"
  },
  "orig_nbformat": 4
 },
 "nbformat": 4,
 "nbformat_minor": 2
}
