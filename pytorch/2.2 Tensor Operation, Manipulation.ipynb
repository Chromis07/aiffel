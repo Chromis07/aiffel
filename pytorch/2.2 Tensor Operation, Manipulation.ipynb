{
 "cells": [
  {
   "cell_type": "markdown",
   "id": "cellular-paper",
   "metadata": {},
   "source": [
    " ## 5. 텐서의 연산"
   ]
  },
  {
   "cell_type": "markdown",
   "id": "catholic-string",
   "metadata": {},
   "source": [
    "파이토치에서 다루는 모든 벡터, 행렬, 텐서들에 대해서  \n",
    "덧셈, 뺄셈, 내적, 외적을 할 수 있습니다.  "
   ]
  },
  {
   "cell_type": "code",
   "execution_count": 1,
   "id": "elementary-boulder",
   "metadata": {},
   "outputs": [],
   "source": [
    "import torch as th\n",
    "from torch import tensor"
   ]
  },
  {
   "cell_type": "code",
   "execution_count": 5,
   "id": "potential-voice",
   "metadata": {},
   "outputs": [],
   "source": [
    "vec1 = tensor([1, 2, 3])\n",
    "vec2 = tensor([4, 5, 6])"
   ]
  },
  {
   "cell_type": "code",
   "execution_count": 6,
   "id": "binary-antique",
   "metadata": {},
   "outputs": [
    {
     "name": "stdout",
     "output_type": "stream",
     "text": [
      "tensor(32)\n"
     ]
    }
   ],
   "source": [
    "# 벡터의 dot product를 위해서는 torch.dot 메소드 또는 tensor.dot 메소드를 사용\n",
    "vec3 = vec1.dot(vec2) # 1*4 + 2*5 + 3*6\n",
    "print(vec3)"
   ]
  },
  {
   "cell_type": "code",
   "execution_count": 8,
   "id": "usual-dimension",
   "metadata": {},
   "outputs": [
    {
     "name": "stdout",
     "output_type": "stream",
     "text": [
      "tensor([-3,  6, -3])\n"
     ]
    }
   ],
   "source": [
    "# 하이퍼 네트워크 : 딥러닝 모델의 가중치를 출력으로 하는 딥러닝 모델\n",
    "\n",
    "crossed_vec = th.cross(vec1, vec2) # 벡터의 길이가 3차원이어야 함\n",
    "print(crossed_vec)"
   ]
  },
  {
   "cell_type": "code",
   "execution_count": 13,
   "id": "cubic-sheet",
   "metadata": {},
   "outputs": [
    {
     "name": "stdout",
     "output_type": "stream",
     "text": [
      "tensor([ 4, 10, 18])\n",
      "tensor([[ 5, 12],\n",
      "        [21, 32]])\n"
     ]
    }
   ],
   "source": [
    "# * : asterisk 이 기호는 elemnet wise product 수행\n",
    "vec4 = vec1 * vec2\n",
    "print(vec4)\n",
    "\n",
    "# 모든 텐서는 에스터리스크 기호를 통해 원소곱을 수행할 수 있음\n",
    "mat1 = tensor([[1, 2],\n",
    "             [3, 4]])\n",
    "mat2 = tensor([[5, 6],\n",
    "             [7, 8]])\n",
    "print(mat1 * mat2)"
   ]
  },
  {
   "cell_type": "code",
   "execution_count": 19,
   "id": "anonymous-discount",
   "metadata": {},
   "outputs": [
    {
     "ename": "SyntaxError",
     "evalue": "invalid syntax (<ipython-input-19-4198c6b304a1>, line 7)",
     "output_type": "error",
     "traceback": [
      "\u001b[0;36m  File \u001b[0;32m\"<ipython-input-19-4198c6b304a1>\"\u001b[0;36m, line \u001b[0;32m7\u001b[0m\n\u001b[0;31m    [7, 8]]])\u001b[0m\n\u001b[0m            ^\u001b[0m\n\u001b[0;31mSyntaxError\u001b[0m\u001b[0;31m:\u001b[0m invalid syntax\n"
     ]
    }
   ],
   "source": [
    "# at sign @ : 골뱅이 기호는 행렬곱을 수행하게 됩니다.\n",
    "# matmul 함수를 통해서도 행렬곱을 계산할 수 있다.\n",
    "\n",
    "ten1 = tensor([[[1, 2],\n",
    "             [[3, 4],\n",
    "              [[5, 6],\n",
    "              [7, 8]]])\n",
    "ten2 = tensor([[[5, 6],\n",
    "             [[7, 8],\n",
    "              [[9,10],\n",
    "              [1, 2]]])\n",
    "\n",
    "a = ten1.matmul(ten2)\n",
    "b = ten1 @ ten2\n",
    "print(a)\n",
    "print(b)"
   ]
  },
  {
   "cell_type": "markdown",
   "id": "digital-syndication",
   "metadata": {},
   "source": [
    "## 6. 텐서 차원 조작  *** 중요!!! ***\n",
    "딥러닝 모델에 데이터를 입력하기 위해 텐서의 차원을 정말 잘 다루어야 합니다.   \n",
    "이때 차원을 조작하는 메소드로는 다음과 같습니다.\n",
    "\n",
    "1) 차원 축소, 확장 :  squeeze(), unsqueeze()  \n",
    "2) 차원 교환 : transpose(), permute() : 순서를 바꾸다.  \n",
    "3) 차원 조정 : flatten(), view() reshape()  \n",
    "4) 텐서 합성 및 적재 : cat() stack()  "
   ]
  },
  {
   "cell_type": "markdown",
   "id": "naval-peter",
   "metadata": {},
   "source": [
    "### 6.1 차원 축소, 확장 :  squeeze(), unsqueeze()  "
   ]
  },
  {
   "cell_type": "code",
   "execution_count": 31,
   "id": "wired-cisco",
   "metadata": {},
   "outputs": [
    {
     "name": "stdout",
     "output_type": "stream",
     "text": [
      "torch.Size([10, 32, 1, 1, 64, 64, 3])\n",
      "torch.Size([10, 32, 1, 1, 64, 64, 3])\n"
     ]
    }
   ],
   "source": [
    "# torch.ones(shape)를 통해 모든 값이 1인 텐서를 쉽게 만들 수 있다.\n",
    "tensor_7d = th.ones([10, 32, 1, 1, 64, 64, 3])\n",
    "tensor_7d = th.zeros([10,32, 1, 1, 64, 64, 3])\n",
    "\n",
    "# 차원의 모양을 일일히 입력하기 귀찮을 때 like가 붙은 메소드를 사용한다.\n",
    "tensor_7d2 = th.ones_like(tensor_7d)\n",
    "tensor_7d3 = th.zeros_like(tensor_7d)\n",
    "print(tensor_7d.shape)\n",
    "print(tensor_7d2.shape)\n",
    "\n",
    "# 항등행렬 .eye 를 통해 만들 수 있다.\n",
    "eye_tensor = th.eye(2)\n",
    "# print(eye_tensor)\n",
    "# print(eye_tensor.shape)\n",
    "\n",
    "# 항등텐서?\n",
    "v = th.randn(4)\n",
    "diag_tensor = th.diag(v)\n",
    "# print(diag_tensor)\n",
    "# print(th.sum(diag_tensor))\n",
    "# print(th.norm(diag_tensor))"
   ]
  },
  {
   "cell_type": "code",
   "execution_count": 36,
   "id": "pressing-glass",
   "metadata": {},
   "outputs": [
    {
     "name": "stdout",
     "output_type": "stream",
     "text": [
      "torch.Size([10, 32, 1, 64, 64, 3])\n",
      "torch.Size([10, 32, 64, 64, 3])\n"
     ]
    }
   ],
   "source": [
    "# torch.squeeze(axis) 함수는 차원의 크기가 1인 특정 축을 제거합니다.\n",
    "# axis 값이 없으면 모든 축을 제거합니다.\n",
    "\n",
    "tensor_6d = tensor_7d.squeeze(axis=2) # shape에서 2번째 인덱스에 해당하는 축 제거\n",
    "print(tensor_6d.shape)\n",
    "tensor_5d = tensor_7d.squeeze() # 차원 크기 1인 축 제거\n",
    "print(tensor_5d.shape)"
   ]
  },
  {
   "cell_type": "code",
   "execution_count": 37,
   "id": "advised-running",
   "metadata": {},
   "outputs": [
    {
     "name": "stdout",
     "output_type": "stream",
     "text": [
      "torch.Size([32, 3, 64, 64])\n"
     ]
    }
   ],
   "source": [
    "tensor_4d = th.ones([32, 3, 64, 64])\n",
    "print(tensor_4d.shape)"
   ]
  },
  {
   "cell_type": "code",
   "execution_count": 39,
   "id": "passing-sequence",
   "metadata": {},
   "outputs": [
    {
     "name": "stdout",
     "output_type": "stream",
     "text": [
      "torch.Size([1, 32, 3, 64, 64])\n",
      "torch.Size([32, 3, 64, 64, 1])\n"
     ]
    }
   ],
   "source": [
    "# torch.unsqueeze(axis=m) : 차원의 크기가 1인 축을 m번째 인덱스에 추가\n",
    "# quiz : 0번째 인덱스에 잉여차원을 추가하세요\n",
    "# 마지막 인덱스에 잉여차원을 추가하세요\n",
    "\n",
    "tensor_5d = tensor_4d.unsqueeze(axis=0)\n",
    "tensor_5d2 = tensor_4d.unsqueeze(axis=-1)\n",
    "print(tensor_5d.shape)\n",
    "print(tensor_5d2.shape)"
   ]
  },
  {
   "cell_type": "markdown",
   "id": "improved-superintendent",
   "metadata": {},
   "source": [
    "### 6.2 차원 교환 : transpose(), permute()  \n",
    "위 메소드들은 주로 데이터를 변환할 때 많이 사용합니다.  \n"
   ]
  },
  {
   "cell_type": "code",
   "execution_count": 40,
   "id": "rapid-administrator",
   "metadata": {},
   "outputs": [
    {
     "name": "stdout",
     "output_type": "stream",
     "text": [
      "torch.Size([2, 3])\n"
     ]
    }
   ],
   "source": [
    "matrix = th.ones([2,3])\n",
    "print(matrix.shape)"
   ]
  },
  {
   "cell_type": "code",
   "execution_count": 49,
   "id": "separate-emergency",
   "metadata": {},
   "outputs": [
    {
     "name": "stdout",
     "output_type": "stream",
     "text": [
      "torch.Size([3, 2])\n",
      "torch.Size([3, 2])\n",
      "torch.Size([4, 2, 6, 11])\n",
      "torch.Size([6, 2, 4, 11])\n"
     ]
    }
   ],
   "source": [
    "# torch.transpose(input, dim0, dim1) 는 인풋 텐서의 두 차원을 교환\n",
    "transposed = th.transpose(matrix, 0 ,1)\n",
    "print(transposed.shape)\n",
    "transposed2 = matrix.transpose(0 ,1)\n",
    "print(transposed2.shape)\n",
    "\n",
    "tensor_4d = th.ones([4, 2, 6, 11])\n",
    "print(tensor_4d.shape)\n",
    "# 퀴즈 : 0번째, 2번째 차원을 교환하세요\n",
    "transposed3 = th.transpose(tensor_4d, 0 ,2)\n",
    "print(transposed3.shape)\n",
    "\n"
   ]
  },
  {
   "cell_type": "code",
   "execution_count": 55,
   "id": "powered-orbit",
   "metadata": {},
   "outputs": [
    {
     "name": "stdout",
     "output_type": "stream",
     "text": [
      "torch.Size([4, 2, 6, 11])\n",
      "torch.Size([11, 6, 2, 4])\n"
     ]
    }
   ],
   "source": [
    "# torch.permute() : transpose의 상위버전 메소드. 차원 축 순서를 원하는대로 나열\n",
    "# quiz : tensor_4d의 차원축을 내림차순으로 정렬하세요.\n",
    "# 텐서 순서 조정은 직접 해야한다.\n",
    "print(tensor_4d.shape)\n",
    "\n",
    "permuted = tensor_4d.permute(3, 2, 1, 0)\n",
    "# permuted = th.permute(tensor_4d, 3, 2, 1, 0)\n",
    "print(permuted.shape)"
   ]
  },
  {
   "cell_type": "markdown",
   "id": "passing-wrestling",
   "metadata": {},
   "source": [
    "### 6.3 차원 조정 : flatten(),  reshape(), view()  \n",
    "위 세 가지 메소드는 주로 CNN 레이어에서 FC 레이어로 오고 갈 때 자주 사용합니다.  "
   ]
  },
  {
   "cell_type": "code",
   "execution_count": 60,
   "id": "cellular-robinson",
   "metadata": {},
   "outputs": [
    {
     "name": "stdout",
     "output_type": "stream",
     "text": [
      "torch.Size([2, 2, 2])\n"
     ]
    }
   ],
   "source": [
    "# torch.flatten() 메소드는 텐서 전체를 1차원 텐서로 변환\n",
    "t = tensor([[[1, 2],\n",
    "           [3, 4]],\n",
    "           [[5, 6],\n",
    "           [7, 8]]])\n",
    "print(t.shape)"
   ]
  },
  {
   "cell_type": "code",
   "execution_count": 61,
   "id": "optimum-gateway",
   "metadata": {},
   "outputs": [
    {
     "name": "stdout",
     "output_type": "stream",
     "text": [
      "tensor([1, 2, 3, 4, 5, 6, 7, 8])\n",
      "torch.Size([8])\n"
     ]
    }
   ],
   "source": [
    "flattened_t = th.flatten(t)\n",
    "print(flattened_t)\n",
    "print(flattened_t.shape)"
   ]
  },
  {
   "cell_type": "code",
   "execution_count": null,
   "id": "floppy-fossil",
   "metadata": {},
   "outputs": [],
   "source": [
    "# 만약에 start_dim, end_dim이 주어지면 해당하는 차원부터 flatten 합니다.\n",
    "flattened_t2 = th."
   ]
  },
  {
   "cell_type": "code",
   "execution_count": 62,
   "id": "automotive-peeing",
   "metadata": {},
   "outputs": [
    {
     "data": {
      "text/plain": [
       "torch.Size([36])"
      ]
     },
     "execution_count": 62,
     "metadata": {},
     "output_type": "execute_result"
    }
   ],
   "source": [
    "# reshape() 메소드는 텐서를 원하는 모양을 가지도록 차원을 조정합니다.\n",
    "# 단 이때, 각 차원의 총 형태가 원래의 차원과 일치해야합니다. ex 8 ->2, 2, 2 or 4, 2\n",
    "t2 = th.arange(36)\n",
    "t2.shape"
   ]
  },
  {
   "cell_type": "code",
   "execution_count": 66,
   "id": "residential-bargain",
   "metadata": {},
   "outputs": [
    {
     "name": "stdout",
     "output_type": "stream",
     "text": [
      "torch.Size([3, 3, 4])\n"
     ]
    }
   ],
   "source": [
    "# quiz : t2의 모양을 (3, 3, 4)로 바꿔보세요\n",
    "reshaped_t = t2.reshape(3, 3, 4)\n",
    "print(reshaped_t.shape)"
   ]
  },
  {
   "cell_type": "code",
   "execution_count": 69,
   "id": "retained-south",
   "metadata": {},
   "outputs": [
    {
     "name": "stdout",
     "output_type": "stream",
     "text": [
      "torch.Size([5, 4, 1247])\n"
     ]
    }
   ],
   "source": [
    "# torch.view(-1, m, ...) 차원의 크기가 아주 크고 복잡해서 reshape를 통해 일일히 계산하기\n",
    "# reshape도 되긴 함.\n",
    "t3 = th.arange(24940)\n",
    "# 이때 -1 값이 들어가면 나머지 차원 축의 크기를 자동으로 계산\n",
    "# quiz : 두 개의 차원 축 값이 (5, 4, ?)인 텐서를 만드세요\n",
    "viewed_t1 = t3.view(5, 4, -1)\n",
    "print(viewed_t1.shape)"
   ]
  },
  {
   "cell_type": "markdown",
   "id": "boolean-joseph",
   "metadata": {},
   "source": [
    "### 6.4 텐서 합성 및 적재 : cat() stack()  \n",
    "마지막으로 텐서를 합성하기 위해 cat()과 stack()을 활용합니다.  \n",
    "cat() 함수는 모델 내부에서 다음 은닉층에 들어가는 텐서들을 조합하기 위해 주로 사용합니다.  \n",
    "\n",
    "stack() 함수는 데이터를 쌓아서 미니배치를 구성할 때 주로 사용합니다.  "
   ]
  },
  {
   "cell_type": "code",
   "execution_count": 72,
   "id": "plastic-lender",
   "metadata": {},
   "outputs": [
    {
     "name": "stdout",
     "output_type": "stream",
     "text": [
      "torch.Size([9])\n"
     ]
    }
   ],
   "source": [
    "# torch.cat() 함수는 두 개 이상의 텐서 시퀀스를 합치게 됩니다.\n",
    "# 해당 텐서들의 차원은 반드시 같아야 합니다.\n",
    "vec1 = tensor([1, 2, 3])\n",
    "vec2 = tensor([4, 5, 6])\n",
    "vec3 = tensor([7, 8, 9])\n",
    "vec4 = th.cat([vec1, vec2, vec3])\n",
    "print(vec4.shape) # 1차원으로 쭉 이어붙임"
   ]
  },
  {
   "cell_type": "code",
   "execution_count": 82,
   "id": "dated-finland",
   "metadata": {},
   "outputs": [
    {
     "name": "stdout",
     "output_type": "stream",
     "text": [
      "tensor([[1, 2, 3],\n",
      "        [4, 5, 6],\n",
      "        [7, 8, 9]])\n",
      "torch.Size([3, 3])\n",
      "tensor([[1, 4, 7],\n",
      "        [2, 5, 8],\n",
      "        [3, 6, 9]])\n"
     ]
    }
   ],
   "source": [
    "# stack() 메소드는 두 개 이상의 텐서들을 특정 축을 기준으로 쌓게 됩니다\n",
    "batch_vec = th.stack([vec1, vec2, vec3], dim=0)\n",
    "print(batch_vec)\n",
    "print(batch_vec.shape)\n",
    "\n",
    "batch_vec2 = th.stack([vec1, vec2, vec3], dim=1)\n",
    "print(batch_vec2)"
   ]
  },
  {
   "cell_type": "code",
   "execution_count": null,
   "id": "suburban-northwest",
   "metadata": {},
   "outputs": [],
   "source": [
    "th.mean()\n",
    "th.sum()\n",
    "th.min()\n",
    "th.argmin()\n",
    "th.max()\n",
    "th.argmax()"
   ]
  },
  {
   "cell_type": "markdown",
   "id": "developing-concrete",
   "metadata": {},
   "source": [
    "# 퀴즈 (Hard)\n",
    "1) 길이가 4096인 랜덤벡터를 하나 생성하세요.  \n",
    "2) 벡터를 위에서 배운 메소드들 중 하나를 이용해 (64x64) 정사각행렬로 차원을 조정하세요.   \n",
    "3) 1, 2의 과정을 반복해서 정사각행렬을 세 개 만든다음, 각각 텐서의 0번째 축에 크기가 1인 잉여차원을 추가하세요.  \n",
    "4) 0번째 축과 마지막 축을 교환하세요.   \n",
    "5) 리스트에 세 개의 정사각행렬을 담아서 마지막 축을 기준으로 텐서를 합성하세요 -> 64x64x3 텐서가 나와야함  \n",
    "6) 위의 과정을 4번 반복해서 64x64x3 를 쌓아서 4 x 64 x 64 x 3 텐서를 만드세요  "
   ]
  },
  {
   "cell_type": "code",
   "execution_count": 102,
   "id": "assigned-breakdown",
   "metadata": {},
   "outputs": [
    {
     "name": "stdout",
     "output_type": "stream",
     "text": [
      "torch.Size([64, 64, 1])\n",
      "torch.Size([64, 64, 3])\n",
      "torch.Size([4, 64, 64, 3])\n"
     ]
    }
   ],
   "source": [
    "th.manual_seed(1030)\n",
    "# code : \n",
    "\n",
    "# 1)\n",
    "rand_vec1 = th.randn(4096)\n",
    "rand_vec2 = th.randn(4096)\n",
    "rand_vec3 = th.randn(4096)\n",
    "\n",
    "# 2)\n",
    "reshape_vec1 = rand_vec1.reshape(64, 64)\n",
    "reshape_vec2 = rand_vec2.reshape(64, 64)\n",
    "reshape_vec3 = rand_vec3.reshape(64, 64)\n",
    "\n",
    "# 3)\n",
    "unsqueeze_vec1 = reshape_vec1.unsqueeze(axis=0)\n",
    "unsqueeze_vec2 = reshape_vec2.unsqueeze(axis=0)\n",
    "unsqueeze_vec3 = reshape_vec3.unsqueeze(axis=0)\n",
    "\n",
    "# 4)\n",
    "trans_vec1 = unsqueeze_vec1.transpose(0,-1)\n",
    "trans_vec2 = unsqueeze_vec2.transpose(0,-1)\n",
    "trans_vec3 = unsqueeze_vec3.transpose(0,-1)\n",
    "print(trans_vec1.shape)\n",
    "\n",
    "\n",
    "# 5)\n",
    "list_vec = [trans_vec1, trans_vec2, trans_vec3]\n",
    "\n",
    "cat_ten = [th.cat(list_vec, dim=-1) for i in range(4)]\n",
    "print(cat_ten[0].shape)\n",
    "\n",
    "# 6)\n",
    "stack_ten = th.stack(cat_ten, dim=0)\n",
    "\n",
    "print(stack_ten.shape)"
   ]
  }
 ],
 "metadata": {
  "kernelspec": {
   "display_name": "Python 3",
   "language": "python",
   "name": "python3"
  },
  "language_info": {
   "codemirror_mode": {
    "name": "ipython",
    "version": 3
   },
   "file_extension": ".py",
   "mimetype": "text/x-python",
   "name": "python",
   "nbconvert_exporter": "python",
   "pygments_lexer": "ipython3",
   "version": "3.7.9"
  }
 },
 "nbformat": 4,
 "nbformat_minor": 5
}
