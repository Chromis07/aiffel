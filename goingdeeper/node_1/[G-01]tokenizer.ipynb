{
 "cells": [
  {
   "cell_type": "markdown",
   "metadata": {},
   "source": [
    "# 1. 준비\n",
    "\n",
    "### KoNLPy 에서 가장 성능이 준수한 MeCap 클래스를 활용해보자!"
   ]
  },
  {
   "cell_type": "markdown",
   "metadata": {},
   "source": [
    "우분투 환경 설치\n",
    "\n",
    "1. jdk 설치 `$ sudo apt-get install g++ openjdk-8-jdk`\n",
    "2. MeCap 설치 `$ bash <(curl -s https://raw.githubusercontent.com/konlpy/konlpy/master/scripts/mecab.sh)`\n",
    "3. konlpy 설치 `pip install konlpy` [KoNLPy 설치](https://konlpy.org/ko/latest/install/)"
   ]
  },
  {
   "cell_type": "code",
   "execution_count": 75,
   "metadata": {},
   "outputs": [
    {
     "name": "stdout",
     "output_type": "stream",
     "text": [
      "['자연어', '처리', '가', '너무', '재밌', '어서', '밥', '먹', '는', '것', '도', '가끔', '까먹', '어요']\n"
     ]
    }
   ],
   "source": [
    "from konlpy.tag import Mecab\n",
    "\n",
    "mecab = Mecab()\n",
    "print(mecab.morphs('자연어처리가너무재밌어서밥먹는것도가끔까먹어요'))"
   ]
  },
  {
   "cell_type": "code",
   "execution_count": 13,
   "metadata": {},
   "outputs": [],
   "source": [
    "import os\n",
    "\n",
    "import matplotlib.pyplot as plt\n",
    "import tensorflow as tf\n",
    "import numpy as np\n",
    "\n",
    "%matplotlib inline"
   ]
  },
  {
   "cell_type": "markdown",
   "metadata": {},
   "source": [
    "# 2. 데이터 다운로드 및 분석"
   ]
  },
  {
   "cell_type": "code",
   "execution_count": 97,
   "metadata": {},
   "outputs": [],
   "source": [
    "# $ wget https://github.com/jungyeul/korean-parallel-corpora/raw/master/korean-english-news-v1/korean-english-park.train.tar.gz\n",
    "# $ mkdir -p ~/aiffel/sp_tokenizer/data\n",
    "# $ mv korean-english-park.train.tar.gz ~/aiffel/sp_tokenizer/data\n",
    "# $ cd ~/aiffel/sp_tokenizer/data\n",
    "# $ tar -xzvf korean-english-park.train.tar.gz"
   ]
  },
  {
   "cell_type": "code",
   "execution_count": 12,
   "metadata": {},
   "outputs": [
    {
     "name": "stdout",
     "output_type": "stream",
     "text": [
      "Data Size: 94123\n",
      "Example:\n",
      ">> 개인용 컴퓨터 사용의 상당 부분은 \"이것보다 뛰어날 수 있느냐?\"\n",
      ">> 북한의 핵무기 계획을 포기하도록 하려는 압력이 거세지고 있는 가운데, 일본과 북한의 외교관들이 외교 관계를 정상화하려는 회담을 재개했다.\n",
      ">> \"경호 로보트가 침입자나 화재를 탐지하기 위해서 개인적으로, 그리고 전문적으로 사용되고 있습니다.\"\n",
      ">> 수자원부 당국은 논란이 되고 있고, 막대한 비용이 드는 이 사업에 대해 내년에 건설을 시작할 계획이다.\n",
      ">> 또한 근력 운동은 활발하게 걷는 것이나 최소한 20분 동안 뛰는 것과 같은 유산소 활동에서 얻는 운동 효과를 심장과 폐에 주지 않기 때문에, 연구학자들은 근력 운동이 심장에 큰 영향을 미치는지 여부에 대해 논쟁을 해왔다.\n"
     ]
    }
   ],
   "source": [
    "import os\n",
    "path_to_file = os.getenv('HOME')+'/aiffel/sp_tokenizer/data/korean-english-park.train.ko'\n",
    "\n",
    "with open(path_to_file, \"r\") as f:\n",
    "    raw = f.read().splitlines() # raw에 데이터 담음\n",
    "\n",
    "print(\"Data Size:\", len(raw))\n",
    "\n",
    "print(\"Example:\")\n",
    "for sen in raw[0:100][::20]: print(\">>\", sen) # @질문!!"
   ]
  },
  {
   "cell_type": "markdown",
   "metadata": {},
   "source": [
    "한국어의 형태소 분석과 품사 태깅, 기계 번역 연구를 위해 공개된 데이터!   \n",
    "위 데이터는 한국어-영어 병렬을이루는 말뭉치 (한국어 파트)\n",
    "- https://github.com/jungyeul/korean-parallel-corpora 한국어 데이터 셋"
   ]
  },
  {
   "cell_type": "markdown",
   "metadata": {},
   "source": [
    "이제 94123개의 문장들에서 길이가 어떤지 확인하자. 너무 길거나 짧은 outlier들을 제거하고 시각화하여 확인하자"
   ]
  },
  {
   "cell_type": "code",
   "execution_count": 28,
   "metadata": {},
   "outputs": [
    {
     "name": "stdout",
     "output_type": "stream",
     "text": [
      "문장의 최단 길이: 1\n",
      "문장의 최장 길이: 377\n",
      "문장의 평균 길이: 60\n",
      "[   1   13   25  137   24  121   50   57   77  103 1761  781  148  720\n",
      "  311  247  954  319 1611  898 2113  461  494  556  535  526  595  651\n",
      "  746  708  779  741  796  797  853  891  986  991  929 1025 1084 1087\n",
      " 1090 1159 1093 1170 1134 1150 1160 1212 1227 1289 1310 1315 1298 1222\n",
      " 1332 1348 1255 1320 1288 1322 1324 1333 1255 1185 1195 1299 1195 1190\n",
      " 1149 1129 1039 1115 1065 1071  943  991  985  935  932  911  819  814\n",
      "  828  742  736  737  684  676  692  688  651  603  569  542  512  542\n",
      "  475  449  438  423  429  391  366  342  320  274  290  267  251  252\n",
      "  259  205  242  206  217  180  165  170  165  170  136  161  138  116\n",
      "  103  123  112   69   82   93   71   97   60   60   67   72   53   60\n",
      "   54   60   55   51   46   28   41   36   29   25   45   13   20   31\n",
      "   30   24   23   33   25   15   17   26   14   17   11   17   19   17\n",
      "    7   20    9   10    7    5    8    5    4    6    9    5   10    5\n",
      "    9    3    5    4    3    1    3    6    0    4    5    5    2    5\n",
      "    0    2    0    4    0    0    5    2    0    2    0    4    3    1\n",
      "    0    2    0    1    0    0    0    0    0    1    2    1    0    0\n",
      "    0    0    2    1    0    0    0    1    0    1    0    0    2    0\n",
      "    0    0    2    0    0    0    0    0    0    0    0    0    0    2\n",
      "    0    0    0    1    0    0    0    0    0    1    0    0    0    0\n",
      "    0    0    0    0    0    0    0    0    0    0    0    0    0    0\n",
      "    0    0    0    0    0    0    0    0    0    0    0    0    0    0\n",
      "    0    0    0    1    0    0    0    0    0    0    0    0    0    0\n",
      "    0    0    0    0    0    0    0    0    0    0    0    0    0    0\n",
      "    0    0    0    0    0    0    0    0    0    0    0    0    0    0\n",
      "    0    0    0    0    0    0    0    0    0    0    0    0    0    0\n",
      "    0    0    0    0    0    0    0    0    0    0    0    0    0    0\n",
      "    0    0    0    0    0    0    0    0    0    0    0    0    1]\n"
     ]
    }
   ],
   "source": [
    "min_len = 999 # 4\n",
    "max_len = 0 # 10\n",
    "sum_len = 0 # 14\n",
    "\n",
    "for sen in raw:\n",
    "    length = len(sen)\n",
    "    if min_len > length : min_len = length # 최단 길이 업데이트\n",
    "    if max_len < length: max_len = length # 최장 길이 업데이트\n",
    "    sum_len += length # 문장 총 길이\n",
    "\n",
    "print(\"문장의 최단 길이:\", min_len)\n",
    "print(\"문장의 최장 길이:\", max_len)\n",
    "print(\"문장의 평균 길이:\", sum_len // len(raw))\n",
    "\n",
    "sentence_length = np.zeros((max_len), dtype=np.int)\n",
    "# 최대 길이만큼 row 행렬 생성\n",
    "\n",
    "for sen in raw:\n",
    "    sentence_length[len(sen)-1] += 1\n",
    "    # 영행렬에 문장 길이들 별로 횟수 추가\n",
    "    # 신박한 접근...\n",
    "    \n",
    "print(sentence_length)"
   ]
  },
  {
   "cell_type": "code",
   "execution_count": 26,
   "metadata": {},
   "outputs": [
    {
     "data": {
      "image/png": "[encoded data removed]",
      "text/plain": [
       "<Figure size 432x288 with 1 Axes>"
      ]
     },
     "metadata": {
      "needs_background": "light"
     },
     "output_type": "display_data"
    }
   ],
   "source": [
    "plt.bar(range(max_len), sentence_length, width=1.0)\n",
    "plt.title(\"Sentence Length Distribution\")\n",
    "plt.show()"
   ]
  },
  {
   "cell_type": "code",
   "execution_count": 31,
   "metadata": {},
   "outputs": [
    {
     "name": "stdout",
     "output_type": "stream",
     "text": [
      "’\n"
     ]
    }
   ],
   "source": [
    "# 길이가 1인 문장이 뭐지?\n",
    "\n",
    "def check_sentence_with_length(raw, length):\n",
    "    count = 0\n",
    "    \n",
    "    for sen in raw :\n",
    "        if len(sen) == length :\n",
    "            print(sen)\n",
    "            count += 1\n",
    "            if count > 100:\n",
    "                return\n",
    "\n",
    "check_sentence_with_length(raw, 1)"
   ]
  },
  {
   "cell_type": "markdown",
   "metadata": {},
   "source": [
    "노이즈인 어퍼스트로피가 있었다!!! 확인해두자"
   ]
  },
  {
   "cell_type": "code",
   "execution_count": 32,
   "metadata": {},
   "outputs": [
    {
     "name": "stdout",
     "output_type": "stream",
     "text": [
      "Outlier Index: 11\n",
      "Outlier Index: 19\n",
      "Outlier Index: 21\n"
     ]
    }
   ],
   "source": [
    "for idx, _sum in enumerate(sentence_length) :\n",
    "    # 문장의 수가 1500개를 초과하는 문장 길이 추출\n",
    "    if _sum > 1500:\n",
    "        print(\"Outlier Index:\", idx+1)"
   ]
  },
  {
   "cell_type": "code",
   "execution_count": 35,
   "metadata": {},
   "outputs": [
    {
     "name": "stdout",
     "output_type": "stream",
     "text": [
      "라고 조던이 말했다.\n",
      "- 모르고 있습니다.\n",
      "- 네, 보이는군요.\n",
      "디즈니사만이 아니다.\n",
      "큰 파티는 아니지요.\n",
      "의자는 비어 있었다.\n",
      "이 일은 계속됩니다.\n",
      "나는 크게 실망했다.\n",
      "그 이유는 간단하다.\n",
      "이력서와 자기 소개서\n",
      "시대가 변하고 있다.\n",
      "는 돌발질문을 했다.\n",
      "9. 몇 분간의 명상\n",
      "하와이, 빅 아일랜드\n",
      "키스를 잘 하는 방법\n",
      "키스를 잘 하는 방법\n",
      "스피어스가 뚱뚱한가?\n",
      "산 위를 나는 느낌.\n",
      "세 시간쯤 걸었을까?\n",
      "(아직 읽고있습니까?\n",
      "처음에는 장난이었다.\n",
      "우리는 운이 좋았다.\n",
      "아기가 숨을 멈출 때\n",
      "건물 전체 무너져내려\n",
      "그녀의 아름다운 눈.\n",
      "대답은 다음과 같다.\n",
      "\"사과할 것이 없다.\n",
      "폭탄테러가 공포 유발\n",
      "그는 \"잘 모르겠다.\n",
      "그는 \"잘 모르겠다.\n",
      "그는 \"잘 모르겠다.\n",
      "그는 \"잘 모르겠다.\n",
      "그는 \"잘 모르겠다.\n",
      "그는 \"잘 모르겠다.\n",
      "그는 \"잘 모르겠다.\n",
      "그는 \"잘 모르겠다.\n",
      "그는 \"잘 모르겠다.\n",
      "케냐 야생동물 고아원\n",
      "경유 1200원대로…\n",
      "더 내려야 하는 이유\n",
      "케냐 야생동물 고아원\n",
      "경유 1200원대로…\n",
      "더 내려야 하는 이유\n",
      "케냐 야생동물 고아원\n",
      "경유 1200원대로…\n",
      "더 내려야 하는 이유\n",
      "케냐 야생동물 고아원\n",
      "경유 1200원대로…\n",
      "더 내려야 하는 이유\n",
      "케냐 야생동물 고아원\n",
      "경유 1200원대로…\n",
      "더 내려야 하는 이유\n",
      "케냐 야생동물 고아원\n",
      "경유 1200원대로…\n",
      "더 내려야 하는 이유\n",
      "케냐 야생동물 고아원\n",
      "경유 1200원대로…\n",
      "더 내려야 하는 이유\n",
      "케냐 야생동물 고아원\n",
      "경유 1200원대로…\n",
      "더 내려야 하는 이유\n",
      "케냐 야생동물 고아원\n",
      "경유 1200원대로…\n",
      "더 내려야 하는 이유\n",
      "케냐 야생동물 고아원\n",
      "경유 1200원대로…\n",
      "더 내려야 하는 이유\n",
      "케냐 야생동물 고아원\n",
      "경유 1200원대로…\n",
      "더 내려야 하는 이유\n",
      "케냐 야생동물 고아원\n",
      "경유 1200원대로…\n",
      "더 내려야 하는 이유\n",
      "케냐 야생동물 고아원\n",
      "경유 1200원대로…\n",
      "더 내려야 하는 이유\n",
      "케냐 야생동물 고아원\n",
      "경유 1200원대로…\n",
      "더 내려야 하는 이유\n",
      "케냐 야생동물 고아원\n",
      "경유 1200원대로…\n",
      "더 내려야 하는 이유\n",
      "케냐 야생동물 고아원\n",
      "경유 1200원대로…\n",
      "더 내려야 하는 이유\n",
      "케냐 야생동물 고아원\n",
      "경유 1200원대로…\n",
      "더 내려야 하는 이유\n",
      "케냐 야생동물 고아원\n",
      "경유 1200원대로…\n",
      "더 내려야 하는 이유\n",
      "케냐 야생동물 고아원\n",
      "경유 1200원대로…\n",
      "더 내려야 하는 이유\n",
      "케냐 야생동물 고아원\n",
      "경유 1200원대로…\n",
      "더 내려야 하는 이유\n",
      "조금은 새침한 샬롯？\n",
      "조금은 새침한 샬롯？\n",
      "케냐 야생동물 고아원\n",
      "경유 1200원대로…\n"
     ]
    }
   ],
   "source": [
    "check_sentence_with_length(raw, 11)"
   ]
  },
  {
   "cell_type": "markdown",
   "metadata": {},
   "source": [
    "과도하게 많이 사용된 문장을 보니 중복도 굉장히 많았다!!   \n",
    "`set`을 이용해 중복 데이터를 제거해주자. list 순서가 섞이지 않도록 주의"
   ]
  },
  {
   "cell_type": "code",
   "execution_count": 37,
   "metadata": {},
   "outputs": [
    {
     "name": "stdout",
     "output_type": "stream",
     "text": [
      "Data Size: 77591\n",
      "문장의 최단 길이: 1\n",
      "문장의 최장 길이: 377\n",
      "문장의 평균 길이: 64\n"
     ]
    },
    {
     "data": {
      "image/png": "[encoded data removed]",
      "text/plain": [
       "<Figure size 432x288 with 1 Axes>"
      ]
     },
     "metadata": {
      "needs_background": "light"
     },
     "output_type": "display_data"
    }
   ],
   "source": [
    "min_len = 999\n",
    "max_len = 0\n",
    "sum_len = 0\n",
    "\n",
    "cleaned_corpus = list(set(raw))  # set으로 중복을 제거 후 다시 리스트\n",
    "print(\"Data Size:\", len(cleaned_corpus))\n",
    "\n",
    "for sen in cleaned_corpus:\n",
    "    length = len(sen)\n",
    "    if min_len > length: min_len = length\n",
    "    if max_len < length: max_len = length\n",
    "    sum_len += length\n",
    "\n",
    "print(\"문장의 최단 길이:\", min_len)\n",
    "print(\"문장의 최장 길이:\", max_len)\n",
    "print(\"문장의 평균 길이:\", sum_len // len(cleaned_corpus))\n",
    "\n",
    "sentence_length = np.zeros((max_len), dtype=np.int)\n",
    "\n",
    "for sen in cleaned_corpus:   # 중복이 제거된 코퍼스 기준\n",
    "    sentence_length[len(sen)-1] += 1\n",
    "\n",
    "plt.bar(range(max_len), sentence_length, width=1.0)\n",
    "plt.title(\"Sentence Length Distribution\")\n",
    "plt.show()"
   ]
  },
  {
   "cell_type": "markdown",
   "metadata": {},
   "source": [
    "중복 데이터를 제거하니 17000개 정도 줄어들었다"
   ]
  },
  {
   "cell_type": "markdown",
   "metadata": {},
   "source": [
    "가장 긴 문장을 기준으로 **Padding**처리를 해야하나,   \n",
    "`77591 X 377(문장 최장 길이)` 를 하게 되면 메모리 낭비가 너무 심하다.   \n",
    "여기서는 길이 150 이상, 10 미만의 데이터는 제거하도록 한다"
   ]
  },
  {
   "cell_type": "code",
   "execution_count": 39,
   "metadata": {},
   "outputs": [
    {
     "data": {
      "image/png": "[encoded data removed]",
      "text/plain": [
       "<Figure size 432x288 with 1 Axes>"
      ]
     },
     "metadata": {
      "needs_background": "light"
     },
     "output_type": "display_data"
    }
   ],
   "source": [
    "max_len = 150\n",
    "min_len = 10\n",
    "\n",
    "# 길이 조건에 맞는 문장만 선택합니다.\n",
    "filtered_corpus = [s for s in cleaned_corpus if (len(s) < max_len) & (len(s) >= min_len)]\n",
    "\n",
    "# 분포도를 다시 그려봅니다.\n",
    "sentence_length = np.zeros((max_len), dtype=np.int)\n",
    "\n",
    "for sen in filtered_corpus:\n",
    "    sentence_length[len(sen)-1] += 1\n",
    "\n",
    "plt.bar(range(max_len), sentence_length, width=1.0)\n",
    "plt.title(\"Sentence Length Distribution\")\n",
    "plt.show()"
   ]
  },
  {
   "cell_type": "markdown",
   "metadata": {},
   "source": [
    "이제 지금부터 토큰화 시작하자!"
   ]
  },
  {
   "cell_type": "markdown",
   "metadata": {},
   "source": [
    "# 3. 공백 기반 토큰화"
   ]
  },
  {
   "cell_type": "markdown",
   "metadata": {},
   "source": [
    "위에서 정제된 데이터를 공백 기반으로 토큰화하여 list에 저장한 후, 아래 keras의 tokenize() 함수를 사용해 단어 사전과 Tensor 데이터를 얻자!   \n",
    "그리고 단어 사전 크기를 확인"
   ]
  },
  {
   "cell_type": "code",
   "execution_count": 42,
   "metadata": {},
   "outputs": [],
   "source": [
    "def tokenize(corpus):\n",
    "    tokenizer = tf.keras.preprocessing.text.Tokenizer(filters='')\n",
    "    tokenizer.fit_on_texts(corpus) # 문자를 리스트 형태로 변환\n",
    "    \n",
    "    # text를 숫자로 만들어진 시퀀스로 변환\n",
    "    tensor = tokenizer.texts_to_sequences(corpus)\n",
    "    \n",
    "    # padding='post' : padding을 문장들 뒤에 삽입\n",
    "    tensor = tf.keras.preprocessing.sequence.pad_sequences(tensor, padding='post')\n",
    "    \n",
    "    return tensor, tokenizer"
   ]
  },
  {
   "cell_type": "code",
   "execution_count": 43,
   "metadata": {},
   "outputs": [],
   "source": [
    "# 토큰화하여 시퀀스로 저장\n",
    "split_corpus = []\n",
    "\n",
    "for kor in filtered_corpus:\n",
    "    split_corpus.append(kor.split())"
   ]
  },
  {
   "cell_type": "code",
   "execution_count": 55,
   "metadata": {},
   "outputs": [
    {
     "name": "stdout",
     "output_type": "stream",
     "text": [
      "Split Vocab Size: 237435\n"
     ]
    }
   ],
   "source": [
    "# 단어사전\n",
    "\n",
    "split_tensor, split_tokenizer = tokenize(split_corpus)\n",
    "\n",
    "print(\"Split Vocab Size:\", len(split_tokenizer.index_word))"
   ]
  },
  {
   "cell_type": "code",
   "execution_count": 68,
   "metadata": {},
   "outputs": [
    {
     "data": {
      "text/plain": [
       "['이동', '전화', '장치는', '플라스틱으로', '만든,', '카드', '한', '벌', '크기의', '양방향', '전화기이다.']"
      ]
     },
     "execution_count": 68,
     "metadata": {},
     "output_type": "execute_result"
    }
   ],
   "source": [
    "split_corpus[1][1:12]"
   ]
  },
  {
   "cell_type": "code",
   "execution_count": 54,
   "metadata": {},
   "outputs": [
    {
     "name": "stdout",
     "output_type": "stream",
     "text": [
      "0 : 이\n",
      "1 : 밝혔다.\n",
      "2 : 있다.\n",
      "3 : 말했다.\n",
      "4 : 수\n",
      "5 : 있는\n",
      "6 : 그는\n",
      "7 : 대한\n",
      "8 : 위해\n",
      "9 : 전했다.\n",
      "10 : 지난\n",
      "11 : 이번\n"
     ]
    }
   ],
   "source": [
    "# word_index : 인덱스와 단어 딕셔너리 반환\n",
    "for idx, word in enumerate(split_tokenizer.word_index):\n",
    "    print(idx, \":\", word)\n",
    "\n",
    "    if idx > 10: break"
   ]
  },
  {
   "cell_type": "markdown",
   "metadata": {},
   "source": [
    "- index_word 와 word_index 차이는 뭐지?"
   ]
  },
  {
   "cell_type": "markdown",
   "metadata": {},
   "source": [
    "`밝혔다.`, `밝히다.` 또한 다른 단어로 분류될 수 있으므로 비효율적으로 큰 단어사전이 생겨 연상량을 증가시킬 수 있다.   \n",
    "그렇다면 이것을 `밝 + 혔다`로 토큰화 한다면 의미를 파악하기 더욱 수월할 것이다.   \n",
    "이를 위해 **형태소 분석기**가 있다!"
   ]
  },
  {
   "cell_type": "markdown",
   "metadata": {},
   "source": [
    "# 4. 형태소 기반 토큰화"
   ]
  },
  {
   "cell_type": "markdown",
   "metadata": {},
   "source": [
    "MeCab을 활용하여 형태소 기반 토큰화를 하자"
   ]
  },
  {
   "cell_type": "code",
   "execution_count": 81,
   "metadata": {},
   "outputs": [],
   "source": [
    "from konlpy.tag import Mecab\n",
    "\n",
    "mecab = Mecab()\n",
    "\n",
    "mecab_corpus = [mecab.morphs(kor) for kor in filtered_corpus]"
   ]
  },
  {
   "cell_type": "code",
   "execution_count": 85,
   "metadata": {},
   "outputs": [
    {
     "name": "stdout",
     "output_type": "stream",
     "text": [
      "Split Vocab Size: 237435\n",
      "MeCab Vocab Size: 52279\n"
     ]
    }
   ],
   "source": [
    "mecab_tensor, mecab_tokenizer = tokenize(mecab_corpus)\n",
    "\n",
    "print(\"Split Vocab Size:\", len(split_tokenizer.index_word))\n",
    "print(\"MeCab Vocab Size:\", len(mecab_tokenizer.index_word))"
   ]
  },
  {
   "cell_type": "markdown",
   "metadata": {},
   "source": [
    "공백 기반 단어 사전에 비해 굉장히 많이 줄어들었다!   \n",
    "연산량 감소로 더 빠르게 학습할 수 있고, 튜닝해야하는 매개변수도 줄어든다.   \n",
    "즉, **한국어**를 처리할 때는 **공백 기반 토큰화를 지양**하자."
   ]
  },
  {
   "cell_type": "markdown",
   "metadata": {},
   "source": [
    "SentencePiece같은 Subword 기반 토큰화보다 형태소 분석기가 좋은 성능을 내는 사례들이 있다. \n",
    "https://aiopen.etri.re.kr/service_dataset.php   \n",
    "그럼에도 SentencePiece 모델이 주목받는 이유는, 지속적으로 변화하고 생성되는 언어 데이터에 대한 OOV 문제에 대해서도 robust하게 대처할 수 있기 때문이다. 그리고 여러가지 언어가 섞이더라도 처리하기 좋다.   \n",
    "어떤 언어에 특화된 토크나이저에 대체로 뒤지지 않거나 능가하기 때문."
   ]
  },
  {
   "cell_type": "markdown",
   "metadata": {},
   "source": [
    "지금까지는 문장을 Tensor로 Encoding을 했고,   \n",
    "이번엔 모델이 생성한 Tensor를 문장으로 Decoding 해보자   "
   ]
  },
  {
   "cell_type": "code",
   "execution_count": 94,
   "metadata": {},
   "outputs": [
    {
     "data": {
      "text/plain": [
       "array([   60,   118,    35,    20,  2232,    36,     7,    17,  1859,\n",
       "          17,  1109,     6,  5234,  4224,    99,    17, 14425,    17,\n",
       "        9177,     3,  3295,   109,     6,   805,     5,  1285,    10,\n",
       "          12,    13,     2,     1,     0,     0,     0,     0,     0,\n",
       "           0,     0,     0,     0,     0,     0,     0,     0,     0,\n",
       "           0,     0,     0,     0,     0,     0,     0,     0,     0,\n",
       "           0,     0,     0,     0,     0,     0,     0,     0,     0,\n",
       "           0,     0,     0,     0,     0,     0,     0,     0,     0,\n",
       "           0,     0,     0,     0,     0,     0,     0,     0,     0,\n",
       "           0,     0,     0,     0], dtype=int32)"
      ]
     },
     "execution_count": 94,
     "metadata": {},
     "output_type": "execute_result"
    }
   ],
   "source": [
    "mecab_tensor[100]\n",
    "# 이 문장을 Decoding 해보자"
   ]
  },
  {
   "cell_type": "code",
   "execution_count": 86,
   "metadata": {},
   "outputs": [
    {
     "name": "stdout",
     "output_type": "stream",
     "text": [
      "전 세계 적 으로 벨 기 에 , 네덜란드 , 캐나다 의 브리티시 콜롬비 아 , 온타리오 , 퀘벡 이 동성 간 의 결혼 을 허가 하 고 있 다 .\n"
     ]
    }
   ],
   "source": [
    "# Case 1 : tokenizer.sequences_to_texts()\n",
    "\n",
    "texts = mecab_tokenizer.sequences_to_texts([mecab_tensor[100]])\n",
    "print(texts[0])"
   ]
  },
  {
   "cell_type": "code",
   "execution_count": 88,
   "metadata": {},
   "outputs": [
    {
     "name": "stdout",
     "output_type": "stream",
     "text": [
      "전 세계 적 으로 벨 기 에 , 네덜란드 , 캐나다 의 브리티시 콜롬비 아 , 온타리오 , 퀘벡 이 동성 간 의 결혼 을 허가 하 고 있 다 . \n"
     ]
    }
   ],
   "source": [
    "# Case 2 : tokenizer.index_word\n",
    "\n",
    "sentence = \"\"\n",
    "\n",
    "for w in mecab_tensor[100]:\n",
    "    if w == 0: continue\n",
    "    sentence += mecab_tokenizer.index_word[w] + \" \"\n",
    "\n",
    "print(sentence)"
   ]
  },
  {
   "cell_type": "markdown",
   "metadata": {},
   "source": [
    "# 5. 프로젝트 : SentencePiece 사용하여 네이버 영화리뷰 감성분석"
   ]
  },
  {
   "cell_type": "markdown",
   "metadata": {},
   "source": [
    "## 1) SentencePeice 설치\n",
    "\n",
    "[SentencePiece를 활용해 Vocab 만들기](https://paul-hyun.github.io/vocab-with-sentencepiece/)   \n",
    "[SentencePiece 깃허브](https://github.com/google/sentencepiece)   \n",
    "`$ pip install sentencepiece`   "
   ]
  },
  {
   "cell_type": "markdown",
   "metadata": {},
   "source": [
    "## 2) SentencePiece 모델 학습"
   ]
  },
  {
   "cell_type": "code",
   "execution_count": 95,
   "metadata": {},
   "outputs": [],
   "source": [
    "import os\n",
    "\n",
    "import matplotlib.pyplot as plt\n",
    "import tensorflow as tf\n",
    "import numpy as np\n",
    "\n",
    "%matplotlib inline"
   ]
  },
  {
   "cell_type": "code",
   "execution_count": 96,
   "metadata": {},
   "outputs": [
    {
     "name": "stdout",
     "output_type": "stream",
     "text": [
      "-rw-r--r-- 1 root root 376892 Dec  8 05:53 korean_spm.model\n",
      "-rw-r--r-- 1 root root 146388 Dec  8 05:53 korean_spm.vocab\n"
     ]
    }
   ],
   "source": [
    "import sentencepiece as spm\n",
    "import os\n",
    "temp_file = os.getenv('HOME')+'/aiffel/sp_tokenizer/data/korean-english-park.train.ko.temp'\n",
    "\n",
    "vocab_size = 8000\n",
    "\n",
    "with open(temp_file, 'w') as f:\n",
    "    for row in filtered_corpus:   # 이전 스텝에서 정제했던 corpus를 활용합니다.\n",
    "        f.write(str(row) + '\\n')\n",
    "\n",
    "spm.SentencePieceTrainer.Train(\n",
    "    '--input={} --model_prefix=korean_spm --vocab_size={}'.format(temp_file, vocab_size)    \n",
    ")\n",
    "#위 Train에서  --model_type = 'unigram'이 디폴트 적용되어 있습니다. --model_type = 'bpe' 로 옵션을 주어 변경할 수 있습니다.\n",
    "\n",
    "!ls -l korean_spm*"
   ]
  },
  {
   "cell_type": "markdown",
   "metadata": {},
   "source": [
    "위 코드를 통해 SentencePiece 모델 학습을 완료하고   \n",
    "`korean_spm.model` 파일과 `korean_spm.vocab vocabulary` 파일이 생성된다."
   ]
  },
  {
   "cell_type": "code",
   "execution_count": 99,
   "metadata": {},
   "outputs": [
    {
     "name": "stdout",
     "output_type": "stream",
     "text": [
      "[1244, 11, 306, 7, 3599, 11, 286, 38, 3]\n",
      "['▁아버지', '가', '방', '에', '들어', '가', '신', '다', '.']\n",
      "아버지가방에들어가신다.\n"
     ]
    }
   ],
   "source": [
    "s = spm.SentencePieceProcessor()\n",
    "s.Load('korean_spm.model')\n",
    "\n",
    "# SentencePiece를 활용한 sentence -> encoding\n",
    "tokensIDs = s.EncodeAsIds('아버지가방에들어가신다.')\n",
    "print(tokensIDs)\n",
    "\n",
    "# SentencePiece를 활용한 sentence -> encoded pieces\n",
    "print(s.SampleEncodeAsPieces('아버지가방에들어가신다.',1, 0.0))\n",
    "\n",
    "# SentencePiece를 활용한 encoding -> sentence 복원\n",
    "print(s.DecodeIds(tokensIDs))"
   ]
  },
  {
   "cell_type": "markdown",
   "metadata": {},
   "source": [
    "## 3) Tokenizer 함수 작성"
   ]
  },
  {
   "cell_type": "markdown",
   "metadata": {},
   "source": [
    "보통 사용했던 토크나이저는 아니지만, SentencePiece를 통해 같은 역할로 만들어보자.\n",
    "\n",
    "1) 매개변수로 토큰화된 문장의 list를 전달하는 대신 온전한 문장의 list 를 전달한다.\n",
    "\n",
    "2) 생성된 vocab 파일을 읽어와 { <word> : <idx> } 형태를 가지는 word_index 사전과 { <idx> : <word>} 형태를 가지는 index_word 사전을 생성하고 함께 반환한다.\n",
    "\n",
    "3) 리턴값인 tensor 는 앞의 함수와 동일하게 토큰화한 후 Encoding된 문장이다. Padding까지 해준다."
   ]
  },
  {
   "cell_type": "code",
   "execution_count": 169,
   "metadata": {},
   "outputs": [],
   "source": [
    "def sp_tokenize(s, corpus):\n",
    "    \n",
    "    tensor = [s.EncodeAsIds(sen) for sen in corpus]\n",
    "    \n",
    "    with open(\"./korean_spm.vocab\", 'r') as f:\n",
    "        vocab = f.readlines()\n",
    "        \n",
    "    word_index = {}\n",
    "    index_word = {}\n",
    "    \n",
    "    for idx, line in enumerate(vocab):\n",
    "        word = line.split(\"\\t\")[0]\n",
    "        \n",
    "        word_index.update({word:idx})\n",
    "        index_word.update({idx:word})\n",
    "    \n",
    "    tensor = tf.keras.preprocessing.sequence.pad_sequences(tensor, padding='post')\n",
    "    \n",
    "    return tensor, word_index, index_word"
   ]
  },
  {
   "cell_type": "code",
   "execution_count": 171,
   "metadata": {},
   "outputs": [
    {
     "name": "stdout",
     "output_type": "stream",
     "text": [
      "[ 107 1638  101    4    0  419   11    4   14    0 1969    3    3    3]\n",
      "{0: '<unk>', 1: '<s>', 2: '</s>', 3: '▁', 4: '.', 5: '..', 6: '이', 7: '▁영화', 8: '...', 9: '의', 10: '가', 11: '도', 12: '는', 13: ',', 14: '을', 15: '에', 16: '고', 17: '은', 18: '다', 19: '?', 20: '지', 21: '한', 22: '▁너무', 23: '를', 24: '!', 25: '▁이', 26: '▁정말', 27: '만', 28: '로', 29: '▁진짜', 30: '나', 31: '게', 32: '~', 33: '영화', 34: '과', 35: '기', 36: '으로', 37: '하고', 38: '어', 39: '라', 40: '인', 41: '점', 42: '리', 43: '▁잘', 44: '아', 45: '▁그', 46: '네', 47: '에서', 48: '와', 49: '▁안', 50: '▁왜', 51: '▁다', 52: '서', 53: '▁수', 54: '▁더', 55: '▁1', 56: '!!', 57: '▁이런', 58: '들', 59: '요', 60: '하는', 61: '▁아', 62: '....', 63: '해', 64: '거', 65: '▁그냥', 66: '자', 67: '네요', 68: '▁드라마', 69: '면', 70: '▁본', 71: '▁보고', 72: '▁10', 73: '대', 74: '▁연기', 75: '니', 76: '▁평점', 77: '지만', 78: '수', 79: '스', 80: '▁영화를', 81: '▁한', 82: '음', 83: '야', 84: '사', 85: '▁좀', 86: '시', 87: '▁내', 88: '일', 89: '함', 90: '하게', 91: '이다', 92: '▁봤는데', 93: '진', 94: '하', 95: '주', 96: '▁참', 97: '하다', 98: '▁영화는', 99: '▁없는', 100: '▁이거', 101: '▁ᄏᄏ', 102: '▁못', 103: '▁쓰레기', 104: '할', 105: '여', 106: '▁영화가', 107: '구', 108: '▁내가', 109: '▁최고의', 110: '데', 111: '▁이건', 112: '▁스토리', 113: '보다', 114: '▁없다', 115: '정', 116: '까지', 117: '▁완전', 118: '는데', 119: '임', 120: '우', 121: '▁있는', 122: '▁2', 123: '해서', 124: '미', 125: '안', 126: '▁최고', 127: '들이', 128: '▁좋은', 129: '성', 130: 'ᄏᄏ', 131: '▁개', 132: '▁이렇게', 133: '드', 134: '냐', 135: '▁보는', 136: '듯', 137: '던', 138: '▁이게', 139: '▁다시', 140: '▁나', 141: '보', 142: '▁것', 143: '!!!', 144: '적', 145: '▁3', 146: '랑', 147: '▁난', 148: '상', 149: '전', 150: '건', 151: '보고', 152: '신', 153: '치', 154: '장', 155: '^^', 156: '▁말', 157: '마', 158: 'ᄏ', 159: '▁보', 160: '▁평점이', 161: '중', 162: '오', 163: '▁많이', 164: '질', 165: '개', 166: '부', 167: '▁지', 168: '1', 169: '~~', 170: '▁볼', 171: '▁작품', 172: '▁재밌게', 173: '▁뭐', 174: '▁역시', 175: '▁넘', 176: '▁그리고', 177: '비', 178: '인데', 179: '세', 180: '려', 181: '트', 182: ';;', 183: '2', 184: '년', 185: '▁또', 186: '▁마지막', 187: '▁하는', 188: '▁전', 189: '적인', 190: '▁생각', 191: '??', 192: '분', 193: '원', 194: '▁재미', 195: '것', 196: '▁저', 197: '▁하', 198: '그', 199: '▁오', 200: '했다', 201: '용', 202: '때', 203: '하지', 204: \"'\", 205: '진짜', 206: '▁별로', 207: '▁꼭', 208: '화', 209: '소', 210: '▁무', 211: '▁없고', 212: '라고', 213: '같은', 214: '▁감동', 215: '내', 216: '히', 217: '물', 218: '▁무슨', 219: '급', 220: '러', 221: '▁감독', 222: '▁ᄏᄏᄏ', 223: '입니다', 224: '습니다', 225: '말', 226: '▁하나', 227: '▁가장', 228: '▁이야기', 229: '▁아깝다', 230: 'ᅲᅲ', 231: '▁별', 232: ')', 233: '▁보면', 234: '▁기대', 235: '▁시간', 236: '된', 237: '▁아니', 238: '▁할', 239: '▁지금', 240: '란', 241: '▁만든', 242: '▁주', 243: '무', 244: '너무', 245: '▁다른', 246: '걸', 247: '▁사', 248: '좀', 249: '▁사랑', 250: '▁중', 251: '더', 252: '씨', 253: ';', 254: '없는', 255: '어요', 256: '선', 257: '라는', 258: '감', 259: '군', 260: '▁한국', 261: 'ᄏᄏᄏ', 262: '디', 263: '드라마', 264: '조', 265: '연', 266: '▁액션', 267: '당', 268: '제', 269: '식', 270: '▁비', 271: '▁명작', 272: '본', 273: '▁조', 274: '있는', 275: '부터', 276: '▁ᅲᅲ', 277: '편', 278: '영', 279: '호', 280: '이나', 281: '▁김', 282: '정말', 283: '심', 284: '▁유', 285: '▁ᄏ', 286: '▁처음', 287: '▁대', 288: '▁내용', 289: '줄', 290: '▁미', 291: '▁같은', 292: '▁영화다', 293: '긴', 294: '▁말이', 295: '3', 296: '동', 297: '▁연출', 298: '▁끝까지', 299: '▁일', 300: '에게', 301: '명', 302: 'ᅲ', 303: '모', 304: \"▁'\", 305: '르', 306: '유', 307: '▁배우', 308: '으면', 309: '▁마', 310: '▁정', 311: '▁때', 312: '▁와', 313: '▁느낌', 314: '처럼', 315: '▁두', 316: '난', 317: '▁ᅳᅳ', 318: '▁거', 319: '두', 320: '크', 321: '인지', 322: '살', 323: '타', 324: '단', 325: '(', 326: '▁솔직히', 327: '▁하지만', 328: '바', 329: '작', 330: '린', 331: '▁있다', 332: '울', 333: '위', 334: '▁전혀', 335: '들의', 336: '▁돈', 337: '▁뭔가', 338: '한다', 339: '▁대한', 340: '▁일본', 341: '▁짱', 342: '▁같다', 343: '▁알', 344: '▁기', 345: '되는', 346: '▁좋다', 347: '▁봤다', 348: '▁해', 349: '▁자', 350: '면서', 351: '▁제', 352: '▁아주', 353: '며', 354: '합니다', 355: 'ᅳᅳ', 356: '때문에', 357: '남', 358: '잘', 359: '래', 360: '▁봐도', 361: '▁많은', 362: '노', 363: '이랑', 364: '준', 365: '▁최악', 366: '워', 367: '류', 368: '운', 369: '하지만', 370: '▁모두', 371: '하면', 372: '죠', 373: '간', 374: ',,', 375: '인가', 376: '이라', 377: '▁계속', 378: '생', 379: '▁구', 380: '▁여자', 381: '민', 382: '▁ᄒᄒ', 383: '▁보기', 384: '▁재밌다', 385: '하나', 386: '▁남', 387: '판', 388: '▁내용이', 389: '길', 390: '▁어떻게', 391: '▁이걸', 392: '저', 393: '재', 394: '▁소', 395: '▁후', 396: '▁나오는', 397: '▁코미디', 398: '▁내내', 399: '▁재미있게', 400: '▁사람', 401: '▁어', 402: '▁그런', 403: '▁이영화', 404: '연기', 405: '경', 406: '▁아닌', 407: '▁줄', 408: '▁시', 409: '▁4', 410: '▁아니라', 411: '루', 412: '없이', 413: '▁신', 414: '▁않고', 415: '날', 416: '희', 417: '레', 418: '▁배우들', 419: '까', 420: '-', 421: '▁애', 422: '엔', 423: '파', 424: '방', 425: '▁그래도', 426: '들은', 427: '지는', 428: '었다', 429: '▁대박', 430: '번', 431: '▁최악의', 432: '구나', 433: '했던', 434: '▁모든', 435: '▁한번', 436: '피', 437: '봤는데', 438: '▁딱', 439: '▁아니다', 440: '▁하고', 441: '발', 442: '▁우리', 443: '▁주인공', 444: '버', 445: '▁5', 446: '▁만드는', 447: '▁듯', 448: '겠다', 449: '으', 450: '▁모', 451: '▁연기가', 452: '▁남자', 453: '▁7', 454: '시간', 455: '이라는', 456: '▁반', 457: '차', 458: '▁실망', 459: '점도', 460: '▁좋아', 461: '국', 462: '▁되', 463: '님', 464: '▁아름다운', 465: '▁8', 466: '반', 467: '▁욕', 468: '애', 469: '▁감독이', 470: '▁제일', 471: '▁연기도', 472: '▁근데', 473: '▁수준', 474: '림', 475: '박', 476: '티', 477: '▁9', 478: 'o', 479: '▁장면', 480: '▁이해', 481: '10', 482: '▁장', 483: '▁전개', 484: '겨', 485: '▁않은', 486: '적으로', 487: '▁재미없다', 488: '▁않는', 489: '카', 490: '▁개봉', 491: '이란', 492: '▁보다', 493: '▁이제', 494: '프', 495: '한테', 496: '▁보다가', 497: '후', 498: '터', 499: 'ᄒᄒ', 500: '▁스릴러', 501: '▁아니고', 502: '~~~', 503: '▁스', 504: '▁음악', 505: '▁추천', 506: '▁요즘', 507: '형', 508: '▁강', 509: '이고', 510: '없다', 511: '▁박', 512: '배', 513: '4', 514: '▁내용도', 515: '▁굿', 516: '지도', 517: '▁나는', 518: '♥', 519: '▁애니', 520: '다가', 521: '▁0', 522: '▁제대로', 523: '하네요', 524: '실', 525: '▁건', 526: '따', 527: '▁공포', 528: '보는', 529: '▁부', 530: '하네', 531: '망', 532: '보면', 533: '▁스토리가', 534: '들을', 535: '▁끝', 536: '관', 537: '현', 538: '회', 539: '▁만들어', 540: '▁반전', 541: '!!!!', 542: '든', 543: '점이', 544: '▁시간이', 545: '▁영화의', 546: '▁영화라고', 547: '▁때문에', 548: '니까', 549: '태', 550: '왜', 551: '▁싶다', 552: '산', 553: '▁우', 554: '▁눈물', 555: '하기', 556: '▁이상', 557: '것도', 558: '▁막장', 559: '▁나름', 560: '▁바', 561: '▁OO', 562: '토', 563: '공', 564: '년대', 565: '▁차라리', 566: '▁노', 567: '▁엄청', 568: 'e', 569: '▁되는', 570: '5', 571: '되', 572: '▁아직도', 573: '다니', 574: '\"\"', 575: '키', 576: '져', 577: '참', 578: '▁절대', 579: 'ᄒ', 580: '문', 581: '▁여운이', 582: '▁특히', 583: '▁진심', 584: '▁세', 585: '생각', 586: '▁아까운', 587: '어서', 588: '▁걸', 589: '했는데', 590: '이라고', 591: '▁주는', 592: '짱', 593: '▁재', 594: '▁재미도', 595: '▁불', 596: '▁울', 597: '▁보면서', 598: '▁표현', 599: '▁인생', 600: '▁결말', 601: '▁스토리도', 602: '▁영화입니다', 603: '▁좋고', 604: '▁눈', 605: '▁좋았다', 606: '▁나온', 607: '속', 608: '▁대사', 609: '▁도대체', 610: '뿐', 611: '즈', 612: '▁공포영화', 613: '▁감독의', 614: '▁원', 615: '못', 616: '▁남는', 617: '▁재밌', 618: '▁속', 619: '▁영', 620: '▁몇', 621: '▁뻔한', 622: '▁캐릭터', 623: '▁피', 624: '였다', 625: 'ᅳ', 626: '▁동', 627: '평점', 628: '▁진', 629: '▁조금', 630: '는지', 631: '▁걍', 632: '인듯', 633: '등', 634: '예', 635: '계', 636: '▁이해가', 637: '▁기억', 638: '정도', 639: '매', 640: '▁배', 641: '해요', 642: '▁나도', 643: '▁좋아하는', 644: '▁공감', 645: '▁공', 646: '▁오랜만에', 647: '▁현실', 648: '점은', 649: '종', 650: '▁서', 651: '▁시리즈', 652: '▁마지막에', 653: ';;;', 654: '더라', 655: '▁봤던', 656: '달', 657: '▁재밌어요', 658: '▁우리나라', 659: '▁없음', 660: '▁봤습니다', 661: '▁B', 662: '체', 663: '녀', 664: '▁가슴', 665: '▁인간', 666: '▁영화에', 667: '넘', 668: '던데', 669: '▁초', 670: '코', 671: '▁쓰', 672: '▁ᄏᄏᄏᄏ', 673: '▁있', 674: '해도', 675: '밖에', 676: '역', 677: '포', 678: '▁지루한', 679: '▁생각이', 680: '사람', 681: '▁시작', 682: '▁싶은', 683: '만큼', 684: '석', 685: '???', 686: '▁배우들의', 687: '▁된', 688: '▁될', 689: '집', 690: '이런', 691: '는게', 692: '▁지루하고', 693: '▁연', 694: '▁뭘', 695: '꺼', 696: '▁미국', 697: '▁수작', 698: '▁망', 699: '▁20', 700: '▁오늘', 701: '스토리', 702: '▁어떤', 703: '▁멋진', 704: '▁6', 705: 'ᅮᅮ', 706: '는거', 707: '▁함께', 708: '건지', 709: '▁만들', 710: '▁기분', 711: '▁재미가', 712: '8', 713: '볼', 714: '/', 715: '배우', 716: '▁뭔', 717: '쳐', 718: 't', 719: ',,,', 720: '려고', 721: '▁ᅲ', 722: '라도', 723: '▁큰', 724: '▁^^', 725: '릴', 726: '▁노래', 727: '▁않', 728: '▁재밌는', 729: '그냥', 730: '▁보는내내', 731: 'ᄏᄏᄏᄏ', 732: '▁개인적으로', 733: '▁막', 734: '극', 735: '탄', 736: '하면서', 737: '▁원작', 738: '▁졸작', 739: '▁그저', 740: '불', 741: '감동', 742: '▁OOO', 743: '하며', 744: '▁최고다', 745: '죽', 746: '▁허', 747: '▁없이', 748: '▁사람이', 749: '사랑', 750: '▁지루함', 751: '중에', 752: '▁봤', 753: '▁발', 754: '▁연기력', 755: '▁심', 756: '양', 757: '봤다', 758: '~!', 759: '▁나오', 760: '▁아무리', 761: '▁없', 762: '▁괜찮은', 763: '▁정도', 764: '▁여', 765: '▁알바', 766: '▁영상', 767: '▁애니메이션', 768: '▁못한', 769: '▁\"', 770: '▁그렇게', 771: '▁영화로', 772: '▁매력', 773: '▁얼마나', 774: '입', 775: '금', 776: '투', 777: '▁기억에', 778: '▁예', 779: '돈', 780: '▁시나리오', 781: '7', 782: '강', 783: '▁보세요', 784: '▁인', 785: '력', 786: '대로', 787: 'd', 788: '▁파', 789: 's', 790: '▁캐스팅', 791: '능', 792: '▁안되는', 793: '▁날', 794: '있다', 795: '교', 796: '▁후회', 797: '근', 798: '장면', 799: '▁연기는', 800: '▁머', 801: '주는', 802: '▁사람들', 803: '▁제발', 804: '구만', 805: '▁차', 806: '악', 807: '최고', 808: '병', 809: '김', 810: '▁살', 811: '업', 812: '6', 813: '움', 814: '먹', 815: '▁성', 816: '담', 817: '글', 818: '감독', 819: '▁지루하다', 820: '봄', 821: '테', 822: '봐', 823: '▁선', 824: '갈', 825: '격', 826: '▁사실', 827: '▁모르겠다', 828: '▁것이', 829: '▁화', 830: '작품', 831: '▁극장에서', 832: '▁\"\"', 833: '리는', 834: '락', 835: '▁가족', 836: '▁분위기', 837: '▁최', 838: '기에', 839: '절', 840: '▁만화', 841: '▁매우', 842: '너', 843: '▁같이', 844: '▁결국', 845: '론', 846: '▁준', 847: '이었다', 848: '▁코믹', 849: '▁강추', 850: '▁맞', 851: '▁매', 852: '▁소재', 853: '된다', 854: '온', 855: '▁아이', 856: '머', 857: '보단', 858: '초', 859: '▁보게', 860: '하는데', 861: '▁하나도', 862: '스트', 863: '▁있고', 864: '천', 865: '빠', 866: '▁예술', 867: '▁알고', 868: '이지만', 869: '통', 870: '▁한국영화', 871: '▁긴장감', 872: '짐', 873: '증', 874: '뻔', 875: 'a', 876: '슨', 877: '▁봤어요', 878: '▁별점', 879: '잡', 880: '점을', 881: '▁않는다', 882: '▁애들', 883: '봐도', 884: '▁한다', 885: '▁찾아', 886: '▁입', 887: '▁총', 888: '▁좋아요', 889: '▁행복', 890: '기도', 891: '▁마음이', 892: '기는', 893: '액션', 894: '▁보지', 895: '창', 896: '▁문제', 897: '▁억지', 898: '▁없어', 899: '▁눈물이', 900: '▁위한', 901: '이네', 902: '순', 903: '학', 904: '▁주연', 905: '▁정신', 906: '▁너무나', 907: '군요', 908: '난다', 909: '▁느낌이', 910: '▁위해', 911: '▁죽', 912: '재미', 913: '설', 914: '쓰레기', 915: '버린', 916: '알', 917: '▁치', 918: '▁감동이', 919: '▁대체', 920: '권', 921: '행', 922: '끼', 923: '승', 924: '맨', 925: '▁재밌음', 926: '▁제목', 927: '다고', 928: '보니', 929: '▁토', 930: '외', 931: '니다', 932: '없', 933: '뭐', 934: '점대', 935: '▁엔딩', 936: '해야', 937: '▁훨씬', 938: '▁단', 939: '▁들', 940: '그리고', 941: '법', 942: '▁없었다', 943: '▁위', 944: '▁갈수록', 945: '▁미친', 946: '아니', 947: '▁길', 948: '이야', 949: '▁그만', 950: '▁ᄒ', 951: '>', 952: '▁봐야', 953: '했', 954: '▁존나', 955: 'ᅮ', 956: '짜', 957: '▁그나마', 958: '▁음', 959: 'h', 960: '가는', 961: '▁유치', 962: '▁열', 963: '었는데', 964: '▁않다', 965: '영화는', 966: '▁감', 967: '새', 968: '▁명', 969: '▁평', 970: '내용', 971: '▁전쟁', 972: '이상', 973: '▁몰입도', 974: '▁있을', 975: '▁기억이', 976: '▁타', 977: '▁내용은', 978: '케', 979: '언', 980: '건가', 981: '▁로맨스', 982: '+', 983: '▁밖에', 984: '▁졸', 985: '▁중국', 986: '에도', 987: '▁영화네요', 988: '▁누가', 989: '했음', 990: '▁ᅮᅮ', 991: '색', 992: '거야', 993: '여자', 994: '▁가슴이', 995: '9', 996: '▁베', 997: '▁잡', 998: '이네요', 999: '▁보여주는', 1000: '▁결말이', 1001: '▁엄마', 1002: '▁출연', 1003: '▁상', 1004: '▁다큐', 1005: '▁그래서', 1006: '▁꽤', 1007: '잼', 1008: '▁적', 1009: '플', 1010: '기를', 1011: '았', 1012: '▁설정', 1013: '▁모습', 1014: '싶', 1015: '▁너', 1016: '▁영화중', 1017: '▁똥', 1018: '▁연기를', 1019: '▁더빙', 1020: '될', 1021: '▁작가', 1022: '\"', 1023: '▁어설픈', 1024: '▁들어', 1025: '▁발연기', 1026: '▁어느', 1027: '▁그러', 1028: '나는', 1029: '재밌', 1030: '향', 1031: '▁필요', 1032: '적이', 1033: '열', 1034: '▁걸작', 1035: '▁잼', 1036: '▁마음', 1037: '▁극', 1038: '쓰', 1039: '▁-', 1040: '▁약', 1041: '▁지루', 1042: '평', 1043: '▁따라', 1044: '▁뿐', 1045: '▁자체', 1046: '▁게', 1047: '완전', 1048: '을까', 1049: '▁재밌고', 1050: '▁대해', 1051: '▁쓰레기영화', 1052: '이지', 1053: '▁것을', 1054: '칠', 1055: '▁당', 1056: '▁CG', 1057: '했지만', 1058: '년이', 1059: '▁바로', 1060: '▁자기', 1061: '▁먹', 1062: '▁시즌', 1063: '▁평가', 1064: '▁영화였다', 1065: '좋아', 1066: '겠지', 1067: '있', 1068: '베', 1069: '▁딸', 1070: '▁당시', 1071: '▁감동도', 1072: '▁간', 1073: '직', 1074: '▁의미', 1075: '침', 1076: '봤', 1077: '왕', 1078: '▁노잼', 1079: '▁사람들이', 1080: '▁영화관에서', 1081: '귀', 1082: '나오는', 1083: '나요', 1084: '▁잔잔한', 1085: '소리', 1086: '라면', 1087: '▁야', 1088: '었', 1089: '▁같아요', 1090: '▁주고', 1091: '할수', 1092: '▁다들', 1093: '▁물', 1094: '▁호', 1095: '▁생각보다', 1096: '▁백', 1097: '▁좋', 1098: '▁재미없음', 1099: '표', 1100: '▁재미있다', 1101: '인줄', 1102: '▁상당히', 1103: '슬', 1104: '▁간만에', 1105: '▁전부', 1106: '없고', 1107: '환', 1108: '친', 1109: '▁맘에', 1110: '▁아쉽다', 1111: '▁감동적인', 1112: '▁30', 1113: '▁살아', 1114: '▁볼만한', 1115: '▁존', 1116: '▁약간', 1117: '수가', 1118: '출', 1119: '편이', 1120: '이라도', 1121: '▁친구', 1122: '라서', 1123: '▁얼굴', 1124: '었음', 1125: '▁여기', 1126: '길래', 1127: '이거', 1128: '다는', 1129: '▁외', 1130: '▁여주인공', 1131: '올', 1132: '▁것도', 1133: '▁점수', 1134: '결', 1135: '▁아님', 1136: '느낌', 1137: '▁스토리는', 1138: '있고', 1139: '▁네이버', 1140: '또', 1141: 'g', 1142: '▁중간에', 1143: '▁손', 1144: '▁갈', 1145: '거지', 1146: '영화를', 1147: '▁생각을', 1148: '씬', 1149: '나오', 1150: 'l', 1151: '▁재미있는', 1152: '▁재미없', 1153: '욕', 1154: '이건', 1155: '았다', 1156: '▁된다', 1157: '복', 1158: '할때', 1159: '▁그대로', 1160: '는건', 1161: '범', 1162: '찍', 1163: '치고', 1164: '별', 1165: '▁오래', 1166: '▁구성', 1167: '됨', 1168: '수준', 1169: '▁좋은데', 1170: '듯한', 1171: '▁배경', 1172: '▁진정한', 1173: '▁뭐야', 1174: '▁분', 1175: 'b', 1176: '좋', 1177: '이야기', 1178: '▁있을까', 1179: '것이', 1180: '백', 1181: '▁거의', 1182: '▁편', 1183: '▁준다', 1184: '영화가', 1185: '구요', 1186: '▁웃기', 1187: '▁판타지', 1188: '▁메', 1189: '눈', 1190: '▁굉장히', 1191: '▁웃음', 1192: '▁재미없는', 1193: '훈', 1194: '▁천', 1195: '잇', 1196: '▁스릴', 1197: '▁같은데', 1198: '▁있지만', 1199: '▁감동을', 1200: '▁변', 1201: '치는', 1202: '▁저런', 1203: '▁얘기', 1204: '▁높', 1205: '▁재밋', 1206: '척', 1207: '▁했는데', 1208: '▁정도로', 1209: '▁이영화를', 1210: '션', 1211: '조차', 1212: '▁꿈', 1213: '▁버', 1214: '▁각본', 1215: '▁등', 1216: '▁봐서', 1217: '▁재미는', 1218: '혜', 1219: '▁장르', 1220: '보기', 1221: '더니', 1222: '▁나와서', 1223: '짓', 1224: '▁만', 1225: '▁아이들', 1226: '에선', 1227: '▁보니', 1228: '퍼', 1229: '▁올', 1230: '각', 1231: '들에게', 1232: '료', 1233: '막', 1234: '▁줄거리', 1235: '처', 1236: '였', 1237: '▁감정', 1238: '▁봤지만', 1239: '▁카', 1240: '기만', 1241: '▁뭐지', 1242: '▁배우들이', 1243: '▁장난', 1244: '▁제가', 1245: '름', 1246: '편은', 1247: '웃', 1248: '레이', 1249: '남자', 1250: '▁끝나', 1251: '진다', 1252: '▁몰입', 1253: '▁몸', 1254: '햇', 1255: '부분', 1256: '스러운', 1257: 'D', 1258: '께', 1259: '▁윤', 1260: '▁경', 1261: '없음', 1262: '▁비교', 1263: '▁추억', 1264: '▁충격', 1265: '▁코', 1266: '술', 1267: '린다', 1268: '▁아무', 1269: '▁그리', 1270: '곤', 1271: '▁마음에', 1272: '▁많', 1273: '들도', 1274: '▁극장판', 1275: '청', 1276: '▁웃', 1277: '련', 1278: '▁생각하게', 1279: '▁평점을', 1280: '▁재밌네요', 1281: '을때', 1282: '▁제작', 1283: '▁악', 1284: 'OO', 1285: '건데', 1286: '▁다음', 1287: '▁성룡', 1288: '었던', 1289: '▁감독님', 1290: '되어', 1291: '▁싶', 1292: '▁방송', 1293: '▁훌륭한', 1294: '▁번', 1295: '같이', 1296: '른', 1297: '으나', 1298: '▁영화임', 1299: '습', 1300: '목', 1301: 'k', 1302: '커', 1303: '▁관', 1304: '▁아직', 1305: '▁실', 1306: '채', 1307: '었어요', 1308: '줘', 1309: '▁장면이', 1310: '했습니다', 1311: '쉬', 1312: '▁뭐냐', 1313: '추', 1314: '▁글', 1315: '▁90', 1316: '▁영화인데', 1317: '리고', 1318: '블', 1319: '▁갑자기', 1320: '▁산', 1321: '▁혼자', 1322: '▁있어서', 1323: '▁영상미', 1324: '▁이딴', 1325: '▁항상', 1326: '에는', 1327: '▁대단한', 1328: '▁힘', 1329: '않', 1330: '▁머리', 1331: '▁양', 1332: '▁영화도', 1333: 'y', 1334: '▁말도', 1335: '▁예상', 1336: '▁사회', 1337: '▁있어', 1338: '년전', 1339: '놈', 1340: '어야', 1341: '▁높은', 1342: '합', 1343: '▁어디서', 1344: '▁TV', 1345: '▁왕', 1346: '~!!', 1347: 'r', 1348: '▁했다', 1349: '해지는', 1350: '했어요', 1351: '▁새로운', 1352: '월', 1353: '▁재미있어요', 1354: '▁흥행', 1355: '기대', 1356: '▁새', 1357: '주의', 1358: '▁생', 1359: '▁있었', 1360: '▁보여주', 1361: '▁원작을', 1362: '▁화면', 1363: '곡', 1364: '다시', 1365: '다면', 1366: '▁소리', 1367: '▁요', 1368: '놓고', 1369: '▁포스터', 1370: '해라', 1371: '▁옛날', 1372: '셨', 1373: '▁비디오', 1374: '먼', 1375: '▁삼', 1376: '▁허접', 1377: '▁나올', 1378: '근데', 1379: '▁달', 1380: '▁패', 1381: '♡', 1382: '땜에', 1383: '▁질', 1384: 'ᄋ', 1385: '였는데', 1386: '▁나이', 1387: '으니', 1388: '▁처음부터', 1389: '간다', 1390: '0', 1391: '한거', 1392: '▁순', 1393: '튼', 1394: '▁만들었', 1395: '▁주인공이', 1396: '▁주제', 1397: '▁하지', 1398: '▁종', 1399: '광', 1400: '▁충분히', 1401: '빈', 1402: '▁추', 1403: '겠', 1404: '▁나왔', 1405: '▁감성', 1406: '▁언제', 1407: '▁그런지', 1408: '▁짜증', 1409: '익', 1410: '▁자체가', 1411: '▁여배우', 1412: '지금', 1413: '▁봄', 1414: '정도로', 1415: '▁암', 1416: '거나', 1417: '철', 1418: '▁크', 1419: '였음', 1420: '▁빨리', 1421: '거다', 1422: '▁개연성', 1423: '▁관객', 1424: '▁잠', 1425: '▁궁금', 1426: '▁뭐가', 1427: '▁ᅳ', 1428: '▁안된다', 1429: '▁뒤', 1430: '▁봤음', 1431: '끝', 1432: '▁부족', 1433: '잔', 1434: '▁팬', 1435: '▁봐라', 1436: '들어', 1437: '록', 1438: '▁성우', 1439: '허', 1440: '▁잘못', 1441: '▁해서', 1442: '▁쳐', 1443: '▁세계', 1444: 'u', 1445: '▁그러나', 1446: '▁있었다', 1447: '▁꿀잼', 1448: '▁레', 1449: '▁휴', 1450: '▁사람은', 1451: '낸', 1452: '▁있는데', 1453: '▁저는', 1454: '별로', 1455: '▁점점', 1456: '▁돌', 1457: '▁가지고', 1458: '▁비해', 1459: '분들', 1460: '듬', 1461: '_', 1462: '돌', 1463: '▁못하는', 1464: '만한', 1465: '메', 1466: '▁현', 1467: '츠', 1468: '처음', 1469: '▁어린', 1470: '▁멜로', 1471: '▁상황', 1472: '▁없어서', 1473: '▁이런영화', 1474: '▁헐', 1475: '▁안되', 1476: '같다', 1477: '▁첨', 1478: '효', 1479: '▁방', 1480: '▁너무너무', 1481: '전개', 1482: '보다는', 1483: 'f', 1484: '▁(', 1485: '▁뻔', 1486: '이라니', 1487: '마지막', 1488: '▁일단', 1489: '내가', 1490: '▁누구', 1491: '이라면', 1492: '▁절', 1493: '거냐', 1494: '▁집중', 1495: '▁초딩', 1496: '▁볼만', 1497: '▁맛', 1498: '▁가는', 1499: '도록', 1500: '했고', 1501: '▁나의', 1502: '배우들', 1503: '▁놀', 1504: '▁좋은영화', 1505: '▁댓글', 1506: '▁이름', 1507: '하냐', 1508: '▁책', 1509: '▁그때', 1510: '▁좋네요', 1511: '▁힘들', 1512: '▁숨', 1513: '▁재미있', 1514: 'i', 1515: '틀', 1516: '▁더욱', 1517: '▁여주', 1518: '▁순간', 1519: '▁선택', 1520: '▁좋겠다', 1521: '적이고', 1522: '맞', 1523: '▁엄청난', 1524: '▁아닌가', 1525: '▁문', 1526: '슴', 1527: '▁100', 1528: '▁삼류', 1529: '▁슬픈', 1530: '주인공', 1531: '시대', 1532: '▁나온다', 1533: '▁시절', 1534: '▁따뜻한', 1535: '▁어릴때', 1536: '▁지나', 1537: '▁아까움', 1538: '▁ᄍᄍ', 1539: '라니', 1540: '써', 1541: '▁한마디로', 1542: '▁사람들은', 1543: ':', 1544: '▁만족', 1545: '겠지만', 1546: '▁아버지', 1547: '성이', 1548: '하니', 1549: '▁없네', 1550: '사람들', 1551: '▁첫', 1552: '▁이유', 1553: '겟', 1554: '▁두번', 1555: '▁낮은', 1556: '▁어색', 1557: '났', 1558: '▁다시봐도', 1559: '-_-', 1560: '약', 1561: '▁그닥', 1562: '▁없을', 1563: '▁아쉬운', 1564: '▁투', 1565: '▁같', 1566: '▁이영화는', 1567: '추천', 1568: '▁하다', 1569: '대박', 1570: '지않', 1571: '▁원래', 1572: '엇', 1573: '삼', 1574: '▁흥미진진', 1575: '견', 1576: '존', 1577: '▁깨', 1578: '▁노력', 1579: '▁낫다', 1580: '▁것은', 1581: '▁실화', 1582: '연출', 1583: '나서', 1584: '브', 1585: '▁설', 1586: '▁먹먹', 1587: '▁더럽게', 1588: '▁힘든', 1589: '되고', 1590: '탈', 1591: '▁목소리', 1592: '▁지금까지', 1593: '@', 1594: '▁봐', 1595: '세요', 1596: '재미있', 1597: '▁보는데', 1598: '▁편집', 1599: '얼', 1600: '▁역사', 1601: '마다', 1602: '규', 1603: '▁망작', 1604: '▁전개가', 1605: '▁부분', 1606: '▁상상', 1607: '▁사랑을', 1608: '염', 1609: '▁자꾸', 1610: '▁감상', 1611: '▁만나', 1612: '걸까', 1613: '▁참고', 1614: '▁80', 1615: '이냐', 1616: '땐', 1617: '▁데', 1618: '것같다', 1619: '▁감독은', 1620: '▁완벽한', 1621: '▁귀', 1622: '을듯', 1623: '▁나와', 1624: '▁지루해', 1625: '^', 1626: '▁대한민국', 1627: '▁합니다', 1628: '▁돈주고', 1629: '어도', 1630: '▁인물', 1631: '▁이것도', 1632: '▁포', 1633: '킹', 1634: '▁복수', 1635: '▁모르고', 1636: '이게', 1637: '찬', 1638: '▁모르는', 1639: '▁재밌었다', 1640: '▁무조건', 1641: '만들', 1642: '▁쓴', 1643: '▁도저히', 1644: '▁않았', 1645: '▁아빠', 1646: 'p', 1647: '시리즈', 1648: '▁결혼', 1649: '▁개그', 1650: '▁예전에', 1651: '말이', 1652: '앗', 1653: '▁소설', 1654: '▁유치한', 1655: '▁M', 1656: '▁예고편', 1657: '독', 1658: '▁통', 1659: '▁과거', 1660: '▁작', 1661: '▁인간의', 1662: '▁재밌는데', 1663: '▁이상한', 1664: '▁우연히', 1665: '년도', 1666: '▁싸', 1667: '을텐데', 1668: '▁나라', 1669: '▁귀신', 1670: '▁병맛', 1671: '▁물론', 1672: '▁그래픽', 1673: '이에요', 1674: '많', 1675: '▁바보', 1676: '▁이미', 1677: '▁목', 1678: '혀', 1679: '▁써', 1680: '거리', 1681: '▁불륜', 1682: '명작', 1683: '▁죽음', 1684: '쯤', 1685: '봐서', 1686: '▁까', 1687: '윤', 1688: '굿', 1689: '덕', 1690: '▁초반', 1691: '▁돌아', 1692: 'c', 1693: '▁웃긴', 1694: '▁찾', 1695: '꼬', 1696: '런', 1697: '▁알게', 1698: '▁있음', 1699: '봐라', 1700: '▁b', 1701: '아서', 1702: '손', 1703: '▁존재', 1704: '▁볼수', 1705: '▁그게', 1706: '에요', 1707: '여서', 1708: '맛', 1709: '벌', 1710: '오는', 1711: '▁이정도', 1712: '일까', 1713: '▁억지로', 1714: '음악', 1715: '풍', 1716: '▁괜히', 1717: '▁되어', 1718: '▁좋았어요', 1719: '▁무서운', 1720: '징', 1721: '년에', 1722: '많이', 1723: '~~~~', 1724: '▁대작', 1725: '▁연출이', 1726: '그래도', 1727: '▁기대하고', 1728: '변', 1729: '아이', 1730: '▁오히려', 1731: '▁영화라', 1732: '▁어디', 1733: '▁저질', 1734: 'v', 1735: '▁으', 1736: '▁세상', 1737: '▁느낄', 1738: '▁역', 1739: '▁믿고', 1740: '하여', 1741: '▁짜', 1742: '들과', 1743: '보는데', 1744: '함을', 1745: '싸', 1746: '한데', 1747: '나라', 1748: '▁느끼게', 1749: '좋은', 1750: '▁비슷한', 1751: '혹', 1752: '▁해도', 1753: '하던', 1754: '▁있다는', 1755: '▁천재', 1756: 'x', 1757: '졌', 1758: '▁없네요', 1759: '▁봤네요', 1760: '▁미화', 1761: '▁전형적인', 1762: '▁일본영화', 1763: '책', 1764: '▁반전이', 1765: '▁부족한', 1766: '렌', 1767: '잖아', 1768: '▁알았다', 1769: '▁것이다', 1770: '▁바람', 1771: '하는거', 1772: '필', 1773: '▁안보', 1774: '▁SF', 1775: '▁완성도', 1776: '▁좋음', 1777: '함이', 1778: '▁신기', 1779: '▁태', 1780: '▁끝내', 1781: '것이다', 1782: '반전', 1783: '리가', 1784: ',,,,', 1785: '▁생각해', 1786: '모르', 1787: '▁이야기를', 1788: '▁액션도', 1789: '전에', 1790: '는걸', 1791: '▁급', 1792: '▁작품성', 1793: '▁재미없어', 1794: '▁꼬', 1795: '▁아무것도', 1796: '▁설명', 1797: '▁떠', 1798: '▁뭔지', 1799: '하세요', 1800: '▁감사', 1801: 'n', 1802: '끔', 1803: '▁평점은', 1804: '▁좀비', 1805: '▁훌륭', 1806: '▁이런거', 1807: '인거', 1808: '가서', 1809: '▁프랑스', 1810: '▁마무리', 1811: '▁평점에', 1812: '으며', 1813: '▁낮', 1814: '▁여성', 1815: '한번', 1816: '▁모습이', 1817: '뜨', 1818: '졌다', 1819: '▁스타일', 1820: 'm', 1821: '역시', 1822: '답', 1823: '▁리', 1824: '괴', 1825: '느', 1826: '▁인정', 1827: '였던', 1828: '황', 1829: '▁만들지', 1830: '▁노출', 1831: '페', 1832: '좋다', 1833: '▁코메디', 1834: '▁괜찮', 1835: '▁배우가', 1836: '................', 1837: '재밋', 1838: '패', 1839: '인이', 1840: '본다', 1841: '품', 1842: '휴', 1843: '▁연출력', 1844: '봐야', 1845: '▁시대', 1846: '▁흥미', 1847: '▁성장', 1848: '▁어렸을때', 1849: '주세요', 1850: '▁수가', 1851: '▁전작', 1852: '▁액션영화', 1853: '▁회', 1854: '▁온', 1855: '▁형', 1856: '▁처음으로', 1857: '▁tv', 1858: '▁여운', 1859: '아깝다', 1860: '▁만들었다', 1861: '꼭', 1862: '점짜리', 1863: '만든', 1864: '▁재밌어', 1865: '▁재미있고', 1866: '▁알았는데', 1867: '▁서로', 1868: '립', 1869: '하긴', 1870: '에겐', 1871: '▁듯한', 1872: '스럽다', 1873: '▁늘', 1874: '기가', 1875: '▁골', 1876: '숙', 1877: '▁화이팅', 1878: '▁돈이', 1879: '도없고', 1880: '▁지루하지', 1881: '▁ost', 1882: '▁않을', 1883: '▁완벽', 1884: '더군요', 1885: '자가', 1886: '아닌', 1887: '힌', 1888: '▁화려한', 1889: '▁청춘', 1890: '강추', 1891: '만으로도', 1892: '▁재미없고', 1893: '▁대단하다', 1894: '밀', 1895: '▁현재', 1896: '▁이후', 1897: '무슨', 1898: '▁유머', 1899: '▁앞으로', 1900: 'ᄉ', 1901: '▁행동', 1902: '한영화', 1903: '▁경찰', 1904: '▁사랑이', 1905: '▁했', 1906: '▁티비', 1907: '량', 1908: '▁깊은', 1909: '▁좋았습니다', 1910: '▁본다', 1911: '▁삶', 1912: '재미없', 1913: '애니', 1914: '▁맞는', 1915: '이면', 1916: '▁이번', 1917: '▁흠', 1918: '팬', 1919: '▁저도', 1920: '▁관계', 1921: '영화다', 1922: '▁나쁜', 1923: '▁이러', 1924: '▁만점', 1925: '▁질질', 1926: '▁특유의', 1927: '▁알았', 1928: '하자', 1929: '▁유치하고', 1930: '딱', 1931: '▁속편', 1932: '드는', 1933: '▁장면은', 1934: '억', 1935: '▁게임', 1936: '▁영화보다', 1937: '놓은', 1938: '▁실제', 1939: '▁작품이', 1940: '&', 1941: '▁대단', 1942: '노잼', 1943: '▁디', 1944: '했을', 1945: '▁왜이리', 1946: '▁둘', 1947: '▁영화였습니다', 1948: '웃음', 1949: '▁아이들이', 1950: '▁킬링타임용', 1951: '지루', 1952: '▁그래', 1953: '▁티', 1954: '점준다', 1955: '▁영웅', 1956: '같', 1957: '사람이', 1958: '▁교훈', 1959: '족', 1960: '▁C', 1961: '▁해야', 1962: '▁진행', 1963: '▁알아', 1964: '보다가', 1965: '▁시청률', 1966: '스타', 1967: '▁자유', 1968: '▁보고나서', 1969: '웠', 1970: '싱', 1971: '▁지금도', 1972: '▁빠져', 1973: '▁같네요', 1974: '송', 1975: '▁좋았고', 1976: '▁없었', 1977: '▁아까워', 1978: '수록', 1979: '▁19', 1980: '????', 1981: '성을', 1982: '가족', 1983: '▁이런걸', 1984: '완', 1985: '▁ᄒᄒᄒ', 1986: '▁아쉽', 1987: '▁집', 1988: '득', 1989: '▁병', 1990: '▁프로', 1991: '▁무엇보다', 1992: '▁지루하', 1993: '는것', 1994: '▁진부한', 1995: '▁않았다', 1996: '▁보여준', 1997: '▁느끼', 1998: '속에', 1999: '▁전체적으로', 2000: '시켜', 2001: '▁스토리에', 2002: '▁별루', 2003: '네여', 2004: '▁복', 2005: '재밌게', 2006: '▁그렇고', 2007: '보면서', 2008: '있게', 2009: '졸', 2010: '분이', 2011: '갑', 2012: '롭', 2013: '▁싫어', 2014: '▁말고', 2015: '▁계', 2016: '▁중에', 2017: '▁아니지만', 2018: '▁극장', 2019: '▁하면', 2020: '▁먼저', 2021: '링', 2022: '▁취', 2023: '인간', 2024: '▁너무나도', 2025: '▁s', 2026: '▁지난', 2027: '▁최악이다', 2028: '▁그랬', 2029: '▁받', 2030: '▁명작이다', 2031: '랄', 2032: '실망', 2033: '리스', 2034: '▁감동적이', 2035: '결말', 2036: '▁비추', 2037: '▁사건', 2038: '가지', 2039: '▁평론가', 2040: '▁또한', 2041: '▁앞', 2042: '▁맥', 2043: '▁터', 2044: '십', 2045: '풀', 2046: '셔', 2047: '▁잘만든', 2048: '▁확', 2049: '▁아닐까', 2050: '▁가치', 2051: '▁영화에서', 2052: '▁졸라', 2053: '▁모습을', 2054: '▁로맨틱', 2055: '다운', 2056: '▁왠지', 2057: '▁광', 2058: 'S', 2059: '▁허접한', 2060: '모습', 2061: '▁전달', 2062: '▁괴', 2063: 'ᅲᅲᅲ', 2064: '겠네', 2065: '▁흐', 2066: '▁금', 2067: '▁나만', 2068: '암', 2069: '▁귀여운', 2070: '면서도', 2071: '▁어찌', 2072: '▁처', 2073: '▁몰', 2074: '▁부분이', 2075: '--', 2076: '방송', 2077: '▁깊이', 2078: '▁아들', 2079: '받', 2080: '▁성공', 2081: '▁재밌었어요', 2082: '▁남주', 2083: '▁모르', 2084: '~^^', 2085: '▁생각한다', 2086: '▁영화중에', 2087: '▁이리', 2088: '▁짜증나', 2089: '됐', 2090: '▁신선', 2091: '빨', 2092: '없어', 2093: '▁....', 2094: '▁삶을', 2095: 'ᄏᄏᄏᄏᄏᄏᄏᄏᄏᄏᄏᄏᄏᄏᄏᄏ', 2096: '▁권', 2097: '하는게', 2098: '▁내인생', 2099: '▁카메라', 2100: '▁마치', 2101: '놀', 2102: '%', 2103: '▁어이없', 2104: '▁진실', 2105: '▁상상력', 2106: '거임', 2107: ';;;;', 2108: '▁살인', 2109: '▁찍', 2110: '▁드', 2111: '▁자신의', 2112: '고싶다', 2113: '▁왜이렇게', 2114: '*', 2115: '작가', 2116: '특히', 2117: '뻐', 2118: '▁자신', 2119: '이제', 2120: '▁그런데', 2121: '▁이야기가', 2122: '▁관람', 2123: '취', 2124: '▁황', 2125: '▁떠나', 2126: '▁분명', 2127: '▁좋았음', 2128: '▁액션이', 2129: '▁시간낭비', 2130: '▁않음', 2131: '버렸다', 2132: '놓', 2133: '▁범죄', 2134: '버리', 2135: '였습니다', 2136: '▁하는데', 2137: '▁겁나', 2138: '최악', 2139: '와서', 2140: '▁그녀', 2141: '낮', 2142: '▁교', 2143: '▁매력적인', 2144: '▁같습니다', 2145: '▁이젠', 2146: '항', 2147: '▁나에게', 2148: '했으면', 2149: '스런', 2150: '▁다소', 2151: '최', 2152: '▁마음을', 2153: '거같다', 2154: '려는', 2155: '▁함', 2156: '▁수준이', 2157: '▁그림', 2158: '쪽', 2159: '지고', 2160: '▁느껴지는', 2161: '▁촬영', 2162: '▁담', 2163: '클', 2164: '▁일상', 2165: '▁못하고', 2166: '소재', 2167: '이렇게', 2168: '앙', 2169: '20', 2170: '▁확실히', 2171: '▁불편', 2172: '▁해주는', 2173: '던가', 2174: '▁범인', 2175: '▁소재는', 2176: '으면서', 2177: '▁용', 2178: '▁지금봐도', 2179: '▁후반', 2180: '▁잼있', 2181: '들아', 2182: '되지', 2183: '▁자연', 2184: '일뿐', 2185: '▁황당', 2186: '▁해준', 2187: '▁답', 2188: '▁좋았는데', 2189: '야지', 2190: 'T', 2191: '▁있었던', 2192: '▁눈을', 2193: '보이', 2194: '▁군대', 2195: '춘', 2196: '▁트', 2197: '▁여자가', 2198: '▁느껴', 2199: '▁이영화가', 2200: '▁여자들', 2201: '▁눈이', 2202: '▁사이', 2203: '던지', 2204: '▁리메이크', 2205: '려서', 2206: '▁보이는', 2207: '시키', 2208: '놈들', 2209: '▁드라마를', 2210: '▁독', 2211: '▁기분이', 2212: '령', 2213: '든다', 2214: '예요', 2215: '▁잘봤습니다', 2216: '보세요', 2217: '▁스케일', 2218: '최고의', 2219: '▁낭비', 2220: '▁따', 2221: '▁유쾌한', 2222: '▁이런게', 2223: '▁훨', 2224: '갔', 2225: '▁싫', 2226: '▁감탄', 2227: '▁어색한', 2228: '찌', 2229: '▁아놔', 2230: '엄', 2231: '▁입니다', 2232: 'A', 2233: '▁한편', 2234: '=', 2235: '▁감사합니다', 2236: '몰', 2237: '엉', 2238: '▁한계', 2239: '▁고민', 2240: '했는지', 2241: '코미디', 2242: '▁단순', 2243: '▁슬프', 2244: '▁든다', 2245: '북', 2246: '감이', 2247: '했어', 2248: '▁세상에', 2249: '릭', 2250: '▁역대', 2251: '시절', 2252: '닥', 2253: '▁벌', 2254: '▁아니면', 2255: '때마다', 2256: '▁상영', 2257: '그런', 2258: '▁프로그램', 2259: '▁초반에', 2260: '▁저예산', 2261: '▁슬프다', 2262: '▁아름답고', 2263: '▁현실성', 2264: '▁보지마세요', 2265: '▁나를', 2266: '▁독립영화', 2267: '▁전편', 2268: '▁동화', 2269: '▁어이없는', 2270: '▁드는', 2271: '짝', 2272: '▁여전히', 2273: '▁아닌데', 2274: '▁OST', 2275: '▁처음이다', 2276: '▁좋아하', 2277: '(?)', 2278: '걸로', 2279: '시간이', 2280: '것은', 2281: '▁각', 2282: '▁-_-', 2283: '▁독특한', 2284: '▁나가', 2285: '▁감동적이고', 2286: '▁아름답다', 2287: '▁메세지', 2288: '▁대충', 2289: '▁예쁜', 2290: '영화중', 2291: '▁하게', 2292: '멋', 2293: '▁스토리와', 2294: '▁씨', 2295: '▁됐', 2296: '응', 2297: '▁않아', 2298: '▁근', 2299: '팔', 2300: 'C', 2301: '에서는', 2302: '씩', 2303: '▁싶어', 2304: '줌', 2305: '만화', 2306: '▁애들이', 2307: '더만', 2308: '잉', 2309: '그러', 2310: '▁리얼', 2311: '드라', 2312: '▁사람을', 2313: '▁내용을', 2314: '봤음', 2315: '▁젤', 2316: '▁cg', 2317: '▁소재를', 2318: '▁매력이', 2319: '는건지', 2320: '▁나오고', 2321: '번째', 2322: '▁좋았', 2323: '▁심리', 2324: '한듯', 2325: '▁같음', 2326: '▁15', 2327: '▁ᄉᄇ', 2328: '▁받아', 2329: 'B', 2330: '르는', 2331: '▁얼', 2332: '니깐', 2333: '▁중간중간', 2334: '▁굳', 2335: '▁그들의', 2336: '주고', 2337: '쇼', 2338: '있어', 2339: '▁끌', 2340: '나온', 2341: '▁종교', 2342: '▁믿', 2343: '▁굳이', 2344: '됬', 2345: '감독이', 2346: '▁제작진', 2347: '욱', 2348: '▁ᄏᄏᄏᄏᄏ', 2349: '마저', 2350: '▁리뷰', 2351: '▁법', 2352: '로서', 2353: '000', 2354: 'ᄀ', 2355: '▁아저씨', 2356: '▁떨어지는', 2357: '▁돌려', 2358: '하라', 2359: '충', 2360: '▁스토리를', 2361: '유치', 2362: '▁표', 2363: '흐', 2364: '시킨', 2365: '▁민', 2366: '준다', 2367: 'ᄂ', 2368: '▁어이가', 2369: '이며', 2370: '▁홍', 2371: '▁사극', 2372: '▁찍은', 2373: '▁분들', 2374: '▁끝나고', 2375: '▁딴', 2376: '▁우울', 2377: '었으면', 2378: '람', 2379: '▁보고싶다', 2380: '▁마라', 2381: '▁현대', 2382: '▁용서', 2383: '▁신선한', 2384: '념', 2385: '▁했지만', 2386: 'w', 2387: '▁몰입감', 2388: '총', 2389: '▁드라마가', 2390: '▁이유가', 2391: 'ᄒᄒᄒ', 2392: '▁안나오', 2393: '▁호러', 2394: 'er', 2395: '▁꼴', 2396: '▁웃겨', 2397: '할듯', 2398: '▁연기력이', 2399: '내요', 2400: '프로', 2401: '▁임', 2402: '▁글쎄', 2403: '▁과연', 2404: '돼', 2405: '해주는', 2406: '▁괴물', 2407: '▁중간', 2408: '▁그의', 2409: '▁A', 2410: '까진', 2411: '▁나서', 2412: '▁짜증나는', 2413: '뿌', 2414: '쓴', 2415: '동안', 2416: '묘', 2417: '▁통해', 2418: '▁뒷', 2419: 'or', 2420: '▁싫다', 2421: '혼', 2422: '▁순수한', 2423: '깨', 2424: '▁평범한', 2425: '▁사는', 2426: '으론', 2427: '많은', 2428: '만들어', 2429: '▁팔', 2430: '▁니', 2431: '▁시선', 2432: '인생', 2433: '▁기본', 2434: '▁표정', 2435: '▁빛', 2436: '홀', 2437: '쿠', 2438: '▁슬픔', 2439: '▁역시나', 2440: '▁무섭', 2441: '▁어릴적', 2442: '것을', 2443: '▁답답', 2444: '하다니', 2445: '▁기대를', 2446: '▁볼거리', 2447: '▁연애', 2448: '▁살짝', 2449: '▁사랑하는', 2450: '▁남는다', 2451: '▁유쾌', 2452: '▁능력', 2453: '재미없다', 2454: '▁영화이다', 2455: 'ᄍᄍ', 2456: '텐데', 2457: '뒤', 2458: '▁중요한', 2459: '▁흘러', 2460: '하시', 2461: '골', 2462: '▁ᅮ', 2463: '▁등장', 2464: '시키는', 2465: '거라', 2466: '탕', 2467: '▁그런가', 2468: '▁있다면', 2469: '픈', 2470: '▁식', 2471: '▁재미를', 2472: '▁만드', 2473: 'ᄃ', 2474: '▁평생', 2475: '▁가진', 2476: '▁예전', 2477: '▁아깝', 2478: '▁판', 2479: '만으로', 2480: '킬', 2481: '하는지', 2482: '랬', 2483: '▁행', 2484: '▁<', 2485: '▁소름', 2486: '▁여러', 2487: '▁역할', 2488: '죄', 2489: '하려는', 2490: '▁맨', 2491: '끌', 2492: '▁춤', 2493: '▁찍어', 2494: '드리', 2495: '▁고전', 2496: '▁시원', 2497: '나올', 2498: '▁재밌었', 2499: '▁가서', 2500: '▁좋을', 2501: '▁섹시', 2502: '오빠', 2503: '지않은', 2504: '뜻', 2505: '▁분노', 2506: '둘', 2507: '▁포장', 2508: '애들', 2509: '▁나중에', 2510: '▁친', 2511: '▁생각합니다', 2512: '▁아오', 2513: '▁전에', 2514: '▁볼때마다', 2515: '폰', 2516: '▁밑에', 2517: '었지만', 2518: '▁다르', 2519: '쳤', 2520: '▁보았', 2521: '▁참신', 2522: '▁죄', 2523: '에서도', 2524: '▁연기에', 2525: '▁긴', 2526: 'ᄅ', 2527: '▁저렇게', 2528: '킨', 2529: '▁멋있', 2530: '▁보는게', 2531: '▁라는', 2532: '▁바라', 2533: '▁봤었는데', 2534: '▁귀엽고', 2535: '▁안되고', 2536: '▁티비에서', 2537: '껄', 2538: '▁액션은', 2539: '나고', 2540: '딸', 2541: '내는', 2542: '지마라', 2543: '▁보기엔', 2544: '기엔', 2545: '▁정치', 2546: '▁만들어진', 2547: '낼', 2548: '▁했던', 2549: '세계', 2550: '급영화', 2551: '▁짠', 2552: '▁주인공의', 2553: '친구', 2554: '시고', 2555: '▁낫', 2556: '자들', 2557: '한건', 2558: '▁무지', 2559: '머리', 2560: '▁나왔으면', 2561: '▁아는', 2562: '▁개인', 2563: '없네', 2564: '▁그럭저럭', 2565: '▁공감이', 2566: '▁소녀', 2567: '제목', 2568: '센', 2569: '▁재밌었는데', 2570: '▁설레', 2571: '▁메시지', 2572: '▁키', 2573: '▁난다', 2574: '진심', 2575: '얘기', 2576: '▁어쩌', 2577: '▁칼', 2578: '▁개판', 2579: '수도', 2580: '▁별로다', 2581: '▁S', 2582: '▁필', 2583: '▁누', 2584: '▁없지만', 2585: '▁의심', 2586: '▁ᄃᄃ', 2587: '▁죽어', 2588: '▁다행', 2589: 'N', 2590: '시는', 2591: '▁짱짱', 2592: '▁캐', 2593: '쏘', 2594: '▁압권', 2595: '▁표절', 2596: '▁먼', 2597: '였어요', 2598: '▁고생', 2599: '▁추천합니다', 2600: '▁벗', 2601: '있음', 2602: '봐요', 2603: '▁안됨', 2604: '▁잼있게', 2605: '▁자막', 2606: '하려고', 2607: '껏', 2608: '순간', 2609: '▁접', 2610: '아주', 2611: '되서', 2612: '다른', 2613: '농', 2614: '▁관심', 2615: '났다', 2616: '▁가끔', 2617: '▁폭력', 2618: '대사', 2619: '▁빈', 2620: '▁알바들', 2621: '▁우정', 2622: '▁폭', 2623: '▁봤다가', 2624: '▁클', 2625: '▁음악이', 2626: '▁진심으로', 2627: '말고', 2628: '꼽', 2629: '알바', 2630: '▁무섭다', 2631: '온다', 2632: '힐', 2633: 'j', 2634: '끄', 2635: '▁연기와', 2636: '▁흐름', 2637: '가지고', 2638: '댄', 2639: '▁힐링', 2640: '▁긴장', 2641: '▁볼수록', 2642: '왔', 2643: '폭', 2644: '▁되었다', 2645: '씨가', 2646: '▁재밌습니다', 2647: '▁킬링타임', 2648: '엽', 2649: '잼있', 2650: '▁몰입이', 2651: '것만', 2652: '▁보시길', 2653: '▁동물', 2654: '▁많다', 2655: '▁덜', 2656: '인의', 2657: '빡', 2658: '봉', 2659: '▁가볍게', 2660: '▁브', 2661: '하면서도', 2662: '먹고', 2663: '▁재밌었음', 2664: '▁말로', 2665: '한게', 2666: '▁그렇다', 2667: '표현', 2668: '▁같아', 2669: '롱', 2670: '더라구요', 2671: '▁뮤지컬', 2672: '▁몸매', 2673: '▁오버', 2674: '▁똑같', 2675: '▁꺼', 2676: '▁있지', 2677: '▁이어', 2678: '▁썩', 2679: '▁결과', 2680: '재밌다', 2681: '▁게이', 2682: '▁포기', 2683: '▁더이상', 2684: '▁지루할', 2685: '▁제목이', 2686: '▁눈빛', 2687: '▁읽', 2688: '막장', 2689: '년전에', 2690: '▁홍콩', 2691: '첨', 2692: '▁해주', 2693: '▁희망', 2694: '▁후반부', 2695: '▁열심히', 2696: '력이', 2697: '▁이건뭐', 2698: '▁인기', 2699: '▁재밋게', 2700: '▁필요없는', 2701: '▁말할', 2702: '세기', 2703: '▁헤', 2704: '▁보여', 2705: '▁아닌듯', 2706: '▁안하고', 2707: '▁영화보고', 2708: '▁불쾌', 2709: '▁희생', 2710: '▁재미있음', 2711: '▁느끼는', 2712: '재밌어요', 2713: '▁되게', 2714: '으로서', 2715: '아님', 2716: '▁만든다', 2717: 'on', 2718: '▁처음엔', 2719: '일이', 2720: '▁북한', 2721: '▁봤으면', 2722: '▁홍보', 2723: '▁이유는', 2724: '캐릭터', 2725: '▁그려', 2726: '좋았', 2727: '▁소재로', 2728: '▁사랑에', 2729: '▁풀어', 2730: 'ᄆ', 2731: '닝', 2732: '시다', 2733: '▁크게', 2734: '▁아깝지', 2735: '이유', 2736: '지마', 2737: '▁이정도면', 2738: '▁I', 2739: '럽', 2740: '▁성인', 2741: '▁인상', 2742: '▁묘사', 2743: '▁가지', 2744: '▁해피엔딩', 2745: '팅', 2746: '렉', 2747: '▁어쩔', 2748: '▁섹스', 2749: '▁슬프고', 2750: '내용이', 2751: '▁봐야할', 2752: '하셨', 2753: '.\"', 2754: '좋아요', 2755: '▁철', 2756: '▁추억의', 2757: '▁어제', 2758: '▁감동과', 2759: '▁정서', 2760: '▁남아', 2761: '▁달리', 2762: 'M', 2763: '웅', 2764: '▁디즈니', 2765: '었습니다', 2766: 'an', 2767: '▁보이', 2768: '현실', 2769: 'O', 2770: '▁네', 2771: '▁아마', 2772: '▁주인공들', 2773: '▁멋지다', 2774: '엄마', 2775: '속에서', 2776: '▁생각나는', 2777: '▁놓', 2778: '나와서', 2779: '▁동생', 2780: '▁영화지만', 2781: '▁허무', 2782: '▁+', 2783: '▁드라마는', 2784: '▁미래', 2785: '▁이연걸', 2786: '▁쉽게', 2787: '흔', 2788: '▁언제나', 2789: '왔다', 2790: '면에서', 2791: '▁문화', 2792: '▁되었', 2793: '▁뛰어난', 2794: '▁악역', 2795: '인가요', 2796: '▁그린', 2797: '▁퀄리티', 2798: '▁하루', 2799: '마음', 2800: '▁이쁘', 2801: '▁그걸', 2802: '▁좋았던', 2803: '▁만큼', 2804: '로운', 2805: '▁재미없네', 2806: '▁청', 2807: '▁있습니다', 2808: '▁다만', 2809: '▁지루해서', 2810: '했으나', 2811: '▁창', 2812: '나게', 2813: '▁멋', 2814: '영상', 2815: '▁있나', 2816: '점주는', 2817: '▁소재가', 2818: '▁몰랐', 2819: '▁젊은', 2820: '혁', 2821: '벽', 2822: 'E', 2823: '엘', 2824: '했나', 2825: '이해', 2826: '함과', 2827: '▁명작이', 2828: '에대한', 2829: '▁T', 2830: '▁돌아가', 2831: '▁들었', 2832: '명이', 2833: '있는데', 2834: '▁재밌네', 2835: '▁최근', 2836: '▁악당', 2837: '놨', 2838: '▁그것', 2839: '웃기', 2840: '▁이쁜', 2841: '▁40', 2842: '▁스타', 2843: '▁다큐멘터리', 2844: '나와', 2845: '▁여기서', 2846: '▁어른', 2847: '접', 2848: '▁운', 2849: '▁만들고', 2850: '▁못했다', 2851: '▁잊혀지지', 2852: '▁우리가', 2853: '▁시간을', 2854: '▁볼만함', 2855: '▁낚', 2856: '▁삶의', 2857: '▁연예인', 2858: '▁표현한', 2859: '▁비주얼', 2860: '▁싸구려', 2861: '빵', 2862: '한다면', 2863: '▁보고싶', 2864: '▁짓', 2865: '▁몇번을', 2866: '필요', 2867: '▁되지', 2868: '▁없나', 2869: '콜', 2870: '폐', 2871: '▁그다지', 2872: '▁좋습니다', 2873: '▁엉성한', 2874: '점준', 2875: '▁평이', 2876: '▁배우의', 2877: '▁끝나는', 2878: '연기도', 2879: '▁채널', 2880: '▁지구', 2881: '▁우주', 2882: '떠', 2883: '▁12', 2884: '높', 2885: '▁쇼', 2886: '▁생각나', 2887: '▁차이', 2888: '봤어요', 2889: '케이', 2890: '쩌', 2891: '▁검', 2892: '▁잔인하', 2893: '▁볼만하다', 2894: '옥', 2895: '▁벌써', 2896: '자체가', 2897: '▁열정', 2898: '▁갑', 2899: '로써', 2900: '봣는데', 2901: '▁높다', 2902: '했네', 2903: '▁반전도', 2904: '안에', 2905: '기분', 2906: '▁커', 2907: '▁풍', 2908: '▁보고싶은', 2909: '솔', 2910: '▁남을', 2911: '▁죄다', 2912: '▁많았', 2913: '땅', 2914: '캐', 2915: '▁핵', 2916: '▁올해', 2917: '▁거지', 2918: '사가', 2919: '▁헐리우드', 2920: '▁펑펑', 2921: '▁늘어', 2922: '▁유치함', 2923: '괜찮', 2924: '▁영화관', 2925: '자리', 2926: '공포', 2927: '▁올리', 2928: '▁뜻', 2929: '▁필요없다', 2930: '스의', 2931: '탁', 2932: '★', 2933: '▁않게', 2934: '▁;;', 2935: '▁무시', 2936: '▁발전', 2937: 'ᄃᄃ', 2938: '▁엉망', 2939: '누', 2940: '▁블', 2941: '▁음악도', 2942: '▁둘다', 2943: '중의', 2944: '▁보았다', 2945: '▁재미있네요', 2946: '였지만', 2947: 'ar', 2948: '▁특', 2949: '▁찍었', 2950: '▁죽을', 2951: '▁광고', 2952: '▁붙', 2953: '▁몰라도', 2954: '나옴', 2955: '▁사기', 2956: '넣', 2957: '▁월', 2958: '▁단순한', 2959: '▁되고', 2960: '개봉', 2961: '었고', 2962: '▁놀라', 2963: '▁페', 2964: '▁연출도', 2965: '▁끌어', 2966: '▁인간들', 2967: '늘', 2968: '밝', 2969: '▁불구하고', 2970: '▁청소년', 2971: '▁무서웠', 2972: '대는', 2973: '▁다시한번', 2974: '▁맘', 2975: '스릴러', 2976: '▁국민', 2977: '▁송', 2978: '정신', 2979: '▁좋아서', 2980: '계속', 2981: '▁채', 2982: '멘', 2983: '▁어려운', 2984: 'ᄏᄏᄏᄏᄏ', 2985: '져서', 2986: '▁루', 2987: '▁200', 2988: '편의', 2989: '무섭', 2990: '되면', 2991: '보지', 2992: '▁싶었', 2993: '봤던', 2994: '▁결', 2995: '▁쓰래기', 2996: '▁취향', 2997: '줬', 2998: '버리는', 2999: '▁어머니', 3000: '▁방금', 3001: '▁탄탄한', 3002: '내용도', 3003: '▁쓸', 3004: '▁찡', 3005: '▁남녀', 3006: '▁아쉬움', 3007: '거면', 3008: '무비', 3009: '▁인생을', 3010: '▁영화냐', 3011: '고싶은', 3012: '▁느', 3013: '▁환상', 3014: '▁옛날에', 3015: '▁결말도', 3016: '평점이', 3017: '눈물', 3018: '▁있게', 3019: '지않고', 3020: '▁넣', 3021: '▁말을', 3022: '▁시사회', 3023: '▁이제야', 3024: '홍', 3025: '▁시각', 3026: '▁아나', 3027: '▁건지', 3028: '▁식상', 3029: '▁웃기고', 3030: '착', 3031: '▁떠나서', 3032: '아까움', 3033: '▁현실적인', 3034: '줄이야', 3035: '연기가', 3036: '하려', 3037: '▁누구나', 3038: '▁말하는', 3039: '▁볼만하', 3040: '▁장면에서', 3041: '험', 3042: '▁지금은', 3043: '▁틀', 3044: '중에서', 3045: '관계', 3046: '했다는', 3047: 'ᅡ', 3048: '▁재미있었다', 3049: '▁연결', 3050: '영화라고', 3051: '▁사람의', 3052: '▁단연', 3053: '좋고', 3054: '▁c', 3055: '확', 3056: '▁\"\"\"', 3057: '.......', 3058: '▁이것', 3059: '빙', 3060: '▁시걸', 3061: '일본', 3062: '▁푹', 3063: '▁낮아서', 3064: '세상', 3065: '해주세요', 3066: '사이', 3067: ']', 3068: '▁잔인한', 3069: '▁풀', 3070: '촌', 3071: '▁아픔', 3072: '▁생애', 3073: '▁요소', 3074: '냥', 3075: '▁좋았을', 3076: '자는', 3077: '▁한국인', 3078: '▁순수', 3079: '랜', 3080: '▁좀더', 3081: '하는건', 3082: '▁로그인', 3083: '하지도', 3084: '▁캐릭터들', 3085: '▁베스트', 3086: '▁팬이', 3087: '▁괜찮았', 3088: '▁사랑과', 3089: '▁미드', 3090: '▁그럼', 3091: '▁있으면', 3092: '▁사랑스러운', 3093: '집니다', 3094: '▁탈', 3095: '▁비슷', 3096: 'I', 3097: '시작', 3098: '았던', 3099: '스터', 3100: '▁산으로', 3101: '꾸', 3102: '상을', 3103: '▁멍청한', 3104: '흑', 3105: 'ᄇ', 3106: '▁아름다움', 3107: '▁에로', 3108: '▁죽는', 3109: '▁진정', 3110: '▁고통', 3111: '사는', 3112: '▁그렇다고', 3113: '▁결말은', 3114: '기억', 3115: '사회', 3116: '짜리', 3117: '▁많아', 3118: '▁재밋다', 3119: '영화의', 3120: '▁찌', 3121: '먹는', 3122: '답답', 3123: '남는', 3124: '\"\"\"', 3125: '▁생각없이', 3126: '▁무엇을', 3127: '▁나왔다', 3128: '▁나옴', 3129: '▁유치하다', 3130: '▁점수를', 3131: '▁조폭', 3132: '▁모든게', 3133: '▁드럽게', 3134: '겁니다', 3135: '▁인생의', 3136: '▁뻔하고', 3137: '▁질리지', 3138: '하구', 3139: '스가', 3140: '▁밥', 3141: '웠다', 3142: '▁반성', 3143: '▁전문가', 3144: '▁나오지', 3145: '▁조연', 3146: '장난', 3147: '▁남편', 3148: '가슴', 3149: '택', 3150: '▁멀', 3151: '▁왜케', 3152: '▁빌려', 3153: '▁느낀', 3154: '▁마세요', 3155: '▁생생', 3156: '감을', 3157: '▁시대를', 3158: '▁제작비', 3159: '▁내려', 3160: '▁시시', 3161: '보게', 3162: '봣', 3163: '▁잭', 3164: '물이', 3165: '정이', 3166: '▁울고', 3167: '빼고', 3168: '▁견자단', 3169: '긴한데', 3170: '노래', 3171: '▁투자', 3172: '▁에휴', 3173: '▁죽이', 3174: '짜증', 3175: '▁밀', 3176: '있네', 3177: '▁느와르', 3178: '▁허세', 3179: '▁출연진', 3180: '안되', 3181: '▁인간이', 3182: '잠', 3183: '▁영화에요', 3184: '값', 3185: '하는것', 3186: '전쟁', 3187: '▁기대안하고', 3188: '▁빼', 3189: '밑', 3190: '▁묻', 3191: '▁하는지', 3192: '▁눈에', 3193: '슈', 3194: '▁달라', 3195: '한다는', 3196: '으로써', 3197: '협', 3198: '▁귀엽', 3199: '님의', 3200: '압', 3201: '~~~~~~~', 3202: '▁못한다', 3203: '▁줌', 3204: '스타일', 3205: '▁못해', 3206: '▁생각하는', 3207: '▁화가', 3208: '스럽', 3209: '원작', 3210: '학교', 3211: '끈', 3212: '들만', 3213: '▁집에서', 3214: '▁높아', 3215: '겹', 3216: '▁엉성', 3217: '기위해', 3218: '▁70', 3219: '했네요', 3220: '`', 3221: '▁스스로', 3222: '▁바뀌', 3223: '▁연속', 3224: '▁평범', 3225: '해진', 3226: '▁있어요', 3227: '▁느낌을', 3228: '▁잔잔하고', 3229: '▁이후로', 3230: '친다', 3231: '사람은', 3232: '자의', 3233: '▁하네요', 3234: '점수', 3235: '▁싶네요', 3236: '편보다', 3237: '▁피해자', 3238: '영화로', 3239: '장면이', 3240: '♥♥', 3241: '▁나오면', 3242: '▁러닝타임', 3243: '▁에피소드', 3244: '▁있네요', 3245: '버림', 3246: '같음', 3247: '리를', 3248: '▁의도', 3249: '▁넘어', 3250: '젠', 3251: '▁있어야', 3252: '▁생각하고', 3253: '▁작가가', 3254: '용으로', 3255: '지를', 3256: '▁친구들', 3257: '님들', 3258: '차라리', 3259: '▁출', 3260: '▁힘들다', 3261: '▁즐겁게', 3262: '▁명품', 3263: '▁맨날', 3264: '▁군', 3265: '▁뜨', 3266: '▁대부분', 3267: '▁않나', 3268: '▁없는데', 3269: '그렇', 3270: '럼', 3271: '편을', 3272: '그리', 3273: '▁유명', 3274: '▁망한', 3275: '계의', 3276: '▁눈물을', 3277: '갔다', 3278: '볼만', 3279: '▁부르', 3280: '르고', 3281: '냈', 3282: '례', 3283: '▁누군가', 3284: '11', 3285: '▁w', 3286: '▁하면서', 3287: '▁끝난', 3288: '우리', 3289: '떨', 3290: '째', 3291: '▁이쁘고', 3292: '려면', 3293: '▁이해할', 3294: '돌아', 3295: '겠음', 3296: '봅니다', 3297: '▁않지만', 3298: '▁의미를', 3299: '!!!!!', 3300: '좌', 3301: '지도않고', 3302: '▁민망', 3303: '▁발견', 3304: '▁반복', 3305: '▁심심', 3306: '▁발로', 3307: '▁꽝', 3308: '재밌음', 3309: '▁이거보고', 3310: '▁ᅲᅲᅲ', 3311: '구성', 3312: '컨', 3313: '▁헐리웃', 3314: '▁뭉클', 3315: '▁무언가', 3316: '▁더불어', 3317: '느라', 3318: '보는내내', 3319: '한것', 3320: '▁못할', 3321: '▁국내', 3322: '▁할말이', 3323: '▁극치', 3324: 'V', 3325: '▁딱히', 3326: '▁국', 3327: '▁시트콤', 3328: '겠어요', 3329: '버리고', 3330: '▁보니까', 3331: '▁학교', 3332: '하신', 3333: '▁good', 3334: '지말고', 3335: '보자', 3336: '혈', 3337: '칙', 3338: '▁더러운', 3339: '▁흔한', 3340: '▁정말로', 3341: '▁f', 3342: '이라서', 3343: '만드는', 3344: '▁신선하고', 3345: '▁잔', 3346: '▁코난', 3347: '나온다', 3348: '▁기다리', 3349: '▁남겨', 3350: '▁옛', 3351: '한다고', 3352: '워서', 3353: '만이', 3354: '▁아이돌', 3355: '▁김기덕', 3356: '엿', 3357: '▁쫌', 3358: '........', 3359: '딩', 3360: '99', 3361: '설정', 3362: '인것', 3363: '▁어처구니', 3364: '▁외계인', 3365: '▁쵝오', 3366: '놔', 3367: '▁볼게', 3368: '▁주변', 3369: '▁영국', 3370: '▁개연성이', 3371: '▁울었다', 3372: '왔는데', 3373: '▁알수', 3374: '▁끝이', 3375: '봤지만', 3376: '▁직', 3377: '대가', 3378: '▁빼고', 3379: '▁봣는데', 3380: '▁관객들', 3381: '껴', 3382: '▁하나하나', 3383: '▁경험', 3384: '▁한참', 3385: '▁안돼', 3386: '▁돋', 3387: '▁지켜', 3388: 'ᅲᅮ', 3389: '▁양심', 3390: '▁야한', 3391: '▁무척', 3392: '▁어렸을', 3393: '았습니다', 3394: '짜증나', 3395: '제발', 3396: '▁보러', 3397: '▁단지', 3398: '지가', 3399: '▁예쁘', 3400: '▁안타깝다', 3401: '▁본다면', 3402: '▁작은', 3403: '자체', 3404: '▁덕분에', 3405: '틈', 3406: 'K', 3407: '▁의외로', 3408: '▁갈등', 3409: '해야지', 3410: '▁전체', 3411: '▁긴장감도', 3412: '▁아쉽네요', 3413: '▁한데', 3414: '형님', 3415: '▁어렵', 3416: '▁기대했는데', 3417: '▁착한', 3418: '▁희', 3419: '▁대화', 3420: '▁a', 3421: '▁들어가', 3422: '▁그럴', 3423: '▁어린이', 3424: '▁공부', 3425: '▁무비', 3426: '▁영어', 3427: '▁18', 3428: '벨', 3429: '검', 3430: '없어서', 3431: '젤', 3432: '▁다룬', 3433: '▁최강', 3434: '▁적당', 3435: '들고', 3436: '▁지루하게', 3437: '▁그렇', 3438: '▁몰입해서', 3439: '내고', 3440: '아니다', 3441: '▁우와', 3442: '▁비극', 3443: '▁싸이코', 3444: '만들었', 3445: '했을까', 3446: '▁부모', 3447: '▁웃음이', 3448: '▁이런영화가', 3449: '떄', 3450: '렁', 3451: '▁기독교', 3452: '▁007', 3453: '줘야', 3454: 'ing', 3455: '▁한심', 3456: 'G', 3457: '밥', 3458: '▁이미지', 3459: '▁찌질', 3460: '▁영화였어요', 3461: '만의', 3462: '▁왠', 3463: '▁의리', 3464: '▁외모', 3465: '▁히', 3466: '▁혼', 3467: '▁배우들도', 3468: '따라', 3469: '더라도', 3470: '▁쩐다', 3471: '▁동안', 3472: '▁작품이다', 3473: '율', 3474: '▁합', 3475: '▁속에', 3476: '▁살고', 3477: '▁모르겠', 3478: '▁위대한', 3479: '▁the', 3480: '▁직접', 3481: '▁마이클', 3482: '▁바꿔', 3483: '▁안보고', 3484: '▁같아서', 3485: '▁노답', 3486: '▁멍청', 3487: '쩔', 3488: '▁시도', 3489: '▁안타깝', 3490: '▁조합', 3491: '▁보인다', 3492: '씬은', 3493: '있나', 3494: '영화에', 3495: 're', 3496: '▁끼', 3497: '적은', 3498: '▁남자가', 3499: '있었', 3500: '▁충', 3501: '▁모르겠고', 3502: '▁잊지', 3503: '몬', 3504: '▁대사가', 3505: '곳', 3506: '찾', 3507: '▁이해하기', 3508: '몽', 3509: '▁빠', 3510: '▁사랑이야기', 3511: '▁게다가', 3512: '▁받았', 3513: '▁음악과', 3514: '▁떨어지', 3515: '끝까지', 3516: '와는', 3517: '▁이기', 3518: '하시는', 3519: '▁샤', 3520: '▁과정', 3521: '룡', 3522: '해준', 3523: '생겼', 3524: '▁미모', 3525: 'in', 3526: '▁어휴', 3527: '▁50', 3528: '쥐', 3529: '보시', 3530: '씨의', 3531: '머니', 3532: '이었음', 3533: '받는', 3534: '▁불쌍', 3535: '끝나', 3536: '▁사랑은', 3537: '평가', 3538: '이런영화', 3539: '뻔한', 3540: '▁환', 3541: '언니', 3542: '▁자식', 3543: '끼리', 3544: '▁좋아할', 3545: '톱', 3546: '▁짝퉁', 3547: '지않는', 3548: '시간에', 3549: '받고', 3550: '▁재밌을', 3551: '시즌', 3552: '▁빼고는', 3553: '▁영화인듯', 3554: '▁사랑의', 3555: '이니', 3556: '▁인상적이', 3557: '새끼', 3558: '하지마라', 3559: '?!', 3560: '층', 3561: '▁마이너스', 3562: '으려', 3563: '▁죽은', 3564: '님이', 3565: 'ᅲᅲᅲᅲ', 3566: '나왔', 3567: '였고', 3568: '▁케', 3569: '▁박수를', 3570: '▁m', 3571: '▁수도', 3572: '식이', 3573: '▁보길', 3574: '신분들', 3575: '▁진지', 3576: 'OOO', 3577: '릿', 3578: 'ᅵ', 3579: '▁흥미로운', 3580: '▁전투', 3581: '▁방법', 3582: '▁말하고', 3583: '▁십', 3584: '영화임', 3585: '문화', 3586: '할까', 3587: '▁학교에서', 3588: '▁오랜만', 3589: '▁꾸', 3590: '▁아줌마', 3591: '그래', 3592: '▁봤더니', 3593: '▁최고입니다', 3594: '배경', 3595: '▁자살', 3596: '▁먹고', 3597: '▁즐기', 3598: '▁이쁘다', 3599: '억지', 3600: '▁넘치는', 3601: '▁뭐라', 3602: '▁좋지만', 3603: '▁더럽', 3604: '▁실제로', 3605: '엠', 3606: '▁초등학생', 3607: '▁카리스마', 3608: '▁레전드', 3609: '▁전기세', 3610: '다는게', 3611: '▁진리', 3612: '▁달달', 3613: '▁아프', 3614: '까지는', 3615: '▁보내', 3616: '똑', 3617: '▁낳', 3618: '몰입', 3619: '▁유쾌하고', 3620: '깝', 3621: '▁부족하다', 3622: '아쉽', 3623: '▁멋있다', 3624: '▁슬', 3625: '▁아침', 3626: '▁쥐', 3627: '문제', 3628: '▁행복한', 3629: '▁받을', 3630: '명의', 3631: '▁빨', 3632: '셈', 3633: '간의', 3634: '▁즐거운', 3635: '▁올라', 3636: '▁그렇지', 3637: '연기력', 3638: '▁재미있었어요', 3639: '▁남자의', 3640: '▁[', 3641: '요즘', 3642: '스러움', 3643: '겠네요', 3644: '샤', 3645: '▁올려', 3646: '잡고', 3647: '배우들의', 3648: '▁작품을', 3649: '▁한마디', 3650: '▁여행', 3651: '▁비판', 3652: '▁오바', 3653: '텔', 3654: '컷', 3655: '▁암튼', 3656: '▁주성치', 3657: '▁로봇', 3658: '▁이하', 3659: '▁개성', 3660: '▁쓰레기같은', 3661: '▁따뜻해지는', 3662: '▁미안', 3663: '하기엔', 3664: '인들', 3665: '▁죽여', 3666: '쉽', 3667: '▁없다는', 3668: '▁중에서', 3669: '이였다', 3670: '▁필요한', 3671: '▁완전히', 3672: '그래서', 3673: '▁실패', 3674: '는듯', 3675: '▁왠만하면', 3676: '▁속에서', 3677: '헤', 3678: '엔딩', 3679: '▁주말', 3680: '싶다', 3681: '미치', 3682: '넹', 3683: '퀴', 3684: '▁고양이', 3685: '▁나쁘지', 3686: '▁한번쯤', 3687: '▁모르겠지만', 3688: '▁감동적', 3689: '▁기술', 3690: '이자', 3691: '▁웃김', 3692: '▁좋았지만', 3693: '▁없었던', 3694: '▁뒤로', 3695: '이즈', 3696: '▁들었다', 3697: '꼴', 3698: '슬프', 3699: '지지', 3700: '▁재미없어요', 3701: '▁좋아하는데', 3702: '한국', 3703: '▁감정을', 3704: '자나', 3705: '신이', 3706: '▁뛰어', 3707: '▁침', 3708: '▁가능', 3709: '칭', 3710: '▁좋았으나', 3711: '▁느껴진다', 3712: '냈다', 3713: '부작', 3714: '▁슈퍼', 3715: '하다가', 3716: '▁미소', 3717: '맥', 3718: '▁보자', 3719: '아깝', 3720: '▁지루했다', 3721: '상황', 3722: '▁않을까', 3723: '있어서', 3724: '수있는', 3725: '힘', 3726: '▁잊', 3727: '콘', 3728: '▁살려', 3729: '둔', 3730: '핑', 3731: '▁보고나면', 3732: '▁연기자들', 3733: '▁용기', 3734: '▁놈', 3735: '해진다', 3736: '축', 3737: '▁좋게', 3738: '▁논', 3739: '요소', 3740: '▁시청자', 3741: '▁반개도', 3742: '좋아하는', 3743: '▁본인', 3744: '당한', 3745: '▁제로', 3746: '▁보며', 3747: '▁손발이', 3748: '▁씬', 3749: '//', 3750: '▁당신', 3751: '▁똑같은', 3752: '만큼은', 3753: '▁역대급', 3754: '▁언', 3755: '▁많고', 3756: '▁굿굿', 3757: '▁보여준다', 3758: '쳤다', 3759: '▁어릴', 3760: '년만에', 3761: '▁힘이', 3762: '공감', 3763: '아요', 3764: '할수있', 3765: '▁남기', 3766: '어라', 3767: '감독의', 3768: '스러워', 3769: '▁관한', 3770: '▁포르노', 3771: '▁크리스마스', 3772: '나가는', 3773: '▁영혼', 3774: '▁일어나', 3775: '▁쓰레기다', 3776: '▁재밌다고', 3777: '▁봤을때', 3778: '▁짜증난다', 3779: '▁원작의', 3780: '▁찬', 3781: '▁야동', 3782: '감독님', 3783: '켜', 3784: '0%', 3785: '▁무협', 3786: '▁이유를', 3787: '▁확실', 3788: '▁와우', 3789: '을수', 3790: 'ᄌ', 3791: '▁완', 3792: '▁아이가', 3793: '▁교육', 3794: '▁홍콩영화', 3795: '▁무서워', 3796: '뭔가', 3797: '▁빠진', 3798: '▁느꼈', 3799: '내내', 3800: '▁좋아해서', 3801: '쁘', 3802: '모든', 3803: '칸', 3804: '▁잠깐', 3805: '▁개뿔', 3806: '▁레알', 3807: '▁시청', 3808: '▁할머니', 3809: '▁좋겠어요', 3810: '▁썼', 3811: '▁일품', 3812: '▁중반', 3813: '▁밤', 3814: '▁악마', 3815: '▁연기력도', 3816: '매력', 3817: '하던데', 3818: '하겠', 3819: '▁필름', 3820: '▁커플', 3821: '▁있던', 3822: '▁주기', 3823: '▁따로', 3824: '▁없지', 3825: '▁이제서야', 3826: '▁한명', 3827: '동생', 3828: '상태', 3829: '▁대해서', 3830: '▁블랙', 3831: '만드', 3832: '특', 3833: '▁엄', 3834: '▁할까', 3835: '떡', 3836: '겟다', 3837: '▁케이블', 3838: '▁얼마', 3839: '▁하는거', 3840: '으니까', 3841: '생활', 3842: '▁대중', 3843: '▁부터', 3844: '아무', 3845: '▁보지마', 3846: '▁간다', 3847: '튀', 3848: '기로', 3849: '▁지나치게', 3850: '▁미스', 3851: '하기도', 3852: '▁어린시절', 3853: '흘', 3854: '▁풍경', 3855: '▁우리의', 3856: 'it', 3857: '따위', 3858: '!!!!!!!!!', 3859: '것같', 3860: '▁알려', 3861: '얻', 3862: '▁이럴', 3863: '멍', 3864: '▁보긴', 3865: '▁둘이', 3866: '겠습니다', 3867: '▁느낄수', 3868: '새끼들', 3869: '▁모를', 3870: '▁됨', 3871: '▁시리즈중', 3872: '▁긴장감이', 3873: '▁무섭지도', 3874: '되네요', 3875: '▁소름이', 3876: '▁해석', 3877: '잃', 3878: '점정도', 3879: '하기만', 3880: '▁보여줬', 3881: '이걸', 3882: '▁11', 3883: '▁재미와', 3884: '▁있었지만', 3885: '빛', 3886: '▁13', 3887: '얼굴', 3888: '더라면', 3889: '▁모르게', 3890: '▁웃기지도', 3891: '▁끊', 3892: '올리', 3893: '▁평점보고', 3894: '롤', 3895: '속의', 3896: '인건', 3897: '▁이용', 3898: '▁옷', 3899: '▁유명한', 3900: '▁이때', 3901: '▁자주', 3902: '버릴', 3903: '수없는', 3904: '까요', 3905: '▁잊을', 3906: '▁안맞', 3907: '도아니고', 3908: '밤', 3909: '큰', 3910: '보이는', 3911: '하고싶은', 3912: '나오고', 3913: '▁받는', 3914: '▁설마', 3915: '▁울었', 3916: '였어', 3917: '럭', 3918: '▁겨우', 3919: '▁가득', 3920: '럴', 3921: '▁답답한', 3922: '줘서', 3923: '쟁이', 3924: '안되는', 3925: '사람들이', 3926: '▁:', 3927: '▁인해', 3928: '어떻게', 3929: '푸', 3930: 'F', 3931: '▁봣', 3932: '▁갔', 3933: '▁볼수있', 3934: '웨', 3935: '▁영화들', 3936: '▁본영화', 3937: '옹', 3938: '▁영화보는', 3939: '되었', 3940: '▁개막장', 3941: '▁사람들의', 3942: '마지막에', 3943: '▁ᄋ', 3944: '▁없어요', 3945: '는것도', 3946: '▁기자', 3947: '▁내면', 3948: '사건', 3949: '누나', 3950: '닌', 3951: '야할', 3952: '▁안나', 3953: '영화라', 3954: '했다고', 3955: '▁망치', 3956: '▁어른들', 3957: '자를', 3958: '▁꿈을', 3959: '더빙', 3960: '▁괜찮다', 3961: '▁형님', 3962: '▁개봉한', 3963: '▁도전', 3964: '▁꽃', 3965: '▁소름돋', 3966: '▁우리는', 3967: '▁매력적이', 3968: '▁몇몇', 3969: '▁떨어진다', 3970: '▁바꾸', 3971: '즘', 3972: '▁철학', 3973: '편도', 3974: '▁가슴에', 3975: '부족', 3976: '라스', 3977: '▁색감', 3978: '▁감히', 3979: '▁아픈', 3980: '▁멍', 3981: '▁졸리', 3982: '었어', 3983: '있냐', 3984: '▁잼있다', 3985: '▁재미잇', 3986: '꿀잼', 3987: '▁왜이래', 3988: '깔', 3989: '▁D', 3990: '▁이래', 3991: '했었는데', 3992: '덤', 3993: '읽', 3994: '널', 3995: '분은', 3996: '쌍', 3997: '로만', 3998: '때부터', 3999: '헌', 4000: '초반', 4001: '붕', 4002: '깍', 4003: '▁디테일', 4004: '▁스트레스', 4005: '시길', 4006: '모두', 4007: '▁애기', 4008: '▁삶에', 4009: '점줌', 4010: '▁ᄋᄋ', 4011: '점이다', 4012: '▁이런영화를', 4013: '▁욕망', 4014: '빨리', 4015: '▁보통', 4016: '▁전쟁영화', 4017: '00', 4018: '트리', 4019: '▁작품은', 4020: '스럽고', 4021: '▁자신이', 4022: '▁색', 4023: '쓸', 4024: '▁할수', 4025: '▁빠져들', 4026: '▁정의', 4027: '▁색다른', 4028: '▁흑인', 4029: '▁짝이', 4030: '▁d', 4031: '▁강력', 4032: '▁가치가', 4033: '▁재미없게', 4034: '사람들은', 4035: '출연', 4036: '것같아요', 4037: '▁진부하고', 4038: '년도에', 4039: '짧', 4040: '았음', 4041: '▁대본', 4042: '기까지', 4043: '▁줬', 4044: '살아', 4045: '논', 4046: '굴', 4047: '▁기다려', 4048: '▁잇', 4049: '▁선생님', 4050: '▁알겠는데', 4051: '▁높게', 4052: '▁에이', 4053: '▁아예', 4054: '▁보기에', 4055: '▁없습니다', 4056: '▁믿을', 4057: '▁관점', 4058: '▁답답하고', 4059: '겁', 4060: '▁보여주고', 4061: '았는데', 4062: '렇', 4063: '스럽게', 4064: '주고싶', 4065: '치곤', 4066: '붙', 4067: '주면', 4068: '맹', 4069: '▁이것이', 4070: '~!!!', 4071: '▁점수가', 4072: '▁지루하기', 4073: '▁퇴', 4074: '▁원작이', 4075: '▁아까울', 4076: '▁실력', 4077: '거같아요', 4078: '▁있는지', 4079: '▁하늘', 4080: '▁화려하', 4081: '▁성격', 4082: '야한다', 4083: '▁웃기다', 4084: '▁싶은데', 4085: '▁라고', 4086: '기에는', 4087: '▁그녀의', 4088: '▁편견', 4089: '▁형사', 4090: '본영화', 4091: '▁앞으로도', 4092: '▁개연성도', 4093: '▁불러', 4094: '하기에', 4095: '▁위해서', 4096: '▁시간가는줄', 4097: '▁장르가', 4098: '▁뿐이다', 4099: '▁헛', 4100: '▁훈훈한', 4101: '▁탑', 4102: '봤네요', 4103: '똥', 4104: '▁현실이', 4105: '잇는', 4106: '▁훌륭하다', 4107: '▁생각하면', 4108: '거같은데', 4109: '윌', 4110: '▁안타까운', 4111: '▁DVD', 4112: '▁감흥', 4113: '▁퍼', 4114: '▁그거', 4115: '▁갖', 4116: '▁변태', 4117: '하길', 4118: '▁방영', 4119: '▁모르겠음', 4120: '대단', 4121: '▁있구나', 4122: '▁생각함', 4123: '거리는', 4124: '장애', 4125: '▁말도안되는', 4126: '▁최대', 4127: '▁동성애', 4128: '▁빌', 4129: '▁감안', 4130: '받아', 4131: '▁캐릭터가', 4132: '공포영화', 4133: '하겠다', 4134: '▁심하게', 4135: '☆', 4136: '▁야구', 4137: '셀', 4138: '닉', 4139: '보내', 4140: '납니다', 4141: '▁말아먹', 4142: '꽃', 4143: '▁촌스럽', 4144: '▁괜찮은데', 4145: '▁거짓말', 4146: '▁전설의', 4147: '도안', 4148: '엇다', 4149: '▁운명', 4150: '받아서', 4151: '▁싶지', 4152: '▁당시에', 4153: '임에도', 4154: '▁낚시', 4155: '▁조작', 4156: '보니까', 4157: '▁못함', 4158: '▁비하면', 4159: '▁자극', 4160: '▁대단하', 4161: '▁한심한', 4162: '지게', 4163: '▁녹', 4164: '었을', 4165: 'L', 4166: '.........', 4167: '▁깨닫게', 4168: '▁해결', 4169: '편에', 4170: '▁통쾌', 4171: '▁외국', 4172: '▁쩝', 4173: '어디', 4174: '▁웃고', 4175: '▁연출과', 4176: '줬다', 4177: '▁작가님', 4178: '▁효과', 4179: '▁척', 4180: '▁조잡', 4181: '▁조화', 4182: '되나', 4183: '▁예쁘고', 4184: '▁죽는줄', 4185: '뽀', 4186: '삐', 4187: '▁깜짝', 4188: '▁여러가지', 4189: '▁충실', 4190: '▁여름', 4191: '▁맹', 4192: '듯이', 4193: '건가요', 4194: '감정', 4195: '티비', 4196: '▁막장드라마', 4197: '▁낙', 4198: '▁못하다', 4199: '▁남자들', 4200: '▁한국영화는', 4201: '▁맞아', 4202: '섭', 4203: '▁답이', 4204: '▁어쩔수', 4205: '▁탐', 4206: '▁돼', 4207: '▁문제가', 4208: '베리', 4209: '뽕', 4210: '묵', 4211: '핀', 4212: '▁스크린', 4213: '▁소중한', 4214: '▁영원히', 4215: '빌', 4216: '▁무엇인지', 4217: '▁낮아', 4218: '▁남자주인공', 4219: '어린', 4220: '▁잼나', 4221: '▁비밀', 4222: '턴', 4223: '▁만들면', 4224: '▁신경', 4225: '▁잼없', 4226: '몇', 4227: '▁살면서', 4228: '▁충격적', 4229: '▁정도의', 4230: '▁멋지', 4231: '▁추억이', 4232: '▁톰', 4233: '그만', 4234: '▁보려고', 4235: '▁그건', 4236: '가요', 4237: '적이다', 4238: '▁21', 4239: '▁자신을', 4240: '▁사진', 4241: '▁까지', 4242: '▁낮게', 4243: '개도', 4244: '▁아쉬웠', 4245: '인물', 4246: '▁않네요', 4247: '컬', 4248: '뚱', 4249: '30', 4250: '이어', 4251: '▁빵점', 4252: '좋음', 4253: '흥', 4254: '▁최초', 4255: '▁세상을', 4256: '▁빠지', 4257: '딴', 4258: '▁하나같이', 4259: '▁볼때', 4260: '관람', 4261: '▁갖고', 4262: '▁폴', 4263: '사를', 4264: '안됨', 4265: 'st', 4266: '식으로', 4267: '제작', 4268: '절대', 4269: '▁결론', 4270: '옴', 4271: '▁북', 4272: '▁몇년', 4273: '점주', 4274: '▁명작입니다', 4275: '▁하나의', 4276: '▁있으', 4277: '▁중요', 4278: '렷', 4279: '▁울컥', 4280: '▁집에', 4281: '▁생각할', 4282: '낚', 4283: '▁나머지', 4284: '...........', 4285: '덜', 4286: '▁단편', 4287: '▁보았습니다', 4288: '고싶어', 4289: '▁방식', 4290: '▁테러', 4291: '같고', 4292: '혹은', 4293: '오늘', 4294: '▁잘하고', 4295: '▁치고', 4296: '▁추리', 4297: '▁비디오로', 4298: '▁생각나서', 4299: '뭐야', 4300: '어진', 4301: '▁있었는데', 4302: '▁감동적이다', 4303: '▁술', 4304: '메이', 4305: '보다도', 4306: '▁헬', 4307: '▁옥', 4308: '▁뛰어나', 4309: '▁나은', 4310: '..;;', 4311: '▁액션씬', 4312: '없는영화', 4313: '측', 4314: '▁몇번', 4315: '뮤', 4316: '쥬', 4317: '▁잔뜩', 4318: '▁다양한', 4319: '▁어쩜', 4320: '▁느꼈다', 4321: '▁미쳤', 4322: '<', 4323: '▁재밌던데', 4324: '▁분위기가', 4325: '▁오래된', 4326: '▁무술', 4327: 'as', 4328: '▁끝났', 4329: '▁노래도', 4330: '▁ᄏᄏᄏᄏᄏᄏ', 4331: '▁웬', 4332: '▁보지마라', 4333: '▁199', 4334: '소설', 4335: '▁쓰는', 4336: '▁흥', 4337: '상이', 4338: '극장', 4339: '▁배우를', 4340: '▁타임', 4341: '버전', 4342: '다니는', 4343: '놈이', 4344: '보여주', 4345: 'ᄏᄏᄏᄏᄏᄏᄏᄏᄏᄏᄏᄏᄏ', 4346: '▁전설', 4347: '수있', 4348: '▁죽이는', 4349: '..^^', 4350: '▁이상하게', 4351: '둥이', 4352: '▁아닙니다', 4353: '▁패러디', 4354: '▁소소한', 4355: '만듬', 4356: '▁핵노잼', 4357: '▁잔혹', 4358: '▁sf', 4359: '▁특별한', 4360: '하다고', 4361: '쓰는', 4362: '▁전개도', 4363: '..........', 4364: '코드', 4365: '타임', 4366: '되었다', 4367: '궁', 4368: '허접', 4369: '▁참신한', 4370: '▁싶을', 4371: '싸움', 4372: '▁열연', 4373: '▁죽이고', 4374: '▁끈', 4375: '않는', 4376: '▁아내', 4377: '▁부모님', 4378: '물을', 4379: '에서의', 4380: '스를', 4381: '▁공포물', 4382: '▁관객을', 4383: '▁엿', 4384: '▁본거', 4385: '▁워', 4386: '▁구성이', 4387: '▁좋겠', 4388: '▁쿠', 4389: '▁최근에', 4390: '▁여운을', 4391: '▁듣고', 4392: '균', 4393: '랫', 4394: '▁2014', 4395: '▁분들은', 4396: '▁첫사랑', 4397: '▁국가', 4398: '▁p', 4399: '▁모두가', 4400: '▁배역', 4401: '▁솔직', 4402: '▁만들다니', 4403: '▁단어', 4404: '▁명화', 4405: '▁살아가는', 4406: '▁슬퍼', 4407: '▁한국에서', 4408: '▁기준', 4409: '류의', 4410: '떨어지', 4411: '▁잔인', 4412: '▁돈을', 4413: '▁수준의', 4414: '▁풍자', 4415: '랄까', 4416: '원이', 4417: '▁마이', 4418: '▁낮다', 4419: '브라', 4420: '▁식상한', 4421: '엑', 4422: '룩', 4423: 'z', 4424: '▁브루스', 4425: '▁집착', 4426: '▁곳', 4427: '▁결코', 4428: '▁재미있었', 4429: '▁O', 4430: '지않아', 4431: '틱', 4432: '▁다운', 4433: '이었습니다', 4434: '랜드', 4435: '스키', 4436: '▁캬', 4437: 'ᄍ', 4438: 'ᄏᄏᄏᄏᄏᄏᄏᄏᄏ', 4439: '삶', 4440: '솔직히', 4441: '▁부실', 4442: '▁감동의', 4443: '▁끄', 4444: '▁훈훈', 4445: '▁가정', 4446: '것들', 4447: '▁주인공은', 4448: '▁필요없', 4449: '냐고', 4450: '▁제외', 4451: '▁최고였다', 4452: '믿', 4453: '▁영화보면서', 4454: '▁에로영화', 4455: '▁위로', 4456: '찐', 4457: '▁특수효과', 4458: '▁젠장', 4459: '▁후속작', 4460: '▁바랍니다', 4461: '▁극장가서', 4462: '▁억지스러운', 4463: '▁일이', 4464: '햇다', 4465: '▁다르다', 4466: '▁두번째', 4467: '▁시청률이', 4468: '▁연극', 4469: '학년', 4470: '틴', 4471: '▁감정이', 4472: '▁잔잔', 4473: '▁보지말', 4474: '▁체', 4475: '후회', 4476: '▁알겠', 4477: '▁킬링타임용으로', 4478: '혼자', 4479: '싫', 4480: '▁드립니다', 4481: '큐', 4482: '▁반전은', 4483: '▁현실적이', 4484: '년작', 4485: '▁콩', 4486: '버려', 4487: '▁마지막까지', 4488: '▁본방사수', 4489: '렵', 4490: '춰', 4491: '했다면', 4492: '같아서', 4493: '찮', 4494: '▁가슴을', 4495: '▁짜임새', 4496: '찔', 4497: '▁탄생', 4498: '▁ᄉ', 4499: '▁감정이입', 4500: '▁몰라', 4501: '▁평론가들', 4502: '웃겼', 4503: '커플', 4504: '▁잼나게', 4505: '▁낚였다', 4506: '▁결말을', 4507: '▁떨', 4508: '▁막판에', 4509: '▁넌', 4510: '해주고', 4511: '▁탄탄', 4512: '다음', 4513: '었나', 4514: '▁자체는', 4515: '이름', 4516: '▁뭘까', 4517: '영화입니다', 4518: '▁노래가', 4519: '낀', 4520: '▁제임스', 4521: '둥', 4522: '▁모험', 4523: '듯하다', 4524: '▁아름답', 4525: '▁다루', 4526: '부분이', 4527: '▁잘만들었', 4528: '▁그것도', 4529: '▁해라', 4530: '하하하', 4531: '했지', 4532: '▁안볼', 4533: '▁응', 4534: '▁재미도없고', 4535: '!!!!!!!!!!!!!!!!', 4536: '▁기대이상', 4537: '였으면', 4538: '▁재난영화', 4539: '▁맡', 4540: '리즈', 4541: '▁남아있', 4542: '▁빼면', 4543: '▁안봤', 4544: '▁엘', 4545: '▁연기력은', 4546: '▁내용인지', 4547: '▁책임', 4548: '두고', 4549: '생각이', 4550: '있습니다', 4551: '▁살린', 4552: '▁소년', 4553: '▁휘', 4554: '개그', 4555: '▁아역', 4556: '▁가족영화', 4557: '▁영화인', 4558: '▁불쌍하다', 4559: '긋', 4560: '▁아이디어', 4561: '▁어설프고', 4562: '▁애들은', 4563: '▁봅니다', 4564: '영화인데', 4565: '▁연기자', 4566: '▁남은', 4567: '▁도망', 4568: '했었', 4569: '▁푸', 4570: '▁이래서', 4571: '▁돌리', 4572: '공주', 4573: '셔서', 4574: '하지마', 4575: 'P', 4576: '갓', 4577: '▁출연한', 4578: '▁아직까지', 4579: '▁생각했는데', 4580: '▁사고', 4581: '▁정작', 4582: '▁의문', 4583: 'ut', 4584: '▁잊을수', 4585: '▁죽인', 4586: '었지', 4587: '겠죠', 4588: '▁안습', 4589: '▁재미없었다', 4590: '자신', 4591: '▁이런건', 4592: '점이상', 4593: '▁만든영화', 4594: '▁블록버스터', 4595: '▁살다살다', 4596: '▁변화', 4597: '♥♥♥', 4598: '▁짧은', 4599: '▁담배', 4600: '▁만들었는지', 4601: '▁다섯', 4602: '▁싸우는', 4603: '▁지나도', 4604: '▁다시는', 4605: '하더라', 4606: '이든', 4607: '▁업', 4608: '▁많아서', 4609: '기전에', 4610: '▁신파', 4611: '▁정말이지', 4612: 'R', 4613: '관객', 4614: '▁좀비영화', 4615: '▁두고', 4616: '장르', 4617: '점대는', 4618: 'ᄋᄋ', 4619: '▁만한', 4620: '재미없음', 4621: '.............', 4622: '있었다', 4623: '▁아래', 4624: '어이없', 4625: '꾼', 4626: '퓨', 4627: '▁강한', 4628: '▁드러', 4629: '▁니콜', 4630: '▁아무런', 4631: '▁사상', 4632: '▁데리고', 4633: '때매', 4634: '▁폐', 4635: '▁따뜻하고', 4636: '▁대놓고', 4637: '▁영상이', 4638: '▁깔', 4639: '▁처음에', 4640: '장이', 4641: '▁만남', 4642: '▁엉성하고', 4643: '▁수많은', 4644: '▁손에', 4645: '▁섬', 4646: '만하다', 4647: '▁새벽에', 4648: '▁짜증나서', 4649: '▁어울리는', 4650: '▁ᄌ', 4651: '▁길게', 4652: '것같은', 4653: '박한', 4654: '해야할', 4655: '아빠', 4656: '▁없으면', 4657: '▁로버트', 4658: '▁심지어', 4659: '역사', 4660: '▁앤', 4661: '▁오빠', 4662: '▁때문', 4663: '수밖에', 4664: '▁이따위', 4665: '▁결정', 4666: '이죠', 4667: '었네요', 4668: '할만한', 4669: '▁여러분', 4670: '▁괜찮았다', 4671: '▁쉬', 4672: '달아', 4673: '제로', 4674: '오브', 4675: '헐', 4676: '▁주제를', 4677: '아저씨', 4678: '스토리도', 4679: '갑니다', 4680: '▁코드', 4681: '방식', 4682: '▁만들기', 4683: '알아', 4684: '▁매일', 4685: '▁등등', 4686: '▁안본', 4687: '▁가수', 4688: '▁보던', 4689: '▁G', 4690: '같은영화', 4691: '부끄럽', 4692: '▁등장인물', 4693: '▁놈들', 4694: '▁처럼', 4695: '쓰고', 4696: '오글', 4697: '적이지', 4698: '▁만들수', 4699: '▁거기에', 4700: '▁때려', 4701: '려나', 4702: '▁갔다', 4703: '긴하지만', 4704: '▁여자의', 4705: '마리', 4706: '▁매력을', 4707: '▁생긴', 4708: '받은', 4709: '▁부부', 4710: '▁별로임', 4711: '▁순수함', 4712: '돋', 4713: '▁소재도', 4714: '주연', 4715: '▁뽑', 4716: '▁보다니', 4717: '▁싸움', 4718: '또한', 4719: '▁떨어지고', 4720: '인데도', 4721: '닿', 4722: '▁다운받아', 4723: '▁할말', 4724: '▁격', 4725: '벼', 4726: '▁러시아', 4727: '▁유일하게', 4728: '▁작위적', 4729: '▁몰랐다', 4730: '▁주기도', 4731: '▁먼가', 4732: '▁삶이', 4733: '▁축', 4734: '▁가면', 4735: '임을', 4736: '▁그저그런', 4737: '▁좋겠네요', 4738: '▁봤을까', 4739: '왓', 4740: '쓰레기영화', 4741: '▁보기에는', 4742: '씨는', 4743: '▁아름답게', 4744: '▁ᄀ', 4745: '▁조카', 4746: '번은', 4747: '부러', 4748: '▁몰입도가', 4749: '이후', 4750: '▁어렵다', 4751: '▁왔', 4752: '학생', 4753: '▁보아', 4754: '바라', 4755: '▁냉', 4756: '영이', 4757: '해준다', 4758: '▁쪽', 4759: '▁내가본', 4760: '▁하나로', 4761: '▁부분도', 4762: '라는걸', 4763: '▁아니야', 4764: '액', 4765: '▁가벼운', 4766: '▁끔찍', 4767: '▁한번도', 4768: '▁동시에', 4769: '보셈', 4770: '▁감각', 4771: '감동적이', 4772: '▁맞지', 4773: '보고싶다', 4774: '도대체', 4775: '▁의미가', 4776: '▁많은데', 4777: '▁예능', 4778: '▁소설을', 4779: '여주', 4780: '▁F', 4781: '▁그자체', 4782: '▁재미있습니다', 4783: '▁케이블에서', 4784: 'ad', 4785: '▁독일', 4786: '▁재밌지', 4787: '▁상처', 4788: '▁역사를', 4789: '▁예쁘다', 4790: '▁그만큼', 4791: '▁찰', 4792: 'bb', 4793: '▁밋밋', 4794: '▁무리', 4795: '▁돋보이는', 4796: '팀', 4797: '▁밀려', 4798: '▁목적', 4799: '▁상대', 4800: '▁인상적', 4801: '▁영상과', 4802: '보는게', 4803: '톤', 4804: '▁당신은', 4805: '▁교훈을', 4806: '쳐서', 4807: '▁반전을', 4808: '100', 4809: '▁아닐', 4810: '신고', 4811: '▁넘게', 4812: '▁충분', 4813: '▁내용과', 4814: '▁배트맨', 4815: '▁허술하', 4816: '▁흔들', 4817: '지루함', 4818: '▁어느정도', 4819: '떨어진', 4820: '▁샘', 4821: '여행', 4822: '▁재능', 4823: '▁동양', 4824: '▁꼬마', 4825: '라지만', 4826: '▁무료', 4827: '▁영화라는', 4828: '본사람', 4829: '▁집중해서', 4830: '지요', 4831: '주기', 4832: '▁원작에', 4833: '▁낮네', 4834: '허허', 4835: '▁하는게', 4836: '걍', 4837: '▁반대', 4838: '▁했으면', 4839: '▁마지막장면', 4840: '때까지', 4841: '받았', 4842: '▁뭐하나', 4843: '오래', 4844: '▁요리', 4845: '졸작', 4846: '라는게', 4847: '법한', 4848: '씬이', 4849: '최악의', 4850: '조금', 4851: '객', 4852: '이었던', 4853: '▁와닿', 4854: '것처럼', 4855: '땀', 4856: '탱', 4857: '셋', 4858: 'ᅥ', 4859: '▁짜집기', 4860: '▁익숙', 4861: '▁교과서', 4862: '▁제이슨', 4863: '▁당연히', 4864: '▁할아버지', 4865: '▁놀라운', 4866: '▁로코', 4867: '▁만든거', 4868: '▁심장', 4869: '▁내용전개', 4870: '▁말하고자', 4871: '▁잼있어요', 4872: '▁1,2', 4873: '▁조절', 4874: '됐다', 4875: '앞에서', 4876: '▁클레멘타인', 4877: '하러', 4878: '▁형편없', 4879: '!!!!!!', 4880: '▁봤네', 4881: '▁최고임', 4882: '▁재미로', 4883: '▁확인', 4884: '▁일반', 4885: '▁그립다', 4886: '거죠', 4887: '▁승리', 4888: '벗', 4889: '비디오', 4890: '흠', 4891: '▁60', 4892: '포스터', 4893: '▁어색하고', 4894: '▁조선', 4895: '▁가져', 4896: '쾌', 4897: '맘', 4898: '▁시리즈는', 4899: '▁것들', 4900: '것만으로도', 4901: '들에', 4902: '▁설득력', 4903: '▁장국영', 4904: '▁아류작', 4905: '▁목숨', 4906: '▁폭풍', 4907: '▁검색', 4908: '▁살리', 4909: '▁명작을', 4910: '▁불편한', 4911: '아까웠', 4912: '같네', 4913: '▁처음에는', 4914: '▁또다른', 4915: '트가', 4916: '먹은', 4917: '▁나에겐', 4918: '▁느낌의', 4919: '▁생각으로', 4920: '▁아쉽지만', 4921: '▁궁금하다', 4922: '▁생활', 4923: '▁크리스', 4924: '▁느껴지', 4925: '▁알수있', 4926: '▁살아있', 4927: '▁있다니', 4928: '▁놀랍다', 4929: '춤', 4930: '▁승', 4931: '▁볼수있는', 4932: '▁빵', 4933: '80', 4934: '배우가', 4935: '헤어', 4936: '▁집중이', 4937: '멸', 4938: '하진', 4939: '▁조니뎁', 4940: 'U', 4941: '▁플롯', 4942: '▁즐거웠', 4943: '▁거리', 4944: '과는', 4945: '▁유일한', 4946: '▁L', 4947: '▁적당히', 4948: '울리', 4949: '▁여자주인공', 4950: '옆', 4951: '▁수입', 4952: '육', 4953: '▁재미있어', 4954: '어지는', 4955: '▁잠이', 4956: '▁하길래', 4957: '▁잼잇', 4958: '능력', 4959: '▁욕심', 4960: '▁신선하', 4961: '▁니들', 4962: '▁모든걸', 4963: '지네요', 4964: '▁인물들', 4965: '었네', 4966: '▁많은걸', 4967: '아버지', 4968: '란다', 4969: '▁낮지', 4970: '▁명장면', 4971: '▁버리', 4972: '▁재미없어서', 4973: '덕에', 4974: '▁몽', 4975: '버스', 4976: '로드', 4977: '▁모른다', 4978: '▁들고', 4979: '▁배경음악', 4980: '▁상영관', 4981: '웨이', 4982: '장면은', 4983: '▁태어나서', 4984: '▁놓고', 4985: '▁^', 4986: '거같음', 4987: '▁나름대로', 4988: '는구나', 4989: '하는영화', 4990: '▁착', 4991: '▁기회', 4992: '▁못보겠', 4993: '▁줄수', 4994: '지말자', 4995: '할것', 4996: '▁스토리의', 4997: '▁코미디영화', 4998: '차별', 4999: '▁뭐니', 5000: '▁배신', 5001: '있으면', 5002: '▁재밌어서', 5003: '볼수', 5004: '낫', 5005: '목소리', 5006: '▁궁', 5007: '있던', 5008: '이래', 5009: '▁이상하고', 5010: 'ᄏᄏᄏᄏᄏᄏᄏᄏᄏᄏᄏᄏ', 5011: '거같', 5012: '▁초딩때', 5013: '흡', 5014: '픽', 5015: '딘', 5016: '▁뱀파이어', 5017: '▁임팩트', 5018: '▁케릭터', 5019: '▁숨겨진', 5020: '▁언니', 5021: '▁착각', 5022: '▁아까웠다', 5023: '▁여주가', 5024: '테러', 5025: '▁일부러', 5026: '보인다', 5027: '보네', 5028: '▁범', 5029: '▁이딴걸', 5030: '본영화중', 5031: '▁쓰고', 5032: '▁프리', 5033: '▁매력적', 5034: '▁잘봤어요', 5035: 'X', 5036: '▁인도', 5037: '▁/', 5038: '▁머리가', 5039: '▁보다는', 5040: '▁이해할수', 5041: '▁연인', 5042: '▁여전', 5043: '▁그당시', 5044: '에대해', 5045: '▁남네요', 5046: '▁무엇', 5047: '▁싶어요', 5048: '씀', 5049: '숨', 5050: '말도', 5051: '▁잘만들', 5052: '▁감동은', 5053: '찡', 5054: '후에', 5055: '▁장면들', 5056: '▁선물', 5057: '▁해리포터', 5058: '▁내생에', 5059: '▁어이', 5060: '▁레이', 5061: '▁인내심', 5062: '았어요', 5063: '하는건지', 5064: '▁여러번', 5065: '▁거북', 5066: '▁이야기는', 5067: '▁아까운영화', 5068: '▁피해', 5069: '▁높아서', 5070: '▁다시보니', 5071: '▁잼있었', 5072: '스럽지', 5073: '▁공간', 5074: '미가', 5075: '뭔', 5076: '시면', 5077: '애들이', 5078: '▁보려', 5079: '▁있네', 5080: '.,.,', 5081: '▁포스', 5082: '▁이상의', 5083: '이러', 5084: '일듯', 5085: '지나', 5086: '▁보이지', 5087: '▁이해를', 5088: '▁바다', 5089: '▁봤을', 5090: '▁본지', 5091: '웃김', 5092: '▁ᄍᄍᄍ', 5093: '▁받은', 5094: '▁설정이', 5095: '▁유발', 5096: '젊', 5097: '컴', 5098: '템', 5099: '▁심형래', 5100: '▁주윤발', 5101: '▁이소룡', 5102: '▁반드시', 5103: '▁과학', 5104: '극장에서', 5105: '▁끼워', 5106: '▁약간의', 5107: '▁근래', 5108: '는거야', 5109: '▁틀어', 5110: '▁디워', 5111: '▁따분', 5112: '▁엄마가', 5113: '▁삼류영화', 5114: 'es', 5115: '▁아니지', 5116: '레스', 5117: '▁괜찮음', 5118: '재미도', 5119: '▁주제가', 5120: '▁동심', 5121: '▁한편의', 5122: '▁우연', 5123: '보시길', 5124: '▁안맞는', 5125: '▁난잡', 5126: '▁어른이', 5127: '▁않아서', 5128: '▁꽤나', 5129: '▁풋풋', 5130: '▁영환데', 5131: '▁후에', 5132: '▁독특', 5133: '▁감동받', 5134: '섹', 5135: '▁주지', 5136: '캐스팅', 5137: '서야', 5138: '보여', 5139: '▁잘하는', 5140: '시나리오', 5141: '▁음식', 5142: '연기는', 5143: '▁여주인공이', 5144: '▁끝에', 5145: '하니까', 5146: '▁엔딩이', 5147: '▁친구가', 5148: '▁인터넷', 5149: '닷', 5150: '▁난리', 5151: '▁앞뒤', 5152: '못하는', 5153: '▁처절', 5154: '▁소재와', 5155: '▁내게', 5156: '언제', 5157: '▁상업', 5158: '▁마음으로', 5159: '▁중독', 5160: '▁귀여워', 5161: '▁보았는데', 5162: '멜로', 5163: '▁포스터가', 5164: '의미', 5165: '▁짜증만', 5166: '▁매니아', 5167: '하실', 5168: '좋았다', 5169: '든지', 5170: '▁책을', 5171: '▁갑니다', 5172: '▁연출은', 5173: '▁정상', 5174: '▁엉망이', 5175: '▁폐지', 5176: '아프', 5177: '▁짜증이', 5178: '때문', 5179: '▁특이', 5180: '꿈', 5181: '어색', 5182: '썼', 5183: '▁망친', 5184: '▁남았', 5185: '쩜', 5186: '▁ᄏᄏᄏᄏᄏᄏᄏ', 5187: '화이팅', 5188: '숭', 5189: '▁dvd', 5190: '쿵', 5191: '^-^', 5192: '▁쓸데없이', 5193: '▁사운드', 5194: '▁달콤', 5195: '▁이상해', 5196: '지도않', 5197: '▁적어도', 5198: '▁여자친구', 5199: '야겠다', 5200: '▁판단', 5201: '▁첨엔', 5202: '▁짜증남', 5203: '갔는데', 5204: 'al', 5205: '뿐이다', 5206: '▁장면도', 5207: '▁발상', 5208: '▁넘치', 5209: '배우들이', 5210: '▁봐도봐도', 5211: '당시', 5212: '▁아깝고', 5213: '못한', 5214: '▁진부', 5215: '▁멋졌', 5216: '▁W', 5217: '듣', 5218: '▁찾는', 5219: '▁멋있는', 5220: '▁놀랍', 5221: '▁영화화', 5222: '자고', 5223: '▁어디에', 5224: '▁강렬한', 5225: '▁아쉬움이', 5226: '▁최고로', 5227: '▁이보다', 5228: '에게는', 5229: '멜', 5230: '▁시간아깝다', 5231: '한건지', 5232: '받을', 5233: '재밌어', 5234: '려다가', 5235: '봣다', 5236: '▁본게', 5237: '치고는', 5238: '▁제목만', 5239: '▁뒤에', 5240: '닐', 5241: '▁맛이', 5242: '▁주연배우', 5243: '벤', 5244: '▁실수', 5245: '앤', 5246: '긴장감', 5247: '▁영화인가', 5248: '▁이루', 5249: 'ᅮᅮᅮ', 5250: '빗', 5251: '▁같지', 5252: '▁고등학교', 5253: '▁네티즌', 5254: '찜', 5255: '랭', 5256: '▁리얼리티', 5257: '▁걱정', 5258: '▁탈출', 5259: '▁사라지', 5260: '▁유럽', 5261: '▁그야말로', 5262: '▁싸우', 5263: '▁단순히', 5264: '▁오랫만에', 5265: '▁서양', 5266: '좋은영화', 5267: '스크', 5268: '부터가', 5269: '갈때', 5270: '낮은', 5271: '였나', 5272: '▁공감할', 5273: '▁관련', 5274: '▁장난치', 5275: '었는지', 5276: '▁키스', 5277: '▁비현실적', 5278: '▁터미네이터', 5279: '신분', 5280: '▁줘야', 5281: '▁인생에', 5282: '있어요', 5283: '화가', 5284: '느껴', 5285: '맞는', 5286: '▁혹시', 5287: '▁이런영화는', 5288: '▁수작이다', 5289: '표정', 5290: '재미있게', 5291: '▁같고', 5292: '데요', 5293: '분위기', 5294: '윈', 5295: '았지만', 5296: '▁듣', 5297: 'ᄒᄒᄒᄒ', 5298: '엄청', 5299: '▁봐야하는', 5300: '▁제니퍼', 5301: '▁호기심', 5302: '▁허술한', 5303: '▁떨어짐', 5304: '▁맞춰', 5305: '19', 5306: 'ᅮᅲ', 5307: '▁웃으면서', 5308: '▁알겠다', 5309: '▁굴', 5310: '▁벤', 5311: '▁잔잔하게', 5312: '▁시점', 5313: '▁귀엽다', 5314: '▁잘생겼', 5315: '는대', 5316: '▁배우들은', 5317: '▁없었음', 5318: '심각', 5319: '오르', 5320: '▁잡아', 5321: '▁슬펐', 5322: '될듯', 5323: '▁학', 5324: '▁다르게', 5325: '없나', 5326: '▁나오네', 5327: '▁적당한', 5328: '▁안간다', 5329: '12', 5330: '▁힘들었', 5331: '게임', 5332: '멋있', 5333: '낭', 5334: '추억', 5335: '불쌍', 5336: '범죄', 5337: '닫', 5338: 'ᄡ', 5339: '눌', 5340: '▁꿈꾸', 5341: '▁얼굴이', 5342: '▁극복', 5343: '▁진수', 5344: '▁아니라고', 5345: '▁하품', 5346: '가면서', 5347: '▁액션을', 5348: '▁스토리전개', 5349: '▁났', 5350: '▁흐르는', 5351: '성과', 5352: '▁가족의', 5353: '▁불쌍한', 5354: '아까운', 5355: '▁절정', 5356: '무시', 5357: '▁본건데', 5358: '▁별로고', 5359: '겼', 5360: '▁빠르', 5361: '함에', 5362: '줄은', 5363: '류영화', 5364: '▁재미없을', 5365: '▁대통령', 5366: 'ᄏᄏᄏᄏᄏᄏᄏᄏᄏᄏ', 5367: '▁아우', 5368: '▁아무도', 5369: '▁곧', 5370: '▁봤다면', 5371: '▁가득한', 5372: '▁현실감', 5373: '▁최고의영화', 5374: '▁억지스럽', 5375: '리스트', 5376: '▁오락영화', 5377: '높은', 5378: '납', 5379: '털', 5380: '▁재미있을', 5381: '갠', 5382: '팍', 5383: '▁홍상수', 5384: '▁우려먹', 5385: '▁희대의', 5386: '▁실험', 5387: '▁웃을', 5388: '▁사랑해', 5389: '줄알았는데', 5390: '▁만약', 5391: '하지말고', 5392: '노답', 5393: '▁전체적인', 5394: '상영', 5395: '▁아이들과', 5396: '▁영화인지', 5397: '▁이드라마', 5398: '▁보라', 5399: '▁가족이', 5400: '▁어거지', 5401: '분의', 5402: '있을', 5403: '겠는데', 5404: '▁남긴', 5405: '▁쉽지', 5406: '▁육', 5407: '해지고', 5408: '긴다', 5409: '▁궁금해서', 5410: '▁배경이', 5411: '▁희망을', 5412: '▁앞에', 5413: '빠져', 5414: '▁그동안', 5415: '싫다', 5416: '미국', 5417: '▁호구', 5418: '▁인형', 5419: '▁분들이', 5420: '할뿐', 5421: '아직도', 5422: '▁=', 5423: '▁히어로', 5424: '▁그럴듯', 5425: '늙', 5426: '빠진', 5427: '▁전쟁의', 5428: '▁찍는', 5429: '▁달려', 5430: '▁유치해', 5431: '▁사람들에게', 5432: '못하고', 5433: '▁기억나는', 5434: '▁덕', 5435: '▁김치', 5436: '아까워', 5437: '▁할리우드', 5438: '밴', 5439: '▁이토록', 5440: '▁박진감', 5441: '▁도무지', 5442: '▁사투리', 5443: '▁이끌어', 5444: '▁일본인', 5445: '▁먹는', 5446: '▁뭐하자는', 5447: '▁액션과', 5448: '▁루즈', 5449: '▁따뜻해', 5450: '보소', 5451: '▁반담', 5452: '▁울리는', 5453: '▁쩔', 5454: '▁슈', 5455: '▁혹시나', 5456: '▁잼있음', 5457: '▁없게', 5458: '▁생각난다', 5459: '▁서울', 5460: '열받', 5461: '▁따위', 5462: '▁읽고', 5463: 'en', 5464: '▁봤어', 5465: '드만', 5466: '차이', 5467: 'le', 5468: '▁보고싶어', 5469: '▁멋지고', 5470: '▁감독을', 5471: '하거나', 5472: '▁잤', 5473: '기도하고', 5474: '보느니', 5475: '답게', 5476: '있지만', 5477: '▁거장', 5478: '▁부정', 5479: '▁깜', 5480: '함은', 5481: 'ᄎ', 5482: '갱', 5483: '▁you', 5484: '▁됩니다', 5485: '▁박중훈', 5486: '▁왤케', 5487: '▁이뻐서', 5488: '▁오글거려', 5489: '▁빠른', 5490: '비슷', 5491: '칼', 5492: '뭘', 5493: '▁현실과', 5494: '느끼', 5495: '▁재밋어요', 5496: '▁보게된', 5497: '씁쓸', 5498: '▁사실을', 5499: '조연', 5500: '▁하다가', 5501: '▁to', 5502: '▁상관없', 5503: '▁떨어', 5504: '▁나랑', 5505: '구리', 5506: '▁깔끔', 5507: '->', 5508: '재미없어', 5509: '▁말아야', 5510: '없었', 5511: '▁모르겠네요', 5512: '▁영상미가', 5513: '▁없나요', 5514: '▁장면을', 5515: '▁잊고', 5516: '▁다신', 5517: '▁짜증나고', 5518: '▁있다고', 5519: '^^*', 5520: '▁아냐', 5521: '▁강렬', 5522: '세여', 5523: '▁유덕화', 5524: '▁시나리오가', 5525: '▁지겹다', 5526: '제가', 5527: '▁중심', 5528: '▁난해하', 5529: '내용은', 5530: '▁저급', 5531: '▁어디가', 5532: '하시길', 5533: '▁즐', 5534: '였을', 5535: '▁얘', 5536: '▁여자는', 5537: '▁부자', 5538: '릇', 5539: '▁빨갱이', 5540: '▁흘리', 5541: '몸', 5542: '▁만화책', 5543: '▁다시보고', 5544: '▁계기', 5545: '▁저평가', 5546: '갈수록', 5547: '▁황당한', 5548: '▁인생이', 5549: '▁존경', 5550: '▁시대에', 5551: 'th', 5552: '▁개노잼', 5553: '▁신의', 5554: '▁떡', 5555: '▁끌고', 5556: '▁이름이', 5557: '아이들', 5558: '▁이루어', 5559: '시원', 5560: '▁지겹', 5561: '▁팀', 5562: '▁녹아', 5563: '주제', 5564: '▁사랑해요', 5565: '▁떼', 5566: '▁씹', 5567: '▁타고', 5568: '▁배우도', 5569: '▁되네요', 5570: '▁가족들', 5571: '▁아들이', 5572: '▁ᄃᄃᄃ', 5573: '▁무난', 5574: '후반', 5575: '▁하아', 5576: '있지', 5577: '▁영화였음', 5578: '보고있어요', 5579: '▁박수', 5580: '줬으면', 5581: '▁정도면', 5582: '램', 5583: '▁나레이션', 5584: '닭', 5585: '▁하정우', 5586: '▁of', 5587: '▁뻔하', 5588: '않은', 5589: '▁벨', 5590: '▁스포츠', 5591: '▁영화라니', 5592: '▁평균', 5593: '▁명대사', 5594: '여운이', 5595: '▁하네', 5596: '▁안봐도', 5597: '▁그림체', 5598: '▁부럽', 5599: '▁폭발', 5600: '▁오락', 5601: '▁2000', 5602: '갖', 5603: '코믹', 5604: '▁명성', 5605: '▁무엇인가', 5606: '보네요', 5607: '▁괜찮았는데', 5608: '~~^^', 5609: '-_-;', 5610: '▁잘못된', 5611: '▁한개도', 5612: '웃겨', 5613: '그럼', 5614: '▁줍니다', 5615: '왔어요', 5616: '자들의', 5617: '▁액션신', 5618: '▁실화를', 5619: '▁울면서', 5620: '▁넣어', 5621: '소름', 5622: '하군', 5623: '햇는데', 5624: '아무리', 5625: '▁이름을', 5626: '▁좋지', 5627: '▁느리', 5628: '▁축구', 5629: '제대로', 5630: '▁세상이', 5631: '▁잤다', 5632: '로우', 5633: '▁사람도', 5634: '▁생기', 5635: '▁볼만했다', 5636: '▁전개와', 5637: '뻔했다', 5638: '▁냄새', 5639: '▁답답함', 5640: '있네요', 5641: '▁마니', 5642: '느낌이', 5643: '그러나', 5644: '▁반전에', 5645: '모르고', 5646: '달라', 5647: '▁갖다', 5648: '려다', 5649: '꼈', 5650: '▁고뇌', 5651: '쉴', 5652: '▁쓸데없는', 5653: '▁공짜로', 5654: '▁베드신', 5655: '▁뭥미', 5656: '▁아놀드', 5657: '▁혐오', 5658: '▁즐길', 5659: '분만에', 5660: '▁파괴', 5661: '▁다운받', 5662: '답니다', 5663: '소녀', 5664: '▁배우는', 5665: '▁최고봉', 5666: '▁작품입니다', 5667: '▁부담', 5668: '▁마약', 5669: '스톤', 5670: '▁재밌었던', 5671: '▁영원한', 5672: '▁망쳐', 5673: '▁아깝네', 5674: '▁실감', 5675: '▁찍고', 5676: '스러웠', 5677: '▁담은', 5678: '▁아깝네요', 5679: '이딴', 5680: '▁고어', 5681: '▁웃었', 5682: '▁뜬금없는', 5683: '스토리가', 5684: '▁우뢰매', 5685: '물로', 5686: '▁새끼', 5687: '렬', 5688: '▁재미없다고', 5689: '▁쭉', 5690: '▁망했', 5691: '▁괜찮고', 5692: '▁한다는', 5693: '맞고', 5694: '않음', 5695: '▁않았던', 5696: '찾아', 5697: '놀이', 5698: '▁진지한', 5699: '략', 5700: '▁등장인물들', 5701: '뭉', 5702: '똘', 5703: '▁드디어', 5704: '썸', 5705: '▁흑백', 5706: '▁상어', 5707: '스텝', 5708: '▁각색', 5709: '▁쩔어', 5710: '▁개그맨', 5711: '▁환경', 5712: '▁믿고보는', 5713: '분동안', 5714: '▁기존', 5715: '▁대신', 5716: '포인트', 5717: '▁자극적인', 5718: '존나', 5719: '▁겨울', 5720: '다큐', 5721: '▁재미있는데', 5722: '▁한국영화의', 5723: '▁적절한', 5724: '겨운', 5725: '▁최소한', 5726: '분을', 5727: '~~~~~', 5728: '보긴', 5729: '▁빅', 5730: '▁생명', 5731: '드립', 5732: '40', 5733: '▁비중', 5734: '▁읽어', 5735: '것같은데', 5736: '▁정신병자', 5737: '순위', 5738: '텐', 5739: '재밌는', 5740: '▁나이가', 5741: '▁기대없이', 5742: '▁안본다', 5743: '▁사랑합니다', 5744: '므', 5745: '▁오브', 5746: '▁보는거', 5747: '▁스릴도', 5748: '▁받고', 5749: '잖', 5750: '▁포인트', 5751: '▁것에', 5752: '뭐냐', 5753: '덩', 5754: '▁이병헌', 5755: '▁깊게', 5756: '▁웰메이드', 5757: '껀', 5758: '읍', 5759: '▁갠적으로', 5760: '할수있는', 5761: '▁영환', 5762: '▁응원', 5763: '▁언제봐도', 5764: '콩', 5765: '▁내일', 5766: '▁링', 5767: '글자', 5768: '같아', 5769: '휘', 5770: '즐', 5771: '평론가', 5772: '탑', 5773: '▁탄탄하고', 5774: '▁불안', 5775: '것보다', 5776: '편에서', 5777: '쩐다', 5778: '▁하지원', 5779: '앞으로', 5780: '▁강간', 5781: '▁빛을', 5782: '들한테', 5783: '▁메이', 5784: '▁비슷하', 5785: '였지', 5786: '▁어쩌면', 5787: '▁결론은', 5788: '▁왜곡', 5789: '▁가고', 5790: '▁나오는데', 5791: '었을까', 5792: '스토', 5793: '▁일본은', 5794: '약한', 5795: '밖', 5796: '▁벗어나', 5797: '셔야', 5798: '나왓', 5799: '▁나네요', 5800: '▁불가능', 5801: '▁벌어', 5802: '▁그립', 5803: '▁무섭지', 5804: '▁한국의', 5805: '이었는데', 5806: '랩', 5807: '셉', 5808: '▁오프닝', 5809: '▁짐캐리', 5810: '▁컨셉', 5811: '▁누군지', 5812: '▁사용', 5813: '▁헛웃음', 5814: '▁귀여움', 5815: '올라', 5816: '▁시간만', 5817: '▁아진짜', 5818: '기억이', 5819: '▁빛나는', 5820: '▁재개봉', 5821: '▁이도저도', 5822: '▁전반적으로', 5823: '굳굳', 5824: '만큼이나', 5825: '자마자', 5826: '▁죽고', 5827: '보게되', 5828: '보구', 5829: '코메디', 5830: '▁유행', 5831: '▁좋네', 5832: '▁자극적', 5833: '▁평소', 5834: '됐는데', 5835: '▁평화', 5836: '▁시작부터', 5837: '▁한방', 5838: '▁풋풋한', 5839: '나쁜', 5840: '▁잔잔하면서', 5841: '▁기대이하', 5842: '▁마지막회', 5843: '안돼', 5844: '시대에', 5845: '짱짱', 5846: '▁기타', 5847: '▁아니었다', 5848: '▁대사들', 5849: '께요', 5850: '▁생에', 5851: '▁포스터에', 5852: '▁없냐', 5853: '그렇게', 5854: '없지', 5855: '▁추천하고', 5856: '▁논리', 5857: '▁초등학교', 5858: '▁선정', 5859: 'am', 5860: '▁안될', 5861: '▁기가', 5862: '▁밤에', 5863: '▁거기다', 5864: '▁정신없', 5865: '▁포스터만', 5866: '90', 5867: 'ᄁ', 5868: '뢰', 5869: '▁컴퓨터', 5870: '짤', 5871: '굳', 5872: '▁정우성', 5873: '▁역겨운', 5874: '▁민폐', 5875: '▁잘한다', 5876: '▁돈내고', 5877: '▁만들었을까', 5878: '▁잘만들었다', 5879: '▁마리', 5880: '으려고', 5881: '▁아니잖아', 5882: '줄알았', 5883: '▁담긴', 5884: '▁진지하게', 5885: '▁첨부터', 5886: '는거지', 5887: '가며', 5888: '▁나쁘', 5889: '500', 5890: '▁치유', 5891: '▁예술영화', 5892: '우스', 5893: '▁빵빵', 5894: '▁뭣', 5895: '하자면', 5896: '건만', 5897: '▁그것이', 5898: '▁원조', 5899: '▁말자', 5900: '▁사랑한다', 5901: '해줄', 5902: '델', 5903: '▁점수는', 5904: '전혀', 5905: '키드', 5906: '▁만난', 5907: '▁X', 5908: '▁만났', 5909: '▁못보겠다', 5910: '▁갓', 5911: '▁지키', 5912: '져요', 5913: '에만', 5914: '▁신비', 5915: '시간동안', 5916: '▁어울리지', 5917: '놨네', 5918: '▁으리', 5919: '드립니다', 5920: '와의', 5921: '▁땜에', 5922: '▁숙', 5923: '▁세번', 5924: '힘들', 5925: '여운', 5926: '웟', 5927: '▁임창정', 5928: '▁자동차', 5929: '▁낭만', 5930: '▁은근히', 5931: '▁엄청나게', 5932: '▁무겁', 5933: '▁절망', 5934: '봤지', 5935: '▁억지감동', 5936: '▁개콘', 5937: '▁봐야지', 5938: '같지', 5939: '▁따지', 5940: '▁살인마', 5941: '▁덤', 5942: '▁싶었다', 5943: '▁애매', 5944: '효과', 5945: '쁜', 5946: '해져', 5947: '우리나라', 5948: '▁인생은', 5949: '▁친구랑', 5950: '겠어', 5951: '▁나무', 5952: '▁가능한', 5953: '▁동네', 5954: '나름', 5955: '재미있어요', 5956: '행복', 5957: '▁H', 5958: '▁내용에', 5959: '▁꿀', 5960: '~~!!', 5961: '되요', 5962: '▁그것을', 5963: '브리', 5964: '▁좋을듯', 5965: '▁쩌는', 5966: '▁정보', 5967: '하시고', 5968: '▁소장', 5969: '▁편안', 5970: '월드', 5971: '▁명배우', 5972: '앉', 5973: '까봐', 5974: '▁다시보기', 5975: '▁매력에', 5976: '퀄', 5977: '▁늦게', 5978: '▁스티븐', 5979: '▁내생애', 5980: '▁양아치', 5981: '15', 5982: '▁둘째치고', 5983: '▁내리', 5984: '나오네', 5985: '▁케빈', 5986: '▁왠만한', 5987: '▁초반부', 5988: '▁재난', 5989: '번에', 5990: '▁재미있었습니다', 5991: '있는영화', 5992: '▁돼지', 5993: '▁요새', 5994: '편까지', 5995: '▁만들어낸', 5996: '▁속았다', 5997: '않다', 5998: '▁파격', 5999: '▁흘러가는', 6000: '▁보시면', 6001: '▁소중함을', 6002: '살인', 6003: '역할', 6004: '▁이런류의', 6005: '▁다행이다', 6006: '없네요', 6007: '외에는', 6008: '▁쫓', 6009: 'TV', 6010: '꿀', 6011: '▁P', 6012: '▁감독과', 6013: '▁아동', 6014: '트로', 6015: '▁한국판', 6016: '▁졸았', 6017: '▁별하나', 6018: '▁시대의', 6019: '하고싶다', 6020: '▁유치해서', 6021: '▁시작해서', 6022: '수없다', 6023: '어리', 6024: '▁만드네', 6025: '▁책으로', 6026: '▁않은데', 6027: '특별', 6028: '▁정도가', 6029: '▁품', 6030: '▁괜찮아', 6031: '벅', 6032: '뚝', 6033: '▁송강호', 6034: '▁쏟아', 6035: '켄', 6036: '▁가까운', 6037: '▁깡패', 6038: '▁무거운', 6039: '▁최소', 6040: '덩어리', 6041: '립니다', 6042: '자식', 6043: '▁부탁', 6044: '▁믿기지', 6045: '▁역량', 6046: '▁이해불가', 6047: '▁로빈', 6048: '▁모자', 6049: '▁어디로', 6050: '에다가', 6051: '▁시간에', 6052: '▁여친', 6053: '▁개똥', 6054: '▁여태', 6055: '▁여자애', 6056: '시키고', 6057: '엇는데', 6058: '▁사람이라면', 6059: '▁내돈', 6060: '수준이', 6061: '▁무섭고', 6062: '▁알았네', 6063: '잖아요', 6064: '광구', 6065: '할수가', 6066: '▁좋다고', 6067: '개인적으로', 6068: '▁화나', 6069: '▁잠시', 6070: '하나하나가', 6071: '▁센스', 6072: '▁말투', 6073: '특집', 6074: '운동', 6075: '▁의사', 6076: '▁했음', 6077: '▁자아', 6078: '▁힘을', 6079: '▁몰아', 6080: '▁형제', 6081: '▁하시', 6082: '▁위트', 6083: '▁만들어서', 6084: '활', 6085: '선수', 6086: '▁날아', 6087: '▁놓치', 6088: '▁괜찮게', 6089: '▁소화', 6090: '봤으면', 6091: '▁안에', 6092: '맞추기', 6093: '▁인류', 6094: '▁인간은', 6095: '든가', 6096: '▁어두운', 6097: '▁제시카', 6098: '▁비호감', 6099: '▁스타뎀', 6100: '▁짜릿', 6101: '▁질질끌', 6102: '▁도시', 6103: '▁돈아까워', 6104: '▁있기', 6105: '▁벗어', 6106: '앞', 6107: '▁뭐라고', 6108: '자들이', 6109: '▁쪼', 6110: '나보다', 6111: '▁거품', 6112: '▁의지', 6113: '발연기', 6114: '▁탓', 6115: '하루', 6116: '▁마지막엔', 6117: '▁100%', 6118: '보고싶어요', 6119: '애들은', 6120: '▁절로', 6121: '처리', 6122: '쟁', 6123: '▁이번에', 6124: '▁남성', 6125: '▁멋있었', 6126: '사실', 6127: '▁인상적인', 6128: '▁묻어', 6129: '떼', 6130: '▁미국의', 6131: '▁아름다웠', 6132: '▁의도가', 6133: '▁연출력이', 6134: '▁매미', 6135: '▁생각도', 6136: '제일', 6137: '▁막판', 6138: '▁작품이라', 6139: '▁허무한', 6140: '▁아련', 6141: '▁옆에', 6142: '분들은', 6143: '▁보라고', 6144: '。', 6145: '▁놀랐다', 6146: '▁명불허전', 6147: '몫', 6148: '뺏', 6149: '▁첩보', 6150: '극히', 6151: '마누라', 6152: '▁잃은', 6153: '저리', 6154: '▁분량', 6155: '▁찾아서', 6156: '▁장난하냐', 6157: '▁14', 6158: '▁아프다', 6159: '▁드림', 6160: '▁천국', 6161: '아니면', 6162: '▁꼭보세요', 6163: '▁제목을', 6164: '▁슬픈영화', 6165: '스릴', 6166: '인들의', 6167: '▁나와야', 6168: '▁괜찮았음', 6169: '▁와닿는', 6170: '▁유쾌하게', 6171: '▁살리지', 6172: '▁곰', 6173: '▁ᄒᄒᄒᄒ', 6174: '▁거지같은', 6175: '▁맞추', 6176: '▁대학', 6177: '▁놀란', 6178: '▁챙겨', 6179: '였다면', 6180: '▁봉', 6181: '▁인디', 6182: '▁느낌이다', 6183: '스케', 6184: '폴', 6185: '보임', 6186: '바람', 6187: '▁요소가', 6188: '예술', 6189: '뭐지', 6190: '모를', 6191: '▁정신병', 6192: '▁반영', 6193: '싫어', 6194: '당시엔', 6195: '봤습니다', 6196: '▁짜증나게', 6197: '▁따라가', 6198: '▁방해', 6199: '외엔', 6200: '▁살았', 6201: '▁ᅲᅲᅲᅲ', 6202: '▁목소리가', 6203: '▁오글', 6204: '▁배경으로', 6205: '쯔', 6206: '앨', 6207: '븐', 6208: '▁아무생각없이', 6209: '혔', 6210: '▁화장실', 6211: '쯧쯧', 6212: '▁애초에', 6213: '▁당신이', 6214: '▁비행기', 6215: '▁이것보단', 6216: '▁기획', 6217: '▁각자', 6218: '▁묘한', 6219: '▁말그대로', 6220: '▁동영상', 6221: '▁생각해보게', 6222: '▁무대', 6223: '▁볼만합니다', 6224: '▁활', 6225: '▁조아', 6226: '▁넘어가', 6227: '▁재미있었음', 6228: '▁이제는', 6229: '줄알았다', 6230: '했을때', 6231: '천원', 6232: '▁재밋음', 6233: '▁보았던', 6234: '▁참나', 6235: '▁산만하고', 6236: '▁느낌은', 6237: '▁순수하고', 6238: '▁않았지만', 6239: 'ᅮᅮᅮᅮ', 6240: '훌륭', 6241: '▁가히', 6242: '▁한번더', 6243: '해본', 6244: '볼수있', 6245: 'un', 6246: '연기를', 6247: '▁본듯', 6248: '▁만들었나', 6249: '년대에', 6250: '감독은', 6251: '▁잼있는', 6252: '도좋고', 6253: '▁이만한', 6254: '▁땅', 6255: '막히', 6256: '편집', 6257: '더군', 6258: '것같아', 6259: '▁가족애', 6260: '▁파리', 6261: '만은', 6262: '▁명연기', 6263: '획', 6264: '▁불쌍해', 6265: '▁범죄자', 6266: '▁흡입력', 6267: '뭇', 6268: '쟈', 6269: '킴', 6270: '툭', 6271: '헉', 6272: '▁향연', 6273: '▁죄송', 6274: '▁예측', 6275: '▁오글거리는', 6276: '▁느껴졌다', 6277: '▁극단적', 6278: '▁좋았을텐데', 6279: '▁라스트', 6280: '이랄까', 6281: '지루하고', 6282: '력을', 6283: '없을', 6284: '▁맞나', 6285: '▁의상', 6286: '▁대표', 6287: '▁느끼고', 6288: '▁암울', 6289: '▁말고는', 6290: '▁싶었던', 6291: '▁공감도', 6292: '▁나을듯', 6293: '느냐', 6294: '▁알았음', 6295: '▁겁', 6296: '▁준비', 6297: '▁따뜻', 6298: '▁러브', 6299: '▁학생', 6300: '였네요', 6301: '▁영화예요', 6302: '▁드라마중', 6303: '봐야지', 6304: '너무너무', 6305: '경찰', 6306: '광고', 6307: '▁백인', 6308: '▁한시간', 6309: '▁충격적인', 6310: '이예요', 6311: '▁캐릭터들이', 6312: '▁교훈도', 6313: '▁좋아하지만', 6314: '그런지', 6315: '▁삶과', 6316: '▁뜬금없이', 6317: '▁세월이', 6318: '▁신인', 6319: '▁군인', 6320: '꺼면', 6321: '미친', 6322: '모양', 6323: '물론', 6324: '▁:)', 6325: '▁오지', 6326: '▁만들어라', 6327: '▁답답하다', 6328: '유발', 6329: '롯', 6330: '곽', 6331: '욤', 6332: '뤄', 6333: '셧', 6334: '▁라이언', 6335: '▁아파', 6336: '▁감명깊게', 6337: '▁보는것', 6338: '▁!!!', 6339: '점부터', 6340: '▁싫어하는', 6341: '▁빠졌', 6342: '▁누나', 6343: '▁모욕', 6344: '주기도', 6345: '영환', 6346: '▁일본의', 6347: '스티', 6348: '안된다', 6349: '▁옳', 6350: '▁전화', 6351: '▁간지', 6352: '▁모르지만', 6353: '▁그들이', 6354: '▁안나온다', 6355: '▁드라마입니다', 6356: '▁괜찮네요', 6357: '▁이거보다', 6358: '끝나고', 6359: '귀신', 6360: '▁제작비가', 6361: '굿굿', 6362: '▁단점', 6363: '섬', 6364: '성우', 6365: '▁일부', 6366: '선택', 6367: '작이라', 6368: '▁형편없는', 6369: '▁망할', 6370: '▁그렇지만', 6371: '최고다', 6372: '거라고', 6373: '▁표현할', 6374: '▁및', 6375: '에비해', 6376: '아닌가', 6377: 'el', 6378: '생각을', 6379: '▁만들려', 6380: '는것을', 6381: '돌려', 6382: '뷰', 6383: '▁신선함', 6384: '쭈', 6385: '맑', 6386: '셜', 6387: '쉐', 6388: '▁뒤죽박죽', 6389: '덮', 6390: '랴', 6391: '렐', 6392: '볼까', 6393: 'ᅢ', 6394: '▁나루토', 6395: '▁하이틴', 6396: '▁배급사', 6397: '▁어설프다', 6398: '▁2012', 6399: '▁격투', 6400: '▁소름돋는', 6401: '▁따름', 6402: '▁볼려고', 6403: '▁배꼽', 6404: '▁말씀', 6405: '50', 6406: '▁좋겠습니다', 6407: '어야지', 6408: '▁여인', 6409: '▁널', 6410: '▁말하려는', 6411: '되게', 6412: '시네', 6413: '봤어', 6414: '▁다운받아서', 6415: '▁미안하다', 6416: '▁소통', 6417: '▁빼곤', 6418: '타고', 6419: '거에요', 6420: '▁기대하지', 6421: '▁미소가', 6422: '없구', 6423: '▁웃는', 6424: '해놓고', 6425: '▁조연들', 6426: '▁버려', 6427: '▁심한', 6428: '줘야지', 6429: '▁정도는', 6430: '▁뭐하는', 6431: '안하고', 6432: '▁영화인줄', 6433: '잊', 6434: '▁장난아니', 6435: '자기', 6436: '▁기적', 6437: '뉴', 6438: '판타지', 6439: '레인', 6440: '로맨스', 6441: '▁맡은', 6442: '여배우', 6443: '결국', 6444: '▁떨어져', 6445: '돈주고', 6446: '▁영화네', 6447: '로서는', 6448: '것같네요', 6449: '할줄', 6450: '싹', 6451: '앵', 6452: '맺', 6453: '뱀', 6454: '▁EBS', 6455: '▁류승범', 6456: '▁시종일관', 6457: '렛', 6458: '핫', 6459: '▁도데체', 6460: '▁박보영', 6461: '▁흥미로웠', 6462: '▁읽는', 6463: '▁4.44', 6464: '▁도둑', 6465: '▁나타나', 6466: '▁고딩', 6467: '▁앉아', 6468: '▁자기가', 6469: '▁고독', 6470: '▁중학생', 6471: '▁은근', 6472: '싶은데', 6473: '▁불쌍하', 6474: '곳에서', 6475: '▁던져', 6476: '보려고', 6477: '▁싶어서', 6478: '▁조금은', 6479: '지루해', 6480: '▁짜리', 6481: '▁있었으면', 6482: '복수', 6483: 'is', 6484: '▁멋지게', 6485: '▁감동적이네요', 6486: '▁버리고', 6487: '▁좋앗', 6488: '▁장면들이', 6489: '▁ᄏᄏᄏᄏᄏᄏᄏᄏ', 6490: '당신', 6491: '형제', 6492: '조아', 6493: '▁알리', 6494: '▁이야', 6495: '▁새벽', 6496: '▁더빙이', 6497: '▁깔끔한', 6498: '쩝', 6499: '▁작가의', 6500: '▁재미없었', 6501: '▁진한', 6502: '보고나서', 6503: '실력', 6504: '▁무섭게', 6505: '▁프랑스영화', 6506: '▁욕먹', 6507: '구석', 6508: '하더니', 6509: '▁사람에게', 6510: '바닥', 6511: '▁선사', 6512: '허무', 6513: '▁들게', 6514: '▁전문', 6515: '맞아', 6516: 'ic', 6517: '▁부족함', 6518: '▁대부', 6519: '▁요즘은', 6520: '안되고', 6521: '▁찾기', 6522: '같아요', 6523: '▁스타워즈', 6524: '▁아름다워', 6525: '▁어정쩡', 6526: '▁즐거움', 6527: '됫', 6528: '▁아마추어', 6529: '▁칭찬', 6530: '▁블랙코미디', 6531: '▁털', 6532: '▁E', 6533: '▁왔습니다', 6534: '▁장애인', 6535: '▁상징', 6536: '▁과장', 6537: '▁마시길', 6538: '▁연기력에', 6539: '▁아만다', 6540: '▁고문', 6541: '▁한심하다', 6542: '▁이딴영화', 6543: '하하', 6544: '▁손발', 6545: 'ne', 6546: '▁삭제', 6547: '멋잇', 6548: '▁당연', 6549: '▁안보는게', 6550: '▁스포', 6551: '▁애정', 6552: '▁공유', 6553: '▁미녀', 6554: '▁세월', 6555: '치면', 6556: '맘에', 6557: '▁속이', 6558: '▁넘넘', 6559: '▁빠져서', 6560: '찰', 6561: '▁공포를', 6562: '▁말인가', 6563: '▁어우', 6564: '▁이별', 6565: '곳이', 6566: '▁R', 6567: '▁입장', 6568: '▁영상도', 6569: '잤', 6570: '시청률', 6571: '애니메이션', 6572: '▁극중', 6573: '▁만점에', 6574: '▁별로였다', 6575: '미화', 6576: '▁지났', 6577: '▁씁쓸하', 6578: '▁여배우들', 6579: '▁잔인함', 6580: '여주인공', 6581: '스틱', 6582: '▁이것보다', 6583: '▁없는게', 6584: '▁유지', 6585: '마저도', 6586: 'ᅩ', 6587: '듦', 6588: '퉤', 6589: '홈', 6590: '▁디카프리오', 6591: '쌓', 6592: '켓', 6593: '▁손가락', 6594: '▁닥치고', 6595: '▁워낙', 6596: '▁오글오글', 6597: '▁거부감', 6598: '▁무간도', 6599: '▁쓸쓸', 6600: 'ch', 6601: '▁스파이', 6602: '▁돋보였', 6603: '지마세요', 6604: '▁풀어낸', 6605: '▁땐', 6606: '▁소장하고', 6607: '▁낫겠다', 6608: '▁에효', 6609: '▁의문이', 6610: '합시다', 6611: '못해', 6612: '▁잃었', 6613: '▁두시간', 6614: '▁입장에서', 6615: '잼씀', 6616: '▁작화', 6617: '중국', 6618: '▁거짓', 6619: '▁역사적', 6620: '▁사랑스럽다', 6621: '▁우선', 6622: '▁인생영화', 6623: '▁잠을', 6624: '▁별거', 6625: '잔인', 6626: '▁모든것이', 6627: '▁웃기는', 6628: '▁행복하게', 6629: '▁쿨', 6630: '국민', 6631: '▁사람들을', 6632: '▁같았다', 6633: '레이드', 6634: '▁마시', 6635: '▁개념', 6636: '▁조금만', 6637: '점주고', 6638: '▁어이없다', 6639: '충격', 6640: '셨으면', 6641: '▁그리워', 6642: '▁최악의영화', 6643: '▁절대로', 6644: '▁만화영화', 6645: 'ᄏᄏᄏᄏᄏᄏ', 6646: '▁뭐임', 6647: '▁충분한', 6648: '뜬', 6649: '▁킬링', 6650: '왈', 6651: '츄', 6652: '팩', 6653: '곱', 6654: '얄', 6655: '▁언젠가', 6656: '▁펼쳐', 6657: '▁밝혀', 6658: '▁데이빗', 6659: '▁프레', 6660: '▁바탕으로', 6661: '▁엽기', 6662: '좋네요', 6663: '▁돌아보게', 6664: '▁개나', 6665: '▁아무튼', 6666: '시장', 6667: '해줘서', 6668: '▁선동', 6669: '▁로망', 6670: '뒤에', 6671: '이후로', 6672: '▁재밌게봤어요', 6673: '지않게', 6674: '스코', 6675: '▁지옥', 6676: '▁최후', 6677: '▁관심이', 6678: '▁대결', 6679: '▁싶습니다', 6680: '▁미스터리', 6681: '▁났다', 6682: '▁나음', 6683: '▁안나오는', 6684: '점만점에', 6685: '▁되야', 6686: '몰라', 6687: '제국', 6688: '▁즐겨', 6689: '▁영화라서', 6690: '▁바닥', 6691: '거같아', 6692: '▁똑같이', 6693: '▁드네요', 6694: 'ed', 6695: '▁독특하고', 6696: '▁액션만', 6697: '▁살다', 6698: '릴때', 6699: '낫다', 6700: '▁끝날', 6701: '멀', 6702: '프로그램', 6703: '그나마', 6704: '버린다', 6705: '핵', 6706: '▁최고네요', 6707: '▁연상', 6708: '▁흉내', 6709: '▁연기잘하', 6710: '알고', 6711: '좋은데', 6712: '▁끝나서', 6713: '▁부분은', 6714: '▁하나님', 6715: '▁심하다', 6716: '▁일반인', 6717: '괜', 6718: '▁세상에서', 6719: '▁전편보다', 6720: '숀', 6721: '펜', 6722: '꽉', 6723: '▁신하균', 6724: '▁강동원', 6725: '▁혁명', 6726: '▁전성기', 6727: '▁부활', 6728: '▁오래전에', 6729: '▁쉬운', 6730: '▁창피', 6731: '인걸', 6732: '▁먹칠', 6733: '▁실망이다', 6734: '▁개봉당시', 6735: '▁죽었', 6736: '좋아하는데', 6737: '▁귀여워요', 6738: '터짐', 6739: '▁재방', 6740: '▁재밋는', 6741: '▁알게되', 6742: '▁소재의', 6743: '▁언제까지', 6744: '▁역겹다', 6745: '보러', 6746: '그저', 6747: '▁상황을', 6748: '▁뛰', 6749: '꺼야', 6750: '▁가시', 6751: '긴했지만', 6752: '하나요', 6753: '▁아까워서', 6754: '▁뛰어넘는', 6755: '▁이거보단', 6756: '▁멋져', 6757: '▁평을', 6758: '▁구분', 6759: '▁원하는', 6760: '▁했더니', 6761: '▁무서움', 6762: '스틴', 6763: '▁못했', 6764: '남아', 6765: '▁보겠다', 6766: '내리', 6767: '▁마음속', 6768: '▁정체', 6769: '▁본격', 6770: 'tv', 6771: '바로', 6772: '▁팬들', 6773: '남주', 6774: '▁소개', 6775: '▁캐리', 6776: 'us', 6777: '▁다보고', 6778: '놈들은', 6779: '재밋다', 6780: '였구나', 6781: '피디', 6782: '▁자고', 6783: '▁천사', 6784: '멈', 6785: '밧', 6786: '▁알파치노', 6787: '띠', 6788: '룰', 6789: '버렸네', 6790: '쇄', 6791: '▁마찬가지', 6792: '▁명복을', 6793: '▁피아노', 6794: '▁러브라인', 6795: '▁섬뜩', 6796: '잊지못할', 6797: '▁ᄌᄂ', 6798: '▁직업', 6799: '▁공룡', 6800: '▁감동적이에요', 6801: '▁철저', 6802: '▁보여줄', 6803: '게만드는', 6804: '겨울', 6805: '▁불과', 6806: 'ᄀᄀ', 6807: '지루하다', 6808: '▁비록', 6809: '▁J', 6810: '▁뉴', 6811: '▁멋있고', 6812: '▁뻔하다', 6813: '▁없던', 6814: '▁있었고', 6815: '▁역사상', 6816: '▁믿음', 6817: '▁권력', 6818: '▁귀여웠', 6819: '되길', 6820: '▁느껴지지', 6821: '▁듣는', 6822: '▁젖', 6823: '▁첨이다', 6824: '것인가', 6825: '▁담고', 6826: '▁낮네요', 6827: '였네', 6828: '곳에', 6829: '▁외국인', 6830: '▁미국식', 6831: '▁됐다', 6832: '▁16', 6833: '줍니다', 6834: '오랜만에', 6835: '▁중년', 6836: '▁여신', 6837: '녕', 6838: '▁광기', 6839: '▁하하', 6840: '망작', 6841: '쿡', 6842: 'ᄐ', 6843: '▁스필버그', 6844: '뚫', 6845: '▁움직이', 6846: '▁권상우', 6847: '▁섬세한', 6848: '▁기발한', 6849: '▁오그라드는', 6850: '▁킬러', 6851: '▁이상하다', 6852: '▁미스캐스팅', 6853: '▁총체적', 6854: '▁정부', 6855: '▁새삼', 6856: '▁얻어', 6857: '▁혼란', 6858: '▁코믹영화', 6859: '분짜리', 6860: '어쩌', 6861: '▁울었어요', 6862: '▁조낸', 6863: '▁흥분', 6864: '▁재미있었는데', 6865: 'ᄃᄃᄃ', 6866: '▁시도는', 6867: '▁필요가', 6868: '▁is', 6869: '달라고', 6870: '재밌고', 6871: '속으로', 6872: '▁남기는', 6873: '▁있으나', 6874: '▁짜증났', 6875: '점이나', 6876: '▁다시금', 6877: '레기', 6878: '▁그런거', 6879: '▁필요한가', 6880: '▁화끈', 6881: '▁최고라고', 6882: '시킬', 6883: '▁이상은', 6884: '낭비', 6885: '빼곤', 6886: '얼마나', 6887: '▁이해못', 6888: '▁발음', 6889: '샘', 6890: '부리', 6891: '삭', 6892: '▁사람과', 6893: '닮', 6894: '만족', 6895: '▁비교해', 6896: '▁나머지는', 6897: 'ᄏᄏᄏᄏᄏᄏᄏ', 6898: '▁어째', 6899: '▁긴장감을', 6900: 'ho', 6901: '누구', 6902: '▁늑대', 6903: '각본', 6904: '▁타란티노', 6905: '쏴', 6906: '퀸', 6907: '▁괜찬', 6908: '드려요', 6909: '▁니콜라스', 6910: '▁민족', 6911: '▁오로지', 6912: '▁좋으나', 6913: '▁믿어', 6914: '▁캐릭터를', 6915: '▁낮은지', 6916: '▁태국', 6917: '▁거기서', 6918: '▁장난하나', 6919: '▁실사', 6920: '▁웃었다', 6921: '▁충분하다', 6922: '학년때', 6923: '▁이런식으로', 6924: '▁결국은', 6925: '▁보여줘', 6926: '분들께', 6927: '▁커버', 6928: '하겠습니다', 6929: '▁미쳐', 6930: '▁사랑스럽고', 6931: '▁오그라들', 6932: '▁당신의', 6933: '할정도로', 6934: '간만에', 6935: '▁빠지는', 6936: '▁의도는', 6937: '발랄', 6938: '▁모르겠네', 6939: '크리', 6940: '▁영원', 6941: '▁걷', 6942: '▁모습에', 6943: '▁환상적인', 6944: '▁아이들에게', 6945: '됬다', 6946: '▁완벽하다', 6947: '재미있다', 6948: '▁마냥', 6949: '▁아까', 6950: '▁살아있는', 6951: '▁역사에', 6952: '▁최고최고', 6953: '입니까', 6954: '맞음', 6955: '프라', 6956: 'se', 6957: '▁분장', 6958: '▁영화라지만', 6959: '▁못만들', 6960: '졌으면', 6961: '▁건질', 6962: '▁재밋엇', 6963: '▁되는데', 6964: '▁낚인', 6965: '▁것인가', 6966: '탓', 6967: '옷', 6968: '▁들어간', 6969: '▁신화', 6970: '섯', 6971: '▁보고나니', 6972: '병맛', 6973: 'ie', 6974: '▁취향이', 6975: '하하하하', 6976: '챙', 6977: '▁배우분들', 6978: '그런데', 6979: '▁감동입니다', 6980: '팝', 6981: '▁유치찬란', 6982: '훔', 6983: '깃', 6984: '팽', 6985: '랏', 6986: '▁여러모로', 6987: '▁원숭이', 6988: '▁더러워', 6989: '▁그려낸', 6990: '▁학생들', 6991: '▁난해한', 6992: 'com', 6993: '▁현실은', 6994: '▁볼만했', 6995: '페이스', 6996: '▁등록', 6997: '대체', 6998: '▁시험', 6999: '▁17', 7000: '▁가능성', 7001: '지않는다', 7002: '▁멋져요', 7003: '▁가짜', 7004: '▁싶다면', 7005: '▁마블', 7006: '▁아무나', 7007: '▁강추합니다', 7008: '▁살아남', 7009: '▁감명', 7010: '▁맞다', 7011: '▁부산', 7012: '▁구성도', 7013: '김정', 7014: '팬이', 7015: '!!!!!!!!', 7016: '저런', 7017: '▁어이없음', 7018: '▁케미', 7019: '▁소름끼치는', 7020: '▁주온', 7021: '▁제목에', 7022: '▁글고', 7023: '자꾸', 7024: '▁않습니다', 7025: '▁당장', 7026: '▁ᄒᄃᄃ', 7027: '영활', 7028: '▁못하겠다', 7029: '부르', 7030: '▁것들이', 7031: '▁될수', 7032: '었구나', 7033: '▁영화보다가', 7034: '▁조잡한', 7035: '▁기대했', 7036: '▁극장에', 7037: 'ay', 7038: '▁사회적', 7039: '▁어쩌다', 7040: '포드', 7041: '▁두명', 7042: '▁잠들', 7043: '앞에', 7044: '본거', 7045: '좀비', 7046: '선생님', 7047: '댓글', 7048: '옛날', 7049: 'CG', 7050: '▁관객이', 7051: '어떤', 7052: '▁지경', 7053: '륜', 7054: '어설프', 7055: '▁보아도', 7056: 'Y', 7057: '풋', 7058: '▁왕조현', 7059: '▁납득', 7060: '▁일주일', 7061: '▁옛날영화', 7062: '▁에라이', 7063: '▁강아지', 7064: '즐겁', 7065: '▁슈퍼맨', 7066: '▁찬양', 7067: '▁땡', 7068: '▁뭐여', 7069: '▁무의미', 7070: '▁스릴러물', 7071: '▁음향', 7072: '▁고증', 7073: '내려', 7074: '▁받았다', 7075: '▁않으', 7076: '▁열라', 7077: '공부', 7078: '▁폼', 7079: '▁매번', 7080: '▁한가지', 7081: '▁후하게', 7082: '▁장점', 7083: '믿고', 7084: '▁시체', 7085: '▁두개', 7086: '것들이', 7087: '▁안나옴', 7088: '▁데이', 7089: '▁고마', 7090: '▁웃겨서', 7091: '▁경우', 7092: '할수없는', 7093: '잘못', 7094: '▁제대로된', 7095: '비추', 7096: '▁말밖에', 7097: '▁성룡의', 7098: '▁모자라', 7099: 'ost', 7100: '▁모양', 7101: '▁설정은', 7102: '짓을', 7103: '▁나올때', 7104: '삼류', 7105: '▁스릴감', 7106: '▁멋진영화', 7107: '▁만들어주', 7108: '▁성인이', 7109: '▁진부하다', 7110: '▁영화인것', 7111: '첫', 7112: '^^;', 7113: '있었는데', 7114: '▁귀여', 7115: '뎀', 7116: '▁캐릭', 7117: '▁상황이', 7118: '밍', 7119: '뚜', 7120: 'ᄊ', 7121: '▁Good', 7122: '숲', 7123: '▁엉망진창', 7124: '▁다이하드', 7125: '▁클래식', 7126: '▁후속편', 7127: '▁극혐', 7128: '▁자연스럽게', 7129: '▁늙은', 7130: '▁2015', 7131: '▁멋짐', 7132: '▁아버지의', 7133: '동화', 7134: '▁아쉬워요', 7135: '주었다', 7136: '말이필요없', 7137: '아직', 7138: '보길', 7139: '▁노인', 7140: '▁가야', 7141: '▁보구', 7142: '▁커서', 7143: '▁있긴', 7144: '▁만들다', 7145: '▁이하도', 7146: '▁공연', 7147: '졌음', 7148: '회부터', 7149: '▁중국영화', 7150: '♥♥♥♥', 7151: '▁안좋', 7152: '같은데', 7153: '▁장진', 7154: '진행', 7155: '▁아니라면', 7156: '▁거기', 7157: '▁높지', 7158: '중간', 7159: '▁소유', 7160: '▁남는게', 7161: '▁억지스럽고', 7162: '▁않으면', 7163: '▁명성에', 7164: '▁완성', 7165: '▁나왔던', 7166: '살때', 7167: '▁무엇이', 7168: '놈은', 7169: '▁볼것', 7170: '▁글을', 7171: '그대로', 7172: '▁숨은', 7173: '야말로', 7174: '현실적', 7175: '났음', 7176: '▁부인', 7177: '▁넘어서', 7178: '▁복잡', 7179: '예쁘', 7180: '▁짱구', 7181: '▁제목은', 7182: '▁눈치', 7183: '초딩', 7184: '▁재미없네요', 7185: '▁느낀다', 7186: '둑', 7187: '흉', 7188: '덴', 7189: '▁고등학생', 7190: '▁뒤늦게', 7191: '▁빕니다', 7192: '턱', 7193: '▁세련된', 7194: '▁짬뽕', 7195: '덧', 7196: '뼈', 7197: '▁브래드', 7198: '▁한석규', 7199: '▁아기자기', 7200: '▁보지마셈', 7201: '▁온갖', 7202: '흑흑', 7203: '▁레옹', 7204: '▁추가', 7205: '▁재앙', 7206: '웠던', 7207: '▁있겠지만', 7208: '▁뭐랄까', 7209: '▁세계관', 7210: '▁또라이', 7211: '▁늙어', 7212: '▁개인적인', 7213: '깐', 7214: '프리', 7215: '마음이', 7216: '▁원작과', 7217: '차원', 7218: '▁채우', 7219: '▁성형', 7220: '▁보고있는데', 7221: '▁미학', 7222: '▁보고싶은데', 7223: '지라도', 7224: '▁오직', 7225: '방에서', 7226: '▁보게되는', 7227: '▁주려', 7228: '▁잼있네요', 7229: '점주기도', 7230: '하길래', 7231: '른다', 7232: '▁다른영화', 7233: '지못한', 7234: '▁화질', 7235: '▁같았', 7236: '▁스파이더맨', 7237: '▁뻥', 7238: '▁나오기', 7239: '스포', 7240: '▁안봐서', 7241: '▁찍으', 7242: '▁아이유', 7243: '키우', 7244: '▁의미있는', 7245: '▁잔잔함', 7246: '것같음', 7247: '거든', 7248: '▁눈으로', 7249: '보려', 7250: '▁알려주는', 7251: '▁심오', 7252: '▁뜬금없', 7253: 'ᅲᅲᅲᅲᅲ', 7254: '사극', 7255: '▁안좋아', 7256: '왠', 7257: '땡', 7258: '하였다', 7259: '눈물이', 7260: '한마디로', 7261: '결혼', 7262: '솜', 7263: '넬', 7264: '밟', 7265: '▁비쥬얼', 7266: '▁살렸다', 7267: '▁엔딩크레딧', 7268: '넓', 7269: '뜯', 7270: '캠', 7271: '쩍', 7272: '헨', 7273: '▁아바타', 7274: '▁완젼', 7275: '▁떡밥', 7276: '▁두고두고', 7277: '▁쏘우', 7278: '▁호흡', 7279: '▁좋더라', 7280: '질질', 7281: '하는것도', 7282: '하더라도', 7283: '투성이', 7284: '▁무협영화', 7285: '어른', 7286: '기술', 7287: '▁대박이다', 7288: '더라고요', 7289: '▁살아야', 7290: '▁후반부에', 7291: '▁자랑', 7292: '아까운영화', 7293: '▁모방', 7294: '못함', 7295: '▁역작', 7296: '▁상처를', 7297: '▁봐줄만', 7298: '▁예수', 7299: '▁주인공들이', 7300: '▁기억나', 7301: '구역', 7302: '▁많네', 7303: '▁망쳐놓', 7304: '께서', 7305: '▁감성을', 7306: '▁올라가', 7307: '▁허구', 7308: '▁제작자', 7309: '▁의해', 7310: '▁진부하', 7311: '▁토니', 7312: '추격', 7313: '보니깐', 7314: '▁오랜', 7315: '▁아오이', 7316: '봤네', 7317: '▁시기', 7318: '▁동감', 7319: '▁메세지를', 7320: '▁저리', 7321: '분정도', 7322: '감명깊', 7323: '켰', 7324: '▁싸이코패스', 7325: '잣', 7326: '줫', 7327: '뜸', 7328: '즉', 7329: '텅', 7330: '꾹', 7331: '▁김수현', 7332: '▁드니로', 7333: '▁어설프게', 7334: '묻', 7335: '나왔으면', 7336: '▁상업영화', 7337: '▁가슴아프', 7338: '▁반응', 7339: '▁승부', 7340: '넘치는', 7341: '남기', 7342: '▁개꿀잼', 7343: '▁냉정', 7344: '▁게스트', 7345: '▁상식', 7346: '▁파워', 7347: '▁ᄏᄏᄏᄏᄏᄏᄏᄏᄏᄏᄏ', 7348: '▁들어서', 7349: '나올때', 7350: '▁최고에요', 7351: '▁전율', 7352: '▁한동안', 7353: '▁뻔한스토리', 7354: '▁바라는', 7355: '봣어요', 7356: '▁빠져들게', 7357: '▁않아요', 7358: 'ce', 7359: '▁오해', 7360: '▁한사람', 7361: '다시보고싶', 7362: '▁철학적', 7363: '▁당황', 7364: '누가', 7365: '▁찾아볼', 7366: '▁밋밋한', 7367: '▁장소', 7368: '보여서', 7369: '▁청년', 7370: '▁진실을', 7371: '▁매주', 7372: '▁적절', 7373: '▁영상미와', 7374: '▁어색함', 7375: '▁인생에서', 7376: '왔습니다', 7377: '룬', 7378: '▁웃음을', 7379: '▁만들어야', 7380: 'il', 7381: '▁안보면', 7382: '▁movie', 7383: '▁런닝타임', 7384: '▁점수준것들', 7385: '쇠', 7386: '▁깨달음', 7387: '▁엄정화', 7388: '▁설경구', 7389: '▁박평식', 7390: '▁아쉬울', 7391: '▁멈추', 7392: '▁엉뚱', 7393: '▁감성팔이', 7394: '▁한효주', 7395: '▁흥미롭게', 7396: '▁심각하게', 7397: '▁심리묘사', 7398: '▁컬트', 7399: '▁증명', 7400: '▁그럴싸', 7401: '▁훌륭하', 7402: '▁픽사', 7403: '▁문득', 7404: '▁바란다', 7405: '▁허나', 7406: '▁러브스토리', 7407: '▁시골', 7408: '▁이딴게', 7409: '▁처음본다', 7410: '▁기억난다', 7411: '▁우리나라에서', 7412: '▁더욱더', 7413: '▁자세', 7414: '▁처음이네', 7415: '▁감정선', 7416: '▁챙겨보', 7417: '더스', 7418: '아니었', 7419: '없었다', 7420: '▁향수', 7421: '▁채워', 7422: '싶네요', 7423: '년간', 7424: '▁대역', 7425: '▁우린', 7426: '▁나열', 7427: '▁엘리', 7428: '들끼리', 7429: '▁편인데', 7430: '▁대사와', 7431: '보던', 7432: '▁전라도', 7433: '▁봤나', 7434: '습니까', 7435: '▁일본에서', 7436: '▁아이를', 7437: '▁있었음', 7438: '수작', 7439: '▁꼭봐야', 7440: '▁기대했던', 7441: '▁니네', 7442: '▁못하네', 7443: '드리고', 7444: '답다', 7445: '할려고', 7446: '▁때리', 7447: '▁무기', 7448: '중간에', 7449: '될까', 7450: '돌리', 7451: '▁독립', 7452: '▁태어나', 7453: '▁힘들었다', 7454: '▁당연한', 7455: '랍', 7456: '썰', 7457: '▁군더더기', 7458: '▁듭니다', 7459: '▁박찬욱', 7460: '▁송승헌', 7461: '▁안타까움', 7462: '▁호불호가', 7463: '곁', 7464: '썬', 7465: '▁외로움', 7466: '▁농담', 7467: '▁가까이', 7468: '▁지겨워', 7469: '▁상큼', 7470: '파이팅', 7471: '▁깜놀', 7472: '땜시', 7473: '▁괴롭', 7474: '▁각각', 7475: '깜', 7476: 'vs', 7477: '▁열광', 7478: '덕분에', 7479: '아름다운', 7480: '▁인물들의', 7481: '▁나오네요', 7482: '▁공허', 7483: '암튼', 7484: '▁소품', 7485: '▁초반엔', 7486: '▁복선', 7487: '▁알아야', 7488: '▁괜찮았던', 7489: '모르겠다', 7490: '폭력', 7491: '▁재밌었습니다', 7492: '▁느껴질', 7493: '▁짙', 7494: '세트', 7495: '▁미술', 7496: '▁no', 7497: '됬는데', 7498: '▁뉴스', 7499: '엇음', 7500: '▁울림', 7501: '▁에로물', 7502: '▁넘쳐', 7503: '▁레오', 7504: '▁감동적이었다', 7505: '▁또보고싶', 7506: '▁안되네', 7507: '▁짱이다', 7508: '누님', 7509: '하지않고', 7510: '되네', 7511: '▁데려다', 7512: '▁구조', 7513: '웃긴', 7514: '▁외면', 7515: '▁한장면', 7516: '▁심오한', 7517: '같애', 7518: '▁시청자들', 7519: '▁얘기를', 7520: '▁재밋어', 7521: '▁OOOO', 7522: '▁머야', 7523: '▁첨으로', 7524: '만든영화', 7525: '감상', 7526: '시키지', 7527: '▁진행되', 7528: '볼때', 7529: '▁형식', 7530: '지않나', 7531: 'id', 7532: '▁이것은', 7533: '▁이어지', 7534: '▁애니매이션', 7535: '▁오랫동안', 7536: '▁포켓몬', 7537: '꽁', 7538: '얀', 7539: '▁그냥저냥', 7540: '▁차승원', 7541: '▁손예진', 7542: '▁스페인', 7543: '▁김희선', 7544: '▁멘탈', 7545: '▁최민수', 7546: '▁빠순이', 7547: '▁어수선', 7548: '맞추', 7549: '▁수면제', 7550: '▁말이필요없다', 7551: '▁보이고', 7552: '▁로맨틱코미디', 7553: '▁go', 7554: '밖엔', 7555: '▁억지스런', 7556: '▁패션', 7557: '▁국산', 7558: '▁나올까', 7559: '▁-_-;;', 7560: '▁재탕', 7561: '탐', 7562: '▁없으니', 7563: '마무리', 7564: '▁번역', 7565: '▁그이상', 7566: '그래픽', 7567: '실패', 7568: '▁주고싶다', 7569: '▁답답해', 7570: '▁있었습니다', 7571: '▁어린아이', 7572: '▁끝남', 7573: '▁반감', 7574: '영화자체는', 7575: '▁니들이', 7576: '▁갖게', 7577: '▁만든건지', 7578: '▁아련한', 7579: '▁피식', 7580: '▁비교하면', 7581: '▁안좋은', 7582: '구먼', 7583: '▁긴장감과', 7584: '▁편하게', 7585: '▁당당', 7586: '▁듣기', 7587: '▁정체성', 7588: '▁물어', 7589: '▁머냐', 7590: '▁약하다', 7591: '▁들여', 7592: '▁시대적', 7593: '편부터', 7594: '듣고', 7595: '▁최고인듯', 7596: '▁후반부로', 7597: '▁정리', 7598: '해가는', 7599: '작가님', 7600: '데스', 7601: '▁아닌것', 7602: '▁출연자', 7603: '▁과정이', 7604: '호러', 7605: '▁성적', 7606: '하겠지만', 7607: '▁웃기기', 7608: '13', 7609: '뗄', 7610: '갈수', 7611: '첩', 7612: '혐', 7613: '콤', 7614: '소년', 7615: '봇', 7616: '옵', 7617: '아카데미', 7618: '▁흘렸', 7619: '좆', 7620: '푼', 7621: '▁오글거림', 7622: '룸', 7623: '▁팝콘', 7624: '▁정주행', 7625: '▁평점조절', 7626: '▁김혜수', 7627: '▁왕가위', 7628: '▁틀림없', 7629: '▁찬사를', 7630: '▁택시', 7631: '▁치밀하', 7632: '▁웃겼다', 7633: '▁생존', 7634: '▁사이코', 7635: '▁지브리', 7636: '▁저러', 7637: '▁치료', 7638: '전체', 7639: '▁절반', 7640: '▁우왕', 7641: '무서워', 7642: '촬영', 7643: '▁낚였', 7644: '잇엇', 7645: '그녀', 7646: '▁극본', 7647: '▁알바생', 7648: '▁높은지', 7649: '▁산만하', 7650: '▁내시간', 7651: '▁회상', 7652: '노출', 7653: '▁만들었냐', 7654: '▁기대된다', 7655: '70', 7656: '멋진', 7657: '▁언어', 7658: '▁우울한', 7659: '▁소리만', 7660: '아닌데', 7661: '▁쓰러', 7662: '18', 7663: '하려면', 7664: '그때', 7665: '▁심장이', 7666: '▁화끈한', 7667: '▁몰입하게', 7668: '▁뛰어넘', 7669: '▁싶음', 7670: '▁전설이', 7671: '▁막상', 7672: '▁걸작이다', 7673: '줘요', 7674: '▁도움이', 7675: '겟네', 7676: '완벽하게', 7677: '않았다', 7678: '으러', 7679: '형사', 7680: '▁통해서', 7681: '▁힘들어', 7682: '▁다름', 7683: '▁전율이', 7684: '▁감독에게', 7685: '새롭', 7686: '보기엔', 7687: '지루한', 7688: '▁멜로영화', 7689: '▁배려', 7690: '신선', 7691: '▁봐주', 7692: '끝날때까지', 7693: '▁아직까지도', 7694: '▁일깨워', 7695: '댓', 7696: '인상깊었', 7697: '냄', 7698: '▁크레딧', 7699: '넷', 7700: '런닝맨', 7701: '졋', 7702: '▁어차피', 7703: '▁가슴아픈', 7704: '▁웬만하면', 7705: '▁흑역사', 7706: '▁데뷔작', 7707: '▁다니엘', 7708: '▁커녕', 7709: '▁믿는', 7710: '깁니다', 7711: '▁킬링타임용으로도', 7712: '▁갖춘', 7713: '▁색채', 7714: '▁닮았', 7715: '▁반지의', 7716: '▁황금', 7717: '▁교회', 7718: '▁흥미롭지', 7719: '▁안가는', 7720: '▁피곤', 7721: '▁모독', 7722: '▁이기적인', 7723: '▁질문', 7724: '▁아깝습니다', 7725: '▁적극', 7726: '▁웃다가', 7727: '취향', 7728: '▁위험', 7729: '스턴', 7730: '비행', 7731: '▁정점', 7732: '▁해외', 7733: '▁향기', 7734: '스러웠다', 7735: '▁향한', 7736: '▁환상적', 7737: '▁걸리', 7738: '천재', 7739: '▁이따위로', 7740: '▁이딴거', 7741: '▁무리수', 7742: '▁구경', 7743: '죽이고', 7744: '▁점에서', 7745: '▁만날', 7746: '▁가족과', 7747: '▁볼만한데', 7748: '▁바라보는', 7749: '죽여', 7750: '그림', 7751: '▁연주', 7752: '뛰', 7753: '므로', 7754: '갔으면', 7755: '▁본능', 7756: '년동안', 7757: '몇번', 7758: '▁한숨', 7759: '▁인식', 7760: '설명', 7761: '랍니다', 7762: '▁영웅본색', 7763: '▁테이큰', 7764: '▁학창시절', 7765: '삘', 7766: '훗', 7767: '▁엑스맨', 7768: '▁차태현', 7769: '▁윌리스', 7770: '그나저나', 7771: '▁레이첼', 7772: '▁영향을', 7773: '▁귀찮', 7774: '▁빈약한', 7775: '▁비해서', 7776: '▁첫번째', 7777: '▁람보', 7778: '▁상당한', 7779: '▁언론', 7780: '▁낮추', 7781: '원주고', 7782: 'op', 7783: '▁바랬', 7784: '▁보게되었', 7785: '▁재방송', 7786: '▁감동적입니다', 7787: '높아', 7788: '▁가져다', 7789: '▁빠질', 7790: '▁환장', 7791: '▁히어로물', 7792: '▁동화같은', 7793: '▁인권', 7794: '200', 7795: '▁말았', 7796: '▁머리속', 7797: '▁모순', 7798: '▁제왕', 7799: '개연성', 7800: '보지마라', 7801: 'ᄃᄃᄃᄃ', 7802: '▁인간적으로', 7803: '▁현실적으로', 7804: '철학', 7805: '▁흉내내', 7806: '▁불쌍해서', 7807: '▁오글거리고', 7808: '▁잼없다', 7809: '▁끝난다', 7810: '▁정석', 7811: '재밋어요', 7812: '▁네이버평점', 7813: '했었다', 7814: 'ri', 7815: '▁공포감', 7816: '한텐', 7817: '한국영화', 7818: '작전', 7819: '▁액션물', 7820: '▁날라', 7821: '▁지금보면', 7822: '▁죽는다', 7823: '▁모여', 7824: '▁면이', 7825: '재밋음', 7826: '▁있어보이', 7827: '▁할말없', 7828: '▁화가나', 7829: '졌던', 7830: '▁졸잼', 7831: '밑에', 7832: '▁복잡한', 7833: '영화관에서', 7834: '▁말았다', 7835: '▁만들었으면', 7836: '줄알고', 7837: '이라는게', 7838: '▁소름끼치', 7839: '끝내', 7840: '겼다', 7841: '▁흔하', 7842: '▁어울리', 7843: '▁날려', 7844: '▁내놓', 7845: '달리', 7846: '▁부족하고', 7847: '있다면', 7848: '같네요', 7849: '▁나한테', 7850: '▁이어지는', 7851: '▁대학생', 7852: '▁필요하다', 7853: '▁중학교', 7854: '밋', 7855: '낯', 7856: '삽', 7857: '앜', 7858: '▁기다렸', 7859: '▁트랜스포머', 7860: '믄', 7861: '쏙', 7862: '▁국어책', 7863: '▁원피스', 7864: '▁흠잡을', 7865: '▁완죤', 7866: '▁멀쩡', 7867: '▁엠마', 7868: '▁관람객', 7869: '▁떨어졌', 7870: '▁찢어', 7871: '><', 7872: '▁미친듯이', 7873: '▁자연스러운', 7874: '▁방황', 7875: '▁과장된', 7876: '▁보러갔', 7877: '▁좋아하시는', 7878: '십니다', 7879: '▁마틴', 7880: '▁내취향', 7881: '▁찍을', 7882: '▁경악', 7883: '▁날리', 7884: '점도아깝다', 7885: '▁지나친', 7886: '▁안남', 7887: '▁안봄', 7888: '▁터지는', 7889: '▁알려준', 7890: '▁떠오르는', 7891: '▁결국엔', 7892: '▁고작', 7893: '갑자기', 7894: '테니', 7895: '네이버', 7896: '▁마법', 7897: '▁만드냐', 7898: '겠는가', 7899: '▁명작임', 7900: '▁여유', 7901: ':)', 7902: '▁아련하', 7903: '▁미안해', 7904: '▁아름다웠다', 7905: '▁명작이라고', 7906: '모델', 7907: '▁높네', 7908: '▁주원', 7909: '▁역겹', 7910: '걸작', 7911: '▁찾았', 7912: '▁현실적이고', 7913: '▁밀라', 7914: '눈물흘', 7915: '▁통쾌한', 7916: '싼', 7917: '되다니', 7918: '▁부끄러', 7919: '▁검색해', 7920: '쎄', 7921: '뱅', 7922: '맴', 7923: '욬', 7924: '^_^', 7925: '▁겨울왕국', 7926: '▁아이언맨', 7927: '▁클리셰', 7928: '▁홧팅', 7929: '▁흘렀', 7930: '▁2.22', 7931: '▁뚝뚝', 7932: '▁구혜선', 7933: '▁사무라이', 7934: '▁예뻐서', 7935: '▁쿵푸', 7936: '▁팍팍', 7937: '▁황정민', 7938: '▁힙합', 7939: '▁어떠한', 7940: '▁지저분', 7941: '▁타이틀', 7942: '▁클라라', 7943: '점준것중', 7944: '▁색깔', 7945: '▁튀어', 7946: '▁학살', 7947: '▁시간아까워', 7948: 'et', 7949: '인것같다', 7950: '▁장혁', 7951: '▁커피', 7952: '▁증거', 7953: '▁복수극', 7954: '▁허탈', 7955: '▁아침드라마', 7956: '▁간직', 7957: '▁반갑', 7958: 'ter', 7959: '▁끄는', 7960: '보지마세요', 7961: '▁드물', 7962: '큼', 7963: '▁없애', 7964: '▁건강', 7965: '는뎅', 7966: '▁찍지', 7967: '▁반개', 7968: '▁이은주', 7969: '무서운', 7970: 'ᄉᄇ', 7971: '더럽게', 7972: '잘봤습니다', 7973: '힘든', 7974: '연애', 7975: '볼때마다', 7976: '번이나', 7977: '졌어요', 7978: '별루', 7979: '▁개소리', 7980: '▁나왔음', 7981: '평생', 7982: '▁우리에게', 7983: '쪽으로', 7984: '▁안되나', 7985: '▁주먹', 7986: '줄거리', 7987: '▁오글거리', 7988: '하시네요', 7989: '▁풀어내', 7990: '▁봐줄', 7991: '▁끌려', 7992: '▁미래를', 7993: '60', 7994: '▁나올수', 7995: '바래', 7996: '▁지금이나', 7997: '▁허접하고', 7998: '사장', 7999: 'ᄏᄏᄏᄏᄏᄏᄏᄏ', 8000: '▁진정성', 8001: '****', 8002: '▁드림웍스', 8003: '▁새록새록', 8004: '▁시끄럽', 8005: '▁이따구로', 8006: '▁이탈리아', 8007: '▁인상깊게', 8008: '▁흐지부지', 8009: '떳', 8010: '▁드래곤볼', 8011: '▁어딘가', 8012: '▁픽션', 8013: '▁오페라', 8014: '▁나머진', 8015: '▁손색이', 8016: '▁보낸다', 8017: '죽음', 8018: 'dd', 8019: '▁못했던', 8020: '▁흐르', 8021: '▁등장하는', 8022: '▁재밌기만', 8023: '▁돈벌', 8024: '▁재미나게', 8025: '▁히트', 8026: '▁백배', 8027: '▁재미없었음', 8028: '봤었는데', 8029: '▁남친', 8030: '▁되었습니다', 8031: '▁보는동안', 8032: '▁198', 8033: '▁재수없', 8034: '▁일찍', 8035: '봤을땐', 8036: '▁감동도없고', 8037: '▁로마', 8038: '▁야하지도', 8039: '▁법정', 8040: '무서움', 8041: '▁잼나요', 8042: '쫌', 8043: '냄새', 8044: '히어로', 8045: '▁슬프네요', 8046: '▁빠지게', 8047: '▁없었는데', 8048: '▁믿을게', 8049: '▁적당하다', 8050: '▁멀리', 8051: '성룡', 8052: '▁알려주', 8053: '뭔지', 8054: '▁많음', 8055: '▁빌리', 8056: '▁특이한', 8057: '▁인내', 8058: '▁낚이지', 8059: '올려', 8060: '알았', 8061: '느니', 8062: '하나하나', 8063: '어느', 8064: '▁주위', 8065: '▁의도를', 8066: '▁재밌게봤는데', 8067: '하죠', 8068: '▁가식', 8069: '전달', 8070: '수가없다', 8071: '▁되어야', 8072: '▁매력적이다', 8073: '▁와닿지', 8074: '▁보는사람', 8075: '▁죽일', 8076: '뿔', 8077: '▁되어서', 8078: '잼나', 8079: '▁인도영화', 8080: '깡', 8081: '▁도라에몽', 8082: '▁고맙습니다', 8083: '▁다세포소녀', 8084: '▁다크나이트', 8085: '▁미야자키', 8086: '▁에드워드', 8087: '▁윌리엄', 8088: '▁어설퍼', 8089: '▁이것저것', 8090: '▁어지럽', 8091: '▁장동건', 8092: '▁강하게', 8093: '▁엽문', 8094: '▁전지현', 8095: '▁거슬리', 8096: '▁색다르', 8097: '▁이정재', 8098: '▁말았어야', 8099: '앵글', 8100: '▁성찰', 8101: '▁우롱', 8102: '▁놀라울', 8103: '▁지루했음', 8104: '시티', 8105: '▁굿굿굿', 8106: '▁한번씩', 8107: '▁모자란', 8108: '▁감동적임', 8109: 'om', 8110: '▁경계', 8111: '▁못따라', 8112: '활동', 8113: '///', 8114: '▁돋보인다', 8115: '▁기록', 8116: '역활', 8117: '▁귀여워서', 8118: '▁25', 8119: '클럽', 8120: '▁특수', 8121: '▁출신', 8122: '▁의미없는', 8123: '척하는', 8124: '▁남자배우', 8125: '▁틀어주', 8126: '▁소소하', 8127: '팬이라', 8128: '▁배울', 8129: '▁보고싶네요', 8130: '엿다', 8131: '▁포함', 8132: '▁살인자', 8133: '다시봐도', 8134: '▁존스', 8135: '혀서', 8136: '▁실화라는', 8137: '타령', 8138: '▁돋보이', 8139: 'ᄍᄍᄍ', 8140: '있었던', 8141: '당시에는', 8142: '▁자위', 8143: '▁돈아깝다', 8144: '중딩', 8145: '그자체', 8146: '▁진부함', 8147: '▁생각했던', 8148: '하잖아', 8149: '죽는줄', 8150: '▁유치하기', 8151: '설마', 8152: '▁따뜻함', 8153: '▁알게된', 8154: '▁느낄수있', 8155: '▁식상하다', 8156: '얘', 8157: '▁깨닫', 8158: '스러울', 8159: '킥', 8160: '드래곤', 8161: '툰', 8162: '▁소피마르소', 8163: '▁어쨌든', 8164: '▁원주율', 8165: '빤', 8166: '▁어우러진', 8167: '▁재발견', 8168: '켈', 8169: '▁키아누', 8170: '▁두려움', 8171: '▁오우삼', 8172: '▁모성애', 8173: '▁솔까', 8174: '▁일어날', 8175: '▁록키', 8176: '▁웅장', 8177: '▁전도연', 8178: '▁김구라', 8179: '▁허무함', 8180: '▁낚여서', 8181: '▁스토리라인', 8182: '▁사라진', 8183: '▁안성기', 8184: '▁존경합니다', 8185: '▁웃으며', 8186: '▁욕나온다', 8187: '▁빨간', 8188: '▁꺼져', 8189: '▁신세계', 8190: '▁많은것을', 8191: '▁8.5', 8192: '▁단역', 8193: '바른', 8194: '▁십점', 8195: '▁우승', 8196: '▁상실', 8197: '▁존재하는', 8198: '▁도중에', 8199: '▁관객에게', 8200: '▁탁월한', 8201: '▁재현', 8202: '▁멋있어', 8203: '▁자격', 8204: '▁미치는', 8205: '▁어디까지', 8206: '▁무색', 8207: '▁그지같은', 8208: '했더니', 8209: '▁헤어지', 8210: '▁좋아했던', 8211: '쿨', 8212: '쭉', 8213: '▁실망스럽다', 8214: '▁재미있어서', 8215: 'cg', 8216: '궁금해', 8217: '학대', 8218: '것도아니고', 8219: '할정도', 8220: '가아니라', 8221: '▁유혹', 8222: '있을까', 8223: '▁담아', 8224: '▁추천한다', 8225: '▁슬펐다', 8226: '▁변신', 8227: '▁좋구', 8228: '▁일생', 8229: '날때', 8230: '때리고', 8231: '▁좋아하네요', 8232: '바탕', 8233: '▁힘내', 8234: '장님', 8235: '▁드러나', 8236: '▁못하겠', 8237: '▁가볍지', 8238: '▁저희', 8239: '▁혼자서', 8240: '▁틀리', 8241: '▁솔직한', 8242: '▁가상', 8243: '남편', 8244: '동물', 8245: '거같네요', 8246: '▁아쉬워', 8247: 'ol', 8248: '믹', 8249: '뷔', 8250: '끓', 8251: '긍', 8252: '▁고스란히', 8253: '▁안타까웠', 8254: '▁정확히', 8255: '▁파워레인저', 8256: '겄', 8257: '▁김민종', 8258: '▁덴젤', 8259: '▁초중반', 8260: '습니당', 8261: '▁조승우', 8262: '▁김명민', 8263: '▁뮤직비디오', 8264: '▁비정상', 8265: '▁납치', 8266: '▁스킵', 8267: '▁사라져', 8268: '▁줄리아', 8269: '▁죽기전에', 8270: '▁고마운', 8271: '펙트', 8272: '겠냐', 8273: '헌터', 8274: '▁출발', 8275: '▁제정신', 8276: '▁본듯한', 8277: '원래', 8278: '-.-', 8279: '▁드문', 8280: '▁의견', 8281: '거든요', 8282: '▁부각', 8283: '▁안녕', 8284: '▁직장', 8285: '▁늙었', 8286: '▁불행', 8287: '노동자', 8288: '▁호감', 8289: '▁더빙판', 8290: '▁예산', 8291: '▁필요없음', 8292: '▁안타깝네요', 8293: 'PD', 8294: '하느라', 8295: '▁실패한', 8296: '▁굉장한', 8297: '것들은', 8298: '▁또봐도', 8299: '▁전투씬', 8300: '특유의', 8301: '슬퍼', 8302: '영웅', 8303: '등등', 8304: '▁훈훈하고', 8305: '▁집어', 8306: '▁이쁘게', 8307: '▁재밋네요', 8308: '이아니라', 8309: '▁고수', 8310: '▁압도', 8311: '▁비극적', 8312: '▁독특하', 8313: '▁잊혀', 8314: '졌습니다', 8315: '프트', 8316: '▁300', 8317: '좋겠다', 8318: '씩이나', 8319: '싶어서', 8320: '▁대단했', 8321: '재미있음', 8322: '▁매력있는', 8323: '똑같', 8324: '집중', 8325: '▁싶지만', 8326: '꿔', 8327: '▁담담', 8328: '▁신데렐라', 8329: '뎁', 8330: '▁겉멋만', 8331: '▁팀버튼', 8332: '묶', 8333: '밨', 8334: '윽', 8335: '코스프레', 8336: '▁똑바로', 8337: '겸', 8338: '늬', 8339: '▁어둡고', 8340: '띵', 8341: '▁여기저기', 8342: '▁태어난', 8343: '▁저절로', 8344: '까말까', 8345: '▁힘내세요', 8346: '▁잃어버린', 8347: '▁클라스', 8348: '▁2013', 8349: '▁보여줌', 8350: '▁만세', 8351: '▁어딜', 8352: '▁담겨있', 8353: '▁감옥', 8354: '▁이민기', 8355: '▁쩌네', 8356: '돋는', 8357: '▁몰락', 8358: '▁않았을까', 8359: '였으나', 8360: '▁극찬', 8361: '▁심각한', 8362: '라이브', 8363: '▁여태까지', 8364: '▁2003', 8365: '▁안들어', 8366: '달까', 8367: '▁영광', 8368: '▁울었습니다', 8369: '묘사', 8370: '▁신경쓰', 8371: '▁초반부터', 8372: '▁나오다니', 8373: '하구만', 8374: '▁아동용', 8375: '▁나은듯', 8376: '▁주목', 8377: '▁없구나', 8378: '▁생각나게', 8379: '▁조악', 8380: '본듯', 8381: '등급', 8382: '▁않았음', 8383: '알바들', 8384: '▁다른사람', 8385: '합니까', 8386: '넌', 8387: '느님', 8388: '챙겨', 8389: '필름', 8390: '아이돌', 8391: '▁다시보고싶은', 8392: '▁사망', 8393: '▁장난감', 8394: '▁꺼내', 8395: '먼저', 8396: '▁중반부', 8397: '▁실상', 8398: '엉성', 8399: '▁뽑아', 8400: '자막', 8401: '억울', 8402: '▁시간아깝', 8403: '▁수준이하', 8404: '내놔', 8405: '▁허접하다', 8406: 'ᄋᄋᄋ', 8407: '▁끊어', 8408: '했냐', 8409: '히히', 8410: '▁의식', 8411: '뎅', 8412: '▁돌아오', 8413: '교육', 8414: '▁미스터', 8415: '픔', 8416: '▁기억남', 8417: '즌', 8418: '▁베일', 8419: '빠지고', 8420: '뻑', 8421: '펑', 8422: '둡', 8423: '쉣', 8424: '▁엉터리', 8425: '륵', 8426: '벙', 8427: '펠', 8428: '샷', 8429: '▁미장센', 8430: '▁정당화', 8431: '별반개도', 8432: '▁임청하', 8433: '▁징징', 8434: '약간', 8435: '▁온몸', 8436: '▁간첩', 8437: '▁경의를', 8438: '안쓰는데', 8439: '▁애국심', 8440: '▁잔잔하지만', 8441: '해낸', 8442: '▁실패작', 8443: '할게요', 8444: '▁어린이들', 8445: '그룹', 8446: '▁중간부터', 8447: '▁유령', 8448: '겠군', 8449: '▁사람마다', 8450: '▁대실망', 8451: '씬에서', 8452: '▁카피', 8453: '▁없었으면', 8454: '▁낚였네', 8455: '점만점', 8456: '▁없을까', 8457: '▁한숨만', 8458: '▁봤었다', 8459: '▁무서워서', 8460: '▁올드', 8461: '▁임신', 8462: '▁정통', 8463: '2005', 8464: '▁조폭영화', 8465: '▁so', 8466: '주의자', 8467: '▁애국', 8468: '▁에러', 8469: '카드', 8470: '▁퇴보', 8471: '썩', 8472: '잭', 8473: '▁해피', 8474: '▁봐야한다', 8475: 'H', 8476: '▁그시절', 8477: '▁그지같', 8478: '시리즈중', 8479: '▁나왔는데', 8480: 'CGV', 8481: '볼려고', 8482: '▁브레', 8483: '▁명작이네요', 8484: '▁공식', 8485: '▁좋아한다', 8486: '▁재미있네', 8487: '찾기', 8488: '폭탄', 8489: '▁다시보게', 8490: '▁걸린', 8491: '하지않는', 8492: 'est', 8493: '▁부른', 8494: '나와라', 8495: '▁빨아', 8496: '닼ᄏᄏ', 8497: '실화라', 8498: '페이지', 8499: '나보네', 8500: '딜', 8501: '▁안되서', 8502: '끗', 8503: '쯧', 8504: 'http', 8505: '펀', 8506: '▁곱씹', 8507: '▁과대평가', 8508: '닦', 8509: '맷', 8510: '췄', 8511: '텀', 8512: '펴', 8513: '핏', 8514: '흰', 8515: '륙', 8516: '▁간간히', 8517: '▁절제된', 8518: '▁최민식', 8519: '▁소지섭', 8520: '▁신세경', 8521: '▁ᄇᄉ', 8522: '▁오인혜', 8523: '▁조용히', 8524: '▁함부로', 8525: '▁콜린', 8526: '▁다운로드', 8527: '▁7.5', 8528: '▁담백하', 8529: '▁모티브', 8530: '://', 8531: '▁이해안가', 8532: '빼놓', 8533: '▁억지설정', 8534: '▁ᄅᄋ', 8535: '▁역쉬', 8536: '▁중후반', 8537: '▁활용', 8538: '▁2004', 8539: '빼', 8540: '▁돌려줘', 8541: '▁중반부터', 8542: '▁이나영', 8543: '▁밀어', 8544: '▁총알', 8545: '▁노튼', 8546: '♡♡♡', 8547: '▁불법', 8548: '▁분명히', 8549: '▁아쉬웠지만', 8550: '▁만들어준', 8551: '▁엉성하다', 8552: '▁몰랐는데', 8553: '잊혀지', 8554: '▁종영', 8555: '하곤', 8556: '것같습니다', 8557: '▁울었던', 8558: '▁개독', 8559: '▁그지없', 8560: '▁데미', 8561: '▁있나요', 8562: '말이필요', 8563: '톰', 8564: '낙', 8565: '뽑', 8566: '귀여워', 8567: '▁물건', 8568: '▁비현실적인', 8569: '▁광팬', 8570: '▁표현했다', 8571: '제작비', 8572: '▁다음편', 8573: '▁조금씩', 8574: 'ma', 8575: '것일까', 8576: 'ᅲᅲᅲᅲᅲᅲᅲᅲ', 8577: '유머', 8578: '▁촌스러', 8579: '▁위험한', 8580: '할텐데', 8581: 'ck', 8582: '쳐먹', 8583: '▁죽었다', 8584: '123', 8585: '렴', 8586: '엣', 8587: '▁기대됩니다', 8588: '▁에일리언', 8589: '▁웹툰', 8590: '▁톰크루즈', 8591: '▁허무맹랑', 8592: '럿', 8593: '탠', 8594: '뉘', 8595: '▁김태희', 8596: '▁스피드', 8597: '▁미치도록', 8598: '▁잘생긴', 8599: '▁성유리', 8600: '▁사로잡', 8601: '▁끊임없', 8602: '▁슈렉', 8603: '▁침묵', 8604: '▁거대한', 8605: '▁증말', 8606: '▁뛰쳐', 8607: '▁초능력', 8608: '▁부끄러운', 8609: '▁응원합니다', 8610: '▁출현', 8611: '▁얘들', 8612: '▁첨이네', 8613: '▁물씬', 8614: '▁존잼', 8615: '▁넘어선', 8616: '▁외치', 8617: '줬는데', 8618: '▁상영시간', 8619: '▁최고였습니다', 8620: '▁공감가는', 8621: '▁경제', 8622: '▁좋아해요', 8623: '▁성경', 8624: '▁하던가', 8625: '▁기분좋은', 8626: 'all', 8627: '러브', 8628: '▁남발', 8629: '▁전락', 8630: '▁심히', 8631: '▁선동영화', 8632: '▁압도적', 8633: '끊', 8634: '저예산', 8635: '이쁘고', 8636: '▁재미있었던', 8637: '왜이래', 8638: '겐', 8639: '왔던', 8640: '존재', 8641: '▁보시는', 8642: '싶을때', 8643: '▁몰입되', 8644: '영환줄', 8645: '만들엇', 8646: '엇어요', 8647: '▁잠자', 8648: '변화', 8649: '짓거리', 8650: '꿨', 8651: '▁MBC', 8652: '▁매끄럽지', 8653: '▁송혜교', 8654: '▁파라노말', 8655: '궈', 8656: '긔', 8657: '딕', 8658: '쉰', 8659: '↓', 8660: '웰', 8661: '▁양동근', 8662: '▁베트남', 8663: '▁더더욱', 8664: '▁멘붕', 8665: '나옵니다', 8666: '떄문에', 8667: '▁정신나간', 8668: '▁아이러니', 8669: '▁혹평', 8670: '▁짐승', 8671: '▁그들만의', 8672: '▁젊음', 8673: '▁아까웠던', 8674: '▁사기꾼', 8675: '▁뉴욕', 8676: '▁즐겁고', 8677: '▁가해자', 8678: 'ᄂᄂ', 8679: '▁눈요기', 8680: '▁말이필요없는', 8681: '▁유지태', 8682: '▁돈낭비', 8683: '▁그럼에도', 8684: '▁접근', 8685: '▁대표적인', 8686: '▁내겐', 8687: '주관적', 8688: '봣던', 8689: '▁씨발', 8690: '▁기념', 8691: '▁긴박감', 8692: '▁집단', 8693: '낮아서', 8694: '▁중학교때', 8695: '흥미를', 8696: '하는짓', 8697: '▁외국영화', 8698: '▁일탈', 8699: '때메', 8700: '▁리메이크작', 8701: '재미잇', 8702: '센스', 8703: '▁허무하게', 8704: '▁받아들이', 8705: '▁어케', 8706: '겁니까', 8707: '써서', 8708: '▁담아내', 8709: '▁답답해서', 8710: 'mo', 8711: '작렬', 8712: '▁처음이네요', 8713: '▁기억될', 8714: '▁강제', 8715: '▁써야', 8716: '빅', 8717: '아줌마', 8718: '진정한', 8719: '유쾌', 8720: '▁가려', 8721: '부턴', 8722: '▁정치적', 8723: '좋았어요', 8724: '▁끝날때', 8725: '영상미', 8726: '티비에서', 8727: '▁착하', 8728: '▁이해되', 8729: '▁엉성함', 8730: '▁뭐든', 8731: '♡♡', 8732: '▁들어오', 8733: '▁떠오르', 8734: '▁터져', 8735: '▁떠들', 8736: '▁실망스럽', 8737: '둬', 8738: '▁안타까울', 8739: '▁엉덩이', 8740: '▁인종차별', 8741: '▁인터뷰', 8742: '▁일베충', 8743: '▁KBS', 8744: '▁끝판왕', 8745: '뱉', 8746: '쌩', 8747: '탭', 8748: '▁뜨거운', 8749: '넼', 8750: 'mbc', 8751: '▁맙시다', 8752: '▁아프리카', 8753: '▁양조위', 8754: '▁헷갈', 8755: '#', 8756: '▁구역질', 8757: '바이러스', 8758: '▁이연희', 8759: '이건뭐', 8760: 'very', 8761: '▁별한개도', 8762: '▁스티브', 8763: '▁특징', 8764: '▁바꾼', 8765: '▁뗄수', 8766: '▁표정연기', 8767: '▁몇번이고', 8768: '▁에릭', 8769: '▁틈이', 8770: '▁태양', 8771: '▁몇번이나', 8772: '45', 8773: '▁해도해도', 8774: '▁여튼', 8775: '▁볼만해요', 8776: '▁원표', 8777: '▁볼만했음', 8778: '▁못생겼', 8779: '▁존재한다', 8780: '▁잼없음', 8781: '▁별로였음', 8782: '▁발레', 8783: '▁존내', 8784: '▁알겠지만', 8785: 'im', 8786: '▁훈훈하', 8787: '▁잃지', 8788: '하지마세요', 8789: '녀석들', 8790: '▁드러내', 8791: '퇴', 8792: '완벽', 8793: '▁향해', 8794: '▁중반까지', 8795: '▁나쁜놈', 8796: '왜이리', 8797: '▁돈아깝', 8798: '▁맞지않', 8799: '괜히', 8800: '봤더니', 8801: '교훈', 8802: '영환데', 8803: '조각', 8804: '해야한다', 8805: '마냥', 8806: '같았음', 8807: '▁잼있어', 8808: '거아닌가', 8809: '-_', 8810: '▁되돌아', 8811: '젼', 8812: '뜬금', 8813: '하우스', 8814: '해지네요', 8815: '튜', 8816: '▁ocn', 8817: '’', 8818: '▁보냅니다', 8819: '▁슬래셔', 8820: '▁쌩뚱맞', 8821: '▁임권택', 8822: '▁졸업작품', 8823: '▁카메론', 8824: '꺄', 8825: '▁오타쿠', 8826: '▁공중파', 8827: '▁큐브', 8828: '▁가르쳐', 8829: '▁단체로', 8830: '▁징그러', 8831: '▁닥터', 8832: '▁화려함', 8833: '▁신민아', 8834: '▁이순신', 8835: '▁일요일', 8836: '▁나타내', 8837: '▁감수성', 8838: '▁케이트', 8839: '▁best', 8840: '▁계획', 8841: '▁어려웠', 8842: '▁생략', 8843: '▁맛깔', 8844: '▁적나라하', 8845: '버려서', 8846: '▁원작소설', 8847: '▁비싼', 8848: '▁빠져드는', 8849: '창있네', 8850: '▁대표작', 8851: '같습니다', 8852: '▁미흡', 8853: '▁성숙', 8854: '▁어이없어서', 8855: '▁모든것을', 8856: '▁신나게', 8857: '재밌게봤습니다', 8858: '▁언급', 8859: '▁지났지만', 8860: '따윈', 8861: '▁우습', 8862: '▁들려', 8863: '▁어렸을적', 8864: '▁때문이다', 8865: '닼', 8866: '▁초딩들', 8867: '▁웃길', 8868: '▁남자라면', 8869: '▁최고였어요', 8870: '▁초등학교때', 8871: '▁서극', 8872: '▁불편함', 8873: '▁슬퍼서', 8874: '▁2010', 8875: '▁실소', 8876: '▁미국판', 8877: '▁마초', 8878: '▁철학적인', 8879: '▁되었는데', 8880: '빈약', 8881: '지마시길', 8882: '▁복잡하', 8883: '시켜주', 8884: '있을때', 8885: '▁바라보', 8886: '친구들', 8887: '웬', 8888: '시간낭비', 8889: '극장판', 8890: '티브', 8891: '결론', 8892: '▁아쉽긴', 8893: '▁던지는', 8894: '홍보', 8895: '좋앗', 8896: '▁상관', 8897: '퉁', 8898: '▁긴박', 8899: '률', 8900: '밉', 8901: '▁찝찝한', 8902: '▁펭귄', 8903: '▁핸드폰', 8904: '‘', 8905: '넋', 8906: '댕', 8907: '뺨', 8908: '뻘', 8909: '쑤', 8910: '흙', 8911: '▁송지효', 8912: '▁자본주의', 8913: '▁주상욱', 8914: '▁홍금보', 8915: '▁기분좋게', 8916: '▁김강우', 8917: '▁몬스터', 8918: '▁환타지', 8919: '▁엉엉', 8920: '▁한쿡영화', 8921: '▁강지환', 8922: '▁임수정', 8923: '▁퍼즐', 8924: '^.^', 8925: '▁담아낸', 8926: '▁은퇴', 8927: '▁위대함', 8928: '▁크리스찬', 8929: '▁고찰', 8930: '▁가끔씩', 8931: '▁용가리', 8932: '▁잃어', 8933: '▁놀랬', 8934: '뛰어', 8935: '▁깨알', 8936: '▁구리다', 8937: '▁담겨', 8938: '▁고인의', 8939: '▁나쁘진', 8940: '▁지들끼리', 8941: '▁미안하지만', 8942: '▁웃어야', 8943: '점대라니', 8944: '▁괜찮던데', 8945: '▁추락', 8946: '▁신념', 8947: '▁만들어졌다', 8948: '▁딱딱', 8949: '버젼', 8950: '▁여왕', 8951: '▁어째서', 8952: '▁묻혀', 8953: '▁요약', 8954: '▁젊은이들', 8955: '▁모르겠는데', 8956: '▁도통', 8957: '▁자극하는', 8958: '27', 8959: '▁말해주는', 8960: '▁몽환적인', 8961: '▁고발', 8962: '▁사실적으로', 8963: '▁깔끔하고', 8964: '▁뻔하지만', 8965: '▁어린이용', 8966: 'ill', 8967: '▁누워', 8968: '▁지존', 8969: '그치만', 8970: '▁오락성', 8971: '으세요', 8972: '▁197', 8973: '▁작년', 8974: '번씩', 8975: '엿음', 8976: '야되는데', 8977: '▁고급', 8978: '▁악평', 8979: '젖', 8980: '확실', 8981: '낳', 8982: '매니아', 8983: '로인해', 8984: '훨씬', 8985: '흐름', 8986: '불륜', 8987: '채널에서', 8988: '▁교감', 8989: '관련', 8990: '이쁘다', 8991: '▁심사위원', 8992: '▁뭔내용인지', 8993: '▁서스펜스', 8994: '▁역사왜곡', 8995: '▁용두사미', 8996: '▁채플린', 8997: '샬', 8998: '쌀', 8999: '힛', 9000: '▁내러티브', 9001: '▁박신양', 9002: '▁리즈시절', 9003: '▁못생긴', 9004: '▁안쓰러', 9005: '▁섭외', 9006: '▁콤비', 9007: '▁집어넣', 9008: '▁고질라', 9009: '안남기는데', 9010: '▁이범수', 9011: '▁훈남', 9012: '▁새롭게', 9013: '▁흥미롭고', 9014: '되었던', 9015: '잘생김', 9016: '변호사', 9017: '▁경쾌', 9018: '▁촌스러운', 9019: '▁황홀', 9020: '▁악몽', 9021: '▁신파극', 9022: '▁자세히', 9023: '▁사라졌', 9024: '▁비롯', 9025: 'XX', 9026: '▁닮아', 9027: '▁잘생기고', 9028: '▁지루했어요', 9029: '▁속아서', 9030: '♥♥♥♥♥', 9031: '▁타락', 9032: '▁지금껏', 9033: '▁붙여', 9034: '▁파악', 9035: '▁나누', 9036: '▁예매', 9037: '가능한', 9038: 'ore', 9039: '▁멋있어요', 9040: '▁신나는', 9041: '▁요소들', 9042: '봣음', 9043: '다음으로', 9044: '▁중요하다', 9045: '▁첫장면', 9046: '봣습니다', 9047: '짱짱짱', 9048: '▁do', 9049: '▁생각해볼', 9050: '빠짐', 9051: '점드립니다', 9052: '▁당신들', 9053: 'W', 9054: '꽝', 9055: '감사합니다', 9056: '▁굉장', 9057: 'ᅳᅮ', 9058: '빼면', 9059: '▁합쳐', 9060: '무협', 9061: 'ent', 9062: '▁찾아볼수', 9063: '다고생각', 9064: 'ain', 9065: '아아아아', 9066: '잼잇', 9067: '파트', 9068: '▁조용하', 9069: '씁', 9070: '뜩', 9071: '쵝', 9072: '맙', 9073: 'q', 9074: '듀', 9075: '▁오리지널', 9076: '▁컨저링', 9077: '▁크리스토퍼', 9078: '▁혹성탈출', 9079: '▁후덜덜', 9080: '됌', 9081: '엎', 9082: '웩', 9083: '핸', 9084: '▁에이리언', 9085: '댐', 9086: '▁무슨내용인지', 9087: '▁치밀한', 9088: '뒀', 9089: '▁뒤집어', 9090: '▁팔아먹', 9091: '▁전문성우', 9092: '▁박해일', 9093: '▁유오성', 9094: 'ᅩᅩ', 9095: '▁암걸리', 9096: '▁어울려', 9097: '▁웃겼음', 9098: '김남길', 9099: '씁니다', 9100: '▁체험', 9101: '▁과도한', 9102: '▁유아인', 9103: '▁일깨워주는', 9104: '▁씁쓸한', 9105: '▁웬만한', 9106: '배속으로', 9107: '▁때우기', 9108: '▁적절히', 9109: '본것중', 9110: '▁친절', 9111: '▁느껴짐', 9112: '▁빡치', 9113: '▁산만한', 9114: '▁팬이라면', 9115: '대단히', 9116: '▁따뜻하게', 9117: '▁금방', 9118: '▁실종', 9119: '▁장나라', 9120: '▁별다른', 9121: '▁어쩌라고', 9122: '▁좋아한다면', 9123: '▁실망스러운', 9124: '▁예수님', 9125: '▁느꼈던', 9126: '▁매회', 9127: '싶을정도', 9128: '▁뻔히', 9129: '재미가없', 9130: '▁실화라니', 9131: '▁사나이', 9132: '▁No', 9133: '▁빈약하', 9134: '느껴졌', 9135: '배우님', 9136: '▁도움', 9137: '채널', 9138: '느와르', 9139: '카메라', 9140: '통쾌', 9141: '▁읽어보', 9142: '슬픈', 9143: '▁be', 9144: '▁존재감', 9145: '섹스', 9146: '샀', 9147: '쏠', 9148: '쿄', 9149: 'Z', 9150: '▁kbs', 9151: '▁두근두근', 9152: '▁어마어마', 9153: '人', 9154: '샌', 9155: '엌', 9156: '짬', 9157: '콕', 9158: '·', 9159: '▁ebs', 9160: '▁클린트', 9161: '▁예뻐요', 9162: '▁홍진호', 9163: '▁불면증', 9164: '▁불필요한', 9165: '▁정재영', 9166: '▁나중엔', 9167: '▁사춘기', 9168: '▁러셀', 9169: '뿐더러', 9170: '▁에로틱', 9171: '▁닌자', 9172: '▁짧게', 9173: '붕괴', 9174: '▁일어난', 9175: '▁흥해라', 9176: '▁빼앗', 9177: '▁꺼버렸다', 9178: '▁내인생최고의', 9179: '▁이준기', 9180: '▁즐겁다', 9181: '▁잃고', 9182: '▁가관이', 9183: '▁가졌', 9184: '▁프레디', 9185: '▁환불', 9186: '▁알았더니', 9187: '▁언제쯤', 9188: '▁대략', 9189: '▁현빈', 9190: '▁맞춘', 9191: '▁손색없', 9192: '▁느낌이랄까', 9193: '▁좋아할만한', 9194: '▁스릴있고', 9195: '▁다를게', 9196: '▁느린', 9197: '▁고백', 9198: '▁만들어주세요', 9199: '▁국제', 9200: '▁이번엔', 9201: '▁창조', 9202: '▁차원이', 9203: 'ap', 9204: '▁심심해서', 9205: '심리를', 9206: '▁볼만했는데', 9207: '번쯤', 9208: '▁사랑스럽', 9209: '영화제에서', 9210: '없엇', 9211: '▁봐왔', 9212: '아아아', 9213: '재밋게봣', 9214: '곰', 9215: '블랙', 9216: '▁몽환적', 9217: '▁밑에분', 9218: '녀석', 9219: '킬링타임용', 9220: '뀌', 9221: '기다리', 9222: '줍', 9223: '낄', 9224: '캡', 9225: 'ᅦ', 9226: '▁로보캅', 9227: '▁인상깊은', 9228: '댈', 9229: '돕', 9230: '욜', 9231: '촉', 9232: '▁인터스텔라', 9233: '꽂', 9234: '묵직한', 9235: '숫', 9236: '쌈', 9237: '칩', 9238: '▁가볍고', 9239: '▁서부극', 9240: '▁충무로', 9241: '▁나발이고', 9242: '▁스텝업', 9243: '위원회', 9244: '▁옹박', 9245: '▁불후의', 9246: '▁못미치는', 9247: '▁0.5', 9248: '▁소리지르', 9249: '▁둘째', 9250: '▁무너지', 9251: '▁레이싱', 9252: '▁아시아', 9253: '▁닮은', 9254: '▁갖추', 9255: '▁과잉', 9256: '점드림', 9257: '▁결합', 9258: '▁호텔', 9259: '▁습작', 9260: '수있을까', 9261: '▁2008', 9262: '▁치명적', 9263: '▁담담하게', 9264: '▁알게해준', 9265: '▁나았을', 9266: '▁악플', 9267: '▁추잡', 9268: '동아리', 9269: '▁괴작', 9270: '▁같기도', 9271: '▁상처받', 9272: '▁키워', 9273: '▁않았으면', 9274: '▁사실적이', 9275: '을위해', 9276: '라이더', 9277: '▁실망시키지', 9278: '좋겟다', 9279: '안타깝', 9280: '퀄리티', 9281: '무엇보다', 9282: '1,2', 9283: '흥행', 9284: '독립영화', 9285: '터지고', 9286: '삭제', 9287: 'ig', 9288: '끄러운', 9289: '▁왠만해선', 9290: '▁황비홍', 9291: '톡', 9292: '▁리암니슨', 9293: '▁매트릭스', 9294: '▁서프라이즈', 9295: '▁스칼렛', 9296: '▁어설픔', 9297: '▁유치뽕짝', 9298: '▁이스트우드', 9299: '▁쫄깃', 9300: '▁찝찝함', 9301: '딧', 9302: '톨', 9303: '▁무책임', 9304: '▁한예슬', 9305: '▁지하철', 9306: '▁추악한', 9307: '▁삽입', 9308: '▁알맹이', 9309: '▁빅뱅', 9310: '▁옹호', 9311: '▁엑소', 9312: '▁잘만들어진', 9313: '▁한지민', 9314: '▁묘하게', 9315: '▁서부영화', 9316: '▁조인성', 9317: '▁가득찬', 9318: '▁묻어나는', 9319: '▁실컷', 9320: '▁my', 9321: '▁활약', 9322: '▁지루하지않고', 9323: '▁재치있', 9324: '▁외로운', 9325: '▁얼른', 9326: '▁감동적이었습니다', 9327: '▁처참', 9328: '▁승화', 9329: '▁호평', 9330: '▁공존', 9331: '▁도덕', 9332: '▁있었을까', 9333: '▁고향', 9334: '▁우익', 9335: '▁2001', 9336: '헤헤', 9337: '보여준', 9338: '라이트', 9339: '했으니', 9340: 'cgv', 9341: '▁볼거없', 9342: 'ly', 9343: '같았다', 9344: '▁잠든', 9345: '말아야', 9346: '녹', 9347: '폼', 9348: 'J', 9349: '캬', 9350: 'OST', 9351: '예고편', 9352: '하다못해', 9353: '어쩔수없', 9354: '펐', 9355: '쌤', 9356: '껍', 9357: '쫙', 9358: '펄', 9359: '핳', 9360: '▁뒷통수', 9361: '▁어벤져스', 9362: '▁옴니버스', 9363: '▁콘서트', 9364: '▁휴머니즘', 9365: '뇨', 9366: '뺀', 9367: '짖', 9368: '▁떠올리게', 9369: '▁아메리칸', 9370: '헝', 9371: 'zzz', 9372: '▁뚜렷', 9373: '▁몸부림', 9374: '▁썰렁', 9375: '귓', 9376: '▁강호동', 9377: '▁어떨까', 9378: '▁탕웨이', 9379: '▁관람불가', 9380: '▁and', 9381: '▁미치겠다', 9382: '▁훈련', 9383: '▁가만히', 9384: '▁사다코', 9385: '▁흡사', 9386: '▁깨달았다', 9387: '▁와이프', 9388: '▁흥미롭다', 9389: '▁저녁', 9390: '▁어둠', 9391: '▁무게감', 9392: '▁육체', 9393: '▁선율', 9394: '▁독백', 9395: '▁적응', 9396: '▁건축', 9397: '▁정도껏', 9398: '▁봤었던', 9399: '죽이는', 9400: '▁슴가', 9401: '▁과장되', 9402: '볍', 9403: '▁따른', 9404: '▁밥먹', 9405: '메시지를', 9406: '때문인지', 9407: '▁즐겨보', 9408: '▁자랑스럽', 9409: '꽤', 9410: '잔잔한', 9411: '같았는데', 9412: '▁돌아간', 9413: '중요한', 9414: '롬', 9415: '▁love', 9416: '▁식스센스', 9417: '▁어땠을까', 9418: '▁엑소시스트', 9419: '▁원맨쇼', 9420: '▁최곱니다', 9421: '됴', 9422: '좁', 9423: '쬐', 9424: '퍽', 9425: '횽', 9426: '▁고맙다', 9427: '▁김하늘', 9428: '▁어울린다', 9429: '▁신현준', 9430: '▁괜춘', 9431: '-0-', 9432: '▁짜여진', 9433: '▁이동욱', 9434: '▁짧아서', 9435: '▁낯선', 9436: '▁연관성', 9437: '▁왜이러지', 9438: '시켰다', 9439: '▁잠수함', 9440: '스캔들', 9441: '▁이성재', 9442: '▁뒤로갈수록', 9443: '▁김선아', 9444: '▁나눠', 9445: '▁묘미', 9446: '▁루이스', 9447: '▁모르겟다', 9448: '▁잔잔하니', 9449: '▁조용한', 9450: '▁갑갑', 9451: '▁이름값', 9452: '▁반성해라', 9453: '▁끝내준다', 9454: '▁개봉했을때', 9455: '▁깨알같은', 9456: '▁잔인하기만', 9457: '▁모아놓', 9458: '▁몇안되는', 9459: '▁심심할때', 9460: '▁당최', 9461: '▁종합', 9462: '▁위하여', 9463: '▁가치관', 9464: '게아니라', 9465: '했더라면', 9466: '객관적으로', 9467: '▁찾으', 9468: '▁머릿속에', 9469: '▁아역배우', 9470: '을위한', 9471: '주는것도', 9472: '보기싫어', 9473: '▁탁월', 9474: '▁감동적이었', 9475: '쪼', 9476: '[', 9477: '오히려', 9478: '홍콩', 9479: '슬픔', 9480: '▁집중력', 9481: '중간중간', 9482: '▁기억속에', 9483: '▁말도안되', 9484: '▁없잖아', 9485: '밌', 9486: '훼', 9487: '▁페이크', 9488: '덥', 9489: '▁스탤론', 9490: '▁안됩니다', 9491: '▁엑스트라', 9492: '▁톰행크스', 9493: '젓', 9494: '▁줄리엣', 9495: '▁크루즈', 9496: '냅', 9497: '▁주옥같은', 9498: '얌', 9499: '▁로렌스', 9500: '▁캐서린', 9501: '▁빡쳐서', 9502: '십시오', 9503: '▁보기드문', 9504: '▁재해석', 9505: '▁어려울', 9506: '▁하이킥', 9507: '▁장쯔이', 9508: '봅시다', 9509: '▁당췌', 9510: '▁애절한', 9511: '▁좌파', 9512: '짠', 9513: '겻', 9514: '찢', 9515: '멕', 9516: '붐', 9517: '솟', 9518: '횡', 9519: 'ᆞ', 9520: '닳', 9521: '릉', 9522: '샹', 9523: '탔', 9524: '팡', 9525: '죤', 9526: '땠', 9527: '씌', 9528: '욧', 9529: '젬', 9530: '캅', 9531: '킷', 9532: '햐', 9533: '릅', 9534: '렘', 9535: '쩡', 9536: '갸', 9537: '쨩', 9538: 'ᄑ', 9539: '꿋', 9540: '뚤', 9541: '썅', 9542: '씽', 9543: '쟝', 9544: '랙', 9545: '걱', 9546: '캔', 9547: '甲', 9548: '윙', 9549: '윗', 9550: '뤽', 9551: '쌔', 9552: '쪄', 9553: '핍', 9554: 'ᅭ', 9555: '갤', 9556: '훅', 9557: '훌', 9558: '륭', 9559: '됀', 9560: '뜰', 9561: '엥', 9562: '짚', 9563: '괘', 9564: '붓', 9565: '갇', 9566: '굵', 9567: '꺅', 9568: '꾀', 9569: '몹', 9570: '빚', 9571: '뺐', 9572: '섰', 9573: '얕', 9574: '깬', 9575: '깽', 9576: '늠', 9577: '밭', 9578: '썽', 9579: '슌', 9580: '○', 9581: '\\\\', 9582: '맡', 9583: '깁', 9584: '늑', 9585: '뭥', 9586: 'Q', 9587: '곸', 9588: '셰', 9589: '퀼', 9590: '짭', 9591: '쵸', 9592: '|', 9593: '둠', 9594: '밸', 9595: '웁', 9596: '쟤', 9597: '휼', 9598: '뱃', 9599: '및', 9600: '냉', 9601: '힙', 9602: '뎌', 9603: 'ᅣ', 9604: '댔', 9605: '뛴', 9606: '빽', 9607: '쑈', 9608: '웹', 9609: '융', 9610: '뎈', 9611: '앳', 9612: '훨', 9613: '떤', 9614: '낌', 9615: '겜', 9616: '뵈', 9617: '쳇', 9618: '팜', 9619: '핡', 9620: '굼', 9621: '낱', 9622: '빔', 9623: '뺴', 9624: '젝', 9625: '♬', 9626: '乃', 9627: '無', 9628: '꺽', 9629: '꿉', 9630: '낰', 9631: '떴', 9632: '싯', 9633: '욘', 9634: '햄', 9635: 'ᅧ', 9636: '캣', 9637: '텍', 9638: '긁', 9639: '댜', 9640: '힝', 9641: '촬', 9642: '뿅', 9643: '→', 9644: '뇬', 9645: '쉘', 9646: '쥑', 9647: '“', 9648: '뮬', 9649: '샴', 9650: '옜', 9651: '、', 9652: '헬', 9653: '펙', 9654: '펼', 9655: '첼', 9656: '얔', 9657: '걔', 9658: '풉', 9659: '돠', 9660: '벡', 9661: '홉', 9662: '헛', 9663: '푹', 9664: '곧', 9665: '닙', 9666: '꺾', 9667: '땟', 9668: '첸', 9669: '멧', 9670: '쁠', 9671: '쨔', 9672: '쾅', 9673: '폄', 9674: '꿰', 9675: '”', 9676: '맬', 9677: '뷁', 9678: '읎', 9679: '쪙', 9680: '퉷', 9681: '훤', 9682: '룻', 9683: '쩐', 9684: '댁', 9685: '겔', 9686: '넴', 9687: '욯', 9688: '쫑', 9689: '갚', 9690: '넉', 9691: '뺑', 9692: '뿍', 9693: '쳣', 9694: '텨', 9695: '핥', 9696: '핰', 9697: '괸', 9698: '땔', 9699: '뭍', 9700: '씹', 9701: '땜', 9702: '헷', 9703: '숴', 9704: '쒯', 9705: '륨', 9706: '뻗', 9707: '쏜', 9708: '칵', 9709: '퀘', 9710: '롹', 9711: '잌', 9712: '쿤', 9713: '녁', 9714: '칫', 9715: '깼', 9716: '겅', 9717: '굽', 9718: '넥', 9719: '눅', 9720: '떵', 9721: '랖', 9722: '앰', 9723: '웡', 9724: '잰', 9725: '좃', 9726: '킁', 9727: '툴', 9728: '넝', 9729: '슥', 9730: '얍', 9731: '찼', 9732: '괄', 9733: '$', 9734: '뻥', 9735: '퐁', 9736: '끽', 9737: '껌', 9738: '챔', 9739: '꽈', 9740: '됏', 9741: '믓', 9742: '샵', 9743: '쒸', 9744: '읊', 9745: '졷', 9746: '쿼', 9747: '휙', 9748: '굶', 9749: '넨', 9750: '뿡', 9751: '잎', 9752: '꼇', 9753: '볶', 9754: '렜', 9755: '뤠', 9756: '슐', 9757: '♪', 9758: '욥', 9759: '죵', 9760: '꼐', 9761: '뎃', 9762: '왁', 9763: '썹', 9764: '옛', 9765: '쎈', 9766: '퀀', 9767: '꺠', 9768: '멱', 9769: '벳', 9770: '콱', 9771: '큭', 9772: '흣', 9773: 'ᄈ', 9774: '갯', 9775: '냔', 9776: '냠', 9777: '쏭', 9778: '잴', 9779: '헿', 9780: '뒷', 9781: '컥', 9782: '닛', 9783: '뒹', 9784: '섀', 9785: '궤', 9786: '꿍', 9787: '넛', 9788: '돔', 9789: '옌', 9790: '줏', 9791: '쨰', 9792: '팟', 9793: '햅', 9794: '곀', 9795: '캄', 9796: '챈', 9797: '걷', 9798: 'し', 9799: '女', 9800: '쮸', 9801: '컵', 9802: 'ᆪ', 9803: '』', 9804: '作', 9805: '놉', 9806: '뒈', 9807: '짰', 9808: '팰', 9809: '혓', 9810: '딥', 9811: '컹', 9812: '잦', 9813: '끙', 9814: '읭', 9815: '뭣', 9816: '웍', 9817: '뮈', 9818: '촤', 9819: '『', 9820: '딛', 9821: '랠', 9822: '뭄', 9823: '뽐', 9824: '웽', 9825: '찟', 9826: '찹', 9827: '캉', 9828: '펭', 9829: '촐', 9830: 'い', 9831: '死', 9832: '}', 9833: '봅', 9834: 'ッ', 9835: 'ス', 9836: '갘', 9837: '밓', 9838: '먀', 9839: '앱', 9840: '옄', 9841: '쫘', 9842: '챤', 9843: '깟', 9844: '뀨', 9845: '렙', 9846: '롸', 9847: '뺄', 9848: '쥴', 9849: '츰', 9850: '콰', 9851: '{', 9852: '쫓', 9853: 'で', 9854: '눔', 9855: '슛', 9856: '쥰', 9857: '홬', 9858: '깸', 9859: '븅', 9860: '숏', 9861: '숑', 9862: '슝', 9863: '챠', 9864: '퀵', 9865: '햏', 9866: '낑', 9867: '숱', 9868: '뇽', 9869: '짘', 9870: '랔', 9871: 'ᄄ', 9872: '킵', 9873: '밈', 9874: '옳', 9875: '눠', 9876: '짙', 9877: '굉', 9878: '텝', 9879: '췌', 9880: '슷', 9881: '룹', 9882: '헵', 9883: '챘', 9884: '엊', 9885: '씸', 9886: '숟', 9887: '벚', 9888: '몆', 9889: '괭', 9890: '햌', 9891: '툼', 9892: '텼', 9893: '짴', 9894: '썪', 9895: '쌉', 9896: '꿇', 9897: '궂', 9898: '흩', 9899: '쉼', 9900: '故', 9901: '짊', 9902: '앍', 9903: '랗', 9904: '뉜', 9905: '홥', 9906: '헠', 9907: '샛', 9908: '닠', 9909: '놧', 9910: '냨', 9911: '̄', 9912: '츤', 9913: '쑥', 9914: '덱', 9915: '눕', 9916: '뀜', 9917: '훑', 9918: '춥', 9919: '윅', 9920: '빴', 9921: '휠', 9922: '헴', 9923: '촛', 9924: '빰', 9925: '낍', 9926: '괞', 9927: '횟', 9928: '큽', 9929: '껑', 9930: '좔', 9931: '샐', 9932: '쁩', 9933: '촘', 9934: '멎', 9935: '큘', 9936: '딪', 9937: '뀔', 9938: '뵙', 9939: '콥', 9940: '휩', 9941: '낡', 9942: '셸', 9943: '펏', 9944: '릎', 9945: '씻', 9946: '쥔', 9947: '얹', 9948: '왼', 9949: '뤘', 9950: '픕', 9951: '켠', 9952: '녔', 9953: '딨', 9954: '탤', 9955: '꼼', 9956: '얽', 9957: '뀐', 9958: '꽥', 9959: '앓', 9960: '뭡', 9961: '쫒', 9962: '썻', 9963: '쨋', 9964: '붉', 9965: '뻣', 9966: '귄', 9967: '빕', 9968: '멤', 9969: '뿜', 9970: '옮', 9971: '홧', 9972: '틋', 9973: '엮', 9974: '컸', 9975: '쨌', 9976: '팠', 9977: '쫄', 9978: '틸', 9979: '띄', 9980: '겪', 9981: '렀', 9982: '껐', 9983: '왤', 9984: '콧', 9985: '뻤', 9986: '쏟', 9987: '깎', 9988: '섞', 9989: '듭', 9990: '겉', 9991: '쁨', 9992: '됩', 9993: '늦', 9994: '찝', 9995: '뇌', 9996: '랐', 9997: '떻', 9998: '깊', 9999: '렸'}\n"
     ]
    }
   ],
   "source": [
    "#sp_tokenize(s, corpus) 사용예제\n",
    "\n",
    "my_corpus = ['나는 밥을 먹었습니다.', '그러나 여전히 ㅠㅠ 배가 고픕니다...']\n",
    "tensor, word_index, index_word = sp_tokenize(s, my_corpus)\n",
    "print(tensor[1])\n",
    "print(index_word)"
   ]
  },
  {
   "cell_type": "markdown",
   "metadata": {},
   "source": [
    "## 4) 네이버 영화리뷰 데이터 준비"
   ]
  },
  {
   "cell_type": "code",
   "execution_count": 150,
   "metadata": {},
   "outputs": [
    {
     "data": {
      "text/html": [
       "<div>\n",
       "<style scoped>\n",
       "    .dataframe tbody tr th:only-of-type {\n",
       "        vertical-align: middle;\n",
       "    }\n",
       "\n",
       "    .dataframe tbody tr th {\n",
       "        vertical-align: top;\n",
       "    }\n",
       "\n",
       "    .dataframe thead th {\n",
       "        text-align: right;\n",
       "    }\n",
       "</style>\n",
       "<table border=\"1\" class=\"dataframe\">\n",
       "  <thead>\n",
       "    <tr style=\"text-align: right;\">\n",
       "      <th></th>\n",
       "      <th>id</th>\n",
       "      <th>document</th>\n",
       "      <th>label</th>\n",
       "    </tr>\n",
       "  </thead>\n",
       "  <tbody>\n",
       "    <tr>\n",
       "      <th>0</th>\n",
       "      <td>9976970</td>\n",
       "      <td>아 더빙.. 진짜 짜증나네요 목소리</td>\n",
       "      <td>0</td>\n",
       "    </tr>\n",
       "    <tr>\n",
       "      <th>1</th>\n",
       "      <td>3819312</td>\n",
       "      <td>흠...포스터보고 초딩영화줄....오버연기조차 가볍지 않구나</td>\n",
       "      <td>1</td>\n",
       "    </tr>\n",
       "    <tr>\n",
       "      <th>2</th>\n",
       "      <td>10265843</td>\n",
       "      <td>너무재밓었다그래서보는것을추천한다</td>\n",
       "      <td>0</td>\n",
       "    </tr>\n",
       "    <tr>\n",
       "      <th>3</th>\n",
       "      <td>9045019</td>\n",
       "      <td>교도소 이야기구먼 ..솔직히 재미는 없다..평점 조정</td>\n",
       "      <td>0</td>\n",
       "    </tr>\n",
       "    <tr>\n",
       "      <th>4</th>\n",
       "      <td>6483659</td>\n",
       "      <td>사이몬페그의 익살스런 연기가 돋보였던 영화!스파이더맨에서 늙어보이기만 했던 커스틴 ...</td>\n",
       "      <td>1</td>\n",
       "    </tr>\n",
       "  </tbody>\n",
       "</table>\n",
       "</div>"
      ],
      "text/plain": [
       "         id                                           document  label\n",
       "0   9976970                                아 더빙.. 진짜 짜증나네요 목소리      0\n",
       "1   3819312                  흠...포스터보고 초딩영화줄....오버연기조차 가볍지 않구나      1\n",
       "2  10265843                                  너무재밓었다그래서보는것을추천한다      0\n",
       "3   9045019                      교도소 이야기구먼 ..솔직히 재미는 없다..평점 조정      0\n",
       "4   6483659  사이몬페그의 익살스런 연기가 돋보였던 영화!스파이더맨에서 늙어보이기만 했던 커스틴 ...      1"
      ]
     },
     "execution_count": 150,
     "metadata": {},
     "output_type": "execute_result"
    }
   ],
   "source": [
    "import pandas as pd\n",
    "import urllib.request\n",
    "%matplotlib inline\n",
    "import matplotlib.pyplot as plt\n",
    "import re\n",
    "from konlpy.tag import Okt\n",
    "from tensorflow import keras\n",
    "from tensorflow.keras.preprocessing.text import Tokenizer\n",
    "import numpy as np\n",
    "from tensorflow.keras.preprocessing.sequence import pad_sequences\n",
    "from collections import Counter\n",
    "\n",
    "movie_path = os.getenv('HOME')+'/aiffel/sp_tokenizer/data/nsmc'\n",
    "\n",
    " \n",
    "train_data = pd.read_table(movie_path + '/ratings_train.txt')\n",
    "test_data = pd.read_table(movie_path + '/ratings_test.txt')\n",
    "\n",
    "train_data.head()"
   ]
  },
  {
   "cell_type": "code",
   "execution_count": 151,
   "metadata": {},
   "outputs": [
    {
     "name": "stdout",
     "output_type": "stream",
     "text": [
      "length of train data : 150000\n",
      "length of test data : 50000\n"
     ]
    }
   ],
   "source": [
    "print(f'length of train data : {len(train_data)}')\n",
    "print(f'length of test data : {len(test_data)}')"
   ]
  },
  {
   "cell_type": "markdown",
   "metadata": {},
   "source": [
    "### 전처리 및 데이터 로드"
   ]
  },
  {
   "cell_type": "code",
   "execution_count": 152,
   "metadata": {},
   "outputs": [],
   "source": [
    "# 데이터 전처리 (중복, Null)\n",
    "\n",
    "train_data.drop_duplicates(subset=['document'], inplace=True)\n",
    "train_data = train_data.dropna(how = 'any') \n",
    "test_data.drop_duplicates(subset=['document'], inplace=True)\n",
    "test_data = test_data.dropna(how = 'any') "
   ]
  },
  {
   "cell_type": "code",
   "execution_count": 172,
   "metadata": {},
   "outputs": [
    {
     "data": {
      "text/plain": [
       "195339"
      ]
     },
     "execution_count": 172,
     "metadata": {},
     "output_type": "execute_result"
    }
   ],
   "source": [
    "# train, test data 모두 묶음\n",
    "\n",
    "train_sen = train_data['document'].values.tolist()\n",
    "all_sen = train_data['document'].values.tolist()\n",
    "test_sen = test_data['document'].values.tolist()\n",
    "all_sen.extend(test_sen)\n",
    "len(all_sen)"
   ]
  },
  {
   "cell_type": "markdown",
   "metadata": {},
   "source": [
    "### SentencePiece 학습 (네이버 영화리뷰 train data)\n",
    "\n",
    "Vocab_size = 10000"
   ]
  },
  {
   "cell_type": "code",
   "execution_count": 154,
   "metadata": {},
   "outputs": [
    {
     "name": "stdout",
     "output_type": "stream",
     "text": [
      "-rw-r--r-- 1 root root 413699 Dec  8 07:45 korean_spm.model\n",
      "-rw-r--r-- 1 root root 185029 Dec  8 07:45 korean_spm.vocab\n"
     ]
    }
   ],
   "source": [
    "import sentencepiece as spm\n",
    "import os\n",
    "temp_file = os.getenv('HOME')+'/aiffel/sp_tokenizer/data/korean-movie-review.train2.ko.temp'\n",
    "\n",
    "vocab_size = 10000\n",
    "\n",
    "with open(temp_file, 'w') as f:\n",
    "    for row in all_sen:   # train, test data의 코퍼스 전부 학습\n",
    "        f.write(str(row) + '\\n')\n",
    "\n",
    "spm.SentencePieceTrainer.Train(\n",
    "    '--input={} --model_prefix=korean_spm --vocab_size={}'.format(temp_file, vocab_size)    \n",
    ")\n",
    "#위 Train에서  --model_type = 'unigram'이 디폴트 적용되어 있습니다. --model_type = 'bpe' 로 옵션을 주어 변경할 수 있습니다.\n",
    "\n",
    "!ls -l korean_spm*"
   ]
  },
  {
   "cell_type": "code",
   "execution_count": null,
   "metadata": {},
   "outputs": [],
   "source": [
    "# 불용어 처리\n",
    "stopwords = ['의','가','이','은','들','는','좀','잘','걍','과','도','를','으로','자','에','와','한','하다']\n",
    "\n",
    "def load_data(train_data, test_data, num_words=10000):\n",
    "    \n",
    "    X_train = []\n",
    "    for sentence in train_data['document']:\n",
    "        temp_X = tokenizer.morphs(sentence) # 토큰화\n",
    "        temp_X = [word for word in temp_X if not word in stopwords] # 불용어 제거\n",
    "        X_train.append(temp_X)\n",
    "\n",
    "    X_test = []\n",
    "    for sentence in test_data['document']:\n",
    "        temp_X = tokenizer.morphs(sentence) # 토큰화\n",
    "        temp_X = [word for word in temp_X if not word in stopwords] # 불용어 제거\n",
    "        X_test.append(temp_X)\n",
    "\n",
    "\n",
    "\n",
    "\n",
    "\n",
    "\n",
    "\n",
    "\n",
    "\n",
    "\n",
    "    words = np.concatenate(X_train).tolist()\n",
    "    counter = Counter(words)\n",
    "    counter = counter.most_common(10000-4)\n",
    "    vocab = ['', '', '', ''] + [key for key, _ in counter]\n",
    "    word_to_index = {word:index for index, word in enumerate(vocab)}\n",
    "        \n",
    "    def wordlist_to_indexlist(wordlist):\n",
    "        return [word_to_index[word] if word in word_to_index else word_to_index[''] for word in wordlist]\n",
    "        \n",
    "    X_train = list(map(wordlist_to_indexlist, X_train))\n",
    "    X_test = list(map(wordlist_to_indexlist, X_test))\n",
    "        \n",
    "    return X_train, np.array(list(train_data['label'])), X_test, np.array(list(test_data['label'])), word_to_index\n",
    "    \n",
    "X_train, y_train, X_test, y_test, word_to_index = load_data(train_data, test_data)"
   ]
  }
 ],
 "metadata": {
  "interpreter": {
   "hash": "a976b24356df1645a480b5b42b2a4b423cd34f210fb50c5bbb436b3c4734a615"
  },
  "kernelspec": {
   "display_name": "Python 3",
   "language": "python",
   "name": "python3"
  },
  "language_info": {
   "codemirror_mode": {
    "name": "ipython",
    "version": 3
   },
   "file_extension": ".py",
   "mimetype": "text/x-python",
   "name": "python",
   "nbconvert_exporter": "python",
   "pygments_lexer": "ipython3",
   "version": "3.7.9"
  },
  "orig_nbformat": 4
 },
 "nbformat": 4,
 "nbformat_minor": 2
}
