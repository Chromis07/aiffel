{
 "cells": [
  {
   "cell_type": "markdown",
   "metadata": {},
   "source": [
    "# 데이터 수집"
   ]
  },
  {
   "cell_type": "code",
   "execution_count": 12,
   "metadata": {},
   "outputs": [],
   "source": [
    "import numpy as np\n",
    "import os\n",
    "import matplotlib.pyplot as plt\n",
    "import re\n",
    "from bs4 import BeautifulSoup \n",
    "from tensorflow.keras.preprocessing.text import Tokenizer \n",
    "from tensorflow.keras.preprocessing.sequence import pad_sequences"
   ]
  },
  {
   "cell_type": "code",
   "execution_count": 2,
   "metadata": {},
   "outputs": [
    {
     "data": {
      "text/plain": [
       "('news_summary_more.csv', <http.client.HTTPMessage at 0x7f651ab17950>)"
      ]
     },
     "execution_count": 2,
     "metadata": {},
     "output_type": "execute_result"
    }
   ],
   "source": [
    "# https://github.com/sunnysai12345/News_Summary\n",
    "\n",
    "import urllib.request\n",
    "urllib.request.urlretrieve(\"https://raw.githubusercontent.com/sunnysai12345/News_Summary/master/news_summary_more.csv\", filename=\"news_summary_more.csv\")"
   ]
  },
  {
   "cell_type": "code",
   "execution_count": 3,
   "metadata": {},
   "outputs": [],
   "source": [
    "import pandas as pd\n",
    "data = pd.read_csv('./news_summary_more.csv', encoding='iso-8859-1')"
   ]
  },
  {
   "cell_type": "code",
   "execution_count": 4,
   "metadata": {},
   "outputs": [
    {
     "data": {
      "text/html": [
       "<div>\n",
       "<style scoped>\n",
       "    .dataframe tbody tr th:only-of-type {\n",
       "        vertical-align: middle;\n",
       "    }\n",
       "\n",
       "    .dataframe tbody tr th {\n",
       "        vertical-align: top;\n",
       "    }\n",
       "\n",
       "    .dataframe thead th {\n",
       "        text-align: right;\n",
       "    }\n",
       "</style>\n",
       "<table border=\"1\" class=\"dataframe\">\n",
       "  <thead>\n",
       "    <tr style=\"text-align: right;\">\n",
       "      <th></th>\n",
       "      <th>headlines</th>\n",
       "      <th>text</th>\n",
       "    </tr>\n",
       "  </thead>\n",
       "  <tbody>\n",
       "    <tr>\n",
       "      <th>72661</th>\n",
       "      <td>Swine flu claims 86 lives in Rajasthan since J...</td>\n",
       "      <td>Swine flu has claimed 86 lives in Rajasthan si...</td>\n",
       "    </tr>\n",
       "    <tr>\n",
       "      <th>21228</th>\n",
       "      <td>I dare you: Siddharth urges for donations amid...</td>\n",
       "      <td>Actor Siddharth on Thursday launched #KeralaDo...</td>\n",
       "    </tr>\n",
       "    <tr>\n",
       "      <th>55750</th>\n",
       "      <td>Man gives 2 minor boys electric shocks for ste...</td>\n",
       "      <td>A shopkeeper in West Bengal's Jalpaiguri on Mo...</td>\n",
       "    </tr>\n",
       "    <tr>\n",
       "      <th>52261</th>\n",
       "      <td>Man City's 30-game unbeaten PL run ends in 3-4...</td>\n",
       "      <td>Premier League table-toppers Manchester City's...</td>\n",
       "    </tr>\n",
       "    <tr>\n",
       "      <th>41134</th>\n",
       "      <td>Israel, UN reach deal to settle African migran...</td>\n",
       "      <td>Israel has reached a deal with the UN to settl...</td>\n",
       "    </tr>\n",
       "    <tr>\n",
       "      <th>23961</th>\n",
       "      <td>Govt should clear judges appointment in 2 week...</td>\n",
       "      <td>Supreme Court judge Kurian Joseph on Friday su...</td>\n",
       "    </tr>\n",
       "    <tr>\n",
       "      <th>19042</th>\n",
       "      <td>Lived my life fearlessly post marriage, after ...</td>\n",
       "      <td>Kareena Kapoor Khan has said that she has live...</td>\n",
       "    </tr>\n",
       "    <tr>\n",
       "      <th>43727</th>\n",
       "      <td>TMC's decision to celebrate Ram Navami moral w...</td>\n",
       "      <td>RSS south Bengal General Secretary Jishnu Basu...</td>\n",
       "    </tr>\n",
       "    <tr>\n",
       "      <th>42694</th>\n",
       "      <td>IAF files FIR over fake website duping job see...</td>\n",
       "      <td>The Indian Air Force (IAF) has filed an FIR ag...</td>\n",
       "    </tr>\n",
       "    <tr>\n",
       "      <th>73644</th>\n",
       "      <td>90 newborns die in 8 months at a Karnataka hos...</td>\n",
       "      <td>At least 90 newborns have reportedly died at S...</td>\n",
       "    </tr>\n",
       "  </tbody>\n",
       "</table>\n",
       "</div>"
      ],
      "text/plain": [
       "                                               headlines  \\\n",
       "72661  Swine flu claims 86 lives in Rajasthan since J...   \n",
       "21228  I dare you: Siddharth urges for donations amid...   \n",
       "55750  Man gives 2 minor boys electric shocks for ste...   \n",
       "52261  Man City's 30-game unbeaten PL run ends in 3-4...   \n",
       "41134  Israel, UN reach deal to settle African migran...   \n",
       "23961  Govt should clear judges appointment in 2 week...   \n",
       "19042  Lived my life fearlessly post marriage, after ...   \n",
       "43727  TMC's decision to celebrate Ram Navami moral w...   \n",
       "42694  IAF files FIR over fake website duping job see...   \n",
       "73644  90 newborns die in 8 months at a Karnataka hos...   \n",
       "\n",
       "                                                    text  \n",
       "72661  Swine flu has claimed 86 lives in Rajasthan si...  \n",
       "21228  Actor Siddharth on Thursday launched #KeralaDo...  \n",
       "55750  A shopkeeper in West Bengal's Jalpaiguri on Mo...  \n",
       "52261  Premier League table-toppers Manchester City's...  \n",
       "41134  Israel has reached a deal with the UN to settl...  \n",
       "23961  Supreme Court judge Kurian Joseph on Friday su...  \n",
       "19042  Kareena Kapoor Khan has said that she has live...  \n",
       "43727  RSS south Bengal General Secretary Jishnu Basu...  \n",
       "42694  The Indian Air Force (IAF) has filed an FIR ag...  \n",
       "73644  At least 90 newborns have reportedly died at S...  "
      ]
     },
     "execution_count": 4,
     "metadata": {},
     "output_type": "execute_result"
    }
   ],
   "source": [
    "data.sample(10)"
   ]
  },
  {
   "cell_type": "code",
   "execution_count": 5,
   "metadata": {},
   "outputs": [
    {
     "name": "stdout",
     "output_type": "stream",
     "text": [
      "98280\n",
      "98360\n"
     ]
    }
   ],
   "source": [
    "print(data['headlines'].nunique())\n",
    "print(data['text'].nunique())"
   ]
  },
  {
   "cell_type": "code",
   "execution_count": 6,
   "metadata": {},
   "outputs": [
    {
     "name": "stdout",
     "output_type": "stream",
     "text": [
      "headlines    0\n",
      "text         0\n",
      "dtype: int64\n"
     ]
    }
   ],
   "source": [
    "# null값 확인\n",
    "print(data.isnull().sum())"
   ]
  },
  {
   "cell_type": "markdown",
   "metadata": {},
   "source": [
    "# 텍스트 정규화, 불용어 제거"
   ]
  },
  {
   "cell_type": "code",
   "execution_count": 7,
   "metadata": {},
   "outputs": [
    {
     "name": "stderr",
     "output_type": "stream",
     "text": [
      "[nltk_data] Downloading package stopwords to /aiffel/nltk_data...\n",
      "[nltk_data]   Package stopwords is already up-to-date!\n"
     ]
    },
    {
     "data": {
      "text/plain": [
       "True"
      ]
     },
     "execution_count": 7,
     "metadata": {},
     "output_type": "execute_result"
    }
   ],
   "source": [
    "# 불용어 다운로드\n",
    "import nltk\n",
    "from nltk.corpus import stopwords\n",
    "nltk.download('stopwords')"
   ]
  },
  {
   "cell_type": "code",
   "execution_count": 8,
   "metadata": {},
   "outputs": [
    {
     "name": "stdout",
     "output_type": "stream",
     "text": [
      "정규화 사전의 수:  120\n"
     ]
    }
   ],
   "source": [
    "# 텍스트 정규화 사전\n",
    "contractions = {\"ain't\": \"is not\", \"aren't\": \"are not\",\"can't\": \"cannot\", \"'cause\": \"because\", \"could've\": \"could have\", \"couldn't\": \"could not\",\n",
    "                           \"didn't\": \"did not\",  \"doesn't\": \"does not\", \"don't\": \"do not\", \"hadn't\": \"had not\", \"hasn't\": \"has not\", \"haven't\": \"have not\",\n",
    "                           \"he'd\": \"he would\",\"he'll\": \"he will\", \"he's\": \"he is\", \"how'd\": \"how did\", \"how'd'y\": \"how do you\", \"how'll\": \"how will\", \"how's\": \"how is\",\n",
    "                           \"I'd\": \"I would\", \"I'd've\": \"I would have\", \"I'll\": \"I will\", \"I'll've\": \"I will have\",\"I'm\": \"I am\", \"I've\": \"I have\", \"i'd\": \"i would\",\n",
    "                           \"i'd've\": \"i would have\", \"i'll\": \"i will\",  \"i'll've\": \"i will have\",\"i'm\": \"i am\", \"i've\": \"i have\", \"isn't\": \"is not\", \"it'd\": \"it would\",\n",
    "                           \"it'd've\": \"it would have\", \"it'll\": \"it will\", \"it'll've\": \"it will have\",\"it's\": \"it is\", \"let's\": \"let us\", \"ma'am\": \"madam\",\n",
    "                           \"mayn't\": \"may not\", \"might've\": \"might have\",\"mightn't\": \"might not\",\"mightn't've\": \"might not have\", \"must've\": \"must have\",\n",
    "                           \"mustn't\": \"must not\", \"mustn't've\": \"must not have\", \"needn't\": \"need not\", \"needn't've\": \"need not have\",\"o'clock\": \"of the clock\",\n",
    "                           \"oughtn't\": \"ought not\", \"oughtn't've\": \"ought not have\", \"shan't\": \"shall not\", \"sha'n't\": \"shall not\", \"shan't've\": \"shall not have\",\n",
    "                           \"she'd\": \"she would\", \"she'd've\": \"she would have\", \"she'll\": \"she will\", \"she'll've\": \"she will have\", \"she's\": \"she is\",\n",
    "                           \"should've\": \"should have\", \"shouldn't\": \"should not\", \"shouldn't've\": \"should not have\", \"so've\": \"so have\",\"so's\": \"so as\",\n",
    "                           \"this's\": \"this is\",\"that'd\": \"that would\", \"that'd've\": \"that would have\", \"that's\": \"that is\", \"there'd\": \"there would\",\n",
    "                           \"there'd've\": \"there would have\", \"there's\": \"there is\", \"here's\": \"here is\",\"they'd\": \"they would\", \"they'd've\": \"they would have\",\n",
    "                           \"they'll\": \"they will\", \"they'll've\": \"they will have\", \"they're\": \"they are\", \"they've\": \"they have\", \"to've\": \"to have\",\n",
    "                           \"wasn't\": \"was not\", \"we'd\": \"we would\", \"we'd've\": \"we would have\", \"we'll\": \"we will\", \"we'll've\": \"we will have\", \"we're\": \"we are\",\n",
    "                           \"we've\": \"we have\", \"weren't\": \"were not\", \"what'll\": \"what will\", \"what'll've\": \"what will have\", \"what're\": \"what are\",\n",
    "                           \"what's\": \"what is\", \"what've\": \"what have\", \"when's\": \"when is\", \"when've\": \"when have\", \"where'd\": \"where did\", \"where's\": \"where is\",\n",
    "                           \"where've\": \"where have\", \"who'll\": \"who will\", \"who'll've\": \"who will have\", \"who's\": \"who is\", \"who've\": \"who have\",\n",
    "                           \"why's\": \"why is\", \"why've\": \"why have\", \"will've\": \"will have\", \"won't\": \"will not\", \"won't've\": \"will not have\",\n",
    "                           \"would've\": \"would have\", \"wouldn't\": \"would not\", \"wouldn't've\": \"would not have\", \"y'all\": \"you all\",\n",
    "                           \"y'all'd\": \"you all would\",\"y'all'd've\": \"you all would have\",\"y'all're\": \"you all are\",\"y'all've\": \"you all have\",\n",
    "                           \"you'd\": \"you would\", \"you'd've\": \"you would have\", \"you'll\": \"you will\", \"you'll've\": \"you will have\",\n",
    "                           \"you're\": \"you are\", \"you've\": \"you have\"}\n",
    "\n",
    "print(\"정규화 사전의 수: \", len(contractions))"
   ]
  },
  {
   "cell_type": "code",
   "execution_count": 9,
   "metadata": {},
   "outputs": [
    {
     "name": "stdout",
     "output_type": "stream",
     "text": [
      "불용어 개수 : 179\n",
      "['i', 'me', 'my', 'myself', 'we', 'our', 'ours', 'ourselves', 'you', \"you're\", \"you've\", \"you'll\", \"you'd\", 'your', 'yours', 'yourself', 'yourselves', 'he', 'him', 'his', 'himself', 'she', \"she's\", 'her', 'hers', 'herself', 'it', \"it's\", 'its', 'itself', 'they', 'them', 'their', 'theirs', 'themselves', 'what', 'which', 'who', 'whom', 'this', 'that', \"that'll\", 'these', 'those', 'am', 'is', 'are', 'was', 'were', 'be', 'been', 'being', 'have', 'has', 'had', 'having', 'do', 'does', 'did', 'doing', 'a', 'an', 'the', 'and', 'but', 'if', 'or', 'because', 'as', 'until', 'while', 'of', 'at', 'by', 'for', 'with', 'about', 'against', 'between', 'into', 'through', 'during', 'before', 'after', 'above', 'below', 'to', 'from', 'up', 'down', 'in', 'out', 'on', 'off', 'over', 'under', 'again', 'further', 'then', 'once', 'here', 'there', 'when', 'where', 'why', 'how', 'all', 'any', 'both', 'each', 'few', 'more', 'most', 'other', 'some', 'such', 'no', 'nor', 'not', 'only', 'own', 'same', 'so', 'than', 'too', 'very', 's', 't', 'can', 'will', 'just', 'don', \"don't\", 'should', \"should've\", 'now', 'd', 'll', 'm', 'o', 're', 've', 'y', 'ain', 'aren', \"aren't\", 'couldn', \"couldn't\", 'didn', \"didn't\", 'doesn', \"doesn't\", 'hadn', \"hadn't\", 'hasn', \"hasn't\", 'haven', \"haven't\", 'isn', \"isn't\", 'ma', 'mightn', \"mightn't\", 'mustn', \"mustn't\", 'needn', \"needn't\", 'shan', \"shan't\", 'shouldn', \"shouldn't\", 'wasn', \"wasn't\", 'weren', \"weren't\", 'won', \"won't\", 'wouldn', \"wouldn't\"]\n"
     ]
    }
   ],
   "source": [
    "print('불용어 개수 :', len(stopwords.words('english') ))\n",
    "print(stopwords.words('english'))"
   ]
  },
  {
   "cell_type": "code",
   "execution_count": 10,
   "metadata": {},
   "outputs": [],
   "source": [
    "# 데이터 전처리 함수\n",
    "def preprocess_sentence(sentence, remove_stopwords=True):\n",
    "    sentence = sentence.lower() # 텍스트 소문자화\n",
    "    sentence = BeautifulSoup(sentence, \"lxml\").text # <br />, <a href = ...> 등의 html 태그 제거\n",
    "    sentence = re.sub(r'\\([^)]*\\)', '', sentence) # 괄호로 닫힌 문자열 (...) 제거 Ex) my husband (and myself!) for => my husband for\n",
    "    sentence = re.sub('\"','', sentence) # 쌍따옴표 \" 제거\n",
    "    sentence = ' '.join([contractions[t] if t in contractions else t for t in sentence.split(\" \")]) # 약어 정규화\n",
    "    sentence = re.sub(r\"'s\\b\",\"\", sentence) # 소유격 제거. Ex) roland's -> roland\n",
    "    sentence = re.sub(\"[^a-zA-Z]\", \" \", sentence) # 영어 외 문자(숫자, 특수문자 등) 공백으로 변환\n",
    "    sentence = re.sub('[m]{2,}', 'mm', sentence) # m이 3개 이상이면 2개로 변경. Ex) ummmmmmm yeah -> umm yeah\n",
    "    \n",
    "    # 불용어 제거 (text)\n",
    "    if remove_stopwords:\n",
    "        tokens = ' '.join(word for word in sentence.split() if not word in stopwords.words('english') if len(word) > 1)\n",
    "    # 불용어 미제거 (headlines)\n",
    "    else:\n",
    "        tokens = ' '.join(word for word in sentence.split() if len(word) > 1)\n",
    "    return tokens"
   ]
  },
  {
   "cell_type": "code",
   "execution_count": 13,
   "metadata": {},
   "outputs": [
    {
     "name": "stdout",
     "output_type": "stream",
     "text": [
      "423.4667956829071  seconds\n",
      "['saurav kant alumnus upgrad iiit pg program machine learning artificial intelligence sr systems engineer infosys almost years work experience program upgrad degree career support helped transition data scientist tech mahindra salary hike upgrad online power learning powered lakh careers'\n",
      " 'kunal shah credit card bill payment platform cred gave users chance win free food swiggy one year pranav kaushik delhi techie bagged reward spending cred coins users get one cred coin per rupee bill paid used avail rewards brands like ixigo bookmyshow ubereats cult fit'\n",
      " 'new zealand defeated india wickets fourth odi hamilton thursday win first match five match odi series india lost international match rohit sharma captaincy consecutive victories dating back march match witnessed india getting seventh lowest total odi cricket history'\n",
      " ...\n",
      " 'according reports new version science fiction film matrix development michael jordan reportedly play lead role film screenwriter zak penn talks write script film reports added actor keanu reeves starred original film followed two sequels'\n",
      " 'new music video shows rapper snoop dogg aiming toy gun clown character parodying us president donald trump video also shows tv airing news conference headline ronald klump wants deport doggs airing live clown house video remixed version song lavender'\n",
      " 'madhesi morcha alliance seven political parties withdrawn support pm pushpa kamal dahal led nepal government failed meet seven day ultimatum fulfil demands including endorsement revised constitution amendment bill morcha seats parliament despite withdrawal support immediate threat government']\n",
      "12.796483039855957  seconds\n",
      "['upgrad learner switches to career in ml al with salary hike'\n",
      " 'delhi techie wins free food from swiggy for one year on cred'\n",
      " 'new zealand end rohit sharma led india match winning streak' ...\n",
      " 'the matrix film to get reboot reports'\n",
      " 'snoop dogg aims gun at clown dressed as trump in new video'\n",
      " 'madhesi morcha withdraws support to nepalese government']\n"
     ]
    }
   ],
   "source": [
    "import multiprocessing as mp   # 멀티 프로세싱으로 전처리 속도를 획기적으로 줄여봅시다\n",
    "from multiprocessing import Pool\n",
    "import numpy as np\n",
    "import time\n",
    "from functools import partial  # map을 할 때 함수에 여러 인자를 넣어줄 수 있도록 합니다\n",
    "\n",
    "start = time.time()\n",
    "\n",
    "# num_cores 만큼 쪼개진 데이터를 전처리하여 반환합니다\n",
    "def appendTexts(sentences, remove_stopwords):\n",
    "  texts = []\n",
    "  for s in sentences:\n",
    "    texts += preprocess_sentence(s, remove_stopwords),\n",
    "  return texts\n",
    "\n",
    "def preprocess_data(data, remove_stopwords=True):\n",
    "  start_time = time.time()\n",
    "  num_cores = mp.cpu_count()  # 컴퓨터의 코어 수를 구합니다\n",
    "\n",
    "  text_data_split = np.array_split(data, num_cores)  # 코어 수만큼 데이터를 배분하여 병렬적으로 처리할 수 있게 합니다\n",
    "  pool = Pool(num_cores)\n",
    "\n",
    "  processed_data = np.concatenate(pool.map(partial(appendTexts, remove_stopwords=remove_stopwords), text_data_split))  # 각자 작업한 데이터를 하나로 합쳐줍니다\n",
    "  pool.close()\n",
    "  pool.join()\n",
    "  print(time.time() - start_time, \" seconds\")\n",
    "  return processed_data\n",
    "\n",
    "clean_text = preprocess_data(data['text'])  # 클라우드 기준으로 3~4분 정도 소요 됩니다\n",
    "print(clean_text)\n",
    "\n",
    "clean_headlines = preprocess_data(data['headlines'], remove_stopwords=False) # 클라우드 기준 1분정도 소요됩니다.\n",
    "print(clean_headlines)"
   ]
  },
  {
   "cell_type": "code",
   "execution_count": 14,
   "metadata": {},
   "outputs": [],
   "source": [
    "data['text'] = clean_text\n",
    "data['headlines'] = clean_headlines\n",
    "\n",
    "# 빈 값을 Null 값으로 변환\n",
    "data.replace('', np.nan, inplace=True)"
   ]
  },
  {
   "cell_type": "code",
   "execution_count": 15,
   "metadata": {},
   "outputs": [
    {
     "data": {
      "text/plain": [
       "headlines    0\n",
       "text         0\n",
       "dtype: int64"
      ]
     },
     "execution_count": 15,
     "metadata": {},
     "output_type": "execute_result"
    }
   ],
   "source": [
    "data.isnull().sum()"
   ]
  },
  {
   "cell_type": "code",
   "execution_count": 16,
   "metadata": {},
   "outputs": [
    {
     "name": "stdout",
     "output_type": "stream",
     "text": [
      "텍스트의 최소 길이 : 1\n",
      "텍스트의 최대 길이 : 60\n",
      "텍스트의 평균 길이 : 35.09983638377659\n",
      "요약의 최소 길이 : 1\n",
      "요약의 최대 길이 : 16\n",
      "요약의 평균 길이 : 9.299651426306644\n"
     ]
    },
    {
     "data": {
      "image/png": "[encoded data removed]",
      "text/plain": [
       "<Figure size 432x288 with 2 Axes>"
      ]
     },
     "metadata": {
      "needs_background": "light"
     },
     "output_type": "display_data"
    },
    {
     "data": {
      "image/png": "[encoded data removed]",
      "text/plain": [
       "<Figure size 432x288 with 1 Axes>"
      ]
     },
     "metadata": {
      "needs_background": "light"
     },
     "output_type": "display_data"
    },
    {
     "data": {
      "image/png": "[encoded data removed]",
      "text/plain": [
       "<Figure size 432x288 with 1 Axes>"
      ]
     },
     "metadata": {
      "needs_background": "light"
     },
     "output_type": "display_data"
    }
   ],
   "source": [
    "# 길이 분포 출력\n",
    "import matplotlib.pyplot as plt\n",
    "\n",
    "text_len = [len(s.split()) for s in data['text']]\n",
    "headlines_len = [len(s.split()) for s in data['headlines']]\n",
    "\n",
    "print('텍스트의 최소 길이 : {}'.format(np.min(text_len)))\n",
    "print('텍스트의 최대 길이 : {}'.format(np.max(text_len)))\n",
    "print('텍스트의 평균 길이 : {}'.format(np.mean(text_len)))\n",
    "print('요약의 최소 길이 : {}'.format(np.min(headlines_len)))\n",
    "print('요약의 최대 길이 : {}'.format(np.max(headlines_len)))\n",
    "print('요약의 평균 길이 : {}'.format(np.mean(headlines_len)))\n",
    "\n",
    "plt.subplot(1,2,1)\n",
    "plt.boxplot(headlines_len)\n",
    "plt.title('headlines')\n",
    "plt.subplot(1,2,2)\n",
    "plt.boxplot(text_len)\n",
    "plt.title('text')\n",
    "plt.tight_layout()\n",
    "plt.show()\n",
    "\n",
    "plt.title('headlines')\n",
    "plt.hist(headlines_len, bins = 40)\n",
    "plt.xlabel('length of samples')\n",
    "plt.ylabel('number of samples')\n",
    "plt.show()\n",
    "\n",
    "plt.title('text')\n",
    "plt.hist(text_len, bins = 40)\n",
    "plt.xlabel('length of samples')\n",
    "plt.ylabel('number of samples')\n",
    "plt.show()"
   ]
  },
  {
   "cell_type": "code",
   "execution_count": 17,
   "metadata": {},
   "outputs": [],
   "source": [
    "text_max_len = 40\n",
    "headlines_max_len = 11"
   ]
  },
  {
   "cell_type": "code",
   "execution_count": 18,
   "metadata": {},
   "outputs": [],
   "source": [
    "\n",
    "def below_threshold_len(max_len, nested_list):\n",
    "  cnt = 0\n",
    "  for s in nested_list:\n",
    "    if(len(s.split()) <= max_len):\n",
    "        cnt = cnt + 1\n",
    "  print('전체 샘플 중 길이가 %s 이하인 샘플의 비율: %s'%(max_len, (cnt / len(nested_list))))"
   ]
  },
  {
   "cell_type": "code",
   "execution_count": 19,
   "metadata": {},
   "outputs": [
    {
     "name": "stdout",
     "output_type": "stream",
     "text": [
      "전체 샘플 중 길이가 40 이하인 샘플의 비율: 0.9238320748772878\n",
      "전체 샘플 중 길이가 11 이하인 샘플의 비율: 0.944980233940712\n"
     ]
    }
   ],
   "source": [
    "\n",
    "below_threshold_len(text_max_len, data['text'])\n",
    "below_threshold_len(headlines_max_len,  data['headlines'])"
   ]
  },
  {
   "cell_type": "code",
   "execution_count": 20,
   "metadata": {},
   "outputs": [
    {
     "name": "stdout",
     "output_type": "stream",
     "text": [
      "전체 샘플수 : 85874\n"
     ]
    }
   ],
   "source": [
    "\n",
    "data = data[data['text'].apply(lambda x: len(x.split()) <= text_max_len)]\n",
    "data = data[data['headlines'].apply(lambda x: len(x.split()) <= headlines_max_len)]\n",
    "print('전체 샘플수 :', (len(data)))"
   ]
  },
  {
   "cell_type": "code",
   "execution_count": 21,
   "metadata": {},
   "outputs": [
    {
     "data": {
      "text/html": [
       "<div>\n",
       "<style scoped>\n",
       "    .dataframe tbody tr th:only-of-type {\n",
       "        vertical-align: middle;\n",
       "    }\n",
       "\n",
       "    .dataframe tbody tr th {\n",
       "        vertical-align: top;\n",
       "    }\n",
       "\n",
       "    .dataframe thead th {\n",
       "        text-align: right;\n",
       "    }\n",
       "</style>\n",
       "<table border=\"1\" class=\"dataframe\">\n",
       "  <thead>\n",
       "    <tr style=\"text-align: right;\">\n",
       "      <th></th>\n",
       "      <th>headlines</th>\n",
       "      <th>text</th>\n",
       "      <th>decoder_input</th>\n",
       "      <th>decoder_target</th>\n",
       "    </tr>\n",
       "  </thead>\n",
       "  <tbody>\n",
       "    <tr>\n",
       "      <th>0</th>\n",
       "      <td>upgrad learner switches to career in ml al wit...</td>\n",
       "      <td>saurav kant alumnus upgrad iiit pg program mac...</td>\n",
       "      <td>sostoken upgrad learner switches to career in ...</td>\n",
       "      <td>upgrad learner switches to career in ml al wit...</td>\n",
       "    </tr>\n",
       "    <tr>\n",
       "      <th>2</th>\n",
       "      <td>new zealand end rohit sharma led india match w...</td>\n",
       "      <td>new zealand defeated india wickets fourth odi ...</td>\n",
       "      <td>sostoken new zealand end rohit sharma led indi...</td>\n",
       "      <td>new zealand end rohit sharma led india match w...</td>\n",
       "    </tr>\n",
       "    <tr>\n",
       "      <th>3</th>\n",
       "      <td>aegon life iterm insurance plan helps customer...</td>\n",
       "      <td>aegon life iterm insurance plan customers enjo...</td>\n",
       "      <td>sostoken aegon life iterm insurance plan helps...</td>\n",
       "      <td>aegon life iterm insurance plan helps customer...</td>\n",
       "    </tr>\n",
       "    <tr>\n",
       "      <th>5</th>\n",
       "      <td>rahat fateh ali khan denies getting notice for...</td>\n",
       "      <td>pakistani singer rahat fateh ali khan denied r...</td>\n",
       "      <td>sostoken rahat fateh ali khan denies getting n...</td>\n",
       "      <td>rahat fateh ali khan denies getting notice for...</td>\n",
       "    </tr>\n",
       "    <tr>\n",
       "      <th>7</th>\n",
       "      <td>govt directs alok verma to join work day befor...</td>\n",
       "      <td>weeks ex cbi director alok verma told departme...</td>\n",
       "      <td>sostoken govt directs alok verma to join work ...</td>\n",
       "      <td>govt directs alok verma to join work day befor...</td>\n",
       "    </tr>\n",
       "  </tbody>\n",
       "</table>\n",
       "</div>"
      ],
      "text/plain": [
       "                                           headlines  \\\n",
       "0  upgrad learner switches to career in ml al wit...   \n",
       "2  new zealand end rohit sharma led india match w...   \n",
       "3  aegon life iterm insurance plan helps customer...   \n",
       "5  rahat fateh ali khan denies getting notice for...   \n",
       "7  govt directs alok verma to join work day befor...   \n",
       "\n",
       "                                                text  \\\n",
       "0  saurav kant alumnus upgrad iiit pg program mac...   \n",
       "2  new zealand defeated india wickets fourth odi ...   \n",
       "3  aegon life iterm insurance plan customers enjo...   \n",
       "5  pakistani singer rahat fateh ali khan denied r...   \n",
       "7  weeks ex cbi director alok verma told departme...   \n",
       "\n",
       "                                       decoder_input  \\\n",
       "0  sostoken upgrad learner switches to career in ...   \n",
       "2  sostoken new zealand end rohit sharma led indi...   \n",
       "3  sostoken aegon life iterm insurance plan helps...   \n",
       "5  sostoken rahat fateh ali khan denies getting n...   \n",
       "7  sostoken govt directs alok verma to join work ...   \n",
       "\n",
       "                                      decoder_target  \n",
       "0  upgrad learner switches to career in ml al wit...  \n",
       "2  new zealand end rohit sharma led india match w...  \n",
       "3  aegon life iterm insurance plan helps customer...  \n",
       "5  rahat fateh ali khan denies getting notice for...  \n",
       "7  govt directs alok verma to join work day befor...  "
      ]
     },
     "execution_count": 21,
     "metadata": {},
     "output_type": "execute_result"
    }
   ],
   "source": [
    "# 요약 데이터에는 시작 토큰과 종료 토큰을 추가한다.\n",
    "data['decoder_input'] = data['headlines'].apply(lambda x : 'sostoken '+ x)\n",
    "data['decoder_target'] = data['headlines'].apply(lambda x : x + ' eostoken')\n",
    "data.head()"
   ]
  },
  {
   "cell_type": "code",
   "execution_count": 22,
   "metadata": {},
   "outputs": [],
   "source": [
    "encoder_input = np.array(data['text']) # 인코더의 입력\n",
    "decoder_input = np.array(data['decoder_input']) # 디코더의 입력\n",
    "decoder_target = np.array(data['decoder_target']) # 디코더의 레이블"
   ]
  },
  {
   "cell_type": "code",
   "execution_count": 23,
   "metadata": {},
   "outputs": [
    {
     "name": "stdout",
     "output_type": "stream",
     "text": [
      "[74384 54822 79929 ... 27989 67099  6781]\n"
     ]
    }
   ],
   "source": [
    "indices = np.arange(encoder_input.shape[0])\n",
    "np.random.shuffle(indices)\n",
    "print(indices)"
   ]
  },
  {
   "cell_type": "code",
   "execution_count": 24,
   "metadata": {},
   "outputs": [],
   "source": [
    "encoder_input = encoder_input[indices]\n",
    "decoder_input = decoder_input[indices]\n",
    "decoder_target = decoder_target[indices]"
   ]
  },
  {
   "cell_type": "code",
   "execution_count": 25,
   "metadata": {},
   "outputs": [
    {
     "name": "stdout",
     "output_type": "stream",
     "text": [
      "테스트 데이터의 수 : 17174\n"
     ]
    }
   ],
   "source": [
    "n_of_val = int(len(encoder_input)*0.2)\n",
    "print('테스트 데이터의 수 :', n_of_val)"
   ]
  },
  {
   "cell_type": "code",
   "execution_count": 26,
   "metadata": {},
   "outputs": [
    {
     "name": "stdout",
     "output_type": "stream",
     "text": [
      "훈련 데이터의 개수 : 68700\n",
      "훈련 레이블의 개수 : 68700\n",
      "테스트 데이터의 개수 : 17174\n",
      "테스트 레이블의 개수 : 17174\n"
     ]
    }
   ],
   "source": [
    "encoder_input_train = encoder_input[:-n_of_val]\n",
    "decoder_input_train = decoder_input[:-n_of_val]\n",
    "decoder_target_train = decoder_target[:-n_of_val]\n",
    "\n",
    "encoder_input_test = encoder_input[-n_of_val:]\n",
    "decoder_input_test = decoder_input[-n_of_val:]\n",
    "decoder_target_test = decoder_target[-n_of_val:]\n",
    "\n",
    "print('훈련 데이터의 개수 :', len(encoder_input_train))\n",
    "print('훈련 레이블의 개수 :', len(decoder_input_train))\n",
    "print('테스트 데이터의 개수 :', len(encoder_input_test))\n",
    "print('테스트 레이블의 개수 :', len(decoder_input_test))"
   ]
  },
  {
   "cell_type": "markdown",
   "metadata": {},
   "source": [
    "# 단어 집합, 정수 인코딩"
   ]
  },
  {
   "cell_type": "code",
   "execution_count": 27,
   "metadata": {},
   "outputs": [],
   "source": [
    "src_tokenizer = Tokenizer() # 토크나이저 정의\n",
    "src_tokenizer.fit_on_texts(encoder_input_train) # 입력된 데이터로부터 단어 집합 생성"
   ]
  },
  {
   "cell_type": "code",
   "execution_count": 28,
   "metadata": {},
   "outputs": [
    {
     "name": "stdout",
     "output_type": "stream",
     "text": [
      "단어 집합(vocabulary)의 크기 : 64711\n",
      "등장 빈도가 7번 이하인 희귀 단어의 수: 45527\n",
      "단어 집합에서 희귀 단어를 제외시킬 경우의 단어 집합의 크기 19184\n",
      "단어 집합에서 희귀 단어의 비율: 70.35434470182813\n",
      "전체 등장 빈도에서 희귀 단어 등장 빈도 비율: 4.199764757544763\n"
     ]
    }
   ],
   "source": [
    "threshold = 8\n",
    "total_cnt = len(src_tokenizer.word_index) # 단어의 수\n",
    "rare_cnt = 0 # 등장 빈도수가 threshold보다 작은 단어의 개수를 카운트\n",
    "total_freq = 0 # 훈련 데이터의 전체 단어 빈도수 총 합\n",
    "rare_freq = 0 # 등장 빈도수가 threshold보다 작은 단어의 등장 빈도수의 총 합\n",
    "\n",
    "# 단어와 빈도수의 쌍(pair)을 key와 value로 받는다.\n",
    "for key, value in src_tokenizer.word_counts.items():\n",
    "    total_freq = total_freq + value\n",
    "\n",
    "    # 단어의 등장 빈도수가 threshold보다 작으면\n",
    "    if(value < threshold):\n",
    "        rare_cnt = rare_cnt + 1\n",
    "        rare_freq = rare_freq + value\n",
    "\n",
    "print('단어 집합(vocabulary)의 크기 :', total_cnt)\n",
    "print('등장 빈도가 %s번 이하인 희귀 단어의 수: %s'%(threshold - 1, rare_cnt))\n",
    "print('단어 집합에서 희귀 단어를 제외시킬 경우의 단어 집합의 크기 %s'%(total_cnt - rare_cnt))\n",
    "print(\"단어 집합에서 희귀 단어의 비율:\", (rare_cnt / total_cnt)*100)\n",
    "print(\"전체 등장 빈도에서 희귀 단어 등장 빈도 비율:\", (rare_freq / total_freq)*100)\n"
   ]
  },
  {
   "cell_type": "code",
   "execution_count": 29,
   "metadata": {},
   "outputs": [],
   "source": [
    "src_vocab = 18000\n",
    "src_tokenizer = Tokenizer(num_words=src_vocab) # 단어 집합의 크기를 18,000으로 제한\n",
    "src_tokenizer.fit_on_texts(encoder_input_train) # 단어 집합 재생성."
   ]
  },
  {
   "cell_type": "code",
   "execution_count": 30,
   "metadata": {},
   "outputs": [
    {
     "name": "stdout",
     "output_type": "stream",
     "text": [
      "[[528, 13097, 254, 4764, 84, 31, 366, 76, 47, 100, 1609, 1264, 4319, 1574, 254, 2105, 901, 7, 2299, 2961, 2680, 2486, 1, 1159, 541, 1837, 20, 2263, 530, 358, 7414, 2762, 3506, 3678], [809, 61, 50, 15, 3354, 1421, 244, 2597, 10897, 505, 443, 1954, 176, 330, 731, 5992, 1237, 5859, 528, 117, 505, 11182, 6485, 1, 402, 37, 2349, 331, 8643, 3745, 6, 8643, 1779, 34], [30, 48, 16, 7292, 4719, 1, 11, 172, 15, 129, 64, 3390, 234, 1023, 48, 5657, 25, 26, 222, 1231, 63, 4, 4719, 2794, 103, 2188, 5, 48, 1231, 6949, 828]]\n"
     ]
    }
   ],
   "source": [
    "# 텍스트 시퀀스를 정수 시퀀스로 변환\n",
    "encoder_input_train = src_tokenizer.texts_to_sequences(encoder_input_train) \n",
    "encoder_input_test = src_tokenizer.texts_to_sequences(encoder_input_test)\n",
    "\n",
    "# 잘 진행되었는지 샘플 출력\n",
    "print(encoder_input_train[:3])"
   ]
  },
  {
   "cell_type": "code",
   "execution_count": 31,
   "metadata": {},
   "outputs": [],
   "source": [
    "tar_tokenizer = Tokenizer()\n",
    "tar_tokenizer.fit_on_texts(decoder_input_train)"
   ]
  },
  {
   "cell_type": "code",
   "execution_count": 32,
   "metadata": {},
   "outputs": [
    {
     "name": "stdout",
     "output_type": "stream",
     "text": [
      "단어 집합(vocabulary)의 크기 : 28522\n",
      "등장 빈도가 7번 이하인 희귀 단어의 수: 20334\n",
      "단어 집합에서 희귀 단어를 제외시킬 경우의 단어 집합의 크기 8188\n",
      "단어 집합에서 희귀 단어의 비율: 71.29233574083163\n",
      "전체 등장 빈도에서 희귀 단어 등장 빈도 비율: 6.596914193530762\n"
     ]
    }
   ],
   "source": [
    "threshold = 8\n",
    "total_cnt = len(tar_tokenizer.word_index) # 단어의 수\n",
    "rare_cnt = 0 # 등장 빈도수가 threshold보다 작은 단어의 개수를 카운트\n",
    "total_freq = 0 # 훈련 데이터의 전체 단어 빈도수 총 합\n",
    "rare_freq = 0 # 등장 빈도수가 threshold보다 작은 단어의 등장 빈도수의 총 합\n",
    "\n",
    "# 단어와 빈도수의 쌍(pair)을 key와 value로 받는다.\n",
    "for key, value in tar_tokenizer.word_counts.items():\n",
    "    total_freq = total_freq + value\n",
    "\n",
    "    # 단어의 등장 빈도수가 threshold보다 작으면\n",
    "    if(value < threshold):\n",
    "        rare_cnt = rare_cnt + 1\n",
    "        rare_freq = rare_freq + value\n",
    "\n",
    "print('단어 집합(vocabulary)의 크기 :', total_cnt)\n",
    "print('등장 빈도가 %s번 이하인 희귀 단어의 수: %s'%(threshold - 1, rare_cnt))\n",
    "print('단어 집합에서 희귀 단어를 제외시킬 경우의 단어 집합의 크기 %s'%(total_cnt - rare_cnt))\n",
    "print(\"단어 집합에서 희귀 단어의 비율:\", (rare_cnt / total_cnt)*100)\n",
    "print(\"전체 등장 빈도에서 희귀 단어 등장 빈도 비율:\", (rare_freq / total_freq)*100)"
   ]
  },
  {
   "cell_type": "code",
   "execution_count": 33,
   "metadata": {},
   "outputs": [
    {
     "name": "stdout",
     "output_type": "stream",
     "text": [
      "input\n",
      "input  [[1, 200, 4266, 10, 2059, 195, 1826, 635], [1, 316, 406, 39, 1918, 2170, 471, 4, 488], [1, 1662, 44, 276, 12, 376, 1214, 9, 93, 3005], [1, 1715, 387, 912, 186, 168, 3080, 4, 2091], [1, 123, 3, 339, 2781, 205, 1373, 2603, 56, 878]]\n",
      "target\n",
      "decoder  [[200, 4266, 10, 2059, 195, 1826, 635, 2], [316, 406, 39, 1918, 2170, 471, 4, 488, 2], [1662, 44, 276, 12, 376, 1214, 9, 93, 3005, 2], [1715, 387, 912, 186, 168, 3080, 4, 2091, 2], [123, 3, 339, 2781, 205, 1373, 2603, 56, 878, 2]]\n"
     ]
    }
   ],
   "source": [
    "tar_vocab = 8000\n",
    "tar_tokenizer = Tokenizer(num_words=tar_vocab) \n",
    "tar_tokenizer.fit_on_texts(decoder_input_train)\n",
    "tar_tokenizer.fit_on_texts(decoder_target_train)\n",
    "\n",
    "# 텍스트 시퀀스를 정수 시퀀스로 변환\n",
    "decoder_input_train = tar_tokenizer.texts_to_sequences(decoder_input_train) \n",
    "decoder_target_train = tar_tokenizer.texts_to_sequences(decoder_target_train)\n",
    "decoder_input_test = tar_tokenizer.texts_to_sequences(decoder_input_test)\n",
    "decoder_target_test = tar_tokenizer.texts_to_sequences(decoder_target_test)\n",
    "\n",
    "# 잘 변환되었는지 확인\n",
    "print('input')\n",
    "print('input ',decoder_input_train[:5])\n",
    "print('target')\n",
    "print('decoder ',decoder_target_train[:5])"
   ]
  },
  {
   "cell_type": "code",
   "execution_count": 34,
   "metadata": {},
   "outputs": [
    {
     "name": "stdout",
     "output_type": "stream",
     "text": [
      "삭제할 훈련 데이터의 개수 : 0\n",
      "삭제할 테스트 데이터의 개수 : 1\n",
      "훈련 데이터의 개수 : 68700\n",
      "훈련 레이블의 개수 : 68700\n",
      "테스트 데이터의 개수 : 17173\n",
      "테스트 레이블의 개수 : 17173\n"
     ]
    },
    {
     "name": "stderr",
     "output_type": "stream",
     "text": [
      "/opt/conda/lib/python3.7/site-packages/numpy/core/_asarray.py:83: VisibleDeprecationWarning: Creating an ndarray from ragged nested sequences (which is a list-or-tuple of lists-or-tuples-or ndarrays with different lengths or shapes) is deprecated. If you meant to do this, you must specify 'dtype=object' when creating the ndarray\n",
      "  return array(a, dtype, copy=False, order=order)\n"
     ]
    }
   ],
   "source": [
    "drop_train = [index for index, sentence in enumerate(decoder_input_train) if len(sentence) == 1]\n",
    "drop_test = [index for index, sentence in enumerate(decoder_input_test) if len(sentence) == 1]\n",
    "\n",
    "print('삭제할 훈련 데이터의 개수 :', len(drop_train))\n",
    "print('삭제할 테스트 데이터의 개수 :', len(drop_test))\n",
    "\n",
    "encoder_input_train = np.delete(encoder_input_train, drop_train, axis=0)\n",
    "decoder_input_train = np.delete(decoder_input_train, drop_train, axis=0)\n",
    "decoder_target_train = np.delete(decoder_target_train, drop_train, axis=0)\n",
    "\n",
    "encoder_input_test = np.delete(encoder_input_test, drop_test, axis=0)\n",
    "decoder_input_test = np.delete(decoder_input_test, drop_test, axis=0)\n",
    "decoder_target_test = np.delete(decoder_target_test, drop_test, axis=0)\n",
    "\n",
    "print('훈련 데이터의 개수 :', len(encoder_input_train))\n",
    "print('훈련 레이블의 개수 :', len(decoder_input_train))\n",
    "print('테스트 데이터의 개수 :', len(encoder_input_test))\n",
    "print('테스트 레이블의 개수 :', len(decoder_input_test))"
   ]
  },
  {
   "cell_type": "markdown",
   "metadata": {},
   "source": [
    "# 패딩"
   ]
  },
  {
   "cell_type": "code",
   "execution_count": 35,
   "metadata": {},
   "outputs": [],
   "source": [
    "encoder_input_train = pad_sequences(encoder_input_train, maxlen=text_max_len, padding='post')\n",
    "encoder_input_test = pad_sequences(encoder_input_test, maxlen=text_max_len, padding='post')\n",
    "decoder_input_train = pad_sequences(decoder_input_train, maxlen=headlines_max_len, padding='post')\n",
    "decoder_target_train = pad_sequences(decoder_target_train, maxlen=headlines_max_len, padding='post')\n",
    "decoder_input_test = pad_sequences(decoder_input_test, maxlen=headlines_max_len, padding='post')\n",
    "decoder_target_test = pad_sequences(decoder_target_test, maxlen=headlines_max_len, padding='post')"
   ]
  },
  {
   "cell_type": "markdown",
   "metadata": {},
   "source": [
    "# 모델링"
   ]
  },
  {
   "cell_type": "code",
   "execution_count": 36,
   "metadata": {},
   "outputs": [
    {
     "name": "stdout",
     "output_type": "stream",
     "text": [
      "WARNING:tensorflow:Layer lstm will not use cuDNN kernel since it doesn't meet the cuDNN kernel criteria. It will use generic GPU kernel as fallback when running on GPU\n",
      "WARNING:tensorflow:Layer lstm_1 will not use cuDNN kernel since it doesn't meet the cuDNN kernel criteria. It will use generic GPU kernel as fallback when running on GPU\n",
      "WARNING:tensorflow:Layer lstm_2 will not use cuDNN kernel since it doesn't meet the cuDNN kernel criteria. It will use generic GPU kernel as fallback when running on GPU\n"
     ]
    }
   ],
   "source": [
    "\n",
    "from tensorflow.keras.layers import Input, LSTM, Embedding, Dense, Concatenate\n",
    "from tensorflow.keras.models import Model\n",
    "from tensorflow.keras.callbacks import EarlyStopping, ModelCheckpoint\n",
    "\n",
    "\n",
    "# 인코더 설계 시작\n",
    "embedding_dim = 128\n",
    "hidden_size = 256\n",
    "\n",
    "# 인코더\n",
    "encoder_inputs = Input(shape=(text_max_len,))\n",
    "\n",
    "# 인코더의 임베딩 층\n",
    "enc_emb = Embedding(src_vocab, embedding_dim)(encoder_inputs)\n",
    "\n",
    "# 인코더의 LSTM 1\n",
    "encoder_lstm1 = LSTM(hidden_size, return_sequences=True, return_state=True ,dropout = 0.4, recurrent_dropout = 0.4)\n",
    "encoder_output1, state_h1, state_c1 = encoder_lstm1(enc_emb)\n",
    "\n",
    "# 인코더의 LSTM 2\n",
    "encoder_lstm2 = LSTM(hidden_size, return_sequences=True, return_state=True, dropout=0.4, recurrent_dropout=0.4)\n",
    "encoder_output2, state_h2, state_c2 = encoder_lstm2(encoder_output1)\n",
    "\n",
    "# 인코더의 LSTM 3\n",
    "encoder_lstm3 = LSTM(hidden_size, return_state=True, return_sequences=True, dropout=0.4, recurrent_dropout=0.4)\n",
    "encoder_outputs, state_h, state_c= encoder_lstm3(encoder_output2)"
   ]
  },
  {
   "cell_type": "code",
   "execution_count": 37,
   "metadata": {},
   "outputs": [
    {
     "name": "stdout",
     "output_type": "stream",
     "text": [
      "WARNING:tensorflow:Layer lstm_3 will not use cuDNN kernel since it doesn't meet the cuDNN kernel criteria. It will use generic GPU kernel as fallback when running on GPU\n"
     ]
    }
   ],
   "source": [
    "# 디코더 설계\n",
    "decoder_inputs = Input(shape=(None,))\n",
    "\n",
    "# 디코더의 임베딩 층\n",
    "dec_emb_layer = Embedding(tar_vocab, embedding_dim)\n",
    "dec_emb = dec_emb_layer(decoder_inputs)\n",
    "\n",
    "# 디코더의 LSTM\n",
    "decoder_lstm = LSTM(hidden_size, return_sequences=True, return_state=True, dropout=0.4, recurrent_dropout=0.2)\n",
    "decoder_outputs, _, _ = decoder_lstm(dec_emb, initial_state=[state_h, state_c])"
   ]
  },
  {
   "cell_type": "code",
   "execution_count": 38,
   "metadata": {},
   "outputs": [
    {
     "name": "stdout",
     "output_type": "stream",
     "text": [
      "Model: \"model\"\n",
      "__________________________________________________________________________________________________\n",
      "Layer (type)                    Output Shape         Param #     Connected to                     \n",
      "==================================================================================================\n",
      "input_1 (InputLayer)            [(None, 40)]         0                                            \n",
      "__________________________________________________________________________________________________\n",
      "embedding (Embedding)           (None, 40, 128)      2304000     input_1[0][0]                    \n",
      "__________________________________________________________________________________________________\n",
      "lstm (LSTM)                     [(None, 40, 256), (N 394240      embedding[0][0]                  \n",
      "__________________________________________________________________________________________________\n",
      "input_2 (InputLayer)            [(None, None)]       0                                            \n",
      "__________________________________________________________________________________________________\n",
      "lstm_1 (LSTM)                   [(None, 40, 256), (N 525312      lstm[0][0]                       \n",
      "__________________________________________________________________________________________________\n",
      "embedding_1 (Embedding)         (None, None, 128)    1024000     input_2[0][0]                    \n",
      "__________________________________________________________________________________________________\n",
      "lstm_2 (LSTM)                   [(None, 40, 256), (N 525312      lstm_1[0][0]                     \n",
      "__________________________________________________________________________________________________\n",
      "lstm_3 (LSTM)                   [(None, None, 256),  394240      embedding_1[0][0]                \n",
      "                                                                 lstm_2[0][1]                     \n",
      "                                                                 lstm_2[0][2]                     \n",
      "__________________________________________________________________________________________________\n",
      "dense (Dense)                   (None, None, 8000)   2056000     lstm_3[0][0]                     \n",
      "==================================================================================================\n",
      "Total params: 7,223,104\n",
      "Trainable params: 7,223,104\n",
      "Non-trainable params: 0\n",
      "__________________________________________________________________________________________________\n"
     ]
    }
   ],
   "source": [
    "# 디코더의 출력층\n",
    "decoder_softmax_layer = Dense(tar_vocab, activation='softmax')\n",
    "decoder_softmax_outputs = decoder_softmax_layer(decoder_outputs) \n",
    "\n",
    "# 모델 정의\n",
    "model = Model([encoder_inputs, decoder_inputs], decoder_softmax_outputs)\n",
    "model.summary()"
   ]
  },
  {
   "cell_type": "code",
   "execution_count": 39,
   "metadata": {},
   "outputs": [],
   "source": [
    "# 어텐션 메커니즘\n",
    "\n",
    "urllib.request.urlretrieve(\"https://raw.githubusercontent.com/thushv89/attention_keras/master/src/layers/attention.py\", filename=\"attention.py\")\n",
    "from attention import AttentionLayer"
   ]
  },
  {
   "cell_type": "code",
   "execution_count": 40,
   "metadata": {},
   "outputs": [
    {
     "name": "stdout",
     "output_type": "stream",
     "text": [
      "Model: \"model_1\"\n",
      "__________________________________________________________________________________________________\n",
      "Layer (type)                    Output Shape         Param #     Connected to                     \n",
      "==================================================================================================\n",
      "input_1 (InputLayer)            [(None, 40)]         0                                            \n",
      "__________________________________________________________________________________________________\n",
      "embedding (Embedding)           (None, 40, 128)      2304000     input_1[0][0]                    \n",
      "__________________________________________________________________________________________________\n",
      "lstm (LSTM)                     [(None, 40, 256), (N 394240      embedding[0][0]                  \n",
      "__________________________________________________________________________________________________\n",
      "input_2 (InputLayer)            [(None, None)]       0                                            \n",
      "__________________________________________________________________________________________________\n",
      "lstm_1 (LSTM)                   [(None, 40, 256), (N 525312      lstm[0][0]                       \n",
      "__________________________________________________________________________________________________\n",
      "embedding_1 (Embedding)         (None, None, 128)    1024000     input_2[0][0]                    \n",
      "__________________________________________________________________________________________________\n",
      "lstm_2 (LSTM)                   [(None, 40, 256), (N 525312      lstm_1[0][0]                     \n",
      "__________________________________________________________________________________________________\n",
      "lstm_3 (LSTM)                   [(None, None, 256),  394240      embedding_1[0][0]                \n",
      "                                                                 lstm_2[0][1]                     \n",
      "                                                                 lstm_2[0][2]                     \n",
      "__________________________________________________________________________________________________\n",
      "attention_layer (AttentionLayer ((None, None, 256),  131328      lstm_2[0][0]                     \n",
      "                                                                 lstm_3[0][0]                     \n",
      "__________________________________________________________________________________________________\n",
      "concat_layer (Concatenate)      (None, None, 512)    0           lstm_3[0][0]                     \n",
      "                                                                 attention_layer[0][0]            \n",
      "__________________________________________________________________________________________________\n",
      "dense_1 (Dense)                 (None, None, 8000)   4104000     concat_layer[0][0]               \n",
      "==================================================================================================\n",
      "Total params: 9,402,432\n",
      "Trainable params: 9,402,432\n",
      "Non-trainable params: 0\n",
      "__________________________________________________________________________________________________\n"
     ]
    }
   ],
   "source": [
    "# 어텐션 층(어텐션 함수)\n",
    "attn_layer = AttentionLayer(name='attention_layer')\n",
    "# 인코더와 디코더의 모든 time step의 hidden state를 어텐션 층에 전달하고 결과를 리턴\n",
    "attn_out, attn_states = attn_layer([encoder_outputs, decoder_outputs])\n",
    "\n",
    "# 어텐션의 결과와 디코더의 hidden state들을 연결\n",
    "decoder_concat_input = Concatenate(axis=-1, name='concat_layer')([decoder_outputs, attn_out])\n",
    "\n",
    "# 디코더의 출력층\n",
    "decoder_softmax_layer = Dense(tar_vocab, activation='softmax')\n",
    "decoder_softmax_outputs = decoder_softmax_layer(decoder_concat_input)\n",
    "\n",
    "# 모델 정의\n",
    "model = Model([encoder_inputs, decoder_inputs], decoder_softmax_outputs)\n",
    "model.summary()"
   ]
  },
  {
   "cell_type": "code",
   "execution_count": 41,
   "metadata": {},
   "outputs": [
    {
     "name": "stdout",
     "output_type": "stream",
     "text": [
      "Epoch 1/50\n",
      "269/269 [==============================] - 205s 719ms/step - loss: 6.2141 - val_loss: 5.4237\n",
      "Epoch 2/50\n",
      "269/269 [==============================] - 193s 716ms/step - loss: 5.3730 - val_loss: 5.0966\n",
      "Epoch 3/50\n",
      "269/269 [==============================] - 189s 703ms/step - loss: 5.0036 - val_loss: 4.7739\n",
      "Epoch 4/50\n",
      "269/269 [==============================] - 191s 710ms/step - loss: 4.6811 - val_loss: 4.5786\n",
      "Epoch 5/50\n",
      "269/269 [==============================] - 189s 702ms/step - loss: 4.4382 - val_loss: 4.4160\n",
      "Epoch 6/50\n",
      "269/269 [==============================] - 188s 699ms/step - loss: 4.2511 - val_loss: 4.2978\n",
      "Epoch 7/50\n",
      "269/269 [==============================] - 189s 701ms/step - loss: 4.0801 - val_loss: 4.1900\n",
      "Epoch 8/50\n",
      "269/269 [==============================] - 198s 735ms/step - loss: 3.9378 - val_loss: 4.1068\n",
      "Epoch 9/50\n",
      "269/269 [==============================] - 190s 708ms/step - loss: 3.8044 - val_loss: 4.0468\n",
      "Epoch 10/50\n",
      "269/269 [==============================] - 204s 760ms/step - loss: 3.6885 - val_loss: 3.9972\n",
      "Epoch 11/50\n",
      "269/269 [==============================] - 189s 702ms/step - loss: 3.5859 - val_loss: 3.9481\n",
      "Epoch 12/50\n",
      "269/269 [==============================] - 194s 720ms/step - loss: 3.5017 - val_loss: 3.9153\n",
      "Epoch 13/50\n",
      "269/269 [==============================] - 189s 702ms/step - loss: 3.4178 - val_loss: 3.8806\n",
      "Epoch 14/50\n",
      "269/269 [==============================] - 187s 696ms/step - loss: 3.3341 - val_loss: 3.8643\n",
      "Epoch 15/50\n",
      "269/269 [==============================] - 188s 699ms/step - loss: 3.2744 - val_loss: 3.8328\n",
      "Epoch 16/50\n",
      "269/269 [==============================] - 187s 697ms/step - loss: 3.2068 - val_loss: 3.8208\n",
      "Epoch 17/50\n",
      "269/269 [==============================] - 187s 696ms/step - loss: 3.1460 - val_loss: 3.7984\n",
      "Epoch 18/50\n",
      "269/269 [==============================] - 187s 696ms/step - loss: 3.0920 - val_loss: 3.7820\n",
      "Epoch 19/50\n",
      "269/269 [==============================] - 187s 696ms/step - loss: 3.0382 - val_loss: 3.7795\n",
      "Epoch 20/50\n",
      "269/269 [==============================] - 188s 698ms/step - loss: 2.9914 - val_loss: 3.7603\n",
      "Epoch 21/50\n",
      "269/269 [==============================] - 188s 698ms/step - loss: 2.9472 - val_loss: 3.7495\n",
      "Epoch 22/50\n",
      "269/269 [==============================] - 187s 697ms/step - loss: 2.8988 - val_loss: 3.7466\n",
      "Epoch 23/50\n",
      "269/269 [==============================] - 188s 698ms/step - loss: 2.8564 - val_loss: 3.7545\n",
      "Epoch 24/50\n",
      "269/269 [==============================] - 188s 698ms/step - loss: 2.8164 - val_loss: 3.7483\n",
      "Epoch 00024: early stopping\n"
     ]
    }
   ],
   "source": [
    "model.compile(optimizer='rmsprop', loss='sparse_categorical_crossentropy')\n",
    "es = EarlyStopping(monitor='val_loss', patience=2, verbose=1)\n",
    "history = model.fit(x=[encoder_input_train, decoder_input_train], y=decoder_target_train, \\\n",
    "          validation_data=([encoder_input_test, decoder_input_test], decoder_target_test), \\\n",
    "          batch_size=256, callbacks=[es], epochs=50)"
   ]
  },
  {
   "cell_type": "code",
   "execution_count": 42,
   "metadata": {},
   "outputs": [
    {
     "data": {
      "image/png": "[encoded data removed]",
      "text/plain": [
       "<Figure size 432x288 with 1 Axes>"
      ]
     },
     "metadata": {
      "needs_background": "light"
     },
     "output_type": "display_data"
    }
   ],
   "source": [
    "plt.plot(history.history['loss'], label='train')\n",
    "plt.plot(history.history['val_loss'], label='test')\n",
    "plt.legend()\n",
    "plt.show()"
   ]
  },
  {
   "cell_type": "markdown",
   "metadata": {},
   "source": [
    "# 인퍼런스 모델 구현"
   ]
  },
  {
   "cell_type": "code",
   "execution_count": 43,
   "metadata": {},
   "outputs": [],
   "source": [
    "src_index_to_word = src_tokenizer.index_word # 원문 단어 집합에서 정수 -> 단어를 얻음\n",
    "tar_word_to_index = tar_tokenizer.word_index # 요약 단어 집합에서 단어 -> 정수를 얻음\n",
    "tar_index_to_word = tar_tokenizer.index_word # 요약 단어 집합에서 정수 -> 단어를 얻음"
   ]
  },
  {
   "cell_type": "code",
   "execution_count": 44,
   "metadata": {},
   "outputs": [],
   "source": [
    "# 인코더 설계\n",
    "encoder_model = Model(inputs=encoder_inputs, outputs=[encoder_outputs, state_h, state_c])\n",
    "\n",
    "# 이전 시점의 상태들을 저장하는 텐서\n",
    "decoder_state_input_h = Input(shape=(hidden_size,))\n",
    "decoder_state_input_c = Input(shape=(hidden_size,))\n",
    "\n",
    "dec_emb2 = dec_emb_layer(decoder_inputs)\n",
    "\n",
    "# 문장의 다음 단어를 예측하기 위해서 초기 상태(initial_state)를 이전 시점의 상태로 사용. 이는 뒤의 함수 decode_sequence()에 구현\n",
    "# 훈련 과정에서와 달리 LSTM의 리턴하는 은닉 상태와 셀 상태인 state_h와 state_c를 버리지 않음.\n",
    "decoder_outputs2, state_h2, state_c2 = decoder_lstm(dec_emb2, initial_state=[decoder_state_input_h, decoder_state_input_c])"
   ]
  },
  {
   "cell_type": "code",
   "execution_count": 46,
   "metadata": {},
   "outputs": [],
   "source": [
    "# 어텐션 함수\n",
    "decoder_hidden_state_input = Input(shape=(text_max_len, hidden_size))\n",
    "attn_out_inf, attn_states_inf = attn_layer([decoder_hidden_state_input, decoder_outputs2])\n",
    "decoder_inf_concat = Concatenate(axis=-1, name='concat')([decoder_outputs2, attn_out_inf])\n",
    "\n",
    "# 디코더의 출력층\n",
    "decoder_outputs2 = decoder_softmax_layer(decoder_inf_concat) \n",
    "\n",
    "# 최종 디코더 모델\n",
    "decoder_model = Model(\n",
    "    [decoder_inputs] + [decoder_hidden_state_input,decoder_state_input_h, decoder_state_input_c],\n",
    "    [decoder_outputs2] + [state_h2, state_c2])"
   ]
  },
  {
   "cell_type": "code",
   "execution_count": 47,
   "metadata": {},
   "outputs": [],
   "source": [
    "def decode_sequence(input_seq):\n",
    "    # 입력으로부터 인코더의 상태를 얻음\n",
    "    e_out, e_h, e_c = encoder_model.predict(input_seq)\n",
    "\n",
    "     # <SOS>에 해당하는 토큰 생성\n",
    "    target_seq = np.zeros((1,1))\n",
    "    target_seq[0, 0] = tar_word_to_index['sostoken']\n",
    "\n",
    "    stop_condition = False\n",
    "    decoded_sentence = ''\n",
    "    while not stop_condition: # stop_condition이 True가 될 때까지 루프 반복\n",
    "\n",
    "        output_tokens, h, c = decoder_model.predict([target_seq] + [e_out, e_h, e_c])\n",
    "        sampled_token_index = np.argmax(output_tokens[0, -1, :])\n",
    "        sampled_token = tar_index_to_word[sampled_token_index]\n",
    "\n",
    "        if (sampled_token!='eostoken'):\n",
    "            decoded_sentence += ' '+sampled_token\n",
    "\n",
    "        #  <eos>에 도달하거나 최대 길이를 넘으면 중단.\n",
    "        if (sampled_token == 'eostoken'  or len(decoded_sentence.split()) >= (headlines_max_len-1)):\n",
    "            stop_condition = True\n",
    "\n",
    "        # 길이가 1인 타겟 시퀀스를 업데이트\n",
    "        target_seq = np.zeros((1,1))\n",
    "        target_seq[0, 0] = sampled_token_index\n",
    "\n",
    "        # 상태를 업데이트 합니다.\n",
    "        e_h, e_c = h, c\n",
    "\n",
    "    return decoded_sentence"
   ]
  },
  {
   "cell_type": "markdown",
   "metadata": {},
   "source": [
    "# 실제 결과와 요약문 비교"
   ]
  },
  {
   "cell_type": "markdown",
   "metadata": {},
   "source": [
    "## 모델 테스트"
   ]
  },
  {
   "cell_type": "code",
   "execution_count": 48,
   "metadata": {},
   "outputs": [],
   "source": [
    "# 원문의 정수 시퀀스를 텍스트 시퀀스로 변환\n",
    "def seq2text(input_seq):\n",
    "    temp=''\n",
    "    for i in input_seq:\n",
    "        if (i!=0):\n",
    "            temp = temp + src_index_to_word[i]+' '\n",
    "    return temp\n",
    "\n",
    "# 요약문의 정수 시퀀스를 텍스트 시퀀스로 변환\n",
    "def seq2headlines(input_seq):\n",
    "    temp=''\n",
    "    for i in input_seq:\n",
    "        if ((i!=0 and i!=tar_word_to_index['sostoken']) and i!=tar_word_to_index['eostoken']):\n",
    "            temp = temp + tar_index_to_word[i] + ' '\n",
    "    return temp"
   ]
  },
  {
   "cell_type": "code",
   "execution_count": 49,
   "metadata": {},
   "outputs": [
    {
     "name": "stdout",
     "output_type": "stream",
     "text": [
      "원문 : facebook investors owning nearly billion shares made bid oust mark zuckerberg company chairman th century dictator investor claimed zuckerberg roles ceo chairman mean answerable one talking voting powers also said zuckerberg disregard critics even data scandals \n",
      "실제 요약 : zuckerberg is like th century dictator facebook investors \n",
      "예측 요약 :  facebook loses bn bn as bn deal with bn tweet\n",
      "\n",
      "\n",
      "원문 : michael chief information security officer twitter quit microblogging site co found security startup twitter amazing ride confident leave program amazing security team tweeted university illinois graduate joined twitter also served motorola past \n",
      "실제 요약 : twitter information security chief quits to launch startup \n",
      "예측 요약 :  ex pak chief secretary accused of stealing employee\n",
      "\n",
      "\n",
      "원문 : around students received fake degrees indira gandhi national open university centre kathua without writing examinations jammu kashmir police said officials post offices prepared fake answer sheets money collected candidates scam bank account opened name fake coordinator \n",
      "실제 요약 : students get fake degrees without writing exams \n",
      "예측 요약 :  fake students from jnu students suspended over fake clashes\n",
      "\n",
      "\n",
      "원문 : aerospace startup blue origin founded amazon jeff bezos released photos showing interior space capsule tourists look every seat window seat largest windows ever space said bezos new scheduled take first customers space float around minutes \n",
      "실제 요약 : bezos space startup shows to take tourists to space \n",
      "예측 요약 :  startup shares video of space space station\n",
      "\n",
      "\n",
      "원문 : veteran actor dilip kumar wife saira banu sent defamation notice builder samir falsely claiming ownership actor bungalow mumbai couple sought apology crore damages publicly defaming earlier issued public notice claiming ownership property \n",
      "실제 요약 : dilip kumar sends defamation notice to in property dispute \n",
      "예측 요약 :  actor wife files defamation case against him\n",
      "\n",
      "\n",
      "원문 : asian paints released second video campaign showcases home make every member family feel comfortable including pets film highlights essence living richer lives home creating spaces self expression discovery decor adds meaning memories one home \n",
      "실제 요약 : asian paints releases second video on campaign \n",
      "예측 요약 :  south korean group releases video of children\n",
      "\n",
      "\n",
      "원문 : chris pratt dallas howard starrer science fiction film jurassic world fallen kingdom earned billion worldwide became th film achieve milestone film prequel jurassic world released minted billion worldwide notably first film franchise jurassic park also part billion club \n",
      "실제 요약 : world earns billion worldwide \n",
      "예측 요약 :  world cup film earns bn in china film\n",
      "\n",
      "\n",
      "원문 : aquatic animal native mexico could extinct next year urgent action including ban gill nets taken world wildlife fund nature warned mammal population plummeted six years fewer left gulf california said \n",
      "실제 요약 : marine animal could be extinct by \n",
      "예측 요약 :  italy to get its first ever\n",
      "\n",
      "\n",
      "원문 : us budget shoe retailer opened fake luxury store named tricked social media buying shoes typically priced store opened part advertising campaign sold worth shoes within hours money refunded shoppers allowed keep shoes \n",
      "실제 요약 : budget shoe brand customers sells shoes for \n",
      "예측 요약 :  hackers steal fake store in uk\n",
      "\n",
      "\n",
      "원문 : cab hailing startup uber raised billion japan softbank led team investors according reports shares purchased existing shareholders value uber approximately billion roughly discount startup recent valuation billion reports added team uber softbank holding largest stake \n",
      "실제 요약 : uber raises bn valuation drops to bn reports \n",
      "예측 요약 :  ola rival lyft raises bn from softbank valuation\n",
      "\n",
      "\n",
      "원문 : nasa dropped ozone monitoring device sky new jersey us carried message president donald trump read bomb lands near wish great round golf trump staying golf club new jersey prank planned intern fired \n",
      "실제 요약 : not bomb nasa drops box from sky with message for trump \n",
      "예측 요약 :  nasa offers trump portrait to trump cup portrait\n",
      "\n",
      "\n",
      "원문 : according reports actress deepika padukone set walk red carpet cannes film festival reportedly appointed brand ambassador beauty product already endorsed sonam kapoor aishwarya rai bachchan deepika earlier walked red carpet film festival year \n",
      "실제 요약 : deepika to walk red carpet at cannes film fest reports \n",
      "예측 요약 :  deepika deepika to be at cannes film festival report\n",
      "\n",
      "\n",
      "원문 : international cricket council thursday confirmed member countries receive international status women matches awarded international status july men matches would given status january member nation receive world ranking well \n",
      "실제 요약 : all icc member nations to get international status \n",
      "예측 요약 :  icc proposes women to women in women\n",
      "\n",
      "\n",
      "원문 : model gigi hadid celebrated eid al adha boyfriend zayn malik family members took instagram share story featured zayn younger sister azad home eid wrote caption story zayn gigi dating since recently breakup march \n",
      "실제 요약 : gigi celebrates eid with boyfriend zayn malik and his family \n",
      "예측 요약 :  video shows gigi hadid eid with family of family\n",
      "\n",
      "\n",
      "원문 : odisha walked km meet pm narendra modi remind promises improving medical infrastructure facilities village people die every day said said hopeful pm modi looking issues despite fulfilling promises four years \n",
      "실제 요약 : man walks km to pm modi of his promises \n",
      "예측 요약 :  odisha village to pm modi on pm modi rally\n",
      "\n",
      "\n",
      "원문 : number firms including apple amazon facebook google condemned us president donald trump reported plans transgenders reduce legal protection changing gender harms transgender people harms companies read letter signed companies letter called equality law transgender people \n",
      "실제 요약 : apple google criticise us plans to transgenders \n",
      "예측 요약 :  google bans trump policy for us companies\n",
      "\n",
      "\n",
      "원문 : maharashtra cm devendra fadnavis provided lakh cm relief fund year old woman suffering breast cancer single mother diagnosed able afford treatment due financial constraints fadnavis year old son found contact details online following replied ok help \n",
      "실제 요약 : maharashtra cm gives from cm fund to cancer patient \n",
      "예측 요약 :  maha cm announces lakh for pregnant woman birth\n",
      "\n",
      "\n",
      "원문 : augmented reality startup magic leap sold products yet raised million saudi arabia sovereign investment arm funding part million series round announced last year taking total funding billion startup valued billion plans ship first product year \n",
      "실제 요약 : bn startup yet to sell any product gets another mn \n",
      "예측 요약 :  co founder launches mn funding for bn\n",
      "\n",
      "\n",
      "원문 : jeweller nirav modi lawyer vijay aggarwal said pnb billion fraud case client collapse like scam bofors scandal aggarwal said probing agencies able prove charges added nirav wanted commit fraud run away like vijay mallya would taken everything abroad \n",
      "실제 요약 : pnb case will collapse like scam nirav lawyer \n",
      "예측 요약 :  nirav modi is cbi fraud case nirav modi\n",
      "\n",
      "\n",
      "원문 : addressing ek babri masjid ke naam event delhi congress leader mani shankar aiyar monday said congress mistake narasimha rao take right steps right time mistake happened added babri masjid demolished december \n",
      "실제 요약 : am from cong we did mistake aiyar on babri demolition \n",
      "예측 요약 :  congress is not congress leader on rajinikanth\n",
      "\n",
      "\n",
      "원문 : three wards haryana police personnel arrested alleged involvement several cases theft past four months interrogation accused said expenses increased wanted enjoy certain lifestyle expensive mobile phones bikes police said police added accused would target women schoolchildren \n",
      "실제 요약 : haryana cops sons stole to maintain lifestyle says police \n",
      "예측 요약 :  arrested for lakh in gurugram based case\n",
      "\n",
      "\n",
      "원문 : journalist morgan criticised female musicians group little mix posing naked american singer ariana grande slammed shared picture posed nearly naked use talent sexuality time choose tweeted grande women sexual talented naked choice added \n",
      "실제 요약 : journo slams women for grande shares his nearly nude pic \n",
      "예측 요약 :  journo slammed for showing gay model harry model\n",
      "\n",
      "\n",
      "원문 : indian cricket team captain virat kohli led heart fc celebrity football match bollywood stars performed bhangra scoring side sixth goal kohli ball goalkeeper head help side regain three goal advantage started bhangra punjabi song played \n",
      "실제 요약 : kohli does bhangra after scoring goal in celebrity \n",
      "예측 요약 :  virat kohli plays cricket with the world cup\n",
      "\n",
      "\n",
      "원문 : italian footballer banned five matches urinating pitch towards rival fans year old midfielder allegedly made obscene gestures urinating direction away stand later explained drinking water fountain coming onto pitch simply jersey shorts \n",
      "실제 요약 : italian footballer gets five game ban for on pitch \n",
      "예측 요약 :  player banned from club after being called him\n",
      "\n",
      "\n",
      "원문 : disqualified pakistani pm nawaz sharif wife nawaz sunday elections national assembly seat lahore seat left vacant sharif disqualified supreme court panama papers case hailing victory sharif daughter maryam nawaz said voters rejected conspiracy democracy \n",
      "실제 요약 : disqualified pakistan pm nawaz sharif wife wins bypolls \n",
      "예측 요약 :  nawaz sharif sharif in pakistan presidential polls\n",
      "\n",
      "\n",
      "원문 : three people arrested meerut allegedly sharing false post social media claiming bjp mla sangeet som missing referring incident wherein year old girl set ablaze post stated stress victim daughter anyone gives information whereabouts get reward post stated \n",
      "실제 요약 : arrested for sharing false post on bjp mla being missing \n",
      "예측 요약 :  arrested for posting bjp leader to bjp leader\n",
      "\n",
      "\n",
      "원문 : indian cricketer lokesh rahul shared picture rounder hardik pandya instagram mocked latter hairstyle reacting pandya sporting hairstyle similar windies rounder andre russell rahul said someone ask pandya get haircut pandya slammed latest hairstyle social media \n",
      "실제 요약 : rahul takes dig at hardik pandya \n",
      "예측 요약 :  rahul posts photo with pandya hardik pandya\n",
      "\n",
      "\n",
      "원문 : bjp mp rajeev chandrasekhar tuesday slammed karnataka government giving expensive gifts including iphone leather bag parliamentarians iphone costs gb lakh gb bag costs least cm hd kumaraswamy said know gifts order probe \n",
      "실제 요약 : taka govt gifted iphones bags to mps bjp mp \n",
      "예측 요약 :  bjp mp rides ride worth lakh iphone ride in gujarat\n",
      "\n",
      "\n",
      "원문 : police arrested year old man run years murder case delhi vishnu garden sunday sentenced life imprisonment killing person monetary dispute granted parole however accused declared proclaimed offender return jail \n",
      "실제 요약 : murder convict arrested yrs after jumping parole in delhi \n",
      "예측 요약 :  man arrested for killing yr old daughter in delhi\n",
      "\n",
      "\n",
      "원문 : apollo chairman reddy thursday revealed cctv cameras chennai apollo hospital turned days former cm jayalalithaa hospitalisation patients hospital bed icu relocated another icu jayalalithaa admitted added late aiadmk leader passed away following cardiac arrest december \n",
      "실제 요약 : cctvs turned off for jayalalithaa day treatment apollo \n",
      "예측 요약 :  former former employee hospital critical critical\n",
      "\n",
      "\n",
      "원문 : former delhi cm sheila dikshit friday said mcd polls test congress delhi unit chief ajay maken let us wait election results congress wins good number seats thinking would proved wrong added notably dikshit name party top campaigners list \n",
      "실제 요약 : mcd polls test for ajay dikshit \n",
      "예측 요약 :  congress is not election candidate dikshit\n",
      "\n",
      "\n",
      "원문 : riding cristiano ronaldo two goals two time defending champions real madrid defeated psg first leg last champions league wednesday meanwhile liverpool registered win tuesday manchester city grabbed win notably ronaldo edition top scorer goals matches \n",
      "실제 요약 : ronaldo brace helps real madrid psg in first leg \n",
      "예측 요약 :  ronaldo scores goals in madrid win against ronaldo\n",
      "\n",
      "\n",
      "원문 : uber india president amit jain friday said uber india business hurt co founder ceo travis kalanick exit ride hailing startup continue rock solid jain added earlier month kalanick resigned ceo position owing investors pressure uber hit number scandals \n",
      "실제 요약 : uber india biz unhurt by ceo travis exit uber india prez \n",
      "예측 요약 :  uber ceo dara khosrowshahi to be named as ceo\n",
      "\n",
      "\n",
      "원문 : brazilian became world expensive goalkeeper english premier league side liverpool fc signed deal estimated worth crore year old keeper broke record previously set italy buffon bought juventus million \n",
      "실제 요약 : brazilian becomes world most expensive goalkeeper \n",
      "예측 요약 :  man utd pl player scores in pl match\n",
      "\n",
      "\n",
      "원문 : gold winner singh silver winner johnson became third indian pair win two medals men event asian games gold silver double achieved ranjit singh singh silver bronze double singh pal edition asian games \n",
      "실제 요약 : only rd time in asiad india has won medals in men \n",
      "예측 요약 :  gold winner becomes st indian to win gold at cwg\n",
      "\n",
      "\n",
      "원문 : man bengaluru jayanagar arrested police duping least people claiming employee unique identification authority india tricked people visiting aadhaar enrolment centres promising residential sites government schemes accused reportedly collected least lakh past months \n",
      "실제 요약 : man claiming to be aadhaar staffer held for duping people \n",
      "예측 요약 :  man arrested for duping people of people in delhi\n",
      "\n",
      "\n",
      "원문 : creative director kapil sharma show rajiv said kapil empire brought people trusted rajiv earlier accused reason behind show mismanagement added spreading lies see much damaged kapil image contributed show closure \n",
      "실제 요약 : kapil brought down by trusted people show maker \n",
      "예측 요약 :  kapil sharma is not in bollywood kapil sharma\n",
      "\n",
      "\n",
      "원문 : philippine president rodrigo duterte declared martial law days southern island mindanao muslim fighters laid siege region following violent clashes government forces according reports violence erupted tuesday army searched leader militant group pledged allegiance isis reports added \n",
      "실제 요약 : duterte declares martial law in south philippines \n",
      "예측 요약 :  philippine prez duterte duterte threatens to philippines\n",
      "\n",
      "\n",
      "원문 : consumer goods firm reckitt moved delhi high court patanjali green flush toilet cleaner similarities reckitt alleged patanjali copied pattern shape bottle also copied label usage instructions reckitt market share toilet cleaner segment \n",
      "실제 요약 : maker moves delhi hc against patanjali \n",
      "예측 요약 :  coca cola to use of plastic from\n",
      "\n",
      "\n",
      "원문 : actress taapsee pannu said firmly believes awards really perfect judgement one talent feels nice know certain set people qualified jury believe worthy recognition added taapsee said plus awards look beautiful shelf \n",
      "실제 요약 : awards are not the perfect judgement of your talent taapsee \n",
      "예측 요약 :  taapsee is the best thing taapsee pannu\n",
      "\n",
      "\n",
      "원문 : american biologist awarded breakthrough prize includes million cash award plants growth transform sunlight chemical energy colleagues institute developing plants adapt climate change store large amounts atmospheric carbon dioxide ground long \n",
      "실제 요약 : scientist making co plants wins million prize \n",
      "예측 요약 :  world oldest to be auctioned for years\n",
      "\n",
      "\n",
      "원문 : electric vehicle maker tesla co founder elon musk said dumb idiot name startup upcoming car model noticing many people think model next version tesla like iphone vs true tweeted musk tesla claims model affordable car \n",
      "실제 요약 : was idiot to name tesla car model elon musk \n",
      "예측 요약 :  elon musk shares production of his car\n",
      "\n",
      "\n",
      "원문 : former us state secretary rex tillerson called donald trump adding feels us president acted instincts tillerson sacked post march said trump read briefing reports like get details lot things rather kind says believe \n",
      "실제 요약 : trump acts on his former us state secy \n",
      "예측 요약 :  trump slams us for calling him comey\n",
      "\n",
      "\n",
      "원문 : year old boy allegedly sodomised owner village uttar pradesh police said boy friends gone haridwar kanwar yatra way back taken work run money accused also threatened victim arrested \n",
      "실제 요약 : year old boy in up owner arrested \n",
      "예측 요약 :  year old boy beaten up by friends in up\n",
      "\n",
      "\n",
      "원문 : singer actor demi responding leaked private photographs wrote twitter picture nude added love everyone one picture demi tweeted besides world seen nude choice angles referring posed nude vanity fair magazine \n",
      "실제 요약 : it is not nude just on leaked pictures \n",
      "예측 요약 :  singer slams instagram account for bikini pic\n",
      "\n",
      "\n",
      "원문 : australia based activist philip announced plans launch printed euthanasia device dubbed many suicide machine entering activation code machine would replace oxygen liquid nitrogen causing peaceful death following capsule used biodegradable coffin faced criticism promoting assisted dying \n",
      "실제 요약 : euthanasia activist unveils printed suicide machine \n",
      "예측 요약 :  aus aus body to open books to prevent deaths\n",
      "\n",
      "\n",
      "원문 : uk prince harry fianc meghan markle asked donations charities instead wedding gifts get married next month mumbai mahila foundation charity women one seven charities chosen couple markle written charity time magazine visit mumbai last year \n",
      "실제 요약 : prince harry asks wedding guests to donate to mumbai ngo \n",
      "예측 요약 :  prince harry meghan markle wedding dress dress\n",
      "\n",
      "\n",
      "원문 : american magazine reported split hollywood actress amber heard tesla ceo elon musk addressed press conference saying going go six months manufacturing hell sorry little dry got lot mind right musk reportedly added musk later said going sleep alone kills \n",
      "실제 요약 : after musk said tesla will undergo production hell report \n",
      "예측 요약 :  tiger and model is not in us elon musk\n",
      "\n",
      "\n",
      "원문 : canada based designer created mini usb powered connected wi fi inform users notifications smartphones light programmed show million colours indicate notifications like emails text messages social media mentions priced light also flash red wi fi \n",
      "실제 요약 : smart that users of emails texts made \n",
      "예측 요약 :  smart powered app which can detect users\n",
      "\n",
      "\n",
      "원문 : kxip mayank agarwal manoj tiwary combined pull relay catch dismiss rr ben stokes ipl sunday agarwal caught stokes lofted drive long lose balance touch boundary rope year old threw ball inside crossing boundary manoj completed catch metres away \n",
      "실제 요약 : mayank manoj to pull off relay catch near boundary \n",
      "예측 요약 :  david beckham pulls off catch in one handed catch\n",
      "\n",
      "\n"
     ]
    }
   ],
   "source": [
    "for i in range(50, 100):\n",
    "    print(\"원문 :\", seq2text(encoder_input_test[i]))\n",
    "    print(\"실제 요약 :\", seq2headlines(decoder_input_test[i]))\n",
    "    print(\"예측 요약 :\", decode_sequence(encoder_input_test[i].reshape(1, text_max_len)))\n",
    "    print(\"\\n\")"
   ]
  },
  {
   "cell_type": "markdown",
   "metadata": {},
   "source": [
    "# Summa을 이용해서 추출적 요약해보기"
   ]
  },
  {
   "cell_type": "code",
   "execution_count": 50,
   "metadata": {},
   "outputs": [
    {
     "name": "stdout",
     "output_type": "stream",
     "text": [
      "summa                         1.2.0\n",
      "\u001b[33mWARNING: You are using pip version 20.3.3; however, version 21.3.1 is available.\n",
      "You should consider upgrading via the '/opt/conda/bin/python -m pip install --upgrade pip' command.\u001b[0m\n",
      "Note: you may need to restart the kernel to use updated packages.\n"
     ]
    }
   ],
   "source": [
    "pip list | grep summa"
   ]
  },
  {
   "cell_type": "code",
   "execution_count": 51,
   "metadata": {},
   "outputs": [],
   "source": [
    "import requests\n",
    "from summa.summarizer import summarize"
   ]
  },
  {
   "cell_type": "code",
   "execution_count": 52,
   "metadata": {},
   "outputs": [],
   "source": [
    "data_summa = pd.read_csv('news_summary_more.csv', encoding='iso-8859-1')"
   ]
  },
  {
   "cell_type": "code",
   "execution_count": 53,
   "metadata": {},
   "outputs": [
    {
     "name": "stdout",
     "output_type": "stream",
     "text": [
      "                                               headlines  \\\n",
      "0      upGrad learner switches to career in ML & Al w...   \n",
      "1      Delhi techie wins free food from Swiggy for on...   \n",
      "2      New Zealand end Rohit Sharma-led India's 12-ma...   \n",
      "3      Aegon life iTerm insurance plan helps customer...   \n",
      "4      Have known Hirani for yrs, what if MeToo claim...   \n",
      "...                                                  ...   \n",
      "98396  CRPF jawan axed to death by Maoists in Chhatti...   \n",
      "98397  First song from Sonakshi Sinha's 'Noor' titled...   \n",
      "98398         'The Matrix' film to get a reboot: Reports   \n",
      "98399  Snoop Dogg aims gun at clown dressed as Trump ...   \n",
      "98400  Madhesi Morcha withdraws support to Nepalese g...   \n",
      "\n",
      "                                                    text  \n",
      "0      Saurav Kant, an alumnus of upGrad and IIIT-B's...  \n",
      "1      Kunal Shah's credit card bill payment platform...  \n",
      "2      New Zealand defeated India by 8 wickets in the...  \n",
      "3      With Aegon Life iTerm Insurance plan, customer...  \n",
      "4      Speaking about the sexual harassment allegatio...  \n",
      "...                                                  ...  \n",
      "98396  A CRPF jawan was on Tuesday axed to death with...  \n",
      "98397  'Uff Yeh', the first song from the Sonakshi Si...  \n",
      "98398  According to reports, a new version of the 199...  \n",
      "98399  A new music video shows rapper Snoop Dogg aimi...  \n",
      "98400  Madhesi Morcha, an alliance of seven political...  \n",
      "\n",
      "[98401 rows x 2 columns]\n"
     ]
    }
   ],
   "source": [
    "print(data_summa)"
   ]
  },
  {
   "cell_type": "code",
   "execution_count": 54,
   "metadata": {
    "scrolled": true
   },
   "outputs": [
    {
     "name": "stdout",
     "output_type": "stream",
     "text": [
      "headlines :  Pakistani singer Rahat Fateh Ali Khan has denied receiving any notice from the Enforcement Directorate over allegedly smuggling foreign currency out of India.\n",
      "headlines :  India's previous lowest ODI total in New Zealand was 108.\n",
      "headlines :  Weeks after ex-CBI Director Alok Verma told the Department of Personnel and Training to consider him retired, the Home Ministry asked him to join work on the last day of his fixed tenure as Director on Thursday.\n",
      "headlines :  Andhra Pradesh CM N Chandrababu Naidu has said, \"When I met then US President Bill Clinton, I addressed him as Mr Clinton, not as 'sir'.\n",
      "headlines :  Congress candidate Shafia Zubair won the Ramgarh Assembly seat in Rajasthan, by defeating BJP's Sukhwant Singh with a margin of 12,228 votes in the bypoll.\n"
     ]
    }
   ],
   "source": [
    "for i in range(5, 10):\n",
    "    print(\"headlines : \", summarize(data_summa['text'][i], ratio=0.5))"
   ]
  },
  {
   "cell_type": "code",
   "execution_count": 55,
   "metadata": {},
   "outputs": [
    {
     "name": "stdout",
     "output_type": "stream",
     "text": [
      "원문 : Saurav Kant, an alumnus of upGrad and IIIT-B's PG Program in Machine learning and Artificial Intelligence, was a Sr Systems Engineer at Infosys with almost 5 years of work experience. The program and upGrad's 360-degree career support helped him transition to a Data Scientist at Tech Mahindra with 90% salary hike. upGrad's Online Power Learning has powered 3 lakh+ careers.\n",
      "실제 요약 : upGrad learner switches to career in ML & Al with 90% salary hike\n",
      "Extractive 요약 : upGrad's Online Power Learning has powered 3 lakh+ careers.\n",
      "\n",
      "\n",
      "원문 : Kunal Shah's credit card bill payment platform, CRED, gave users a chance to win free food from Swiggy for one year. Pranav Kaushik, a Delhi techie, bagged this reward after spending 2000 CRED coins. Users get one CRED coin per rupee of bill paid, which can be used to avail rewards from brands like Ixigo, BookMyShow, UberEats, Cult.Fit and more.\n",
      "실제 요약 : Delhi techie wins free food from Swiggy for one year on CRED\n",
      "Extractive 요약 : Users get one CRED coin per rupee of bill paid, which can be used to avail rewards from brands like Ixigo, BookMyShow, UberEats, Cult.Fit and more.\n",
      "\n",
      "\n",
      "원문 : New Zealand defeated India by 8 wickets in the fourth ODI at Hamilton on Thursday to win their first match of the five-match ODI series. India lost an international match under Rohit Sharma's captaincy after 12 consecutive victories dating back to March 2018. The match witnessed India getting all out for 92, their seventh lowest total in ODI cricket history.\n",
      "실제 요약 : New Zealand end Rohit Sharma-led India's 12-match winning streak\n",
      "Extractive 요약 : The match witnessed India getting all out for 92, their seventh lowest total in ODI cricket history.\n",
      "\n",
      "\n"
     ]
    }
   ],
   "source": [
    "for i in range(3):\n",
    "    print(\"원문 :\", data_summa[\"text\"][i])\n",
    "    print(\"실제 요약 :\", data_summa[\"headlines\"][i])\n",
    "    print(\"Extractive 요약 :\", summarize(data_summa[\"text\"][i], ratio=0.5))\n",
    "    print(\"\\n\")"
   ]
  },
  {
   "cell_type": "markdown",
   "metadata": {},
   "source": [
    "정말 오래 걸리긴 했지만, 어떻게든 그럴듯한 모델이 나왔다.   \n",
    "NLP는 CV와 다르게 접근방법이 많이 달라서, 많은 연습이 필요해보인다..."
   ]
  }
 ],
 "metadata": {
  "interpreter": {
   "hash": "d7b26eb2611282d90d9c5c5eb5497dd9fe754f45e0da87815f2566e1ffecfffe"
  },
  "kernelspec": {
   "display_name": "Python 3.7.11 64-bit ('py37': conda)",
   "name": "python3"
  },
  "language_info": {
   "codemirror_mode": {
    "name": "ipython",
    "version": 3
   },
   "file_extension": ".py",
   "mimetype": "text/x-python",
   "name": "python",
   "nbconvert_exporter": "python",
   "pygments_lexer": "ipython3",
   "version": "3.7.11"
  }
 },
 "nbformat": 4,
 "nbformat_minor": 2
}
