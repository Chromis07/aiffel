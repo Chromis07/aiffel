{
 "cells": [
  {
   "cell_type": "code",
   "execution_count": 1,
   "id": "scientific-rebound",
   "metadata": {},
   "outputs": [
    {
     "name": "stdout",
     "output_type": "stream",
     "text": [
      "PIL 라이브러리 import 완료!\n"
     ]
    }
   ],
   "source": [
    "from PIL import Image\n",
    "import os, glob\n",
    "\n",
    "print(\"PIL 라이브러리 import 완료!\")"
   ]
  },
  {
   "cell_type": "code",
   "execution_count": 2,
   "id": "moving-ceramic",
   "metadata": {},
   "outputs": [
    {
     "name": "stdout",
     "output_type": "stream",
     "text": [
      "350  images to be resized.\n",
      "350  images resized.\n",
      "가위 이미지 resize 완료!\n"
     ]
    }
   ],
   "source": [
    "import os\n",
    "\n",
    "def resize_images(img_path):\n",
    "\timages=glob.glob(img_path + \"/*.jpg\")  \n",
    "    \n",
    "\tprint(len(images), \" images to be resized.\")\n",
    "\n",
    "    # 파일마다 모두 56x56 사이즈로 바꾸어 저장합니다.\n",
    "\ttarget_size=(56,56)\n",
    "\tfor img in images:\n",
    "\t\told_img=Image.open(img)\n",
    "\t\tnew_img=old_img.resize(target_size,Image.ANTIALIAS)\n",
    "\t\tnew_img.save(img, \"JPEG\")\n",
    "    \n",
    "\tprint(len(images), \" images resized.\")\n",
    "\t\n",
    "# 가위 이미지가 저장된 디렉토리 아래의 모든 jpg 파일을 읽어들여서\n",
    "image_dir_path = os.getenv(\"HOME\") + \"/aiffel/rock_scissor_paper/scissor\"\n",
    "resize_images(image_dir_path)\n",
    "\n",
    "print(\"가위 이미지 resize 완료!\")"
   ]
  },
  {
   "cell_type": "code",
   "execution_count": 3,
   "id": "departmental-stopping",
   "metadata": {},
   "outputs": [
    {
     "name": "stdout",
     "output_type": "stream",
     "text": [
      "350  images to be resized.\n",
      "350  images resized.\n",
      "바위 이미지 resize 완료!\n"
     ]
    }
   ],
   "source": [
    "# 바위 이미지가 저장된 디렉토리 아래의 모든 jpg 파일을 읽어들여서\n",
    "image_dir_path = os.getenv(\"HOME\") + \"/aiffel/rock_scissor_paper/rock\"\n",
    "resize_images(image_dir_path)\n",
    "\n",
    "# 파일마다 모두 56x56 사이즈로 바꾸어 저장합니다.\n",
    "print(\"바위 이미지 resize 완료!\")"
   ]
  },
  {
   "cell_type": "code",
   "execution_count": 4,
   "id": "attempted-salon",
   "metadata": {},
   "outputs": [
    {
     "name": "stdout",
     "output_type": "stream",
     "text": [
      "350  images to be resized.\n",
      "350  images resized.\n",
      "보 이미지 resize 완료!\n"
     ]
    }
   ],
   "source": [
    "# 보 이미지가 저장된 디렉토리 아래의 모든 jpg 파일을 읽어들여서\n",
    "image_dir_path = os.getenv(\"HOME\") + \"/aiffel/rock_scissor_paper/paper\"\n",
    "resize_images(image_dir_path)\n",
    "\n",
    "# 파일마다 모두 56x56 사이즈로 바꾸어 저장합니다.\n",
    "print(\"보 이미지 resize 완료!\")"
   ]
  },
  {
   "cell_type": "code",
   "execution_count": 5,
   "id": "delayed-radiation",
   "metadata": {},
   "outputs": [
    {
     "name": "stdout",
     "output_type": "stream",
     "text": [
      "100  images to be resized.\n",
      "100  images resized.\n",
      "가위 이미지 resize 완료!\n",
      "100  images to be resized.\n",
      "100  images resized.\n",
      "바위 이미지 resize 완료!\n",
      "100  images to be resized.\n",
      "100  images resized.\n",
      "보 이미지 resize 완료!\n"
     ]
    }
   ],
   "source": [
    "# x_test, y_test를 만드는 방법은 x_train, y_train을 만드는 방법과 아주 유사합니다.\n",
    "\t\n",
    "# 가위 이미지가 저장된 디렉토리 아래의 모든 jpg 파일을 읽어들여서\n",
    "image_dir_path = os.getenv(\"HOME\") + \"/aiffel/rock_scissor_paper/test/scissor\"\n",
    "resize_images(image_dir_path)\n",
    "\n",
    "print(\"가위 이미지 resize 완료!\")\n",
    "\n",
    "image_dir_path = os.getenv(\"HOME\") + \"/aiffel/rock_scissor_paper/test/rock\"\n",
    "resize_images(image_dir_path)\n",
    "\n",
    "print(\"바위 이미지 resize 완료!\")\n",
    "\n",
    "image_dir_path = os.getenv(\"HOME\") + \"/aiffel/rock_scissor_paper/test/paper\"\n",
    "resize_images(image_dir_path)\n",
    "\n",
    "print(\"보 이미지 resize 완료!\")"
   ]
  },
  {
   "cell_type": "code",
   "execution_count": 6,
   "id": "roman-andrew",
   "metadata": {},
   "outputs": [
    {
     "name": "stdout",
     "output_type": "stream",
     "text": [
      "학습데이터(x_train)의 이미지 개수는 1050 입니다.\n",
      "x_train shape: (1350, 56, 56, 3)\n",
      "y_train shape: (1350,)\n"
     ]
    }
   ],
   "source": [
    "import numpy as np\n",
    "\n",
    "def load_data(img_path, number_of_data=1350):  # 가위바위보 이미지 개수 총합에 주의하세요.\n",
    "    # 가위 : 0, 바위 : 1, 보 : 2\n",
    "    img_size=56\n",
    "    color=3\n",
    "    #이미지 데이터와 라벨(가위 : 0, 바위 : 1, 보 : 2) 데이터를 담을 행렬(matrix) 영역을 생성합니다.\n",
    "    imgs=np.zeros(number_of_data*img_size*img_size*color,dtype=np.int32).reshape(number_of_data,img_size,img_size,color)\n",
    "    labels=np.zeros(number_of_data,dtype=np.int32)\n",
    "\n",
    "    idx=0\n",
    "    for file in glob.iglob(img_path+'/scissor/*.jpg'):\n",
    "        img = np.array(Image.open(file),dtype=np.int32)\n",
    "        imgs[idx,:,:,:]=img    # 데이터 영역에 이미지 행렬을 복사\n",
    "        labels[idx]=0   # 가위 : 0\n",
    "        idx=idx+1\n",
    "\n",
    "    for file in glob.iglob(img_path+'/rock/*.jpg'):\n",
    "        img = np.array(Image.open(file),dtype=np.int32)\n",
    "        imgs[idx,:,:,:]=img    # 데이터 영역에 이미지 행렬을 복사\n",
    "        labels[idx]=1   # 바위 : 1\n",
    "        idx=idx+1  \n",
    "    \n",
    "    for file in glob.iglob(img_path+'/paper/*.jpg'):\n",
    "        img = np.array(Image.open(file),dtype=np.int32)\n",
    "        imgs[idx,:,:,:]=img    # 데이터 영역에 이미지 행렬을 복사\n",
    "        labels[idx]=2   # 보 : 2\n",
    "        idx=idx+1\n",
    "        \n",
    "    print(\"학습데이터(x_train)의 이미지 개수는\", idx,\"입니다.\")\n",
    "    return imgs, labels\n",
    "\n",
    "image_dir_path = os.getenv(\"HOME\") + \"/aiffel/rock_scissor_paper\"\n",
    "(x_train, y_train)=load_data(image_dir_path)\n",
    "\n",
    "print(\"x_train shape: {}\".format(x_train.shape))\n",
    "print(\"y_train shape: {}\".format(y_train.shape))"
   ]
  },
  {
   "cell_type": "code",
   "execution_count": 7,
   "id": "nasty-imaging",
   "metadata": {},
   "outputs": [
    {
     "name": "stdout",
     "output_type": "stream",
     "text": [
      "라벨:  0\n"
     ]
    },
    {
     "data": {
      "image/png": "[encoded data removed]",
      "text/plain": [
       "<Figure size 432x288 with 1 Axes>"
      ]
     },
     "metadata": {
      "needs_background": "light"
     },
     "output_type": "display_data"
    }
   ],
   "source": [
    "import matplotlib.pyplot as plt\n",
    "plt.imshow(x_train[6])\n",
    "print('라벨: ', y_train[6])"
   ]
  },
  {
   "cell_type": "code",
   "execution_count": 94,
   "id": "right-testimony",
   "metadata": {},
   "outputs": [
    {
     "name": "stdout",
     "output_type": "stream",
     "text": [
      "Model: \"sequential_22\"\n",
      "_________________________________________________________________\n",
      "Layer (type)                 Output Shape              Param #   \n",
      "=================================================================\n",
      "rescaling_22 (Rescaling)     (None, 56, 56, 3)         0         \n",
      "_________________________________________________________________\n",
      "conv2d_44 (Conv2D)           (None, 53, 53, 32)        1568      \n",
      "_________________________________________________________________\n",
      "max_pooling2d_44 (MaxPooling (None, 17, 17, 32)        0         \n",
      "_________________________________________________________________\n",
      "dropout_44 (Dropout)         (None, 17, 17, 32)        0         \n",
      "_________________________________________________________________\n",
      "conv2d_45 (Conv2D)           (None, 14, 14, 64)        32832     \n",
      "_________________________________________________________________\n",
      "max_pooling2d_45 (MaxPooling (None, 4, 4, 64)          0         \n",
      "_________________________________________________________________\n",
      "dropout_45 (Dropout)         (None, 4, 4, 64)          0         \n",
      "_________________________________________________________________\n",
      "flatten_22 (Flatten)         (None, 1024)              0         \n",
      "_________________________________________________________________\n",
      "dense_44 (Dense)             (None, 64)                65600     \n",
      "_________________________________________________________________\n",
      "dense_45 (Dense)             (None, 3)                 195       \n",
      "=================================================================\n",
      "Total params: 100,195\n",
      "Trainable params: 100,195\n",
      "Non-trainable params: 0\n",
      "_________________________________________________________________\n"
     ]
    }
   ],
   "source": [
    "import tensorflow as tf\n",
    "from tensorflow import keras\n",
    "import numpy as np\n",
    "import random\n",
    "\n",
    "seed_num = 42\n",
    "random.seed(seed_num)\n",
    "os.environ[\"PYTHONHASHSEED\"] = str(seed_num)\n",
    "tf.random.set_seed(seed_num)\n",
    "np.random.seed(seed_num)\n",
    "\n",
    "# model을 직접 만들어 보세요.\n",
    "# Hint! model의 입력/출력부에 특히 유의해 주세요. 가위바위보 데이터셋은 \n",
    "# MNIST 데이터셋과 어떤 점이 달라졌나요?\n",
    "\n",
    "n_channel_1 = 32\n",
    "n_channel_2 = 64\n",
    "n_dense= 64\n",
    "n_train_epochs = 40\n",
    "\n",
    "model = keras.models.Sequential()\n",
    "model.add(keras.layers.experimental.preprocessing.Rescaling(1./255, input_shape=(56, 56, 3)))\n",
    "model.add(keras.layers.Conv2D(n_channel_1, (4,4), activation='relu',))\n",
    "model.add(keras.layers.MaxPool2D(3,3))\n",
    "model.add(keras.layers.Dropout(0.5))\n",
    "model.add(keras.layers.Conv2D(n_channel_2, (4,4), activation='relu'))\n",
    "model.add(keras.layers.MaxPool2D(3,3))\n",
    "model.add(keras.layers.Dropout(0.5))\n",
    "model.add(keras.layers.Flatten())\n",
    "model.add(keras.layers.Dense(n_dense, activation='relu'))\n",
    "model.add(keras.layers.Dense(3, activation='softmax'))\n",
    "\n",
    "model.summary()"
   ]
  },
  {
   "cell_type": "code",
   "execution_count": 95,
   "id": "amazing-theology",
   "metadata": {},
   "outputs": [
    {
     "name": "stdout",
     "output_type": "stream",
     "text": [
      "Epoch 1/40\n",
      "43/43 [==============================] - 1s 6ms/step - loss: 1.0932 - accuracy: 0.4437\n",
      "Epoch 2/40\n",
      "43/43 [==============================] - 0s 6ms/step - loss: 0.8511 - accuracy: 0.5021\n",
      "Epoch 3/40\n",
      "43/43 [==============================] - 0s 6ms/step - loss: 0.7929 - accuracy: 0.5969\n",
      "Epoch 4/40\n",
      "43/43 [==============================] - 0s 6ms/step - loss: 0.6076 - accuracy: 0.7536\n",
      "Epoch 5/40\n",
      "43/43 [==============================] - 0s 6ms/step - loss: 0.4989 - accuracy: 0.7936\n",
      "Epoch 6/40\n",
      "43/43 [==============================] - 0s 6ms/step - loss: 0.4020 - accuracy: 0.8425\n",
      "Epoch 7/40\n",
      "43/43 [==============================] - 0s 6ms/step - loss: 0.3484 - accuracy: 0.8663\n",
      "Epoch 8/40\n",
      "43/43 [==============================] - 0s 6ms/step - loss: 0.2837 - accuracy: 0.8985\n",
      "Epoch 9/40\n",
      "43/43 [==============================] - 0s 6ms/step - loss: 0.2866 - accuracy: 0.8819\n",
      "Epoch 10/40\n",
      "43/43 [==============================] - 0s 6ms/step - loss: 0.2269 - accuracy: 0.9203\n",
      "Epoch 11/40\n",
      "43/43 [==============================] - 0s 6ms/step - loss: 0.2254 - accuracy: 0.9195\n",
      "Epoch 12/40\n",
      "43/43 [==============================] - 0s 6ms/step - loss: 0.1889 - accuracy: 0.9309\n",
      "Epoch 13/40\n",
      "43/43 [==============================] - 0s 6ms/step - loss: 0.2071 - accuracy: 0.9271\n",
      "Epoch 14/40\n",
      "43/43 [==============================] - 0s 6ms/step - loss: 0.1820 - accuracy: 0.9345\n",
      "Epoch 15/40\n",
      "43/43 [==============================] - 0s 6ms/step - loss: 0.1918 - accuracy: 0.9160\n",
      "Epoch 16/40\n",
      "43/43 [==============================] - 0s 6ms/step - loss: 0.2585 - accuracy: 0.9121\n",
      "Epoch 17/40\n",
      "43/43 [==============================] - 0s 6ms/step - loss: 0.1503 - accuracy: 0.9401\n",
      "Epoch 18/40\n",
      "43/43 [==============================] - 0s 6ms/step - loss: 0.1468 - accuracy: 0.9488\n",
      "Epoch 19/40\n",
      "43/43 [==============================] - 0s 6ms/step - loss: 0.1293 - accuracy: 0.9454\n",
      "Epoch 20/40\n",
      "43/43 [==============================] - 0s 6ms/step - loss: 0.1427 - accuracy: 0.9392\n",
      "Epoch 21/40\n",
      "43/43 [==============================] - 0s 6ms/step - loss: 0.1770 - accuracy: 0.9317\n",
      "Epoch 22/40\n",
      "43/43 [==============================] - 0s 6ms/step - loss: 0.1075 - accuracy: 0.9588\n",
      "Epoch 23/40\n",
      "43/43 [==============================] - 0s 6ms/step - loss: 0.1112 - accuracy: 0.9559\n",
      "Epoch 24/40\n",
      "43/43 [==============================] - 0s 6ms/step - loss: 0.1192 - accuracy: 0.9616\n",
      "Epoch 25/40\n",
      "43/43 [==============================] - 0s 6ms/step - loss: 0.1017 - accuracy: 0.9637\n",
      "Epoch 26/40\n",
      "43/43 [==============================] - 0s 6ms/step - loss: 0.0990 - accuracy: 0.9669\n",
      "Epoch 27/40\n",
      "43/43 [==============================] - 0s 6ms/step - loss: 0.1091 - accuracy: 0.9502\n",
      "Epoch 28/40\n",
      "43/43 [==============================] - 0s 6ms/step - loss: 0.1075 - accuracy: 0.9608\n",
      "Epoch 29/40\n",
      "43/43 [==============================] - 0s 6ms/step - loss: 0.1116 - accuracy: 0.9568\n",
      "Epoch 30/40\n",
      "43/43 [==============================] - 0s 6ms/step - loss: 0.0890 - accuracy: 0.9707\n",
      "Epoch 31/40\n",
      "43/43 [==============================] - 0s 6ms/step - loss: 0.0693 - accuracy: 0.9735\n",
      "Epoch 32/40\n",
      "43/43 [==============================] - 0s 6ms/step - loss: 0.0645 - accuracy: 0.9808\n",
      "Epoch 33/40\n",
      "43/43 [==============================] - 0s 6ms/step - loss: 0.0772 - accuracy: 0.9723\n",
      "Epoch 34/40\n",
      "43/43 [==============================] - 0s 6ms/step - loss: 0.0635 - accuracy: 0.9801\n",
      "Epoch 35/40\n",
      "43/43 [==============================] - 0s 6ms/step - loss: 0.0610 - accuracy: 0.9808\n",
      "Epoch 36/40\n",
      "43/43 [==============================] - 0s 6ms/step - loss: 0.0640 - accuracy: 0.9731\n",
      "Epoch 37/40\n",
      "43/43 [==============================] - 0s 6ms/step - loss: 0.0499 - accuracy: 0.9848\n",
      "Epoch 38/40\n",
      "43/43 [==============================] - 0s 6ms/step - loss: 0.0428 - accuracy: 0.9878\n",
      "Epoch 39/40\n",
      "43/43 [==============================] - 0s 6ms/step - loss: 0.0720 - accuracy: 0.9700\n",
      "Epoch 40/40\n",
      "43/43 [==============================] - 0s 6ms/step - loss: 0.0684 - accuracy: 0.9752\n"
     ]
    },
    {
     "data": {
      "text/plain": [
       "<tensorflow.python.keras.callbacks.History at 0x7fbcf7c66150>"
      ]
     },
     "execution_count": 95,
     "metadata": {},
     "output_type": "execute_result"
    }
   ],
   "source": [
    "# model을 학습시키는 코드를 직접 작성해 보세요.\n",
    "# Hint! model.compile()과 model.fit()을 사용해 봅시다.\n",
    "model.compile(optimizer='adam',\n",
    "              loss='sparse_categorical_crossentropy',\n",
    "              metrics=['accuracy'])\n",
    "\n",
    "model.fit(x_train, y_train, epochs = n_train_epochs)"
   ]
  },
  {
   "cell_type": "code",
   "execution_count": 96,
   "id": "level-public",
   "metadata": {},
   "outputs": [
    {
     "name": "stdout",
     "output_type": "stream",
     "text": [
      "학습데이터(x_train)의 이미지 개수는 300 입니다.\n",
      "x_test shape: (300, 56, 56, 3)\n",
      "y_test shape: (300,)\n"
     ]
    }
   ],
   "source": [
    "\n",
    "test_dir_path = os.getenv(\"HOME\") + \"/aiffel/rock_scissor_paper/test\"\n",
    "(x_test, y_test) = load_data(test_dir_path, 300)\n",
    "\n",
    "print(\"x_test shape: {}\".format(x_test.shape))\n",
    "print(\"y_test shape: {}\".format(y_test.shape))"
   ]
  },
  {
   "cell_type": "code",
   "execution_count": 97,
   "id": "secret-mission",
   "metadata": {},
   "outputs": [
    {
     "name": "stdout",
     "output_type": "stream",
     "text": [
      "10/10 - 0s - loss: 1.6077 - accuracy: 0.6200\n",
      "test_loss: 1.6076804399490356 \n",
      "test_accuracy: 0.6200000047683716\n"
     ]
    }
   ],
   "source": [
    "# model을 학습시키는 코드를 직접 작성해 보세요.\n",
    "# Hint! model.evaluate()을 사용해 봅시다.\n",
    "test_loss, test_accuracy = model.evaluate(x_test, y_test, verbose=2)\n",
    "print(\"test_loss: {} \".format(test_loss))\n",
    "print(\"test_accuracy: {}\".format(test_accuracy))"
   ]
  },
  {
   "cell_type": "code",
   "execution_count": 98,
   "id": "commercial-express",
   "metadata": {},
   "outputs": [
    {
     "name": "stdout",
     "output_type": "stream",
     "text": [
      "model.predict() 결과 :  [0.7523632  0.21814395 0.02949288]\n",
      "model이 추론한 가장 가능성이 높은 결과 :  0\n",
      "실제 데이터의 라벨 :  0\n"
     ]
    }
   ],
   "source": [
    "predicted_result = model.predict(x_test)  # model이 추론한 확률값. \n",
    "predicted_labels = np.argmax(predicted_result, axis=1)\n",
    "\n",
    "idx=0  #1번째 x_test를 살펴보자. \n",
    "print('model.predict() 결과 : ', predicted_result[idx])\n",
    "print('model이 추론한 가장 가능성이 높은 결과 : ', predicted_labels[idx])\n",
    "print('실제 데이터의 라벨 : ', y_test[idx])"
   ]
  },
  {
   "cell_type": "code",
   "execution_count": 99,
   "id": "confused-ladder",
   "metadata": {},
   "outputs": [
    {
     "data": {
      "image/png": "[encoded data removed]",
      "text/plain": [
       "<Figure size 432x288 with 1 Axes>"
      ]
     },
     "metadata": {
      "needs_background": "light"
     },
     "output_type": "display_data"
    }
   ],
   "source": [
    "plt.imshow(x_test[idx],cmap=plt.cm.binary)\n",
    "plt.show()"
   ]
  },
  {
   "cell_type": "code",
   "execution_count": 100,
   "id": "brief-letters",
   "metadata": {},
   "outputs": [
    {
     "name": "stdout",
     "output_type": "stream",
     "text": [
      "예측확률분포: [0.02301999 0.87021416 0.10676578]\n",
      "라벨: 2, 예측결과: 1\n"
     ]
    },
    {
     "data": {
      "image/png": "[encoded data removed]",
      "text/plain": [
       "<Figure size 432x288 with 1 Axes>"
      ]
     },
     "metadata": {
      "needs_background": "light"
     },
     "output_type": "display_data"
    },
    {
     "name": "stdout",
     "output_type": "stream",
     "text": [
      "예측확률분포: [7.3111529e-04 9.8636222e-01 1.2906677e-02]\n",
      "라벨: 0, 예측결과: 1\n"
     ]
    },
    {
     "data": {
      "image/png": "[encoded data removed]",
      "text/plain": [
       "<Figure size 432x288 with 1 Axes>"
      ]
     },
     "metadata": {
      "needs_background": "light"
     },
     "output_type": "display_data"
    },
    {
     "name": "stdout",
     "output_type": "stream",
     "text": [
      "예측확률분포: [4.1676663e-02 2.1446100e-04 9.5810884e-01]\n",
      "라벨: 0, 예측결과: 2\n"
     ]
    },
    {
     "data": {
      "image/png": "[encoded data removed]",
      "text/plain": [
       "<Figure size 432x288 with 1 Axes>"
      ]
     },
     "metadata": {
      "needs_background": "light"
     },
     "output_type": "display_data"
    },
    {
     "name": "stdout",
     "output_type": "stream",
     "text": [
      "예측확률분포: [0.4347411  0.54932123 0.01593769]\n",
      "라벨: 0, 예측결과: 1\n"
     ]
    },
    {
     "data": {
      "image/png": "[encoded data removed]",
      "text/plain": [
       "<Figure size 432x288 with 1 Axes>"
      ]
     },
     "metadata": {
      "needs_background": "light"
     },
     "output_type": "display_data"
    },
    {
     "name": "stdout",
     "output_type": "stream",
     "text": [
      "예측확률분포: [0.81377274 0.06840863 0.11781866]\n",
      "라벨: 2, 예측결과: 0\n"
     ]
    },
    {
     "data": {
      "image/png": "[encoded data removed]",
      "text/plain": [
       "<Figure size 432x288 with 1 Axes>"
      ]
     },
     "metadata": {
      "needs_background": "light"
     },
     "output_type": "display_data"
    }
   ],
   "source": [
    "import random\n",
    "wrong_predict_list=[]\n",
    "for i, _ in enumerate(predicted_labels):\n",
    "    # i번째 test_labels과 y_test이 다른 경우만 모아 봅시다. \n",
    "    if predicted_labels[i] != y_test[i]:\n",
    "        wrong_predict_list.append(i)\n",
    "\n",
    "# wrong_predict_list 에서 랜덤하게 5개만 뽑아봅시다.\n",
    "samples = random.choices(population=wrong_predict_list, k=5)\n",
    "\n",
    "for n in samples:\n",
    "    print(\"예측확률분포: \" + str(predicted_result[n]))\n",
    "    print(\"라벨: \" + str(y_test[n]) + \", 예측결과: \" + str(predicted_labels[n]))\n",
    "    plt.imshow(x_test[n], cmap=plt.cm.binary)\n",
    "    plt.show()\n",
    "    \n",
    "# 가위와 보를 많이 헷갈리는 편"
   ]
  }
 ],
 "metadata": {
  "kernelspec": {
   "display_name": "Python 3",
   "language": "python",
   "name": "python3"
  },
  "language_info": {
   "codemirror_mode": {
    "name": "ipython",
    "version": 3
   },
   "file_extension": ".py",
   "mimetype": "text/x-python",
   "name": "python",
   "nbconvert_exporter": "python",
   "pygments_lexer": "ipython3",
   "version": "3.7.9"
  }
 },
 "nbformat": 4,
 "nbformat_minor": 5
}
