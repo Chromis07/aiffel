{
 "cells": [
  {
   "cell_type": "code",
   "execution_count": 1,
   "source": [
    "import os, re \r\n",
    "import numpy as np\r\n",
    "import tensorflow as tf\r\n",
    "\r\n",
    "# 파일을 읽기모드로 열고\r\n",
    "# 라인 단위로 끊어서 list 형태로 읽어옵니다.\r\n",
    "file_path = './txt/shakespeare.txt'\r\n",
    "with open(file_path, \"r\") as f:\r\n",
    "    raw_corpus = f.read().splitlines()\r\n",
    "\r\n",
    "# 앞에서부터 10라인만 화면에 출력해 볼까요?\r\n",
    "print(raw_corpus[:9])"
   ],
   "outputs": [
    {
     "output_type": "stream",
     "name": "stdout",
     "text": [
      "['First Citizen:', 'Before we proceed any further, hear me speak.', '', 'All:', 'Speak, speak.', '', 'First Citizen:', 'You are all resolved rather to die than to famish?', '']\n"
     ]
    }
   ],
   "metadata": {}
  },
  {
   "cell_type": "code",
   "execution_count": 2,
   "source": [
    "for idx, sentence in enumerate(raw_corpus):\r\n",
    "    if len(sentence) == 0: continue   # 길이가 0인 문장은 건너뜁니다.\r\n",
    "    if sentence[-1] == \":\": continue  # 문장의 끝이 : 인 문장은 건너뜁니다.\r\n",
    "\r\n",
    "    if idx > 9: break   # 일단 문장 10개만 확인해 볼 겁니다.\r\n",
    "        \r\n",
    "    print(sentence)"
   ],
   "outputs": [
    {
     "output_type": "stream",
     "name": "stdout",
     "text": [
      "Before we proceed any further, hear me speak.\n",
      "Speak, speak.\n",
      "You are all resolved rather to die than to famish?\n"
     ]
    }
   ],
   "metadata": {}
  },
  {
   "cell_type": "code",
   "execution_count": 3,
   "source": [
    "# 입력된 문장을\r\n",
    "#     1. 소문자로 바꾸고, 양쪽 공백을 지웁니다\r\n",
    "#     2. 특수문자 양쪽에 공백을 넣고\r\n",
    "#     3. 여러개의 공백은 하나의 공백으로 바꿉니다\r\n",
    "#     4. a-zA-Z?.!,¿가 아닌 모든 문자를 하나의 공백으로 바꿉니다\r\n",
    "#     5. 다시 양쪽 공백을 지웁니다\r\n",
    "#     6. 문장 시작에는 <start>, 끝에는 <end>를 추가합니다\r\n",
    "# 이 순서로 처리해주면 문제가 되는 상황을 방지할 수 있겠네요!\r\n",
    "def preprocess_sentence(sentence):\r\n",
    "    sentence = sentence.lower().strip() # 1\r\n",
    "    sentence = re.sub(r\"([?.!,¿])\", r\" \\1 \", sentence) # 2\r\n",
    "    sentence = re.sub(r'[\" \"]+', \" \", sentence) # 3\r\n",
    "    sentence = re.sub(r\"[^a-zA-Z?.!,¿]+\", \" \", sentence) # 4\r\n",
    "    sentence = sentence.strip() # 5\r\n",
    "    sentence = '<start> ' + sentence + ' <end>' # 6\r\n",
    "    return sentence\r\n",
    "\r\n",
    "# 이 문장이 어떻게 필터링되는지 확인해 보세요.\r\n",
    "print(preprocess_sentence(\"This @_is ;;;sample        sentence.\"))"
   ],
   "outputs": [
    {
     "output_type": "stream",
     "name": "stdout",
     "text": [
      "<start> this is sample sentence . <end>\n"
     ]
    }
   ],
   "metadata": {}
  },
  {
   "cell_type": "code",
   "execution_count": 4,
   "source": [
    "# 여기에 정제된 문장을 모을겁니다\r\n",
    "corpus = []\r\n",
    "\r\n",
    "for sentence in raw_corpus:\r\n",
    "    # 우리가 원하지 않는 문장은 건너뜁니다\r\n",
    "    if len(sentence) == 0: continue\r\n",
    "    if sentence[-1] == \":\": continue\r\n",
    "    \r\n",
    "    # 정제를 하고 담아주세요\r\n",
    "    preprocessed_sentence = preprocess_sentence(sentence)\r\n",
    "    corpus.append(preprocessed_sentence)\r\n",
    "        \r\n",
    "# 정제된 결과를 10개만 확인해보죠\r\n",
    "corpus[:10]"
   ],
   "outputs": [
    {
     "output_type": "execute_result",
     "data": {
      "text/plain": [
       "['<start> before we proceed any further , hear me speak . <end>',\n",
       " '<start> speak , speak . <end>',\n",
       " '<start> you are all resolved rather to die than to famish ? <end>',\n",
       " '<start> resolved . resolved . <end>',\n",
       " '<start> first , you know caius marcius is chief enemy to the people . <end>',\n",
       " '<start> we know t , we know t . <end>',\n",
       " '<start> let us kill him , and we ll have corn at our own price . <end>',\n",
       " '<start> is t a verdict ? <end>',\n",
       " '<start> no more talking on t let it be done away , away ! <end>',\n",
       " '<start> one word , good citizens . <end>']"
      ]
     },
     "metadata": {},
     "execution_count": 4
    }
   ],
   "metadata": {}
  },
  {
   "cell_type": "code",
   "execution_count": 5,
   "source": [
    "# 토큰화 할 때 텐서플로우의 Tokenizer와 pad_sequences를 사용합니다\r\n",
    "# 더 잘 알기 위해 아래 문서들을 참고하면 좋습니다\r\n",
    "# https://www.tensorflow.org/api_docs/python/tf/keras/preprocessing/text/Tokenizer\r\n",
    "# https://www.tensorflow.org/api_docs/python/tf/keras/preprocessing/sequence/pad_sequences\r\n",
    "def tokenize(corpus):\r\n",
    "    # 7000단어를 기억할 수 있는 tokenizer를 만들겁니다\r\n",
    "    # 우리는 이미 문장을 정제했으니 filters가 필요없어요\r\n",
    "    # 7000단어에 포함되지 못한 단어는 '<unk>'로 바꿀거에요\r\n",
    "    tokenizer = tf.keras.preprocessing.text.Tokenizer(\r\n",
    "        num_words=7000, \r\n",
    "        filters=' ',\r\n",
    "        oov_token=\"<unk>\"\r\n",
    "    )\r\n",
    "    # corpus를 이용해 tokenizer 내부의 단어장을 완성합니다\r\n",
    "    tokenizer.fit_on_texts(corpus)\r\n",
    "    # 준비한 tokenizer를 이용해 corpus를 Tensor로 변환합니다\r\n",
    "    tensor = tokenizer.texts_to_sequences(corpus)   \r\n",
    "    # 입력 데이터의 시퀀스 길이를 일정하게 맞춰줍니다\r\n",
    "    # 만약 시퀀스가 짧다면 문장 뒤에 패딩을 붙여 길이를 맞춰줍니다.\r\n",
    "    # 문장 앞에 패딩을 붙여 길이를 맞추고 싶다면 padding='pre'를 사용합니다\r\n",
    "    tensor = tf.keras.preprocessing.sequence.pad_sequences(tensor, padding='post')  \r\n",
    "    \r\n",
    "    print(tensor,tokenizer)\r\n",
    "    return tensor, tokenizer\r\n",
    "\r\n",
    "tensor, tokenizer = tokenize(corpus)"
   ],
   "outputs": [
    {
     "output_type": "stream",
     "name": "stdout",
     "text": [
      "[[   2  143   40 ...    0    0    0]\n",
      " [   2  110    4 ...    0    0    0]\n",
      " [   2   11   50 ...    0    0    0]\n",
      " ...\n",
      " [   2  149 4553 ...    0    0    0]\n",
      " [   2   34   71 ...    0    0    0]\n",
      " [   2  945   34 ...    0    0    0]] <keras_preprocessing.text.Tokenizer object at 0x0000029A06634348>\n"
     ]
    }
   ],
   "metadata": {}
  },
  {
   "cell_type": "code",
   "execution_count": 6,
   "source": [
    "print(tensor[:3, :10])"
   ],
   "outputs": [
    {
     "output_type": "stream",
     "name": "stdout",
     "text": [
      "[[   2  143   40  933  140  591    4  124   24  110]\n",
      " [   2  110    4  110    5    3    0    0    0    0]\n",
      " [   2   11   50   43 1201  316    9  201   74    9]]\n"
     ]
    }
   ],
   "metadata": {}
  },
  {
   "cell_type": "code",
   "execution_count": 7,
   "source": [
    "for idx in tokenizer.index_word:\r\n",
    "    print(idx, \":\", tokenizer.index_word[idx])\r\n",
    "\r\n",
    "    if idx >= 10: break"
   ],
   "outputs": [
    {
     "output_type": "stream",
     "name": "stdout",
     "text": [
      "1 : <unk>\n",
      "2 : <start>\n",
      "3 : <end>\n",
      "4 : ,\n",
      "5 : .\n",
      "6 : the\n",
      "7 : and\n",
      "8 : i\n",
      "9 : to\n",
      "10 : of\n"
     ]
    }
   ],
   "metadata": {}
  },
  {
   "cell_type": "code",
   "execution_count": 8,
   "source": [
    "# tensor에서 마지막 토큰을 잘라내서 소스 문장을 생성합니다\r\n",
    "# 마지막 토큰은 <end>가 아니라 <pad>일 가능성이 높습니다.\r\n",
    "src_input = tensor[:, :-1]  \r\n",
    "# tensor에서 <start>를 잘라내서 타겟 문장을 생성합니다.\r\n",
    "tgt_input = tensor[:, 1:]    \r\n",
    "\r\n",
    "print(src_input[0])\r\n",
    "print(tgt_input[0])"
   ],
   "outputs": [
    {
     "output_type": "stream",
     "name": "stdout",
     "text": [
      "[  2 143  40 933 140 591   4 124  24 110   5   3   0   0   0   0   0   0\n",
      "   0   0]\n",
      "[143  40 933 140 591   4 124  24 110   5   3   0   0   0   0   0   0   0\n",
      "   0   0]\n"
     ]
    }
   ],
   "metadata": {}
  },
  {
   "cell_type": "code",
   "execution_count": 9,
   "source": [
    "BUFFER_SIZE = len(src_input)\r\n",
    "BATCH_SIZE = 256\r\n",
    "steps_per_epoch = len(src_input) // BATCH_SIZE\r\n",
    "\r\n",
    " # tokenizer가 구축한 단어사전 내 7000개와, 여기 포함되지 않은 0:<pad>를 포함하여 7001개\r\n",
    "VOCAB_SIZE = tokenizer.num_words + 1   \r\n",
    "\r\n",
    "# 준비한 데이터 소스로부터 데이터셋을 만듭니다\r\n",
    "# 데이터셋에 대해서는 아래 문서를 참고하세요\r\n",
    "# 자세히 알아둘수록 도움이 많이 되는 중요한 문서입니다\r\n",
    "# https://www.tensorflow.org/api_docs/python/tf/data/Dataset\r\n",
    "dataset = tf.data.Dataset.from_tensor_slices((src_input, tgt_input))\r\n",
    "dataset = dataset.shuffle(BUFFER_SIZE)\r\n",
    "dataset = dataset.batch(BATCH_SIZE, drop_remainder=True)\r\n",
    "dataset"
   ],
   "outputs": [
    {
     "output_type": "execute_result",
     "data": {
      "text/plain": [
       "<BatchDataset shapes: ((256, 20), (256, 20)), types: (tf.int32, tf.int32)>"
      ]
     },
     "metadata": {},
     "execution_count": 9
    }
   ],
   "metadata": {}
  },
  {
   "cell_type": "code",
   "execution_count": 10,
   "source": [
    "class TextGenerator(tf.keras.Model):\r\n",
    "    def __init__(self, vocab_size, embedding_size, hidden_size):\r\n",
    "        super().__init__()\r\n",
    "        \r\n",
    "        self.embedding = tf.keras.layers.Embedding(vocab_size, embedding_size)\r\n",
    "        self.rnn_1 = tf.keras.layers.LSTM(hidden_size, return_sequences=True)\r\n",
    "        self.rnn_2 = tf.keras.layers.LSTM(hidden_size, return_sequences=True)\r\n",
    "        self.linear = tf.keras.layers.Dense(vocab_size)\r\n",
    "        \r\n",
    "    def call(self, x):\r\n",
    "        out = self.embedding(x)\r\n",
    "        out = self.rnn_1(out)\r\n",
    "        out = self.rnn_2(out)\r\n",
    "        out = self.linear(out)\r\n",
    "        \r\n",
    "        return out\r\n",
    "    \r\n",
    "embedding_size = 256\r\n",
    "hidden_size = 1024\r\n",
    "model = TextGenerator(tokenizer.num_words + 1, embedding_size , hidden_size)"
   ],
   "outputs": [],
   "metadata": {}
  },
  {
   "cell_type": "code",
   "execution_count": 11,
   "source": [
    "# 데이터셋에서 데이터 한 배치만 불러오는 방법입니다.\r\n",
    "# 지금은 동작 원리에 너무 빠져들지 마세요~\r\n",
    "for src_sample, tgt_sample in dataset.take(1): break\r\n",
    "\r\n",
    "# 한 배치만 불러온 데이터를 모델에 넣어봅니다\r\n",
    "model(src_sample)"
   ],
   "outputs": [
    {
     "output_type": "execute_result",
     "data": {
      "text/plain": [
       "<tf.Tensor: shape=(256, 20, 7001), dtype=float32, numpy=\n",
       "array([[[ 3.09230963e-04,  6.01896791e-05,  2.50259236e-05, ...,\n",
       "          1.11021320e-04,  2.84236972e-04,  4.00461831e-05],\n",
       "        [ 3.67638393e-04,  1.21137658e-04,  1.48458901e-04, ...,\n",
       "          4.04763530e-04,  7.02853489e-04, -2.67027732e-04],\n",
       "        [ 4.52627923e-04,  3.51021823e-04,  5.42973576e-05, ...,\n",
       "          4.12015390e-04,  7.42665317e-04, -2.74534250e-04],\n",
       "        ...,\n",
       "        [-8.58460437e-04,  2.21313024e-03, -2.06436613e-03, ...,\n",
       "          2.25882092e-03,  1.05765800e-03, -3.84130952e-04],\n",
       "        [-8.88730923e-04,  2.44694506e-03, -2.05987156e-03, ...,\n",
       "          2.54325569e-03,  1.23521697e-03, -5.25974494e-04],\n",
       "        [-9.19646467e-04,  2.65680719e-03, -2.03744485e-03, ...,\n",
       "          2.82917707e-03,  1.37785019e-03, -6.55566109e-04]],\n",
       "\n",
       "       [[ 3.09230963e-04,  6.01896791e-05,  2.50259236e-05, ...,\n",
       "          1.11021320e-04,  2.84236972e-04,  4.00461831e-05],\n",
       "        [ 4.45863639e-04, -1.28474916e-04, -2.01950621e-04, ...,\n",
       "          2.11685488e-04,  9.66350999e-05, -2.18164379e-04],\n",
       "        [ 3.32698924e-04, -3.73124058e-04, -3.58660298e-04, ...,\n",
       "          1.16370386e-04, -1.63481876e-04, -4.86274832e-04],\n",
       "        ...,\n",
       "        [-1.12199993e-03,  2.91133858e-03, -1.25847373e-03, ...,\n",
       "          2.26523937e-03,  3.65595770e-04,  1.00397016e-03],\n",
       "        [-1.22862391e-03,  3.12165031e-03, -1.36510457e-03, ...,\n",
       "          2.54367734e-03,  6.12605421e-04,  7.37641996e-04],\n",
       "        [-1.30739284e-03,  3.30058183e-03, -1.44312740e-03, ...,\n",
       "          2.81270314e-03,  8.27607000e-04,  4.84739838e-04]],\n",
       "\n",
       "       [[ 3.09230963e-04,  6.01896791e-05,  2.50259236e-05, ...,\n",
       "          1.11021320e-04,  2.84236972e-04,  4.00461831e-05],\n",
       "        [ 5.66206756e-04,  3.22523323e-04,  5.75217928e-06, ...,\n",
       "          2.06712328e-04,  6.34680211e-04, -3.24480963e-04],\n",
       "        [ 9.48648201e-04,  6.68721856e-04,  1.12880007e-05, ...,\n",
       "          9.66372754e-05,  6.20407925e-04, -3.81866033e-04],\n",
       "        ...,\n",
       "        [ 8.80286098e-04,  3.12732533e-03, -8.51595600e-04, ...,\n",
       "          1.31705881e-03,  1.88542181e-03, -1.85628864e-03],\n",
       "        [ 6.23887056e-04,  3.31059424e-03, -9.75665636e-04, ...,\n",
       "          1.67500204e-03,  1.94154424e-03, -1.81205489e-03],\n",
       "        [ 3.77489661e-04,  3.45077086e-03, -1.08240324e-03, ...,\n",
       "          2.04305490e-03,  1.97225134e-03, -1.76510180e-03]],\n",
       "\n",
       "       ...,\n",
       "\n",
       "       [[ 3.09230963e-04,  6.01896791e-05,  2.50259236e-05, ...,\n",
       "          1.11021320e-04,  2.84236972e-04,  4.00461831e-05],\n",
       "        [ 6.40043349e-04,  3.71738861e-04,  4.20643046e-05, ...,\n",
       "         -2.54975894e-04,  6.92211965e-04,  1.29508204e-04],\n",
       "        [ 6.71672344e-04,  7.09654356e-04,  1.88479433e-04, ...,\n",
       "         -6.45308290e-04,  7.17061921e-04,  9.23527186e-05],\n",
       "        ...,\n",
       "        [-1.03303359e-03,  2.18350603e-03, -2.21941131e-03, ...,\n",
       "          1.62014132e-03, -1.60461481e-04,  2.41328642e-04],\n",
       "        [-1.09726249e-03,  2.48154532e-03, -2.27729743e-03, ...,\n",
       "          1.96505431e-03,  1.41424069e-04,  7.91979037e-05],\n",
       "        [-1.14582921e-03,  2.75258371e-03, -2.29529501e-03, ...,\n",
       "          2.30266852e-03,  4.05671715e-04, -7.72461135e-05]],\n",
       "\n",
       "       [[ 3.09230963e-04,  6.01896791e-05,  2.50259236e-05, ...,\n",
       "          1.11021320e-04,  2.84236972e-04,  4.00461831e-05],\n",
       "        [ 7.63250398e-04,  5.55965467e-04,  2.30205522e-04, ...,\n",
       "          6.11926152e-05,  3.40725208e-04,  1.38594929e-04],\n",
       "        [ 9.28428781e-04,  6.98638498e-04,  3.04609624e-04, ...,\n",
       "         -4.31517183e-05,  6.46980247e-04, -1.14731018e-04],\n",
       "        ...,\n",
       "        [-1.28361746e-03,  3.25802295e-03, -1.84842991e-03, ...,\n",
       "          3.09330947e-03,  1.19848666e-03, -8.11242557e-04],\n",
       "        [-1.33915688e-03,  3.33783356e-03, -1.86025409e-03, ...,\n",
       "          3.38922930e-03,  1.31630676e-03, -9.20756836e-04],\n",
       "        [-1.39381178e-03,  3.39602865e-03, -1.86273630e-03, ...,\n",
       "          3.66154406e-03,  1.41984085e-03, -1.02635857e-03]],\n",
       "\n",
       "       [[ 3.09230963e-04,  6.01896791e-05,  2.50259236e-05, ...,\n",
       "          1.11021320e-04,  2.84236972e-04,  4.00461831e-05],\n",
       "        [ 5.17258304e-04,  3.07356764e-04, -9.40437167e-05, ...,\n",
       "          9.28568334e-05,  4.71443142e-04, -1.90053863e-04],\n",
       "        [ 5.54834725e-04,  6.17410231e-04, -1.98270340e-04, ...,\n",
       "         -1.12511989e-04,  5.31336467e-04, -3.06043221e-04],\n",
       "        ...,\n",
       "        [-7.95023734e-05,  2.65546259e-03, -9.69858957e-04, ...,\n",
       "          1.76728424e-03,  7.79807684e-04, -5.17224951e-04],\n",
       "        [-2.65504845e-04,  2.97794677e-03, -1.09819882e-03, ...,\n",
       "          2.15107808e-03,  9.95367300e-04, -6.44563523e-04],\n",
       "        [-4.39400319e-04,  3.24018952e-03, -1.20239414e-03, ...,\n",
       "          2.52408045e-03,  1.17147528e-03, -7.61580828e-04]]],\n",
       "      dtype=float32)>"
      ]
     },
     "metadata": {},
     "execution_count": 11
    }
   ],
   "metadata": {}
  },
  {
   "cell_type": "code",
   "execution_count": 12,
   "source": [
    "model.summary()"
   ],
   "outputs": [
    {
     "output_type": "stream",
     "name": "stdout",
     "text": [
      "Model: \"text_generator\"\n",
      "_________________________________________________________________\n",
      "Layer (type)                 Output Shape              Param #   \n",
      "=================================================================\n",
      "embedding (Embedding)        multiple                  1792256   \n",
      "_________________________________________________________________\n",
      "lstm (LSTM)                  multiple                  5246976   \n",
      "_________________________________________________________________\n",
      "lstm_1 (LSTM)                multiple                  8392704   \n",
      "_________________________________________________________________\n",
      "dense (Dense)                multiple                  7176025   \n",
      "=================================================================\n",
      "Total params: 22,607,961\n",
      "Trainable params: 22,607,961\n",
      "Non-trainable params: 0\n",
      "_________________________________________________________________\n"
     ]
    }
   ],
   "metadata": {}
  },
  {
   "cell_type": "code",
   "execution_count": 13,
   "source": [
    "# optimizer와 loss등은 차차 배웁니다\r\n",
    "# 혹시 미리 알고 싶다면 아래 문서를 참고하세요\r\n",
    "# https://www.tensorflow.org/api_docs/python/tf/keras/optimizers\r\n",
    "# https://www.tensorflow.org/api_docs/python/tf/keras/losses\r\n",
    "# 양이 상당히 많은 편이니 지금 보는 것은 추천하지 않습니다\r\n",
    "optimizer = tf.keras.optimizers.Adam()\r\n",
    "loss = tf.keras.losses.SparseCategoricalCrossentropy(\r\n",
    "    from_logits=True,\r\n",
    "    reduction='none'\r\n",
    ")\r\n",
    "\r\n",
    "model.compile(loss=loss, optimizer=optimizer)\r\n",
    "model.fit(dataset, epochs=30)"
   ],
   "outputs": [
    {
     "output_type": "stream",
     "name": "stdout",
     "text": [
      "Epoch 1/30\n",
      "93/93 [==============================] - 16s 141ms/step - loss: 4.3784\n",
      "Epoch 2/30\n",
      "93/93 [==============================] - 13s 139ms/step - loss: 2.8237\n",
      "Epoch 3/30\n",
      "93/93 [==============================] - 13s 139ms/step - loss: 2.7132\n",
      "Epoch 4/30\n",
      "93/93 [==============================] - 13s 140ms/step - loss: 2.6163\n",
      "Epoch 5/30\n",
      "93/93 [==============================] - 13s 140ms/step - loss: 2.5569\n",
      "Epoch 6/30\n",
      "93/93 [==============================] - 13s 142ms/step - loss: 2.5006\n",
      "Epoch 7/30\n",
      "93/93 [==============================] - 13s 144ms/step - loss: 2.4380\n",
      "Epoch 8/30\n",
      "93/93 [==============================] - 13s 143ms/step - loss: 2.3953\n",
      "Epoch 9/30\n",
      "93/93 [==============================] - 13s 142ms/step - loss: 2.3392\n",
      "Epoch 10/30\n",
      "93/93 [==============================] - 13s 141ms/step - loss: 2.2951\n",
      "Epoch 11/30\n",
      "93/93 [==============================] - 13s 144ms/step - loss: 2.2574\n",
      "Epoch 12/30\n",
      "93/93 [==============================] - 13s 142ms/step - loss: 2.2019\n",
      "Epoch 13/30\n",
      "93/93 [==============================] - 13s 144ms/step - loss: 2.1605\n",
      "Epoch 14/30\n",
      "93/93 [==============================] - 13s 142ms/step - loss: 2.1244\n",
      "Epoch 15/30\n",
      "93/93 [==============================] - 13s 141ms/step - loss: 2.0795\n",
      "Epoch 16/30\n",
      "93/93 [==============================] - 13s 141ms/step - loss: 2.0400\n",
      "Epoch 17/30\n",
      "93/93 [==============================] - 13s 141ms/step - loss: 1.9902\n",
      "Epoch 18/30\n",
      "93/93 [==============================] - 13s 140ms/step - loss: 1.9505\n",
      "Epoch 19/30\n",
      "93/93 [==============================] - 14s 150ms/step - loss: 1.9120\n",
      "Epoch 20/30\n",
      "93/93 [==============================] - 13s 140ms/step - loss: 1.8664\n",
      "Epoch 21/30\n",
      "93/93 [==============================] - 13s 141ms/step - loss: 1.8205\n",
      "Epoch 22/30\n",
      "93/93 [==============================] - 13s 137ms/step - loss: 1.7772\n",
      "Epoch 23/30\n",
      "93/93 [==============================] - 13s 139ms/step - loss: 1.7362\n",
      "Epoch 24/30\n",
      "93/93 [==============================] - 13s 140ms/step - loss: 1.6922\n",
      "Epoch 25/30\n",
      "93/93 [==============================] - 13s 140ms/step - loss: 1.6512\n",
      "Epoch 26/30\n",
      "93/93 [==============================] - 13s 140ms/step - loss: 1.6138\n",
      "Epoch 27/30\n",
      "93/93 [==============================] - 13s 142ms/step - loss: 1.5627\n",
      "Epoch 28/30\n",
      "93/93 [==============================] - 13s 141ms/step - loss: 1.5148\n",
      "Epoch 29/30\n",
      "93/93 [==============================] - 13s 141ms/step - loss: 1.4763\n",
      "Epoch 30/30\n",
      "93/93 [==============================] - 13s 141ms/step - loss: 1.4300\n"
     ]
    },
    {
     "output_type": "execute_result",
     "data": {
      "text/plain": [
       "<tensorflow.python.keras.callbacks.History at 0x29a06bfca48>"
      ]
     },
     "metadata": {},
     "execution_count": 13
    }
   ],
   "metadata": {}
  },
  {
   "cell_type": "code",
   "execution_count": 14,
   "source": [
    "def generate_text(model, tokenizer, init_sentence=\"<start>\", max_len=20):\r\n",
    "    # 테스트를 위해서 입력받은 init_sentence도 텐서로 변환합니다\r\n",
    "    test_input = tokenizer.texts_to_sequences([init_sentence])\r\n",
    "    test_tensor = tf.convert_to_tensor(test_input, dtype=tf.int64)\r\n",
    "    end_token = tokenizer.word_index[\"<end>\"]\r\n",
    "\r\n",
    "    # 단어 하나씩 예측해 문장을 만듭니다\r\n",
    "    #    1. 입력받은 문장의 텐서를 입력합니다\r\n",
    "    #    2. 예측된 값 중 가장 높은 확률인 word index를 뽑아냅니다\r\n",
    "    #    3. 2에서 예측된 word index를 문장 뒤에 붙입니다\r\n",
    "    #    4. 모델이 <end>를 예측했거나, max_len에 도달했다면 문장 생성을 마칩니다\r\n",
    "    while True:\r\n",
    "        # 1\r\n",
    "        predict = model(test_tensor) \r\n",
    "        # 2\r\n",
    "        predict_word = tf.argmax(tf.nn.softmax(predict, axis=-1), axis=-1)[:, -1] \r\n",
    "        # 3 \r\n",
    "        test_tensor = tf.concat([test_tensor, tf.expand_dims(predict_word, axis=0)], axis=-1)\r\n",
    "        # 4\r\n",
    "        if predict_word.numpy()[0] == end_token: break\r\n",
    "        if test_tensor.shape[1] >= max_len: break\r\n",
    "\r\n",
    "    generated = \"\"\r\n",
    "    # tokenizer를 이용해 word index를 단어로 하나씩 변환합니다 \r\n",
    "    for word_index in test_tensor[0].numpy():\r\n",
    "        generated += tokenizer.index_word[word_index] + \" \"\r\n",
    "\r\n",
    "    return generated"
   ],
   "outputs": [],
   "metadata": {}
  },
  {
   "cell_type": "code",
   "execution_count": 16,
   "source": [
    "generate_text(model, tokenizer, init_sentence=\"<start> he\")"
   ],
   "outputs": [
    {
     "output_type": "execute_result",
     "data": {
      "text/plain": [
       "'<start> he is a man , and that instructed with her silver <end> '"
      ]
     },
     "metadata": {},
     "execution_count": 16
    }
   ],
   "metadata": {}
  },
  {
   "cell_type": "code",
   "execution_count": 22,
   "source": [
    "generate_text(model, tokenizer, init_sentence=\"<start> you\")"
   ],
   "outputs": [
    {
     "output_type": "execute_result",
     "data": {
      "text/plain": [
       "'<start> you have a son , and i am come to know it . <end> '"
      ]
     },
     "metadata": {},
     "execution_count": 22
    }
   ],
   "metadata": {}
  }
 ],
 "metadata": {
  "orig_nbformat": 4,
  "language_info": {
   "name": "python",
   "version": "3.7.11",
   "mimetype": "text/x-python",
   "codemirror_mode": {
    "name": "ipython",
    "version": 3
   },
   "pygments_lexer": "ipython3",
   "nbconvert_exporter": "python",
   "file_extension": ".py"
  },
  "kernelspec": {
   "name": "python3",
   "display_name": "Python 3.7.11 64-bit ('py37': conda)"
  },
  "interpreter": {
   "hash": "d7b26eb2611282d90d9c5c5eb5497dd9fe754f45e0da87815f2566e1ffecfffe"
  }
 },
 "nbformat": 4,
 "nbformat_minor": 2
}