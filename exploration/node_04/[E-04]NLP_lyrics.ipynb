{
 "cells": [
  {
   "cell_type": "markdown",
   "id": "multiple-johns",
   "metadata": {},
   "source": [
    "# 1. 데이터 읽어오기"
   ]
  },
  {
   "cell_type": "code",
   "execution_count": 35,
   "id": "medical-columbus",
   "metadata": {},
   "outputs": [
    {
     "name": "stdout",
     "output_type": "stream",
     "text": [
      "데이터 크기: 187088\n",
      "Examples:\n",
      " ['[Hook]', \"I've been down so long, it look like up to me\", 'They look up to me']\n"
     ]
    }
   ],
   "source": [
    "import numpy as np\n",
    "import tensorflow as tf\n",
    "import glob\n",
    "import os\n",
    "import re\n",
    "\n",
    "txt_file_path = os.getenv('HOME')+'/aiffel/lyricist/data/lyrics/*'\n",
    "\n",
    "txt_list = glob.glob(txt_file_path)\n",
    "\n",
    "raw_corpus = []\n",
    "\n",
    "# 여러개의 txt 파일을 모두 읽어서 raw_corpus 에 담습니다.\n",
    "for txt_file in txt_list:\n",
    "    with open(txt_file, \"r\") as f:\n",
    "        raw = f.read().splitlines()\n",
    "        raw_corpus.extend(raw)\n",
    "\n",
    "print(\"데이터 크기:\", len(raw_corpus))\n",
    "print(\"Examples:\\n\", raw_corpus[:3])"
   ]
  },
  {
   "cell_type": "code",
   "execution_count": 36,
   "id": "imperial-retreat",
   "metadata": {},
   "outputs": [
    {
     "name": "stdout",
     "output_type": "stream",
     "text": [
      "[Hook]\n",
      "I've been down so long, it look like up to me\n",
      "They look up to me\n",
      "I got fake people showin' fake love to me\n",
      "Straight up to my face, straight up to my face\n",
      "I've been down so long, it look like up to me\n",
      "They look up to me\n",
      "I got fake people showin' fake love to me\n",
      "Straight up to my face, straight up to my face [Verse 1]\n",
      "Somethin' ain't right when we talkin'\n"
     ]
    }
   ],
   "source": [
    "for idx, sentence in enumerate(raw_corpus):\n",
    "    if len(sentence) == 0: continue   # 길이가 0인 문장은 건너뜁니다.\n",
    "    if sentence[-1] == \":\": continue  # 문장의 끝이 : 인 문장은 건너뜁니다.\n",
    "\n",
    "    if idx > 9: break   # 문장 10개 확인\n",
    "        \n",
    "    print(sentence)"
   ]
  },
  {
   "cell_type": "markdown",
   "id": "discrete-roman",
   "metadata": {},
   "source": [
    "# 2. 데이터 전처리"
   ]
  },
  {
   "cell_type": "code",
   "execution_count": 37,
   "id": "czech-shanghai",
   "metadata": {},
   "outputs": [
    {
     "name": "stdout",
     "output_type": "stream",
     "text": [
      "<start> this is sample sentence . <end>\n"
     ]
    }
   ],
   "source": [
    "# 입력된 문장을\n",
    "#     1. 소문자로 바꾸고, 양쪽 공백을 지웁니다\n",
    "#     2. 특수문자 양쪽에 공백을 넣고\n",
    "#     3. 여러개의 공백은 하나의 공백으로 바꿉니다\n",
    "#     4. a-zA-Z?.!,¿가 아닌 모든 문자를 하나의 공백으로 바꿉니다\n",
    "#     5. 다시 양쪽 공백을 지웁니다\n",
    "#     6. 문장 시작에는 <start>, 끝에는 <end>를 추가합니다\n",
    "# 이 순서로 처리해주면 문제가 되는 상황을 방지할 수 있겠네요!\n",
    "def preprocess_sentence(sentence):\n",
    "    sentence = sentence.lower().strip() # 1\n",
    "    sentence = re.sub(r\"([?.!,¿])\", r\" \\1 \", sentence) # 2\n",
    "    sentence = re.sub(r'[\" \"]+', \" \", sentence) # 3\n",
    "    sentence = re.sub(r\"[^a-zA-Z?.!,¿]+\", \" \", sentence) # 4\n",
    "    sentence = sentence.strip() # 5\n",
    "    sentence = '<start> ' + sentence + ' <end>' # 6\n",
    "    return sentence\n",
    "\n",
    "# 이 문장이 어떻게 필터링되는지 확인해 보세요.\n",
    "print(preprocess_sentence(\"This @_is ;;;sample        sentence.\"))"
   ]
  },
  {
   "cell_type": "code",
   "execution_count": 38,
   "id": "affected-tuner",
   "metadata": {},
   "outputs": [
    {
     "data": {
      "text/plain": [
       "['<start> hook <end>',\n",
       " '<start> i ve been down so long , it look like up to me <end>',\n",
       " '<start> they look up to me <end>',\n",
       " '<start> i got fake people showin fake love to me <end>',\n",
       " '<start> straight up to my face , straight up to my face <end>',\n",
       " '<start> i ve been down so long , it look like up to me <end>',\n",
       " '<start> they look up to me <end>',\n",
       " '<start> i got fake people showin fake love to me <end>',\n",
       " '<start> straight up to my face , straight up to my face verse <end>',\n",
       " '<start> somethin ain t right when we talkin <end>']"
      ]
     },
     "execution_count": 38,
     "metadata": {},
     "output_type": "execute_result"
    }
   ],
   "source": [
    "# 정제된 문장들 확인\n",
    "corpus = []\n",
    "\n",
    "for sentence in raw_corpus:\n",
    "    # 정제된 문장 체크\n",
    "    preprocessed_sentence = preprocess_sentence(sentence)\n",
    "    \n",
    "    # 우리가 원하지 않는 문장은 건너뜁니다\n",
    "    if len(sentence) == 0: continue\n",
    "    # 토큰 길이가 15를 초과하면 건너뛴다\n",
    "    if len(preprocessed_sentence.split()) > 15: continue\n",
    "    # corpus에 담기\n",
    "    corpus.append(preprocessed_sentence)\n",
    "        \n",
    "# 정제된 결과 확인\n",
    "corpus[:10]"
   ]
  },
  {
   "cell_type": "code",
   "execution_count": 39,
   "id": "adjustable-rhythm",
   "metadata": {},
   "outputs": [
    {
     "name": "stdout",
     "output_type": "stream",
     "text": [
      "[[   2  968    3 ...    0    0    0]\n",
      " [   2    4   95 ...   10   12    3]\n",
      " [   2   38  133 ...    0    0    0]\n",
      " ...\n",
      " [   2  202    3 ...    0    0    0]\n",
      " [   2  416    9 ...    0    0    0]\n",
      " [   2    9 1560 ...    0    0    0]] <keras_preprocessing.text.Tokenizer object at 0x7fe18e9e4710>\n"
     ]
    }
   ],
   "source": [
    "# 토큰화 함수\n",
    "\n",
    "def tokenize(corpus):\n",
    "    # 12000단어를 기억할 수 있는 tokenizer\n",
    "    # 12000단어에 포함되지 못한 단어는 '<unk>'로 변환\n",
    "    tokenizer = tf.keras.preprocessing.text.Tokenizer(num_words=12000, \n",
    "                                                      filters=' ',\n",
    "                                                      oov_token=\"<unk>\")\n",
    "    # corpus를 이용해 tokenizer 내부의 단어장 완성\n",
    "    tokenizer.fit_on_texts(corpus)\n",
    "    # 준비한 tokenizer를 이용해 corpus를 Tensor로 변환\n",
    "    tensor = tokenizer.texts_to_sequences(corpus)   \n",
    "    # 입력 데이터의 시퀀스 길이를 일정하게 맞춰주기 (문장 뒤에 패딩을 붙여줌)\n",
    "    # 만약 시퀀스가 짧다면 문장 뒤에 패딩을 붙여 길이를 맞춰춤\n",
    "    # 문장 앞에 패딩을 붙여 길이를 맞추고 싶다면 padding='pre'를 사용\n",
    "    tensor = tf.keras.preprocessing.sequence.pad_sequences(tensor, padding='post')  \n",
    "    \n",
    "    print(tensor,tokenizer)\n",
    "    return tensor, tokenizer\n",
    "\n",
    "tensor, tokenizer = tokenize(corpus)"
   ]
  },
  {
   "cell_type": "code",
   "execution_count": 40,
   "id": "lined-singles",
   "metadata": {},
   "outputs": [
    {
     "name": "stdout",
     "output_type": "stream",
     "text": [
      "[[  2 968   3   0   0   0   0   0   0   0   0   0   0   0   0]\n",
      " [  2   4  95 105  58  31 168   5  11 133  23  29  10  12   3]\n",
      " [  2  38 133  29  10  12   3   0   0   0   0   0   0   0   0]]\n"
     ]
    }
   ],
   "source": [
    "print(tensor[:3])"
   ]
  },
  {
   "cell_type": "code",
   "execution_count": 41,
   "id": "animated-subscriber",
   "metadata": {
    "scrolled": true
   },
   "outputs": [
    {
     "name": "stdout",
     "output_type": "stream",
     "text": [
      "1 : <unk>\n",
      "2 : <start>\n",
      "3 : <end>\n",
      "4 : i\n",
      "5 : ,\n",
      "6 : the\n",
      "7 : you\n",
      "8 : and\n",
      "9 : a\n",
      "10 : to\n"
     ]
    }
   ],
   "source": [
    "for idx in tokenizer.index_word:\n",
    "    print(idx, \":\", tokenizer.index_word[idx])\n",
    "\n",
    "    if idx >= 10: break"
   ]
  },
  {
   "cell_type": "code",
   "execution_count": 42,
   "id": "imposed-planning",
   "metadata": {},
   "outputs": [
    {
     "name": "stdout",
     "output_type": "stream",
     "text": [
      "[  2 968   3   0   0   0   0   0   0   0   0   0   0   0]\n",
      "[968   3   0   0   0   0   0   0   0   0   0   0   0   0]\n"
     ]
    }
   ],
   "source": [
    "# tensor에서 마지막 토큰을 잘라내서 소스 문장을 생성\n",
    "# 마지막 토큰은 <end>가 아니라 <pad>일 가능성이 높음\n",
    "src_input = tensor[:, :-1]  \n",
    "# tensor에서 <start>를 잘라내서 타겟 문장을 생성\n",
    "tgt_input = tensor[:, 1:]    \n",
    "\n",
    "print(src_input[0])\n",
    "print(tgt_input[0])"
   ]
  },
  {
   "cell_type": "markdown",
   "id": "polyphonic-providence",
   "metadata": {},
   "source": [
    "# 3. Train, Test 분할"
   ]
  },
  {
   "cell_type": "code",
   "execution_count": 60,
   "id": "opening-rainbow",
   "metadata": {},
   "outputs": [
    {
     "name": "stdout",
     "output_type": "stream",
     "text": [
      "Source Train: (124981, 14) (31246, 14)\n",
      "Target Train: (124981, 14) (31246, 14)\n"
     ]
    }
   ],
   "source": [
    "from sklearn.model_selection import train_test_split\n",
    "\n",
    "enc_train, enc_val, dec_train, dec_val = train_test_split(src_input, tgt_input, test_size=0.2, random_state=42)\n",
    "\n",
    "print(\"Source Train:\", enc_train.shape , enc_val.shape)\n",
    "print(\"Target Train:\", dec_train.shape , dec_val.shape)"
   ]
  },
  {
   "cell_type": "code",
   "execution_count": 62,
   "id": "noticed-tucson",
   "metadata": {},
   "outputs": [
    {
     "data": {
      "text/plain": [
       "<BatchDataset shapes: ((256, 14), (256, 14)), types: (tf.int32, tf.int32)>"
      ]
     },
     "execution_count": 62,
     "metadata": {},
     "output_type": "execute_result"
    }
   ],
   "source": [
    "# 데이터 셋\n",
    "\n",
    "BUFFER_SIZE = len(src_input)\n",
    "BATCH_SIZE = 256\n",
    "steps_per_epoch = len(src_input) // BATCH_SIZE\n",
    "\n",
    " # tokenizer가 구축한 단어사전 내 12000개와, 여기 포함되지 않은 0:<pad>를 포함하여 12001개\n",
    "VOCAB_SIZE = tokenizer.num_words + 1   \n",
    "\n",
    "# 준비한 데이터 소스로부터 train 데이터셋을 만듭니다\n",
    "# 데이터셋에 대해서는 아래 문서를 참고하세요\n",
    "# 자세히 알아둘수록 도움이 많이 되는 중요한 문서입니다\n",
    "# https://www.tensorflow.org/api_docs/python/tf/data/Dataset\n",
    "dataset = tf.data.Dataset.from_tensor_slices((enc_train, dec_train))\n",
    "dataset = dataset.shuffle(BUFFER_SIZE)\n",
    "dataset = dataset.batch(BATCH_SIZE, drop_remainder=True)\n",
    "dataset"
   ]
  },
  {
   "cell_type": "markdown",
   "id": "close-anime",
   "metadata": {},
   "source": [
    "# 4. 모델 생성"
   ]
  },
  {
   "cell_type": "code",
   "execution_count": 63,
   "id": "associate-fighter",
   "metadata": {},
   "outputs": [],
   "source": [
    "class TextGenerator(tf.keras.Model):\n",
    "    def __init__(self, vocab_size, embedding_size, hidden_size):\n",
    "        super().__init__()\n",
    "        \n",
    "        self.embedding = tf.keras.layers.Embedding(vocab_size, embedding_size)\n",
    "        self.rnn_1 = tf.keras.layers.LSTM(hidden_size, return_sequences=True)\n",
    "        self.drop = tf.keras.layers.Dropout(0.3)\n",
    "        self.rnn_2 = tf.keras.layers.LSTM(hidden_size, return_sequences=True)\n",
    "        self.linear = tf.keras.layers.Dense(vocab_size)\n",
    "        \n",
    "    def call(self, x):\n",
    "        out = self.embedding(x)\n",
    "        out = self.rnn_1(out)\n",
    "        out = self.drop(out)\n",
    "        out = self.rnn_2(out)\n",
    "        out = self.linear(out)\n",
    "        \n",
    "        return out\n",
    "    \n",
    "embedding_size = 512\n",
    "hidden_size = 2048\n",
    "model = TextGenerator(tokenizer.num_words + 1, embedding_size , hidden_size)"
   ]
  },
  {
   "cell_type": "code",
   "execution_count": 64,
   "id": "transsexual-coordination",
   "metadata": {},
   "outputs": [
    {
     "data": {
      "text/plain": [
       "<tf.Tensor: shape=(256, 14, 12001), dtype=float32, numpy=\n",
       "array([[[ 2.72428646e-04, -1.06003688e-04,  1.39433105e-04, ...,\n",
       "          4.38288334e-05,  2.51213409e-04, -1.43082012e-04],\n",
       "        [ 4.47244471e-04,  6.96388888e-05, -6.58977078e-05, ...,\n",
       "          1.60912183e-04,  6.49145688e-04, -4.10554901e-04],\n",
       "        [ 4.66923317e-04,  5.29909274e-04, -3.64989392e-04, ...,\n",
       "          4.59851901e-04,  1.05990062e-03, -6.39486476e-04],\n",
       "        ...,\n",
       "        [-5.62848691e-05,  6.30068360e-04,  2.71459256e-04, ...,\n",
       "         -1.93392579e-03, -1.64934830e-03, -8.85377231e-04],\n",
       "        [-8.63567751e-04,  3.52301489e-04,  2.56815227e-04, ...,\n",
       "         -2.46831309e-03, -2.07144674e-03, -7.77114765e-04],\n",
       "        [-1.63625285e-03,  6.89942462e-05,  2.10978731e-04, ...,\n",
       "         -2.91815680e-03, -2.43651215e-03, -6.17110054e-04]],\n",
       "\n",
       "       [[ 2.72428646e-04, -1.06003688e-04,  1.39433105e-04, ...,\n",
       "          4.38288334e-05,  2.51213409e-04, -1.43082012e-04],\n",
       "        [ 5.60698099e-04,  5.09262682e-05,  4.19734279e-04, ...,\n",
       "         -1.62477823e-04,  5.96308557e-04, -1.17662275e-04],\n",
       "        [ 7.92868028e-04,  2.40851150e-04,  8.09923687e-04, ...,\n",
       "         -2.57128093e-04,  6.40325772e-04,  1.86762074e-04],\n",
       "        ...,\n",
       "        [-1.59115251e-03, -6.39972568e-05,  2.29965476e-03, ...,\n",
       "         -1.97373773e-03,  3.12329386e-04, -9.58557532e-04],\n",
       "        [-2.20472668e-03, -1.84538076e-04,  2.16477970e-03, ...,\n",
       "         -2.48804525e-03, -1.75260022e-04, -9.65142099e-04],\n",
       "        [-2.79852399e-03, -3.17352533e-04,  1.91411807e-03, ...,\n",
       "         -2.95328093e-03, -6.84226165e-04, -9.03006003e-04]],\n",
       "\n",
       "       [[ 2.72428646e-04, -1.06003688e-04,  1.39433105e-04, ...,\n",
       "          4.38288334e-05,  2.51213409e-04, -1.43082012e-04],\n",
       "        [ 6.93862909e-04, -5.97749968e-05,  4.43448313e-04, ...,\n",
       "          3.81790189e-04,  5.87781426e-04, -1.84313845e-04],\n",
       "        [ 6.97662879e-04, -3.34479351e-04,  6.51036913e-04, ...,\n",
       "          7.36506481e-04,  5.26477059e-04, -5.86168317e-04],\n",
       "        ...,\n",
       "        [ 2.52316764e-04, -2.36793002e-03,  6.60540652e-04, ...,\n",
       "          6.40372687e-04,  2.87127518e-03, -2.21609860e-03],\n",
       "        [ 3.03892048e-05, -2.47160369e-03,  9.95512703e-04, ...,\n",
       "          2.54364626e-04,  2.96229869e-03, -2.61984579e-03],\n",
       "        [-5.11675200e-04, -2.45670811e-03,  1.02752273e-03, ...,\n",
       "         -3.80959478e-04,  2.65174848e-03, -2.67145108e-03]],\n",
       "\n",
       "       ...,\n",
       "\n",
       "       [[ 2.72428646e-04, -1.06003688e-04,  1.39433105e-04, ...,\n",
       "          4.38288334e-05,  2.51213409e-04, -1.43082012e-04],\n",
       "        [ 6.24343229e-04,  1.18715172e-04,  3.46860557e-04, ...,\n",
       "          1.25064733e-04,  5.77845611e-04, -2.60692796e-05],\n",
       "        [ 6.83188438e-04,  3.61507962e-04,  7.58883078e-04, ...,\n",
       "          2.78022082e-04,  4.40725766e-04,  3.95925927e-05],\n",
       "        ...,\n",
       "        [-2.81063654e-03, -1.00391998e-03, -1.48230147e-05, ...,\n",
       "         -2.95992871e-03, -1.29831908e-03,  2.30821432e-04],\n",
       "        [-3.30829713e-03, -1.15325348e-03, -6.08385963e-05, ...,\n",
       "         -3.35302670e-03, -1.72689266e-03,  3.35731631e-04],\n",
       "        [-3.75054334e-03, -1.27522845e-03, -7.03844853e-05, ...,\n",
       "         -3.69136571e-03, -2.09463760e-03,  4.56642534e-04]],\n",
       "\n",
       "       [[ 2.72428646e-04, -1.06003688e-04,  1.39433105e-04, ...,\n",
       "          4.38288334e-05,  2.51213409e-04, -1.43082012e-04],\n",
       "        [ 3.00981250e-04, -3.22277134e-04,  4.85868281e-04, ...,\n",
       "          1.90230305e-04,  6.44692511e-04, -3.03127512e-04],\n",
       "        [ 1.56193404e-04, -1.64976373e-04,  3.27491492e-04, ...,\n",
       "          1.50091393e-04,  6.24984852e-04, -5.53479244e-04],\n",
       "        ...,\n",
       "        [-3.58397537e-03, -6.99707423e-04, -1.49870684e-04, ...,\n",
       "         -2.37066019e-03, -1.10419712e-03, -1.33246169e-04],\n",
       "        [-3.99470795e-03, -7.80433649e-04, -1.95550369e-04, ...,\n",
       "         -2.80962419e-03, -1.46065676e-03,  5.85804264e-05],\n",
       "        [-4.35520662e-03, -8.65778187e-04, -1.89391372e-04, ...,\n",
       "         -3.20417131e-03, -1.78861315e-03,  2.48827913e-04]],\n",
       "\n",
       "       [[ 2.72428646e-04, -1.06003688e-04,  1.39433105e-04, ...,\n",
       "          4.38288334e-05,  2.51213409e-04, -1.43082012e-04],\n",
       "        [ 3.91052250e-04,  1.86687248e-04,  5.65947339e-05, ...,\n",
       "          2.16917979e-04,  6.23151660e-04, -3.20742838e-04],\n",
       "        [ 4.29681502e-04,  2.07241719e-05, -1.97708694e-04, ...,\n",
       "          3.89411318e-04,  4.08100488e-04, -4.92650492e-04],\n",
       "        ...,\n",
       "        [-2.01336411e-03, -9.19607264e-05, -2.77132815e-04, ...,\n",
       "         -2.93655857e-03, -8.06742755e-04, -5.15398860e-04],\n",
       "        [-2.58564460e-03, -4.08958615e-04, -3.64915119e-04, ...,\n",
       "         -3.27530806e-03, -1.20048469e-03, -3.62365827e-04],\n",
       "        [-3.11035733e-03, -7.03183527e-04, -4.32882778e-04, ...,\n",
       "         -3.56936688e-03, -1.55730953e-03, -1.77347290e-04]]],\n",
       "      dtype=float32)>"
      ]
     },
     "execution_count": 64,
     "metadata": {},
     "output_type": "execute_result"
    }
   ],
   "source": [
    "# 데이터셋에서 데이터 한 배치만 불러오기 \n",
    "\n",
    "for src_sample, tgt_sample in dataset.take(1): break\n",
    "\n",
    "# 한 배치만 불러온 데이터를 모델에 넣어봅니다\n",
    "model(src_sample)"
   ]
  },
  {
   "cell_type": "code",
   "execution_count": 65,
   "id": "increasing-chrome",
   "metadata": {},
   "outputs": [
    {
     "name": "stdout",
     "output_type": "stream",
     "text": [
      "Model: \"text_generator_3\"\n",
      "_________________________________________________________________\n",
      "Layer (type)                 Output Shape              Param #   \n",
      "=================================================================\n",
      "embedding_3 (Embedding)      multiple                  6144512   \n",
      "_________________________________________________________________\n",
      "lstm_6 (LSTM)                multiple                  20979712  \n",
      "_________________________________________________________________\n",
      "dropout_3 (Dropout)          multiple                  0         \n",
      "_________________________________________________________________\n",
      "lstm_7 (LSTM)                multiple                  33562624  \n",
      "_________________________________________________________________\n",
      "dense_3 (Dense)              multiple                  24590049  \n",
      "=================================================================\n",
      "Total params: 85,276,897\n",
      "Trainable params: 85,276,897\n",
      "Non-trainable params: 0\n",
      "_________________________________________________________________\n"
     ]
    }
   ],
   "source": [
    "model.summary()"
   ]
  },
  {
   "cell_type": "markdown",
   "id": "approved-gothic",
   "metadata": {},
   "source": [
    "# 5. 학습"
   ]
  },
  {
   "cell_type": "code",
   "execution_count": 66,
   "id": "pressing-perspective",
   "metadata": {},
   "outputs": [
    {
     "name": "stdout",
     "output_type": "stream",
     "text": [
      "Epoch 1/10\n",
      "489/489 [==============================] - 452s 919ms/step - loss: 3.8500 - val_loss: 2.9389\n",
      "Epoch 2/10\n",
      "489/489 [==============================] - 449s 919ms/step - loss: 2.8094 - val_loss: 2.6712\n",
      "Epoch 3/10\n",
      "489/489 [==============================] - 451s 922ms/step - loss: 2.4644 - val_loss: 2.4868\n",
      "Epoch 4/10\n",
      "489/489 [==============================] - 450s 920ms/step - loss: 2.1428 - val_loss: 2.3546\n",
      "Epoch 5/10\n",
      "489/489 [==============================] - 452s 924ms/step - loss: 1.8570 - val_loss: 2.2657\n",
      "Epoch 6/10\n",
      "489/489 [==============================] - 453s 926ms/step - loss: 1.6186 - val_loss: 2.2096\n",
      "Epoch 7/10\n",
      "489/489 [==============================] - 451s 923ms/step - loss: 1.4239 - val_loss: 2.1807\n",
      "Epoch 8/10\n",
      "489/489 [==============================] - 452s 925ms/step - loss: 1.2805 - val_loss: 2.1727\n",
      "Epoch 9/10\n",
      "489/489 [==============================] - 451s 922ms/step - loss: 1.1717 - val_loss: 2.1795\n",
      "Epoch 10/10\n",
      "489/489 [==============================] - 450s 921ms/step - loss: 1.0982 - val_loss: 2.1990\n"
     ]
    },
    {
     "data": {
      "text/plain": [
       "<tensorflow.python.keras.callbacks.History at 0x7fe18c06a850>"
      ]
     },
     "execution_count": 66,
     "metadata": {},
     "output_type": "execute_result"
    }
   ],
   "source": [
    "optimizer = tf.keras.optimizers.Adam()\n",
    "loss = tf.keras.losses.SparseCategoricalCrossentropy(\n",
    "    from_logits=True,\n",
    "    reduction='none'\n",
    ")\n",
    "\n",
    "model.compile(loss=loss, optimizer=optimizer)\n",
    "model.fit(enc_train, dec_train, validation_data=(enc_val, dec_val),\n",
    "          epochs=10, batch_size=256)"
   ]
  },
  {
   "cell_type": "markdown",
   "id": "considered-ambassador",
   "metadata": {},
   "source": [
    "# 6. 텍스트 생성"
   ]
  },
  {
   "cell_type": "code",
   "execution_count": 67,
   "id": "annual-giving",
   "metadata": {},
   "outputs": [],
   "source": [
    "def generate_text(model, tokenizer, init_sentence=\"<start>\", max_len=20):\n",
    "    # 테스트를 위해서 입력받은 init_sentence도 텐서로 변환\n",
    "    test_input = tokenizer.texts_to_sequences([init_sentence])\n",
    "    test_tensor = tf.convert_to_tensor(test_input, dtype=tf.int64)\n",
    "    end_token = tokenizer.word_index[\"<end>\"]\n",
    "\n",
    "    # 단어 하나씩 예측해 문장을 만듭니다\n",
    "    #    1. 입력받은 문장의 텐서를 입력합니다\n",
    "    #    2. 예측된 값 중 가장 높은 확률인 word index를 뽑아냅니다\n",
    "    #    3. 2에서 예측된 word index를 문장 뒤에 붙입니다\n",
    "    #    4. 모델이 <end>를 예측했거나, max_len에 도달했다면 문장 생성을 마칩니다\n",
    "    while True:\n",
    "        # 1\n",
    "        predict = model(test_tensor) \n",
    "        # 2\n",
    "        predict_word = tf.argmax(tf.nn.softmax(predict, axis=-1), axis=-1)[:, -1] \n",
    "        # 3 \n",
    "        test_tensor = tf.concat([test_tensor, tf.expand_dims(predict_word, axis=0)], axis=-1)\n",
    "        # 4\n",
    "        if predict_word.numpy()[0] == end_token: break\n",
    "        if test_tensor.shape[1] >= max_len: break\n",
    "\n",
    "    generated = \"\"\n",
    "    # tokenizer를 이용해 word index를 단어로 하나씩 변환\n",
    "    for word_index in test_tensor[0].numpy():\n",
    "        generated += tokenizer.index_word[word_index] + \" \"\n",
    "\n",
    "    return generated"
   ]
  },
  {
   "cell_type": "code",
   "execution_count": 68,
   "id": "extreme-picture",
   "metadata": {},
   "outputs": [
    {
     "data": {
      "text/plain": [
       "'<start> i want to love you p . y . t . <end> '"
      ]
     },
     "execution_count": 68,
     "metadata": {},
     "output_type": "execute_result"
    }
   ],
   "source": [
    "generate_text(model, tokenizer, init_sentence=\"<start> i want\", max_len=20)"
   ]
  },
  {
   "cell_type": "code",
   "execution_count": 69,
   "id": "worst-bathroom",
   "metadata": {},
   "outputs": [
    {
     "data": {
      "text/plain": [
       "'<start> he s lookin for that home , and i hope he finds it <end> '"
      ]
     },
     "execution_count": 69,
     "metadata": {},
     "output_type": "execute_result"
    }
   ],
   "source": [
    "generate_text(model, tokenizer, init_sentence=\"<start> he\", max_len=20)"
   ]
  },
  {
   "cell_type": "code",
   "execution_count": 70,
   "id": "promising-cartridge",
   "metadata": {},
   "outputs": [
    {
     "data": {
      "text/plain": [
       "'<start> you can t be pablo if your work ain t sellin <end> '"
      ]
     },
     "execution_count": 70,
     "metadata": {},
     "output_type": "execute_result"
    }
   ],
   "source": [
    "generate_text(model, tokenizer, init_sentence=\"<start> you\", max_len=20)"
   ]
  },
  {
   "cell_type": "code",
   "execution_count": 71,
   "id": "creative-phenomenon",
   "metadata": {},
   "outputs": [
    {
     "data": {
      "text/plain": [
       "'<start> she s got me like nobody <end> '"
      ]
     },
     "execution_count": 71,
     "metadata": {},
     "output_type": "execute_result"
    }
   ],
   "source": [
    "generate_text(model, tokenizer, init_sentence=\"<start> she\", max_len=20)"
   ]
  },
  {
   "cell_type": "markdown",
   "id": "perfect-walker",
   "metadata": {},
   "source": [
    "- batch_size=256, embedding_size=512, hidden_size를 2048가 최선 (val_loss : 2.17 ~ 2.19)\n",
    "- 중간에 dropout을 통해 overfitting을 그나마 막아준 것으로 보임\n",
    "- 문장은 그럴듯 하게 나왔으나, 어퍼스트로피(')를 삭제한 것은 에러로 보임.\n",
    "- `\"he\"` -> `\"he s lookin for that home , and i hope he finds it\"` (good)\n",
    "- 유일하게 `\"i want\"` 에서 나온 오류?로 `\"i want to love you p . y . t .\"`  뒤에 이상한 문자들이 나온 이유가 뭔지 확인 필요...\n",
    "- 학습시간은 대략 75분(...) 좀 더 여유를 갖고 학습을 하자!"
   ]
  }
 ],
 "metadata": {
  "kernelspec": {
   "display_name": "Python 3",
   "language": "python",
   "name": "python3"
  },
  "language_info": {
   "codemirror_mode": {
    "name": "ipython",
    "version": 3
   },
   "file_extension": ".py",
   "mimetype": "text/x-python",
   "name": "python",
   "nbconvert_exporter": "python",
   "pygments_lexer": "ipython3",
   "version": "3.7.9"
  }
 },
 "nbformat": 4,
 "nbformat_minor": 5
}
