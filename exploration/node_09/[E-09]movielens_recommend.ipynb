{
 "cells": [
  {
   "cell_type": "code",
   "execution_count": 1,
   "id": "packed-absence",
   "metadata": {},
   "outputs": [],
   "source": [
    "%config Completer.use_jedi = False"
   ]
  },
  {
   "cell_type": "markdown",
   "id": "radical-better",
   "metadata": {},
   "source": [
    "별점 데이터이긴 하나, 시청횟수(implicit)데이터로 해석해서 보자   \n",
    "그리고 3점 미만의 데이터는 선호하지 않는다고 가정"
   ]
  },
  {
   "cell_type": "code",
   "execution_count": 2,
   "id": "foreign-floor",
   "metadata": {},
   "outputs": [
    {
     "data": {
      "text/html": [
       "<div>\n",
       "<style scoped>\n",
       "    .dataframe tbody tr th:only-of-type {\n",
       "        vertical-align: middle;\n",
       "    }\n",
       "\n",
       "    .dataframe tbody tr th {\n",
       "        vertical-align: top;\n",
       "    }\n",
       "\n",
       "    .dataframe thead th {\n",
       "        text-align: right;\n",
       "    }\n",
       "</style>\n",
       "<table border=\"1\" class=\"dataframe\">\n",
       "  <thead>\n",
       "    <tr style=\"text-align: right;\">\n",
       "      <th></th>\n",
       "      <th>user_id</th>\n",
       "      <th>movie_id</th>\n",
       "      <th>rating</th>\n",
       "      <th>timestamp</th>\n",
       "    </tr>\n",
       "  </thead>\n",
       "  <tbody>\n",
       "    <tr>\n",
       "      <th>0</th>\n",
       "      <td>1</td>\n",
       "      <td>1193</td>\n",
       "      <td>5</td>\n",
       "      <td>978300760</td>\n",
       "    </tr>\n",
       "    <tr>\n",
       "      <th>1</th>\n",
       "      <td>1</td>\n",
       "      <td>661</td>\n",
       "      <td>3</td>\n",
       "      <td>978302109</td>\n",
       "    </tr>\n",
       "    <tr>\n",
       "      <th>2</th>\n",
       "      <td>1</td>\n",
       "      <td>914</td>\n",
       "      <td>3</td>\n",
       "      <td>978301968</td>\n",
       "    </tr>\n",
       "    <tr>\n",
       "      <th>3</th>\n",
       "      <td>1</td>\n",
       "      <td>3408</td>\n",
       "      <td>4</td>\n",
       "      <td>978300275</td>\n",
       "    </tr>\n",
       "    <tr>\n",
       "      <th>4</th>\n",
       "      <td>1</td>\n",
       "      <td>2355</td>\n",
       "      <td>5</td>\n",
       "      <td>978824291</td>\n",
       "    </tr>\n",
       "  </tbody>\n",
       "</table>\n",
       "</div>"
      ],
      "text/plain": [
       "   user_id  movie_id  rating  timestamp\n",
       "0        1      1193       5  978300760\n",
       "1        1       661       3  978302109\n",
       "2        1       914       3  978301968\n",
       "3        1      3408       4  978300275\n",
       "4        1      2355       5  978824291"
      ]
     },
     "execution_count": 2,
     "metadata": {},
     "output_type": "execute_result"
    }
   ],
   "source": [
    "import pandas as pd\n",
    "import os\n",
    "rating_file_path=os.getenv('HOME') + '/aiffel/recommendata_iu/data/ml-1m/ratings.dat'\n",
    "ratings_cols = ['user_id', 'movie_id', 'rating', 'timestamp']\n",
    "ratings = pd.read_csv(rating_file_path, sep='::', names=ratings_cols, engine='python', encoding = \"ISO-8859-1\")\n",
    "orginal_data_size = len(ratings)\n",
    "ratings.head()"
   ]
  },
  {
   "cell_type": "code",
   "execution_count": 3,
   "id": "laughing-interaction",
   "metadata": {},
   "outputs": [
    {
     "name": "stdout",
     "output_type": "stream",
     "text": [
      "orginal_data_size: 1000209, filtered_data_size: 836478\n",
      "Ratio of Remaining Data is 83.63%\n"
     ]
    }
   ],
   "source": [
    "# 3점 이상만 남깁니다.\n",
    "ratings = ratings[ratings['rating']>=3]\n",
    "filtered_data_size = len(ratings)\n",
    "\n",
    "print(f'orginal_data_size: {orginal_data_size}, filtered_data_size: {filtered_data_size}')\n",
    "print(f'Ratio of Remaining Data is {filtered_data_size / orginal_data_size:.2%}')"
   ]
  },
  {
   "cell_type": "code",
   "execution_count": 4,
   "id": "nearby-robin",
   "metadata": {},
   "outputs": [],
   "source": [
    "# rating 컬럼의 이름을 count로 바꿉니다.\n",
    "ratings.rename(columns={'rating':'count'}, inplace=True)"
   ]
  },
  {
   "cell_type": "code",
   "execution_count": 5,
   "id": "encouraging-lemon",
   "metadata": {},
   "outputs": [
    {
     "data": {
      "text/plain": [
       "0          5\n",
       "1          3\n",
       "2          3\n",
       "3          4\n",
       "4          5\n",
       "          ..\n",
       "1000203    3\n",
       "1000205    5\n",
       "1000206    5\n",
       "1000207    4\n",
       "1000208    4\n",
       "Name: count, Length: 836478, dtype: int64"
      ]
     },
     "execution_count": 5,
     "metadata": {},
     "output_type": "execute_result"
    }
   ],
   "source": [
    "ratings['count']"
   ]
  },
  {
   "cell_type": "code",
   "execution_count": 6,
   "id": "rocky-killer",
   "metadata": {},
   "outputs": [
    {
     "data": {
      "text/html": [
       "<div>\n",
       "<style scoped>\n",
       "    .dataframe tbody tr th:only-of-type {\n",
       "        vertical-align: middle;\n",
       "    }\n",
       "\n",
       "    .dataframe tbody tr th {\n",
       "        vertical-align: top;\n",
       "    }\n",
       "\n",
       "    .dataframe thead th {\n",
       "        text-align: right;\n",
       "    }\n",
       "</style>\n",
       "<table border=\"1\" class=\"dataframe\">\n",
       "  <thead>\n",
       "    <tr style=\"text-align: right;\">\n",
       "      <th></th>\n",
       "      <th>movie_id</th>\n",
       "      <th>title</th>\n",
       "      <th>genre</th>\n",
       "    </tr>\n",
       "  </thead>\n",
       "  <tbody>\n",
       "    <tr>\n",
       "      <th>0</th>\n",
       "      <td>1</td>\n",
       "      <td>Toy Story (1995)</td>\n",
       "      <td>Animation|Children's|Comedy</td>\n",
       "    </tr>\n",
       "    <tr>\n",
       "      <th>1</th>\n",
       "      <td>2</td>\n",
       "      <td>Jumanji (1995)</td>\n",
       "      <td>Adventure|Children's|Fantasy</td>\n",
       "    </tr>\n",
       "    <tr>\n",
       "      <th>2</th>\n",
       "      <td>3</td>\n",
       "      <td>Grumpier Old Men (1995)</td>\n",
       "      <td>Comedy|Romance</td>\n",
       "    </tr>\n",
       "    <tr>\n",
       "      <th>3</th>\n",
       "      <td>4</td>\n",
       "      <td>Waiting to Exhale (1995)</td>\n",
       "      <td>Comedy|Drama</td>\n",
       "    </tr>\n",
       "    <tr>\n",
       "      <th>4</th>\n",
       "      <td>5</td>\n",
       "      <td>Father of the Bride Part II (1995)</td>\n",
       "      <td>Comedy</td>\n",
       "    </tr>\n",
       "  </tbody>\n",
       "</table>\n",
       "</div>"
      ],
      "text/plain": [
       "   movie_id                               title                         genre\n",
       "0         1                    Toy Story (1995)   Animation|Children's|Comedy\n",
       "1         2                      Jumanji (1995)  Adventure|Children's|Fantasy\n",
       "2         3             Grumpier Old Men (1995)                Comedy|Romance\n",
       "3         4            Waiting to Exhale (1995)                  Comedy|Drama\n",
       "4         5  Father of the Bride Part II (1995)                        Comedy"
      ]
     },
     "execution_count": 6,
     "metadata": {},
     "output_type": "execute_result"
    }
   ],
   "source": [
    "# 영화 제목을 보기 위해 메타 데이터를 읽어옵니다.\n",
    "movie_file_path=os.getenv('HOME') + '/aiffel/recommendata_iu/data/ml-1m/movies.dat'\n",
    "cols = ['movie_id', 'title', 'genre'] \n",
    "movies = pd.read_csv(movie_file_path, sep='::', names=cols, engine='python', encoding='ISO-8859-1')\n",
    "movies.head()"
   ]
  },
  {
   "cell_type": "code",
   "execution_count": 7,
   "id": "stock-forest",
   "metadata": {},
   "outputs": [
    {
     "data": {
      "text/html": [
       "<div>\n",
       "<style scoped>\n",
       "    .dataframe tbody tr th:only-of-type {\n",
       "        vertical-align: middle;\n",
       "    }\n",
       "\n",
       "    .dataframe tbody tr th {\n",
       "        vertical-align: top;\n",
       "    }\n",
       "\n",
       "    .dataframe thead th {\n",
       "        text-align: right;\n",
       "    }\n",
       "</style>\n",
       "<table border=\"1\" class=\"dataframe\">\n",
       "  <thead>\n",
       "    <tr style=\"text-align: right;\">\n",
       "      <th></th>\n",
       "      <th>user_id</th>\n",
       "      <th>count</th>\n",
       "      <th>movie_id</th>\n",
       "    </tr>\n",
       "  </thead>\n",
       "  <tbody>\n",
       "    <tr>\n",
       "      <th>0</th>\n",
       "      <td>1</td>\n",
       "      <td>5</td>\n",
       "      <td>1193</td>\n",
       "    </tr>\n",
       "    <tr>\n",
       "      <th>1</th>\n",
       "      <td>1</td>\n",
       "      <td>3</td>\n",
       "      <td>661</td>\n",
       "    </tr>\n",
       "    <tr>\n",
       "      <th>2</th>\n",
       "      <td>1</td>\n",
       "      <td>3</td>\n",
       "      <td>914</td>\n",
       "    </tr>\n",
       "    <tr>\n",
       "      <th>3</th>\n",
       "      <td>1</td>\n",
       "      <td>4</td>\n",
       "      <td>3408</td>\n",
       "    </tr>\n",
       "    <tr>\n",
       "      <th>4</th>\n",
       "      <td>1</td>\n",
       "      <td>5</td>\n",
       "      <td>2355</td>\n",
       "    </tr>\n",
       "  </tbody>\n",
       "</table>\n",
       "</div>"
      ],
      "text/plain": [
       "   user_id  count  movie_id\n",
       "0        1      5      1193\n",
       "1        1      3       661\n",
       "2        1      3       914\n",
       "3        1      4      3408\n",
       "4        1      5      2355"
      ]
     },
     "execution_count": 7,
     "metadata": {},
     "output_type": "execute_result"
    }
   ],
   "source": [
    "# 타임스탬프는 제거\n",
    "out_timestamp = ['user_id', 'count', 'movie_id']\n",
    "ratings = ratings[out_timestamp]\n",
    "ratings.head()"
   ]
  },
  {
   "cell_type": "markdown",
   "id": "personalized-mumbai",
   "metadata": {},
   "source": [
    "# EDA\n",
    "- ratings에 있는 유니크한 영화 개수\n",
    "- ratings에 있는 유니크한 사용자 수\n",
    "- 가장 인기 있는 영화 30개 (인기순)"
   ]
  },
  {
   "cell_type": "code",
   "execution_count": 8,
   "id": "loaded-ireland",
   "metadata": {},
   "outputs": [
    {
     "data": {
      "text/plain": [
       "3628"
      ]
     },
     "execution_count": 8,
     "metadata": {},
     "output_type": "execute_result"
    }
   ],
   "source": [
    "# 유니크한 영화 개수\n",
    "ratings['movie_id'].nunique()"
   ]
  },
  {
   "cell_type": "code",
   "execution_count": 9,
   "id": "molecular-paper",
   "metadata": {},
   "outputs": [
    {
     "data": {
      "text/plain": [
       "6039"
      ]
     },
     "execution_count": 9,
     "metadata": {},
     "output_type": "execute_result"
    }
   ],
   "source": [
    "# 유니크한 사용자 수\n",
    "ratings['user_id'].nunique()"
   ]
  },
  {
   "cell_type": "code",
   "execution_count": 10,
   "id": "responsible-double",
   "metadata": {},
   "outputs": [
    {
     "data": {
      "text/html": [
       "<div>\n",
       "<style scoped>\n",
       "    .dataframe tbody tr th:only-of-type {\n",
       "        vertical-align: middle;\n",
       "    }\n",
       "\n",
       "    .dataframe tbody tr th {\n",
       "        vertical-align: top;\n",
       "    }\n",
       "\n",
       "    .dataframe thead th {\n",
       "        text-align: right;\n",
       "    }\n",
       "</style>\n",
       "<table border=\"1\" class=\"dataframe\">\n",
       "  <thead>\n",
       "    <tr style=\"text-align: right;\">\n",
       "      <th></th>\n",
       "      <th>movie_id</th>\n",
       "      <th>title</th>\n",
       "      <th>genre</th>\n",
       "      <th>user_id</th>\n",
       "      <th>count</th>\n",
       "    </tr>\n",
       "  </thead>\n",
       "  <tbody>\n",
       "    <tr>\n",
       "      <th>836473</th>\n",
       "      <td>3952</td>\n",
       "      <td>Contender, The (2000)</td>\n",
       "      <td>Drama|Thriller</td>\n",
       "      <td>5682</td>\n",
       "      <td>3</td>\n",
       "    </tr>\n",
       "    <tr>\n",
       "      <th>836474</th>\n",
       "      <td>3952</td>\n",
       "      <td>Contender, The (2000)</td>\n",
       "      <td>Drama|Thriller</td>\n",
       "      <td>5812</td>\n",
       "      <td>4</td>\n",
       "    </tr>\n",
       "    <tr>\n",
       "      <th>836475</th>\n",
       "      <td>3952</td>\n",
       "      <td>Contender, The (2000)</td>\n",
       "      <td>Drama|Thriller</td>\n",
       "      <td>5831</td>\n",
       "      <td>3</td>\n",
       "    </tr>\n",
       "    <tr>\n",
       "      <th>836476</th>\n",
       "      <td>3952</td>\n",
       "      <td>Contender, The (2000)</td>\n",
       "      <td>Drama|Thriller</td>\n",
       "      <td>5837</td>\n",
       "      <td>4</td>\n",
       "    </tr>\n",
       "    <tr>\n",
       "      <th>836477</th>\n",
       "      <td>3952</td>\n",
       "      <td>Contender, The (2000)</td>\n",
       "      <td>Drama|Thriller</td>\n",
       "      <td>5998</td>\n",
       "      <td>4</td>\n",
       "    </tr>\n",
       "  </tbody>\n",
       "</table>\n",
       "</div>"
      ],
      "text/plain": [
       "        movie_id                  title           genre  user_id  count\n",
       "836473      3952  Contender, The (2000)  Drama|Thriller     5682      3\n",
       "836474      3952  Contender, The (2000)  Drama|Thriller     5812      4\n",
       "836475      3952  Contender, The (2000)  Drama|Thriller     5831      3\n",
       "836476      3952  Contender, The (2000)  Drama|Thriller     5837      4\n",
       "836477      3952  Contender, The (2000)  Drama|Thriller     5998      4"
      ]
     },
     "execution_count": 10,
     "metadata": {},
     "output_type": "execute_result"
    }
   ],
   "source": [
    "# 영화 이름이랑 같이 보기 위해 merge\n",
    "data = pd.merge(movies, ratings, left_on='movie_id', right_on='movie_id', how='inner')\n",
    "data.tail()"
   ]
  },
  {
   "cell_type": "code",
   "execution_count": 11,
   "id": "copyrighted-phrase",
   "metadata": {},
   "outputs": [
    {
     "data": {
      "text/plain": [
       "title\n",
       "American Beauty (1999)                                   3211\n",
       "Star Wars: Episode IV - A New Hope (1977)                2910\n",
       "Star Wars: Episode V - The Empire Strikes Back (1980)    2885\n",
       "Star Wars: Episode VI - Return of the Jedi (1983)        2716\n",
       "Saving Private Ryan (1998)                               2561\n",
       "Terminator 2: Judgment Day (1991)                        2509\n",
       "Silence of the Lambs, The (1991)                         2498\n",
       "Raiders of the Lost Ark (1981)                           2473\n",
       "Back to the Future (1985)                                2460\n",
       "Matrix, The (1999)                                       2434\n",
       "Jurassic Park (1993)                                     2413\n",
       "Sixth Sense, The (1999)                                  2385\n",
       "Fargo (1996)                                             2371\n",
       "Braveheart (1995)                                        2314\n",
       "Men in Black (1997)                                      2297\n",
       "Schindler's List (1993)                                  2257\n",
       "Princess Bride, The (1987)                               2252\n",
       "Shakespeare in Love (1998)                               2213\n",
       "L.A. Confidential (1997)                                 2210\n",
       "Shawshank Redemption, The (1994)                         2194\n",
       "Godfather, The (1972)                                    2167\n",
       "Groundhog Day (1993)                                     2121\n",
       "E.T. the Extra-Terrestrial (1982)                        2102\n",
       "Being John Malkovich (1999)                              2066\n",
       "Ghostbusters (1984)                                      2051\n",
       "Pulp Fiction (1994)                                      2030\n",
       "Forrest Gump (1994)                                      2022\n",
       "Terminator, The (1984)                                   2019\n",
       "Toy Story (1995)                                         2000\n",
       "Fugitive, The (1993)                                     1941\n",
       "Name: count, dtype: int64"
      ]
     },
     "execution_count": 11,
     "metadata": {},
     "output_type": "execute_result"
    }
   ],
   "source": [
    "# 인기 많은 영화\n",
    "movie_count = data.groupby('title')['count'].count()\n",
    "movie_count.sort_values(ascending=False).head(30)"
   ]
  },
  {
   "cell_type": "markdown",
   "id": "forty-commitment",
   "metadata": {},
   "source": [
    "# 선호하는 영화 5가지 추가"
   ]
  },
  {
   "cell_type": "code",
   "execution_count": 12,
   "id": "defensive-indonesian",
   "metadata": {},
   "outputs": [
    {
     "data": {
      "text/html": [
       "<div>\n",
       "<style scoped>\n",
       "    .dataframe tbody tr th:only-of-type {\n",
       "        vertical-align: middle;\n",
       "    }\n",
       "\n",
       "    .dataframe tbody tr th {\n",
       "        vertical-align: top;\n",
       "    }\n",
       "\n",
       "    .dataframe thead th {\n",
       "        text-align: right;\n",
       "    }\n",
       "</style>\n",
       "<table border=\"1\" class=\"dataframe\">\n",
       "  <thead>\n",
       "    <tr style=\"text-align: right;\">\n",
       "      <th></th>\n",
       "      <th>movie_id</th>\n",
       "      <th>title</th>\n",
       "      <th>genre</th>\n",
       "    </tr>\n",
       "  </thead>\n",
       "  <tbody>\n",
       "    <tr>\n",
       "      <th>476</th>\n",
       "      <td>480</td>\n",
       "      <td>Jurassic Park (1993)</td>\n",
       "      <td>Action|Adventure|Sci-Fi</td>\n",
       "    </tr>\n",
       "    <tr>\n",
       "      <th>584</th>\n",
       "      <td>588</td>\n",
       "      <td>Aladdin (1992)</td>\n",
       "      <td>Animation|Children's|Comedy|Musical</td>\n",
       "    </tr>\n",
       "    <tr>\n",
       "      <th>1526</th>\n",
       "      <td>1566</td>\n",
       "      <td>Hercules (1997)</td>\n",
       "      <td>Adventure|Animation|Children's|Comedy|Musical</td>\n",
       "    </tr>\n",
       "    <tr>\n",
       "      <th>1959</th>\n",
       "      <td>2028</td>\n",
       "      <td>Saving Private Ryan (1998)</td>\n",
       "      <td>Action|Drama|War</td>\n",
       "    </tr>\n",
       "    <tr>\n",
       "      <th>2016</th>\n",
       "      <td>2085</td>\n",
       "      <td>101 Dalmatians (1961)</td>\n",
       "      <td>Animation|Children's</td>\n",
       "    </tr>\n",
       "  </tbody>\n",
       "</table>\n",
       "</div>"
      ],
      "text/plain": [
       "      movie_id                       title  \\\n",
       "476        480        Jurassic Park (1993)   \n",
       "584        588              Aladdin (1992)   \n",
       "1526      1566             Hercules (1997)   \n",
       "1959      2028  Saving Private Ryan (1998)   \n",
       "2016      2085       101 Dalmatians (1961)   \n",
       "\n",
       "                                              genre  \n",
       "476                         Action|Adventure|Sci-Fi  \n",
       "584             Animation|Children's|Comedy|Musical  \n",
       "1526  Adventure|Animation|Children's|Comedy|Musical  \n",
       "1959                               Action|Drama|War  \n",
       "2016                           Animation|Children's  "
      ]
     },
     "execution_count": 12,
     "metadata": {},
     "output_type": "execute_result"
    }
   ],
   "source": [
    "my_favorite = ['Jurassic Park (1993)',\n",
    "               'Saving Private Ryan (1998)',\n",
    "               '101 Dalmatians (1961)',\n",
    "               'Aladdin (1992)',\n",
    "               'Hercules (1997)']\n",
    "my_favorite_id = movies[movies['title'].isin(my_favorite)]\n",
    "my_favorite_id"
   ]
  },
  {
   "cell_type": "code",
   "execution_count": 13,
   "id": "understanding-organ",
   "metadata": {},
   "outputs": [
    {
     "data": {
      "text/html": [
       "<div>\n",
       "<style scoped>\n",
       "    .dataframe tbody tr th:only-of-type {\n",
       "        vertical-align: middle;\n",
       "    }\n",
       "\n",
       "    .dataframe tbody tr th {\n",
       "        vertical-align: top;\n",
       "    }\n",
       "\n",
       "    .dataframe thead th {\n",
       "        text-align: right;\n",
       "    }\n",
       "</style>\n",
       "<table border=\"1\" class=\"dataframe\">\n",
       "  <thead>\n",
       "    <tr style=\"text-align: right;\">\n",
       "      <th></th>\n",
       "      <th>user_id</th>\n",
       "      <th>count</th>\n",
       "      <th>movie_id</th>\n",
       "    </tr>\n",
       "  </thead>\n",
       "  <tbody>\n",
       "    <tr>\n",
       "      <th>1000203</th>\n",
       "      <td>6040</td>\n",
       "      <td>3</td>\n",
       "      <td>1090</td>\n",
       "    </tr>\n",
       "    <tr>\n",
       "      <th>1000205</th>\n",
       "      <td>6040</td>\n",
       "      <td>5</td>\n",
       "      <td>1094</td>\n",
       "    </tr>\n",
       "    <tr>\n",
       "      <th>1000206</th>\n",
       "      <td>6040</td>\n",
       "      <td>5</td>\n",
       "      <td>562</td>\n",
       "    </tr>\n",
       "    <tr>\n",
       "      <th>1000207</th>\n",
       "      <td>6040</td>\n",
       "      <td>4</td>\n",
       "      <td>1096</td>\n",
       "    </tr>\n",
       "    <tr>\n",
       "      <th>1000208</th>\n",
       "      <td>6040</td>\n",
       "      <td>4</td>\n",
       "      <td>1097</td>\n",
       "    </tr>\n",
       "    <tr>\n",
       "      <th>476</th>\n",
       "      <td>chromis</td>\n",
       "      <td>5</td>\n",
       "      <td>480</td>\n",
       "    </tr>\n",
       "    <tr>\n",
       "      <th>584</th>\n",
       "      <td>chromis</td>\n",
       "      <td>5</td>\n",
       "      <td>588</td>\n",
       "    </tr>\n",
       "    <tr>\n",
       "      <th>1526</th>\n",
       "      <td>chromis</td>\n",
       "      <td>5</td>\n",
       "      <td>1566</td>\n",
       "    </tr>\n",
       "    <tr>\n",
       "      <th>1959</th>\n",
       "      <td>chromis</td>\n",
       "      <td>5</td>\n",
       "      <td>2028</td>\n",
       "    </tr>\n",
       "    <tr>\n",
       "      <th>2016</th>\n",
       "      <td>chromis</td>\n",
       "      <td>5</td>\n",
       "      <td>2085</td>\n",
       "    </tr>\n",
       "  </tbody>\n",
       "</table>\n",
       "</div>"
      ],
      "text/plain": [
       "         user_id count  movie_id\n",
       "1000203     6040     3      1090\n",
       "1000205     6040     5      1094\n",
       "1000206     6040     5       562\n",
       "1000207     6040     4      1096\n",
       "1000208     6040     4      1097\n",
       "476      chromis     5       480\n",
       "584      chromis     5       588\n",
       "1526     chromis     5      1566\n",
       "1959     chromis     5      2028\n",
       "2016     chromis     5      2085"
      ]
     },
     "execution_count": 13,
     "metadata": {},
     "output_type": "execute_result"
    }
   ],
   "source": [
    "# 'chromis'이라는 user_id가 위의 영화를 5번씩 봄\n",
    "my_movielist = pd.DataFrame({'user_id': ['chromis']*5, 'count':['5']*5, 'movie_id': my_favorite_id['movie_id']})\n",
    "\n",
    "if not ratings.isin({'user_id':['chromis']})['user_id'].any():  # user_id에 my_id 데이터가 없다면\n",
    "    ratings = ratings.append(my_movielist)                    # 임의로 만든 my_favorite_id 데이터를 추가          \n",
    "\n",
    "ratings.tail(10)       # 잘 추가되었는지 확인해 봅시다."
   ]
  },
  {
   "cell_type": "code",
   "execution_count": 14,
   "id": "split-leeds",
   "metadata": {},
   "outputs": [
    {
     "data": {
      "text/html": [
       "<div>\n",
       "<style scoped>\n",
       "    .dataframe tbody tr th:only-of-type {\n",
       "        vertical-align: middle;\n",
       "    }\n",
       "\n",
       "    .dataframe tbody tr th {\n",
       "        vertical-align: top;\n",
       "    }\n",
       "\n",
       "    .dataframe thead th {\n",
       "        text-align: right;\n",
       "    }\n",
       "</style>\n",
       "<table border=\"1\" class=\"dataframe\">\n",
       "  <thead>\n",
       "    <tr style=\"text-align: right;\">\n",
       "      <th></th>\n",
       "      <th>movie_id</th>\n",
       "      <th>title</th>\n",
       "      <th>genre</th>\n",
       "      <th>user_id</th>\n",
       "      <th>count</th>\n",
       "    </tr>\n",
       "  </thead>\n",
       "  <tbody>\n",
       "    <tr>\n",
       "      <th>836478</th>\n",
       "      <td>3952</td>\n",
       "      <td>Contender, The (2000)</td>\n",
       "      <td>Drama|Thriller</td>\n",
       "      <td>5682</td>\n",
       "      <td>3</td>\n",
       "    </tr>\n",
       "    <tr>\n",
       "      <th>836479</th>\n",
       "      <td>3952</td>\n",
       "      <td>Contender, The (2000)</td>\n",
       "      <td>Drama|Thriller</td>\n",
       "      <td>5812</td>\n",
       "      <td>4</td>\n",
       "    </tr>\n",
       "    <tr>\n",
       "      <th>836480</th>\n",
       "      <td>3952</td>\n",
       "      <td>Contender, The (2000)</td>\n",
       "      <td>Drama|Thriller</td>\n",
       "      <td>5831</td>\n",
       "      <td>3</td>\n",
       "    </tr>\n",
       "    <tr>\n",
       "      <th>836481</th>\n",
       "      <td>3952</td>\n",
       "      <td>Contender, The (2000)</td>\n",
       "      <td>Drama|Thriller</td>\n",
       "      <td>5837</td>\n",
       "      <td>4</td>\n",
       "    </tr>\n",
       "    <tr>\n",
       "      <th>836482</th>\n",
       "      <td>3952</td>\n",
       "      <td>Contender, The (2000)</td>\n",
       "      <td>Drama|Thriller</td>\n",
       "      <td>5998</td>\n",
       "      <td>4</td>\n",
       "    </tr>\n",
       "  </tbody>\n",
       "</table>\n",
       "</div>"
      ],
      "text/plain": [
       "        movie_id                  title           genre user_id count\n",
       "836478      3952  Contender, The (2000)  Drama|Thriller    5682     3\n",
       "836479      3952  Contender, The (2000)  Drama|Thriller    5812     4\n",
       "836480      3952  Contender, The (2000)  Drama|Thriller    5831     3\n",
       "836481      3952  Contender, The (2000)  Drama|Thriller    5837     4\n",
       "836482      3952  Contender, The (2000)  Drama|Thriller    5998     4"
      ]
     },
     "execution_count": 14,
     "metadata": {},
     "output_type": "execute_result"
    }
   ],
   "source": [
    "data = pd.merge(movies, ratings, left_on='movie_id', right_on='movie_id', how='inner')\n",
    "data.tail()"
   ]
  },
  {
   "cell_type": "markdown",
   "id": "contrary-civilization",
   "metadata": {},
   "source": [
    "# 인덱싱"
   ]
  },
  {
   "cell_type": "code",
   "execution_count": 15,
   "id": "facial-benchmark",
   "metadata": {},
   "outputs": [],
   "source": [
    "# 고유한 유저, 제목 찾아내는 코드\n",
    "user_unique = data['user_id'].unique()\n",
    "movie_unique = data['title'].unique()\n",
    "\n",
    "# 추천 시스템, 자연어처리에서 주로 indexing을 함\n",
    "user_to_idx = {v:k for k,v in enumerate(user_unique)}\n",
    "movie_to_idx = {v:k for k,v in enumerate(movie_unique)}"
   ]
  },
  {
   "cell_type": "code",
   "execution_count": 16,
   "id": "material-kitchen",
   "metadata": {},
   "outputs": [
    {
     "name": "stdout",
     "output_type": "stream",
     "text": [
      "5838\n",
      "462\n"
     ]
    }
   ],
   "source": [
    "print(user_to_idx['chromis'])\n",
    "print(movie_to_idx['Jurassic Park (1993)'])"
   ]
  },
  {
   "cell_type": "code",
   "execution_count": 17,
   "id": "secondary-arcade",
   "metadata": {},
   "outputs": [
    {
     "name": "stdout",
     "output_type": "stream",
     "text": [
      "user_id column indexing OK!!\n",
      "title column indexing OK!!\n"
     ]
    },
    {
     "data": {
      "text/html": [
       "<div>\n",
       "<style scoped>\n",
       "    .dataframe tbody tr th:only-of-type {\n",
       "        vertical-align: middle;\n",
       "    }\n",
       "\n",
       "    .dataframe tbody tr th {\n",
       "        vertical-align: top;\n",
       "    }\n",
       "\n",
       "    .dataframe thead th {\n",
       "        text-align: right;\n",
       "    }\n",
       "</style>\n",
       "<table border=\"1\" class=\"dataframe\">\n",
       "  <thead>\n",
       "    <tr style=\"text-align: right;\">\n",
       "      <th></th>\n",
       "      <th>movie_id</th>\n",
       "      <th>title</th>\n",
       "      <th>genre</th>\n",
       "      <th>user_id</th>\n",
       "      <th>count</th>\n",
       "    </tr>\n",
       "  </thead>\n",
       "  <tbody>\n",
       "    <tr>\n",
       "      <th>836478</th>\n",
       "      <td>3952</td>\n",
       "      <td>3627</td>\n",
       "      <td>Drama|Thriller</td>\n",
       "      <td>2696</td>\n",
       "      <td>3</td>\n",
       "    </tr>\n",
       "    <tr>\n",
       "      <th>836479</th>\n",
       "      <td>3952</td>\n",
       "      <td>3627</td>\n",
       "      <td>Drama|Thriller</td>\n",
       "      <td>2161</td>\n",
       "      <td>4</td>\n",
       "    </tr>\n",
       "    <tr>\n",
       "      <th>836480</th>\n",
       "      <td>3952</td>\n",
       "      <td>3627</td>\n",
       "      <td>Drama|Thriller</td>\n",
       "      <td>1931</td>\n",
       "      <td>3</td>\n",
       "    </tr>\n",
       "    <tr>\n",
       "      <th>836481</th>\n",
       "      <td>3952</td>\n",
       "      <td>3627</td>\n",
       "      <td>Drama|Thriller</td>\n",
       "      <td>2162</td>\n",
       "      <td>4</td>\n",
       "    </tr>\n",
       "    <tr>\n",
       "      <th>836482</th>\n",
       "      <td>3952</td>\n",
       "      <td>3627</td>\n",
       "      <td>Drama|Thriller</td>\n",
       "      <td>3134</td>\n",
       "      <td>4</td>\n",
       "    </tr>\n",
       "  </tbody>\n",
       "</table>\n",
       "</div>"
      ],
      "text/plain": [
       "        movie_id  title           genre  user_id count\n",
       "836478      3952   3627  Drama|Thriller     2696     3\n",
       "836479      3952   3627  Drama|Thriller     2161     4\n",
       "836480      3952   3627  Drama|Thriller     1931     3\n",
       "836481      3952   3627  Drama|Thriller     2162     4\n",
       "836482      3952   3627  Drama|Thriller     3134     4"
      ]
     },
     "execution_count": 17,
     "metadata": {},
     "output_type": "execute_result"
    }
   ],
   "source": [
    "# indexing을 통해 데이터 컬럼 내 값을 바꾸는 코드\n",
    "# dictionary 자료형의 get 함수는 https://wikidocs.net/16 을 참고하세요.\n",
    "\n",
    "# user_to_idx.get을 통해 user_id 컬럼의 모든 값을 인덱싱한 Series를 구해 봅시다. \n",
    "# 혹시 정상적으로 인덱싱되지 않은 row가 있다면 인덱스가 NaN이 될 테니 dropna()로 제거합니다. \n",
    "\n",
    "temp_user_data = data['user_id'].map(user_to_idx.get).dropna()\n",
    "if len(temp_user_data) == len(data):   # 모든 row가 정상적으로 인덱싱되었다면\n",
    "    print('user_id column indexing OK!!')\n",
    "    data['user_id'] = temp_user_data   # data['user_id']을 인덱싱된 Series로 교체해 줍니다. \n",
    "else:\n",
    "    print('user_id column indexing Fail!!')\n",
    "\n",
    "# movie_to_idx을 통해 title 컬럼도 동일한 방식으로 인덱싱해 줍니다. \n",
    "temp_movie_data = data['title'].map(movie_to_idx.get).dropna()\n",
    "if len(temp_movie_data) == len(data):\n",
    "    print('title column indexing OK!!')\n",
    "    data['title'] = temp_movie_data\n",
    "else:\n",
    "    print('title column indexing Fail!!')\n",
    "\n",
    "data.tail()"
   ]
  },
  {
   "cell_type": "markdown",
   "id": "associate-rental",
   "metadata": {},
   "source": [
    "# CSR matrix 생성"
   ]
  },
  {
   "cell_type": "code",
   "execution_count": 18,
   "id": "ethical-serve",
   "metadata": {},
   "outputs": [
    {
     "data": {
      "text/plain": [
       "0         5\n",
       "1         4\n",
       "2         4\n",
       "3         5\n",
       "4         5\n",
       "         ..\n",
       "836478    3\n",
       "836479    4\n",
       "836480    3\n",
       "836481    4\n",
       "836482    4\n",
       "Name: count, Length: 836483, dtype: int64"
      ]
     },
     "execution_count": 18,
     "metadata": {},
     "output_type": "execute_result"
    }
   ],
   "source": [
    "data['count'] = data['count'].astype(int)\n",
    "data['count']"
   ]
  },
  {
   "cell_type": "code",
   "execution_count": 20,
   "id": "apparent-dream",
   "metadata": {},
   "outputs": [
    {
     "data": {
      "text/plain": [
       "<6040x3628 sparse matrix of type '<class 'numpy.longlong'>'\n",
       "\twith 836483 stored elements in Compressed Sparse Row format>"
      ]
     },
     "execution_count": 20,
     "metadata": {},
     "output_type": "execute_result"
    }
   ],
   "source": [
    "from scipy.sparse import csr_matrix\n",
    "\n",
    "num_user = data['user_id'].nunique()\n",
    "num_movie = data['title'].nunique()\n",
    "\n",
    "csr_data = csr_matrix((data['count'], (data.user_id, data.title)), shape= (num_user, num_movie))\n",
    "csr_data"
   ]
  },
  {
   "cell_type": "code",
   "execution_count": 22,
   "id": "sensitive-superior",
   "metadata": {},
   "outputs": [],
   "source": [
    "from implicit.als import AlternatingLeastSquares\n",
    "import os\n",
    "import numpy as np\n",
    "\n",
    "# implicit 라이브러리에서 권장하고 있는 부분입니다. 학습 내용과는 무관합니다.\n",
    "os.environ['OPENBLAS_NUM_THREADS']='1'\n",
    "os.environ['KMP_DUPLICATE_LIB_OK']='True'\n",
    "os.environ['MKL_NUM_THREADS']='1'"
   ]
  },
  {
   "cell_type": "code",
   "execution_count": 23,
   "id": "ignored-anniversary",
   "metadata": {},
   "outputs": [],
   "source": [
    "# Implicit AlternatingLeastSquares 모델의 선언\n",
    "\n",
    "# 1. factors : 유저와 아이템의 벡터를 몇 차원으로 할 것인지 \n",
    "# 2. regularization : 과적합을 방지하기 위해 정규화 값을 얼마나 사용할 것인지\n",
    "# 3. use_gpu : GPU를 사용할 것인지 \n",
    "# 4. iterations : epochs와 같은 의미입니다. 데이터를 몇 번 반복해서 학습할 것인지\n",
    "# 1, 4를 늘릴 수록 오버피팅 주의\n",
    "als_model = AlternatingLeastSquares(factors=100, regularization=0.01, use_gpu=False, iterations=15, dtype=np.float32)"
   ]
  },
  {
   "cell_type": "code",
   "execution_count": 24,
   "id": "eight-christopher",
   "metadata": {},
   "outputs": [
    {
     "data": {
      "text/plain": [
       "<3628x6040 sparse matrix of type '<class 'numpy.longlong'>'\n",
       "\twith 836483 stored elements in Compressed Sparse Column format>"
      ]
     },
     "execution_count": 24,
     "metadata": {},
     "output_type": "execute_result"
    }
   ],
   "source": [
    "# als 모델은 input으로 (item X user 꼴의 matrix를 받기 때문에 Transpose해줍니다.)\n",
    "csr_data_transpose = csr_data.T\n",
    "csr_data_transpose"
   ]
  },
  {
   "cell_type": "code",
   "execution_count": 25,
   "id": "infinite-screw",
   "metadata": {},
   "outputs": [
    {
     "data": {
      "application/vnd.jupyter.widget-view+json": {
       "model_id": "c2cb8a41c4e449a382987fc8f86ee896",
       "version_major": 2,
       "version_minor": 0
      },
      "text/plain": [
       "  0%|          | 0/15 [00:00<?, ?it/s]"
      ]
     },
     "metadata": {},
     "output_type": "display_data"
    }
   ],
   "source": [
    "# 모델 훈련\n",
    "als_model.fit(csr_data_transpose)"
   ]
  },
  {
   "cell_type": "code",
   "execution_count": 27,
   "id": "listed-filling",
   "metadata": {},
   "outputs": [
    {
     "data": {
      "text/plain": [
       "array([-0.38554427,  0.23215708,  0.22222392,  0.31532073, -1.2417275 ,\n",
       "       -0.4132351 , -0.22878218,  0.0855615 , -0.18601291, -0.01471598,\n",
       "       -0.48111108, -0.54638934,  0.31813133,  1.2933977 , -0.20486   ,\n",
       "       -0.2132461 ,  0.7716071 , -0.1723135 ,  0.6595237 ,  1.3764448 ,\n",
       "        0.25930053,  1.0305026 ,  0.06800374,  0.20303118, -0.11016093,\n",
       "        0.2325423 , -0.5669005 , -0.99879354,  0.18326314, -0.34553272,\n",
       "        0.65511554, -0.07094454,  1.0092012 ,  0.18971851,  0.5050073 ,\n",
       "       -0.91428447,  0.53672427, -0.9869515 ,  0.4787666 , -0.418256  ,\n",
       "        0.69228584,  0.16964582, -0.08711607, -0.1716071 , -0.11696184,\n",
       "        0.06425721,  0.42261055,  0.9128025 , -0.51443416,  0.15295026,\n",
       "        0.01414427,  0.06851576, -0.12416703, -0.14141677, -0.5530659 ,\n",
       "       -0.34895664,  0.11389389, -0.18535046, -0.2979741 , -0.6266275 ,\n",
       "        0.31949678, -0.14378579,  0.15431154, -0.22106764, -0.616288  ,\n",
       "        0.43170825, -0.4038796 ,  0.07350392,  0.08785509, -0.05450493,\n",
       "        0.32004273, -0.61364484,  0.21769017, -0.13438343,  0.01587767,\n",
       "       -1.0277678 ,  0.5513408 ,  0.5172868 , -0.14401037,  0.19175713,\n",
       "       -0.66081744,  0.05245328, -0.4665354 ,  1.2407703 ,  0.37192592,\n",
       "        0.07698153,  0.75868505, -0.41320434,  0.8181786 ,  0.16503169,\n",
       "       -0.03447179, -0.3152161 , -0.578444  , -0.3636086 , -0.04238992,\n",
       "       -0.17300905, -0.32290933,  0.40991455,  0.21774709,  0.2781021 ],\n",
       "      dtype=float32)"
      ]
     },
     "execution_count": 27,
     "metadata": {},
     "output_type": "execute_result"
    }
   ],
   "source": [
    "# my_id의 벡터\n",
    "my_id_ = user_to_idx['chromis']\n",
    "my_vector = als_model.user_factors[my_id_]\n",
    "my_vector"
   ]
  },
  {
   "cell_type": "code",
   "execution_count": 29,
   "id": "transsexual-wyoming",
   "metadata": {},
   "outputs": [
    {
     "data": {
      "text/plain": [
       "array([ 0.02204767, -0.01709229,  0.0222594 ,  0.00919449, -0.03373662,\n",
       "       -0.00523083, -0.00051435,  0.02128402, -0.01521886,  0.01166473,\n",
       "       -0.00076851,  0.00315026,  0.00335883,  0.03803603,  0.00739363,\n",
       "        0.00785332,  0.02590881,  0.00628625,  0.03872775,  0.00919532,\n",
       "        0.02161596,  0.05966716, -0.01478059,  0.02095484, -0.00226008,\n",
       "        0.01491353,  0.00037897,  0.00607496,  0.01373228,  0.00961335,\n",
       "        0.01775609,  0.00510369,  0.02457232,  0.01278973, -0.00627568,\n",
       "       -0.00612714,  0.01236975, -0.04537435,  0.01447429,  0.0365887 ,\n",
       "       -0.01493203,  0.02212249,  0.01771977, -0.00753564,  0.03129242,\n",
       "        0.01010097,  0.00481004,  0.02929473,  0.00564855, -0.00180872,\n",
       "        0.00514125,  0.00806041,  0.00405615,  0.01386695, -0.02982303,\n",
       "       -0.03630549,  0.02444779,  0.00566382, -0.01150832, -0.01270406,\n",
       "       -0.01336376,  0.00423846, -0.00464143,  0.00415029, -0.01871725,\n",
       "        0.03256608, -0.00147753,  0.01101692,  0.00403876,  0.01270686,\n",
       "       -0.00833765,  0.01071724, -0.02597488,  0.00720748,  0.00579824,\n",
       "        0.00034765,  0.01496447,  0.02234713, -0.00205148, -0.01562669,\n",
       "       -0.00723681,  0.05741184, -0.04244613,  0.02395727,  0.02074379,\n",
       "       -0.00092338,  0.02932827,  0.01708047,  0.02716378, -0.01715907,\n",
       "        0.01368599,  0.00186854,  0.00929318,  0.0040282 ,  0.00139185,\n",
       "       -0.0247557 , -0.00867571,  0.01780899,  0.03023477,  0.00223921],\n",
       "      dtype=float32)"
      ]
     },
     "execution_count": 29,
     "metadata": {},
     "output_type": "execute_result"
    }
   ],
   "source": [
    "# ToyStory의 벡터\n",
    "jurassic_idx = movie_to_idx['Jurassic Park (1993)']\n",
    "jurassic_vector = als_model.item_factors[jurassic_idx]\n",
    "jurassic_vector"
   ]
  },
  {
   "cell_type": "code",
   "execution_count": 30,
   "id": "meaningful-organization",
   "metadata": {},
   "outputs": [
    {
     "data": {
      "text/plain": [
       "0.4883075"
      ]
     },
     "execution_count": 30,
     "metadata": {},
     "output_type": "execute_result"
    }
   ],
   "source": [
    "# chromis과 Jurassic Park를 내적하는 코드\n",
    "np.dot(my_vector, jurassic_vector)\n",
    "\n",
    "# factor와 iteration을 늘리면 높일 수 있음\n",
    "# 이마저도 validation이 되어있지는 않음"
   ]
  },
  {
   "cell_type": "code",
   "execution_count": 31,
   "id": "dying-pound",
   "metadata": {},
   "outputs": [
    {
     "data": {
      "text/plain": [
       "array([-0.00863961,  0.01757316,  0.00540848,  0.01090585, -0.04302669,\n",
       "        0.00290677,  0.00760246,  0.01193882, -0.00997776,  0.00394402,\n",
       "       -0.01000271,  0.02714979,  0.02415839,  0.01667426,  0.0081657 ,\n",
       "       -0.01384252,  0.03565389,  0.01724183,  0.015243  ,  0.03394166,\n",
       "        0.03453815,  0.04373143, -0.02371888,  0.01121053,  0.01277383,\n",
       "       -0.02459559, -0.01346487, -0.01783264,  0.01918596,  0.00742108,\n",
       "        0.01605694,  0.01495344,  0.03917889,  0.02529074,  0.05790202,\n",
       "       -0.02247073,  0.00485395, -0.02647264,  0.0043178 , -0.03992187,\n",
       "       -0.01161251,  0.00296851,  0.00425027,  0.01732757, -0.01134896,\n",
       "        0.01398673,  0.01355338,  0.0001067 ,  0.02795647,  0.02067286,\n",
       "        0.03069018,  0.00076459,  0.0018956 ,  0.00472309,  0.02109858,\n",
       "       -0.01374349,  0.0380499 , -0.02827894, -0.00244432, -0.05208305,\n",
       "        0.01752842,  0.01757613,  0.01016309, -0.01178655, -0.02391046,\n",
       "        0.00404496,  0.00621083,  0.01946852,  0.01221969, -0.02477387,\n",
       "        0.01939232,  0.00652198,  0.01656242,  0.003315  ,  0.01277755,\n",
       "       -0.01878112,  0.00460976,  0.02467689,  0.01425922, -0.00778245,\n",
       "        0.02476739,  0.0030016 ,  0.0320878 ,  0.03941976, -0.03276763,\n",
       "        0.04306526,  0.04632842, -0.03186787,  0.00152841,  0.01742039,\n",
       "        0.01615203, -0.01395607, -0.01314372, -0.01408996,  0.01951712,\n",
       "       -0.00686357,  0.00159198, -0.01283365,  0.0089353 ,  0.01247506],\n",
       "      dtype=float32)"
      ]
     },
     "execution_count": 31,
     "metadata": {},
     "output_type": "execute_result"
    }
   ],
   "source": [
    "# 라이언 일병 구하기는 선호할까?\n",
    "\n",
    "ryan_idx = movie_to_idx['Saving Private Ryan (1998)']\n",
    "ryan_vector = als_model.item_factors[ryan_idx]\n",
    "ryan_vector"
   ]
  },
  {
   "cell_type": "code",
   "execution_count": 33,
   "id": "bound-worthy",
   "metadata": {},
   "outputs": [
    {
     "data": {
      "text/plain": [
       "0.5533898"
      ]
     },
     "execution_count": 33,
     "metadata": {},
     "output_type": "execute_result"
    }
   ],
   "source": [
    "np.dot(my_vector, ryan_vector)"
   ]
  },
  {
   "cell_type": "markdown",
   "id": "negative-window",
   "metadata": {},
   "source": [
    "쥬라기 공룡보다 더 선호한다고 한다  \n",
    "실제로 그렇긴 한데... 애니메이션이랑 비교하면?"
   ]
  },
  {
   "cell_type": "code",
   "execution_count": 34,
   "id": "uniform-survival",
   "metadata": {},
   "outputs": [
    {
     "data": {
      "text/plain": [
       "array([ 0.00746138,  0.02275591,  0.00743458,  0.00525347,  0.00651651,\n",
       "        0.00810904,  0.01513133,  0.00185762, -0.00290646,  0.01126913,\n",
       "       -0.01689399, -0.02583956,  0.01859002,  0.02697263, -0.00318082,\n",
       "       -0.0075245 ,  0.01452739,  0.00942905,  0.00820493,  0.01354403,\n",
       "       -0.00340311,  0.0135978 ,  0.01094662,  0.01024856,  0.00012229,\n",
       "        0.01153092, -0.00966936, -0.000561  , -0.01558557, -0.01789964,\n",
       "        0.0044241 ,  0.00142582,  0.03578516,  0.02125624,  0.0034116 ,\n",
       "       -0.00058728,  0.00834122,  0.0013093 ,  0.01699295,  0.00825944,\n",
       "        0.01559609,  0.00915755,  0.00427909,  0.00088425, -0.01544033,\n",
       "        0.00801624,  0.01340888,  0.03574264, -0.00119224,  0.00978482,\n",
       "       -0.00364216,  0.01306215,  0.00217746, -0.00807039, -0.01611638,\n",
       "        0.02707908, -0.00937473,  0.02231801,  0.00810137,  0.009166  ,\n",
       "        0.01844274,  0.00416526,  0.00174702,  0.00022288,  0.01949962,\n",
       "        0.00713353, -0.01110583,  0.01617453,  0.00964191,  0.0131522 ,\n",
       "        0.01247076, -0.01893445,  0.00561234,  0.01434808,  0.00696137,\n",
       "       -0.01119863, -0.00272471,  0.00678782,  0.00082131,  0.01155836,\n",
       "       -0.01655567, -0.00769728,  0.00897251,  0.02960264,  0.0081816 ,\n",
       "       -0.01191479,  0.00657883, -0.00598672,  0.02523307,  0.01274296,\n",
       "       -0.00355251, -0.00110677, -0.00313391, -0.01664423, -0.00219155,\n",
       "        0.00698148, -0.01176877, -0.0004369 ,  0.00183445,  0.01689039],\n",
       "      dtype=float32)"
      ]
     },
     "execution_count": 34,
     "metadata": {},
     "output_type": "execute_result"
    }
   ],
   "source": [
    "hercules_idx = movie_to_idx['Hercules (1997)']\n",
    "hercules_vector = als_model.item_factors[hercules_idx]\n",
    "hercules_vector"
   ]
  },
  {
   "cell_type": "code",
   "execution_count": 35,
   "id": "blocked-patrick",
   "metadata": {},
   "outputs": [
    {
     "data": {
      "text/plain": [
       "0.33808562"
      ]
     },
     "execution_count": 35,
     "metadata": {},
     "output_type": "execute_result"
    }
   ],
   "source": [
    "np.dot(my_vector, hercules_vector)"
   ]
  },
  {
   "cell_type": "markdown",
   "id": "prime-jackson",
   "metadata": {},
   "source": [
    "역시 애니메이션에서는 살짝 낮은 편"
   ]
  },
  {
   "cell_type": "markdown",
   "id": "exterior-operator",
   "metadata": {},
   "source": [
    "# 비슷한 영화 찾기\n",
    "실제로도 라이언 일병 구하기를 가장 좋아하긴 한데   \n",
    "그렇다면 이와 비슷한 영화는?"
   ]
  },
  {
   "cell_type": "code",
   "execution_count": 36,
   "id": "equipped-luther",
   "metadata": {},
   "outputs": [
    {
     "data": {
      "text/plain": [
       "[(1810, 0.99999994),\n",
       " (509, 0.69929165),\n",
       " (106, 0.6584161),\n",
       " (305, 0.5150397),\n",
       " (1116, 0.45133075),\n",
       " (1532, 0.4220056),\n",
       " (439, 0.4130607),\n",
       " (2629, 0.40968493),\n",
       " (2325, 0.36027172),\n",
       " (573, 0.35845795),\n",
       " (1124, 0.35622546),\n",
       " (2600, 0.34615228),\n",
       " (35, 0.32452023),\n",
       " (2186, 0.32445893),\n",
       " (3284, 0.3159247)]"
      ]
     },
     "execution_count": 36,
     "metadata": {},
     "output_type": "execute_result"
    }
   ],
   "source": [
    "favorite_movie = 'Saving Private Ryan (1998)'\n",
    "movie_id = movie_to_idx[favorite_movie]\n",
    "similar_movie = als_model.similar_items(movie_id, N=15)\n",
    "similar_movie"
   ]
  },
  {
   "cell_type": "code",
   "execution_count": 37,
   "id": "fitting-dragon",
   "metadata": {},
   "outputs": [
    {
     "data": {
      "text/plain": [
       "['Saving Private Ryan (1998)',\n",
       " \"Schindler's List (1993)\",\n",
       " 'Braveheart (1995)',\n",
       " 'Shawshank Redemption, The (1994)',\n",
       " 'Boat, The (Das Boot) (1981)',\n",
       " 'Good Will Hunting (1997)',\n",
       " 'Fugitive, The (1993)',\n",
       " 'Simon Sez (1999)',\n",
       " 'Matrix, The (1999)',\n",
       " 'Silence of the Lambs, The (1991)']"
      ]
     },
     "execution_count": 37,
     "metadata": {},
     "output_type": "execute_result"
    }
   ],
   "source": [
    "# movie_to_idx 를 뒤집어, index로부터 movie의 제목을 얻는 dict를 생성합니다. \n",
    "idx_to_movie = {v:k for k,v in movie_to_idx.items()}\n",
    "\n",
    "def get_similar_movie(movie_title: str):\n",
    "    title_id = movie_to_idx[movie_title]\n",
    "    similar_movie = als_model.similar_items(title_id)\n",
    "    similar_movie = [idx_to_movie[i[0]] for i in similar_movie]\n",
    "    return similar_movie\n",
    "\n",
    "get_similar_movie('Saving Private Ryan (1998)')"
   ]
  },
  {
   "cell_type": "markdown",
   "id": "parliamentary-citizenship",
   "metadata": {},
   "source": [
    "쉰들러리스트, 매트릭스, 양들의 침묵 등... 어느정도 만족스럽다"
   ]
  },
  {
   "cell_type": "code",
   "execution_count": 39,
   "id": "imperial-bubble",
   "metadata": {},
   "outputs": [
    {
     "data": {
      "text/plain": [
       "['Hercules (1997)',\n",
       " 'Hunchback of Notre Dame, The (1996)',\n",
       " 'Anastasia (1997)',\n",
       " 'Tarzan (1999)',\n",
       " 'Pocahontas (1995)',\n",
       " 'Mulan (1998)',\n",
       " 'Aladdin and the King of Thieves (1996)',\n",
       " 'Rescuers Down Under, The (1990)',\n",
       " 'Return of Jafar, The (1993)',\n",
       " 'Quest for Camelot (1998)']"
      ]
     },
     "execution_count": 39,
     "metadata": {},
     "output_type": "execute_result"
    }
   ],
   "source": [
    "get_similar_movie('Hercules (1997)')"
   ]
  },
  {
   "cell_type": "markdown",
   "id": "alert-castle",
   "metadata": {},
   "source": [
    "디즈니 영화엔 디즈니 영화들이 나온다"
   ]
  },
  {
   "cell_type": "code",
   "execution_count": 40,
   "id": "selected-better",
   "metadata": {},
   "outputs": [
    {
     "data": {
      "text/plain": [
       "['Jurassic Park (1993)',\n",
       " 'Men in Black (1997)',\n",
       " 'Terminator 2: Judgment Day (1991)',\n",
       " 'Total Recall (1990)',\n",
       " 'Matrix, The (1999)',\n",
       " 'Lost World: Jurassic Park, The (1997)',\n",
       " 'Schlafes Bruder (Brother of Sleep) (1995)',\n",
       " 'Independence Day (ID4) (1996)',\n",
       " 'Braveheart (1995)',\n",
       " 'Fifth Element, The (1997)']"
      ]
     },
     "execution_count": 40,
     "metadata": {},
     "output_type": "execute_result"
    }
   ],
   "source": [
    "get_similar_movie('Jurassic Park (1993)')"
   ]
  },
  {
   "cell_type": "markdown",
   "id": "logical-valuable",
   "metadata": {},
   "source": [
    "맨 인 블랙, 토탈리콜, 터미네이터2, 인디펜던스 데이 등 SF영화들이 나온다(싱기)"
   ]
  },
  {
   "cell_type": "markdown",
   "id": "prostate-seeker",
   "metadata": {},
   "source": [
    "# 영화 추천하기"
   ]
  },
  {
   "cell_type": "code",
   "execution_count": 41,
   "id": "precious-daughter",
   "metadata": {},
   "outputs": [
    {
     "data": {
      "text/plain": [
       "[(575, 0.43730804),\n",
       " (350, 0.41423285),\n",
       " (106, 0.39797762),\n",
       " (1419, 0.3675902),\n",
       " (2434, 0.3514824),\n",
       " (1689, 0.3477141),\n",
       " (509, 0.34502336),\n",
       " (2600, 0.30940875),\n",
       " (569, 0.26283956),\n",
       " (1861, 0.25551358),\n",
       " (725, 0.24987848),\n",
       " (0, 0.2399936),\n",
       " (945, 0.22954535),\n",
       " (722, 0.2269634),\n",
       " (2114, 0.22208343),\n",
       " (1520, 0.22005314),\n",
       " (2153, 0.21998253),\n",
       " (2056, 0.21363541),\n",
       " (2845, 0.21222278),\n",
       " (47, 0.20584123)]"
      ]
     },
     "execution_count": 41,
     "metadata": {},
     "output_type": "execute_result"
    }
   ],
   "source": [
    "user = user_to_idx['chromis']\n",
    "# recommend에서는 user*item CSR Matrix를 받습니다.\n",
    "movie_recommended = als_model.recommend(user, csr_data, N=20, filter_already_liked_items=True)\n",
    "movie_recommended"
   ]
  },
  {
   "cell_type": "code",
   "execution_count": 42,
   "id": "external-relay",
   "metadata": {},
   "outputs": [
    {
     "data": {
      "text/plain": [
       "['Beauty and the Beast (1991)',\n",
       " 'Lion King, The (1994)',\n",
       " 'Braveheart (1995)',\n",
       " 'Men in Black (1997)',\n",
       " 'Tarzan (1999)',\n",
       " 'Mulan (1998)',\n",
       " \"Schindler's List (1993)\",\n",
       " 'American Beauty (1999)',\n",
       " 'Terminator 2: Judgment Day (1991)',\n",
       " 'Little Mermaid, The (1989)',\n",
       " 'Hunchback of Notre Dame, The (1996)',\n",
       " 'Toy Story (1995)',\n",
       " 'Alice in Wonderland (1951)',\n",
       " 'Independence Day (ID4) (1996)',\n",
       " \"Bug's Life, A (1998)\",\n",
       " 'Anastasia (1997)',\n",
       " 'Prince of Egypt, The (1998)',\n",
       " 'Antz (1998)',\n",
       " 'Toy Story 2 (1999)',\n",
       " 'Pocahontas (1995)']"
      ]
     },
     "execution_count": 42,
     "metadata": {},
     "output_type": "execute_result"
    }
   ],
   "source": [
    "[idx_to_movie[i[0]] for i in movie_recommended]"
   ]
  },
  {
   "cell_type": "markdown",
   "id": "normal-survey",
   "metadata": {},
   "source": [
    "디즈니 영화 2개를 넣었더니 대부분 디즈니 영화를 추천하는 편이다   \n",
    "그 중에서도 쉰들러 리스트, 인디펜던스 데이, 맨인 블랙은 그럼에도 추천되는 편!"
   ]
  },
  {
   "cell_type": "code",
   "execution_count": 45,
   "id": "selective-economy",
   "metadata": {},
   "outputs": [
    {
     "data": {
      "text/plain": [
       "[('Jurassic Park (1993)', 0.33159741251118),\n",
       " ('Aladdin (1992)', 0.013313768478360705),\n",
       " ('Saving Private Ryan (1998)', 0.011035066802662105),\n",
       " ('Hercules (1997)', 0.006560929248583447),\n",
       " ('101 Dalmatians (1961)', 0.0007416080957464948)]"
      ]
     },
     "execution_count": 45,
     "metadata": {},
     "output_type": "execute_result"
    }
   ],
   "source": [
    "man = movie_to_idx['Men in Black (1997)']\n",
    "explain = als_model.explain(user, csr_data, itemid=man)\n",
    "\n",
    "[(idx_to_movie[i[0]], i[1]) for i in explain[1]]\n",
    "# 맨 인 블랙를 추천한 기여도 (합한 것이 위에 나타난 점수)"
   ]
  },
  {
   "cell_type": "markdown",
   "id": "regulation-trade",
   "metadata": {},
   "source": [
    "기여도를 보니 쥬라기 공원이 대부분 기여한 편"
   ]
  },
  {
   "cell_type": "code",
   "execution_count": 47,
   "id": "intended-balloon",
   "metadata": {},
   "outputs": [
    {
     "data": {
      "text/plain": [
       "[('Hercules (1997)', 0.10016446888186656),\n",
       " ('Aladdin (1992)', 0.0565582859790658),\n",
       " ('101 Dalmatians (1961)', 0.02872234904213944),\n",
       " ('Jurassic Park (1993)', 0.016082925155113427),\n",
       " ('Saving Private Ryan (1998)', 0.0019630027589435106)]"
      ]
     },
     "execution_count": 47,
     "metadata": {},
     "output_type": "execute_result"
    }
   ],
   "source": [
    "poca = movie_to_idx['Pocahontas (1995)']\n",
    "explain = als_model.explain(user, csr_data, itemid=poca)\n",
    "\n",
    "[(idx_to_movie[i[0]], i[1]) for i in explain[1]]"
   ]
  },
  {
   "cell_type": "markdown",
   "id": "noble-poison",
   "metadata": {},
   "source": [
    "포카혼타스는 애니메이션인 덕분에 헤라클래스가 대부분을 차지, 알라딘도 도움"
   ]
  }
 ],
 "metadata": {
  "kernelspec": {
   "display_name": "Python 3",
   "language": "python",
   "name": "python3"
  },
  "language_info": {
   "codemirror_mode": {
    "name": "ipython",
    "version": 3
   },
   "file_extension": ".py",
   "mimetype": "text/x-python",
   "name": "python",
   "nbconvert_exporter": "python",
   "pygments_lexer": "ipython3",
   "version": "3.7.9"
  }
 },
 "nbformat": 4,
 "nbformat_minor": 5
}
