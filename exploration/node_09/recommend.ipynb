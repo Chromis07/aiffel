{
 "cells": [
  {
   "cell_type": "markdown",
   "metadata": {},
   "source": [
    "1. 데이터 탐색하기와 전처리\n",
    "2. 사용자의 명시적/암묵적 평가\n",
    "3. Matrix Factorization(MF)\n",
    "4. CSR(Compressed Sparse Row) Matrix\n",
    "5. MF 모델 학습하기\n",
    "6. 비슷한 아티스트 찾기 + 유저에게 추천하기\n",
    "7. 프로젝트 - MovieLens 영화 추천 실습"
   ]
  },
  {
   "cell_type": "markdown",
   "metadata": {},
   "source": [
    "멜론 데이터\n",
    "https://arena.kakao.com/c/7"
   ]
  },
  {
   "cell_type": "markdown",
   "metadata": {},
   "source": []
  }
 ],
 "metadata": {
  "language_info": {
   "name": "python"
  },
  "orig_nbformat": 4
 },
 "nbformat": 4,
 "nbformat_minor": 2
}
